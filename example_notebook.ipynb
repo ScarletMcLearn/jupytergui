{
 "cells": [
  {
   "cell_type": "raw",
   "metadata": {},
   "source": []
  },
  {
   "cell_type": "markdown",
   "metadata": {},
   "source": [
    "# Markdown"
   ]
  },
  {
   "cell_type": "markdown",
   "metadata": {},
   "source": [
    "# Heading 1"
   ]
  },
  {
   "cell_type": "markdown",
   "metadata": {},
   "source": [
    "## Heading 2 "
   ]
  },
  {
   "cell_type": "markdown",
   "metadata": {},
   "source": [
    "### Heading 3"
   ]
  },
  {
   "cell_type": "markdown",
   "metadata": {},
   "source": [
    "#### Heading 4 "
   ]
  },
  {
   "cell_type": "markdown",
   "metadata": {},
   "source": [
    "##### Heading 5"
   ]
  },
  {
   "cell_type": "markdown",
   "metadata": {},
   "source": [
    "In markdown I can *italicize words or __bold__ them\n",
    "\n",
    "___\n",
    "\n",
    "\n",
    "<center> I can also center text\n",
    "\n",
    "___\n",
    "\n",
    "I can make a link [I'm an inline-style link](https://www.google.com)\n",
    "\n",
    "___\n",
    "\n",
    "Or add an image.\n",
    "\n",
    "Corgi: \n",
    "![alt text](https://s-media-cache-ak0.pinimg.com/736x/bf/b6/19/bfb6192a36bb33728209ac1040f2f574.jpg \"Logo Title Text 1\")"
   ]
  },
  {
   "cell_type": "markdown",
   "metadata": {},
   "source": [
    "# Code Examples"
   ]
  },
  {
   "cell_type": "code",
   "execution_count": 8,
   "metadata": {
    "collapsed": true
   },
   "outputs": [],
   "source": [
    "import sys\n",
    "import os\n",
    "\n",
    "import numpy as np\n",
    "import pandas as pd\n",
    "import seaborn as sns\n",
    "import matplotlib as mpl\n",
    "import matplotlib.pyplot as plt\n",
    "\n",
    "os.chdir('/Users/kateme')\n",
    "from ccal import ccal\n",
    "\n",
    "mpl.rcParams['figure.figsize'] = (8, 5)\n",
    "mpl.rcParams['figure.max_open_warning'] = 100"
   ]
  },
  {
   "cell_type": "code",
   "execution_count": 21,
   "metadata": {
    "collapsed": true
   },
   "outputs": [],
   "source": [
    "from ccal.ccal import bioinformatics"
   ]
  },
  {
   "cell_type": "code",
   "execution_count": 22,
   "metadata": {
    "collapsed": false
   },
   "outputs": [],
   "source": [
    "matplotlib inline\n"
   ]
  },
  {
   "cell_type": "code",
   "execution_count": 23,
   "metadata": {
    "collapsed": true
   },
   "outputs": [],
   "source": [
    "DATA_DIR = '/Users/kateme/discover/data/'\n",
    "RESULT_DIR = '/Users/kateme/discover/results/'"
   ]
  },
  {
   "cell_type": "code",
   "execution_count": 24,
   "metadata": {
    "collapsed": true
   },
   "outputs": [],
   "source": [
    "sanger_signatures = ccal.read_gct(os.path.join(DATA_DIR, 'Sanger_Expression.out.SELECTED_TISSUES_PATHWAYS.gct'))\n",
    "sanger_signatures_hNSC150 = sanger_signatures.ix['hNSC_G3_150_UP']\n",
    "ccle_signatures = ccal.read_gct(os.path.join(DATA_DIR, 'CCLE_Expression_Entrez_2012-04-06_plus_Achilles.SELECTED_TISSUES_PATHWAYS.gct'))\n",
    "ccle_signatures_hNSC150 = ccle_signatures.ix['hNSC_G3_150_UP']"
   ]
  },
  {
   "cell_type": "code",
   "execution_count": 25,
   "metadata": {
    "collapsed": true
   },
   "outputs": [],
   "source": [
    "ccle_drug_sensitivity = ccal.read_gct(os.path.join(DATA_DIR, 'CCLE_Drug_Sensitivity.gct'))\n",
    "ctrp_drug_sensitivity = ccal.read_gct(os.path.join(DATA_DIR, 'CTRPv2.2_2015_pub.gct'))\n",
    "sanger_drug_sensitivity = ccal.read_gct(os.path.join(DATA_DIR, 'drug_sensitivity.out.SELECTED.gct'))"
   ]
  },
  {
   "cell_type": "code",
   "execution_count": 27,
   "metadata": {
    "collapsed": false
   },
   "outputs": [
    {
     "ename": "AttributeError",
     "evalue": "module 'ccal.ccal.bioinformatics' has no attribute 'association'",
     "output_type": "error",
     "traceback": [
      "\u001b[0;31m---------------------------------------------------------------------------\u001b[0m",
      "\u001b[0;31mAttributeError\u001b[0m                            Traceback (most recent call last)",
      "\u001b[0;32m<ipython-input-27-4289d268eaac>\u001b[0m in \u001b[0;36m<module>\u001b[0;34m()\u001b[0m\n\u001b[0;32m----> 1\u001b[0;31m bioinformatics.association.make_association_panel(ccle_signatures_hNSC150, ccle_drug_sensitivity,\n\u001b[0m\u001b[1;32m      2\u001b[0m                                                        n_permutations=100, features_ascending=True, n_features=.8)\n",
      "\u001b[0;31mAttributeError\u001b[0m: module 'ccal.ccal.bioinformatics' has no attribute 'association'"
     ]
    }
   ],
   "source": [
    "bioinformatics.association.make_association_panel(ccle_signatures_hNSC150, ccle_drug_sensitivity,\n",
    "                                                       n_permutations=100, features_ascending=True, n_features=.8)"
   ]
  },
  {
   "cell_type": "markdown",
   "metadata": {},
   "source": [
    "# SimpleX Examples "
   ]
  },
  {
   "cell_type": "code",
   "execution_count": 28,
   "metadata": {
    "collapsed": false
   },
   "outputs": [
    {
     "name": "stdout",
     "output_type": "stream",
     "text": [
      "Executing ...\n",
      "\tsys.path.insert(0, 'simplex/')\n",
      "\tfrom simplex import link_simplex_json as function\n",
      "Processing arguments ...\n",
      "\n",
      "\tExecuting <function link_simplex_json at 0x109e2a8c8>:\n",
      "\t\tfilepath = '/Users/kateme/ccal/ccal.json' (<class 'str'>)\n"
     ]
    }
   ],
   "source": [
    "# !AUTOEXEC\n",
    "# Make and show widget\n",
    "task_view = task_manager.create_task_view(json.loads('''{\"optional_args\":[],\"returns\":[],\"function_name\":\"link_simplex_json\",\"default_args\":[],\"library_path\":\"simplex/\",\"required_args\":[{\"arg_name\":\"filepath\",\"value\":\"\",\"description\":\"No description :(\",\"label\":\"SimpleX .json to be linked\"}],\"library_name\":\"simplex\",\"description\":\"\",\"label\":\"Link SimpleX .json\"}'''))\n",
    "task_view.create()\n",
    "      "
   ]
  },
  {
   "cell_type": "code",
   "execution_count": 31,
   "metadata": {
    "collapsed": true
   },
   "outputs": [],
   "source": [
    "# !AUTOEXEC\n",
    "# Make and show widget\n",
    "task_view = task_manager.create_task_view(json.loads('''{\"optional_args\":[],\"returns\":[{\"label\":\"Distance Matrix\",\"description\":\"No description :(\"},{\"label\":\"Clusterings\",\"description\":\"No description :(\"},{\"label\":\"Cophenetic Correlation Coefficients\",\"description\":\"No description :(\"}],\"function_name\":\"define_states\",\"default_args\":[],\"library_path\":\"ccal/\",\"required_args\":[{\"arg_name\":\"matrix\",\"value\":\"\",\"description\":\"No description :(\",\"label\":\"H Matrix\"},{\"arg_name\":\"ks\",\"value\":\"\",\"description\":\"No description :(\",\"label\":\"Numbers of States\"}],\"library_name\":\"ccal\",\"description\":\"\",\"label\":\"Define States\"}'''))\n",
    "task_view.create()\n",
    "      "
   ]
  },
  {
   "cell_type": "code",
   "execution_count": null,
   "metadata": {
    "collapsed": true
   },
   "outputs": [],
   "source": []
  }
 ],
 "metadata": {
  "anaconda-cloud": {},
  "kernelspec": {
   "display_name": "Python [conda root]",
   "language": "python",
   "name": "conda-root-py"
  },
  "language_info": {
   "codemirror_mode": {
    "name": "ipython",
    "version": 3
   },
   "file_extension": ".py",
   "mimetype": "text/x-python",
   "name": "python",
   "nbconvert_exporter": "python",
   "pygments_lexer": "ipython3",
   "version": "3.5.2"
  },
  "widgets": {
   "state": {
    "550efc4d1745413f80898218d6c60d6e": {
     "views": [
      {
       "cell_index": 18
      }
     ]
    },
    "b6bc5830e89f4939b92cf4952276092d": {
     "views": [
      {
       "cell_index": 20
      }
     ]
    }
   },
   "version": "1.2.0"
  }
 },
 "nbformat": 4,
 "nbformat_minor": 1
}
