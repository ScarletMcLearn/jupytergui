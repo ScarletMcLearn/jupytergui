{
 "cells": [
  {
   "cell_type": "code",
   "execution_count": 2,
   "metadata": {
    "ExecuteTime": {
     "end_time": "2016-11-07T09:31:52.514129",
     "start_time": "2016-11-07T09:31:52.494519"
    },
    "collapsed": false
   },
   "outputs": [
    {
     "name": "stderr",
     "output_type": "stream",
     "text": [
      "The installed widget Javascript is the wrong version.\n"
     ]
    }
   ],
   "source": [
    "# !AUTOEXEC\n",
    "\n",
    "%reload_ext genepattern\n",
    "\n",
    "# Don't have the GenePattern Notebook? It can be installed from PIP: \n",
    "# pip install genepattern-notebook \n",
    "import gp\n",
    "\n",
    "# The following widgets are components of the GenePattern Notebook extension.\n",
    "try:\n",
    "    from genepattern import GPAuthWidget, GPJobWidget, GPTaskWidget\n",
    "except:\n",
    "    def GPAuthWidget(input):\n",
    "        print(\"GP Widget Library not installed. Please visit http://genepattern.org\")\n",
    "    def GPJobWidget(input):\n",
    "        print(\"GP Widget Library not installed. Please visit http://genepattern.org\")\n",
    "    def GPTaskWidget(input):\n",
    "        print(\"GP Widget Library not installed. Please visit http://genepattern.org\")\n",
    "\n",
    "# The gpserver object holds your authentication credentials and is used to\n",
    "# make calls to the GenePattern server through the GenePattern Python library.\n",
    "# Your actual username and password have been removed from the code shown\n",
    "# below for security reasons.\n",
    "gpserver = gp.GPServer(\"https://genepattern.broadinstitute.org/gp\", \"\", \"\")\n",
    "\n",
    "# Return the authentication widget to view it\n",
    "GPAuthWidget(gpserver)"
   ]
  },
  {
   "cell_type": "code",
   "execution_count": 3,
   "metadata": {
    "ExecuteTime": {
     "end_time": "2016-11-07T10:08:40.811572",
     "start_time": "2016-11-07T10:08:40.794723"
    },
    "collapsed": false
   },
   "outputs": [
    {
     "data": {
      "text/plain": [
       "'Incorrect number of args. Need 4: Server URL, username, password, job number'"
      ]
     },
     "execution_count": 3,
     "metadata": {},
     "output_type": "execute_result"
    }
   ],
   "source": [
    "%get_job"
   ]
  }
 ],
 "metadata": {
  "anaconda-cloud": {},
  "kernelspec": {
   "display_name": "Python [conda env:jupyter_x]",
   "language": "python",
   "name": "conda-env-jupyter_x-py"
  },
  "language_info": {
   "codemirror_mode": {
    "name": "ipython",
    "version": 3
   },
   "file_extension": ".py",
   "mimetype": "text/x-python",
   "name": "python",
   "nbconvert_exporter": "python",
   "pygments_lexer": "ipython3",
   "version": "3.5.2"
  },
  "widgets": {
   "state": {
    "2526faaa9fff4a2599369c3492a2ad49": {
     "views": [
      {
       "cell_index": 0
      }
     ]
    }
   },
   "version": "1.2.0"
  }
 },
 "nbformat": 4,
 "nbformat_minor": 1
}
