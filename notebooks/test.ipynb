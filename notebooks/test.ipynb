{
 "cells": [
  {
   "cell_type": "code",
   "execution_count": 1,
   "metadata": {
    "ExecuteTime": {
     "end_time": "2016-12-08T16:06:12.562407",
     "start_time": "2016-12-08T16:06:12.542604"
    },
    "collapsed": false
   },
   "outputs": [],
   "source": [
    "import sys\n",
    "sys.path.insert(0, '/home/cyborg/simplex/')\n",
    "import simplex"
   ]
  },
  {
   "cell_type": "code",
   "execution_count": 2,
   "metadata": {
    "ExecuteTime": {
     "end_time": "2016-12-08T16:06:13.693961",
     "start_time": "2016-12-08T16:06:13.682067"
    },
    "collapsed": false
   },
   "outputs": [
    {
     "data": {
      "text/plain": [
       "{'DNA to RNA': {'default_args': [],\n",
       "  'description': '',\n",
       "  'function_name': 'dna_to_rna',\n",
       "  'library_name': 'cgal',\n",
       "  'library_path': '/home/cyborg/cgal',\n",
       "  'optional_args': [],\n",
       "  'required_args': [{'arg_name': 'dna_sequence',\n",
       "    'description': 'No description :(',\n",
       "    'label': 'DNA sequence',\n",
       "    'value': ''}],\n",
       "  'returns': [{'description': 'No description :(', 'label': 'RNA Sequence'}]},\n",
       " 'Get DNA Sequence': {'default_args': [],\n",
       "  'description': '',\n",
       "  'function_name': 'get_sequence',\n",
       "  'library_name': 'cgal',\n",
       "  'library_path': '/home/cyborg/cgal',\n",
       "  'optional_args': [],\n",
       "  'required_args': [{'arg_name': 'filepath',\n",
       "    'description': 'No description :(',\n",
       "    'label': 'Filepath',\n",
       "    'value': ''},\n",
       "   {'arg_name': 'chromosome',\n",
       "    'description': 'No description :(',\n",
       "    'label': 'Chromosome',\n",
       "    'value': ''},\n",
       "   {'arg_name': 'start',\n",
       "    'description': 'No description :(',\n",
       "    'label': 'Start',\n",
       "    'value': ''},\n",
       "   {'arg_name': 'end',\n",
       "    'description': 'No description :(',\n",
       "    'label': 'End',\n",
       "    'value': ''}],\n",
       "  'returns': [{'description': 'No description :(', 'label': 'DNA Sequence'}]}}"
      ]
     },
     "execution_count": 2,
     "metadata": {},
     "output_type": "execute_result"
    }
   ],
   "source": [
    "simplex.taskmanager.load_task('/home/cyborg/Downloads/cgal.json')"
   ]
  }
 ],
 "metadata": {
  "kernelspec": {
   "display_name": "Python [default]",
   "language": "python",
   "name": "python3"
  },
  "language_info": {
   "codemirror_mode": {
    "name": "ipython",
    "version": 3
   },
   "file_extension": ".py",
   "mimetype": "text/x-python",
   "name": "python",
   "nbconvert_exporter": "python",
   "pygments_lexer": "ipython3",
   "version": "3.5.2"
  }
 },
 "nbformat": 4,
 "nbformat_minor": 1
}
