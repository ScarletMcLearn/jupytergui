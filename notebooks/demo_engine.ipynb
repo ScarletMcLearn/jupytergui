{
 "cells": [
  {
   "cell_type": "code",
   "execution_count": 4,
   "metadata": {
    "ExecuteTime": {
     "end_time": "2016-12-07T14:54:00.266946",
     "start_time": "2016-12-07T14:54:00.259613"
    },
    "collapsed": true
   },
   "outputs": [],
   "source": [
    "library_path = '/home/cyborg/cgal/'\n",
    "library_name = 'cgal'\n",
    "function_name = 'get_sequence'\n",
    "\n",
    "sys.path.insert(0, library_path)\n",
    "exec('from {} import {} as function'.format(library_name, function_name))\n",
    "\n",
    "function(req1=blah1, req2=blah2, opt1=blah3)"
   ]
  }
 ],
 "metadata": {
  "kernelspec": {
   "display_name": "Python [default]",
   "language": "python",
   "name": "python3"
  },
  "language_info": {
   "codemirror_mode": {
    "name": "ipython",
    "version": 3
   },
   "file_extension": ".py",
   "mimetype": "text/x-python",
   "name": "python",
   "nbconvert_exporter": "python",
   "pygments_lexer": "ipython3",
   "version": "3.5.2"
  }
 },
 "nbformat": 4,
 "nbformat_minor": 1
}
