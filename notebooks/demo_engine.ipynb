{
 "cells": [
  {
   "cell_type": "code",
   "execution_count": 4,
   "metadata": {
    "ExecuteTime": {
     "end_time": "2016-12-07T14:54:00.266946",
     "start_time": "2016-12-07T14:54:00.259613"
    },
    "collapsed": true
   },
   "outputs": [],
   "source": [
    "library_path = '/home/cyborg/cgal/'\n",
    "library_name = 'cgal'\n",
    "function_name = 'get_sequence'\n",
    "\n",
    "sys.path.insert(0, library_path)\n",
    "exec('from {} import {} as function'.format(library_name, function_name))\n",
    "\n",
    "function(req1=blah1, req2=blah2, opt1=blah3)"
   ]
  },
  {
   "cell_type": "code",
   "execution_count": 3,
   "metadata": {
    "ExecuteTime": {
     "end_time": "2016-12-07T15:40:35.058964",
     "start_time": "2016-12-07T15:40:34.869970"
    },
    "collapsed": true
   },
   "outputs": [],
   "source": [
    "# !AUTOEXEC\n",
    "# Make and show widget\n",
    "task_view = task_manager.create_task_view(json.loads('''{\"description\":\"\",\"default_args\":[],\"required_args\":[{\"description\":\"No description :(\",\"value\":\"\",\"label\":\"Filepath Baby\",\"arg_name\":\"filepath\"},{\"description\":\"No description :(\",\"value\":\"\",\"label\":\"Chromosome\",\"arg_name\":\"chromosome\"},{\"description\":\"No description :(\",\"value\":\"\",\"label\":\"Start\",\"arg_name\":\"start\"},{\"description\":\"No description :(\",\"value\":\"\",\"label\":\"End\",\"arg_name\":\"end\"}],\"returns\":[{\"description\":\"No description :(\",\"label\":\"DNA Sequence\"}],\"optional_args\":[],\"library_name\":\"cgal\",\"function_name\":\"get_sequence\",\"library_path\":\"/home/cyborg/cgal\",\"label\":\"Get DNA Sequence\"}'''))\n",
    "task_view.create()\n",
    "      "
   ]
  },
  {
   "cell_type": "code",
   "execution_count": null,
   "metadata": {
    "collapsed": true
   },
   "outputs": [],
   "source": []
  }
 ],
 "metadata": {
  "kernelspec": {
   "display_name": "Python [default]",
   "language": "python",
   "name": "python3"
  },
  "language_info": {
   "codemirror_mode": {
    "name": "ipython",
    "version": 3
   },
   "file_extension": ".py",
   "mimetype": "text/x-python",
   "name": "python",
   "nbconvert_exporter": "python",
   "pygments_lexer": "ipython3",
   "version": "3.5.2"
  },
  "widgets": {
   "state": {
    "6c4ecec8e4c4493fa27f3131a2e28750": {
     "views": [
      {
       "cell_index": 2
      }
     ]
    }
   },
   "version": "1.2.0"
  }
 },
 "nbformat": 4,
 "nbformat_minor": 1
}
