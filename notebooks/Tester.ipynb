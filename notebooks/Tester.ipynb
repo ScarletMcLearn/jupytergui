{
 "cells": [
  {
   "cell_type": "code",
   "execution_count": 8,
   "metadata": {
    "collapsed": false
   },
   "outputs": [
    {
     "data": {
      "application/javascript": [
       "document.createElement('button')\n",
       "\n",
       "\n",
       "\n",
       "var taskLibrary = function() {\n",
       "    var dialog = require('base/js/dialog');\n",
       "    dialog.modal({\n",
       "        notebook: Jupyter.notebook,\n",
       "        keyboard_manager: Jupyter.notebook.keyboard_manager,\n",
       "        title: \"Task Library\",\n",
       "        body: # TODO,\n",
       "        buttons: {\n",
       "            \"Cancel\": {\n",
       "                \"click\": function() {\n",
       "                    if (formerType) $(\"#cell_type\").val(formerType).trigger(\"change\");\n",
       "                }\n",
       "            },\n",
       "            \"Change Cell Type\": {\n",
       "                \"class\": \"btn-warning\",\n",
       "                \"click\": function() {\n",
       "                    typeCheck(cell);\n",
       "                }\n",
       "            }\n",
       "        }\n",
       "    });\n",
       "}\n",
       "taskLibrary()"
      ],
      "text/plain": [
       "<IPython.core.display.Javascript object>"
      ]
     },
     "metadata": {},
     "output_type": "display_data"
    }
   ],
   "source": [
    "%%javascript\n",
    "var body = document.createElement('button');\n",
    "\n",
    "\n",
    "\n",
    "var taskLibrary = function() {\n",
    "    var dialog = require('base/js/dialog');\n",
    "    dialog.modal({\n",
    "        notebook: Jupyter.notebook,\n",
    "        keyboard_manager: Jupyter.notebook.keyboard_manager,\n",
    "        title: \"Task Library\",\n",
    "        body: body,\n",
    "        buttons: {\n",
    "            \"Cancel\": {\n",
    "                \"click\": function() {\n",
    "                    if (formerType) $(\"#cell_type\").val(formerType).trigger(\"change\");\n",
    "                }\n",
    "            },\n",
    "            \"Change Cell Type\": {\n",
    "                \"class\": \"btn-warning\",\n",
    "                \"click\": function() {\n",
    "                    typeCheck(cell);\n",
    "                }\n",
    "            }\n",
    "        }\n",
    "    });\n",
    "}\n",
    "taskLibrary()"
   ]
  },
  {
   "cell_type": "code",
   "execution_count": 2,
   "metadata": {
    "collapsed": false,
    "scrolled": false
   },
   "outputs": [
    {
     "name": "stdout",
     "output_type": "stream",
     "text": [
      "['~/jupyter_x/data/nmf_k9_h.gct', '3, 4']\n",
      "['nmf_results', 'ccc']\n",
      "define_components\n",
      "ccal\n",
      "/Users/ckmah/Documents/ccal/\n",
      "Importing define_components ...\n"
     ]
    },
    {
     "name": "stderr",
     "output_type": "stream",
     "text": [
      "/Users/ckmah/anaconda3/envs/jupyter_x/lib/python3.5/site-packages/sklearn/cross_validation.py:44: DeprecationWarning: This module was deprecated in version 0.18 in favor of the model_selection module into which all the refactored classes and functions are moved. Also note that the interface of the new CV iterators are different from that of this module. This module will be removed in 0.20.\n",
      "  \"This module will be removed in 0.20.\", DeprecationWarning)\n"
     ]
    },
    {
     "name": "stdout",
     "output_type": "stream",
     "text": [
      "================================================================================\n",
      "================= Computational Cancer Analysis Library (CCAL) =================\n",
      "================================================================================\n",
      "Planted a random seed: 20121020.\n",
      "Argument #1: '[3, 4]' ==> ~/jupyter_x/data/nmf_k9_h.gct ...\n",
      "['~/jupyter_x/data/nmf_k9_h.gct', [3, 4]] ['nmf_results', 'ccc']\n"
     ]
    },
    {
     "ename": "TypeError",
     "evalue": "define_components() argument after ** must be a mapping, not list",
     "output_type": "error",
     "traceback": [
      "\u001b[0;31m----------------------------------------------------------\u001b[0m",
      "\u001b[0;31mTypeError\u001b[0m                Traceback (most recent call last)",
      "\u001b[0;32m/Users/ckmah/anaconda3/envs/jupyter_x/lib/python3.5/site-packages/my_extension/chain.py\u001b[0m in \u001b[0;36msubmit\u001b[0;34m(self, input_fields, output_fields, bead, button)\u001b[0m\n\u001b[1;32m     59\u001b[0m                 \u001b[0margs\u001b[0m\u001b[0;34m=\u001b[0m\u001b[0minput_values\u001b[0m\u001b[0;34m,\u001b[0m\u001b[0;34m\u001b[0m\u001b[0m\n\u001b[1;32m     60\u001b[0m                 \u001b[0mreturn_names\u001b[0m\u001b[0;34m=\u001b[0m\u001b[0moutput_values\u001b[0m\u001b[0;34m,\u001b[0m\u001b[0;34m\u001b[0m\u001b[0m\n\u001b[0;32m---> 61\u001b[0;31m                 kwargs=output_values)\n\u001b[0m\u001b[1;32m     62\u001b[0m \u001b[0;34m\u001b[0m\u001b[0m\n\u001b[1;32m     63\u001b[0m             \u001b[0;31m# Parse returned values\u001b[0m\u001b[0;34m\u001b[0m\u001b[0;34m\u001b[0m\u001b[0m\n",
      "\u001b[0;32m/Users/ckmah/anaconda3/envs/jupyter_x/lib/python3.5/site-packages/my_extension/engine.py\u001b[0m in \u001b[0;36msimplex\u001b[0;34m(path_to_include, library_name, function_name, args, return_names, kwargs)\u001b[0m\n\u001b[1;32m     24\u001b[0m     \u001b[0mprint\u001b[0m\u001b[0;34m(\u001b[0m\u001b[0mprocessed_args\u001b[0m\u001b[0;34m,\u001b[0m \u001b[0mprocessed_kwargs\u001b[0m\u001b[0;34m)\u001b[0m\u001b[0;34m\u001b[0m\u001b[0m\n\u001b[1;32m     25\u001b[0m     \u001b[0;31m# Execute\u001b[0m\u001b[0;34m\u001b[0m\u001b[0;34m\u001b[0m\u001b[0m\n\u001b[0;32m---> 26\u001b[0;31m     \u001b[0mreturned\u001b[0m \u001b[0;34m=\u001b[0m \u001b[0mlocals\u001b[0m\u001b[0;34m(\u001b[0m\u001b[0;34m)\u001b[0m\u001b[0;34m[\u001b[0m\u001b[0;34m'function'\u001b[0m\u001b[0;34m]\u001b[0m\u001b[0;34m(\u001b[0m\u001b[0;34m*\u001b[0m\u001b[0mprocessed_args\u001b[0m\u001b[0;34m,\u001b[0m \u001b[0;34m**\u001b[0m\u001b[0mprocessed_kwargs\u001b[0m\u001b[0;34m)\u001b[0m\u001b[0;34m\u001b[0m\u001b[0m\n\u001b[0m\u001b[1;32m     27\u001b[0m \u001b[0;34m\u001b[0m\u001b[0m\n\u001b[1;32m     28\u001b[0m     \u001b[0;32mfor\u001b[0m \u001b[0mn\u001b[0m\u001b[0;34m,\u001b[0m \u001b[0mr\u001b[0m \u001b[0;32min\u001b[0m \u001b[0mzip\u001b[0m\u001b[0;34m(\u001b[0m\u001b[0mreturn_names\u001b[0m\u001b[0;34m,\u001b[0m \u001b[0mreturned\u001b[0m\u001b[0;34m)\u001b[0m\u001b[0;34m:\u001b[0m\u001b[0;34m\u001b[0m\u001b[0m\n",
      "\u001b[0;31mTypeError\u001b[0m: define_components() argument after ** must be a mapping, not list"
     ]
    }
   ],
   "source": [
    "# !AUTOEXEC\n",
    "from my_extension.chain import Chain\n",
    "import json, os\n",
    "\n",
    "# load wrapper\n",
    "json_filepath = '/Users/ckmah/Documents/jupyter_x/binf_kits/ccal.json'\n",
    "with open(json_filepath, 'r') as f:\n",
    "    config = json.load(f)\n",
    "\n",
    "controller = Chain(config, globals(), locals(), os.getcwd())\n",
    "beadview = controller.createBeadView(controller.beads[0])\n",
    "beadview.createPanel()"
   ]
  },
  {
   "cell_type": "code",
   "execution_count": null,
   "metadata": {
    "collapsed": true
   },
   "outputs": [],
   "source": [
    "path_to_include = '/Users/ckmah/Documents/ccal/'\n",
    "library_name = 'ccal'\n",
    "function_name = 'define_components'\n",
    "\n",
    "args = ['~/jupyter_x/data/nmf_k9_h.gct', '3, 4']\n",
    "kwargs = {}\n",
    "return_names = ['nmf_results', 'ccc']"
   ]
  }
 ],
 "metadata": {
  "anaconda-cloud": {},
  "kernelspec": {
   "display_name": "Python 3",
   "language": "python",
   "name": "python3"
  },
  "language_info": {
   "codemirror_mode": {
    "name": "ipython",
    "version": 3
   },
   "file_extension": ".py",
   "mimetype": "text/x-python",
   "name": "python",
   "nbconvert_exporter": "python",
   "pygments_lexer": "ipython3",
   "version": "3.5.2"
  }
 },
 "nbformat": 4,
 "nbformat_minor": 1
}
