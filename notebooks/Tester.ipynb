{
 "cells": [
  {
   "cell_type": "code",
   "execution_count": 1,
   "metadata": {
    "ExecuteTime": {
     "end_time": "2016-11-11T16:45:40.120772",
     "start_time": "2016-11-11T16:45:40.082264"
    },
    "collapsed": false
   },
   "outputs": [
    {
     "name": "stderr",
     "output_type": "stream",
     "text": [
      "Widget Javascript not detected.  It may not be installed properly. Did you enable the widgetsnbextension? If not, then run \"jupyter nbextension enable --py --sys-prefix widgetsnbextension\"\n"
     ]
    }
   ],
   "source": [
    "# !AUTOEXEC\n",
    "from my_extension.chain import Chain\n",
    "import json, os\n",
    "\n",
    "# load wrapper\n",
    "json_filepath = '/Users/ckmah/Documents/jupyter_x/ccal.json'\n",
    "with open(json_filepath, 'r') as f:\n",
    "    config = json.load(f)\n",
    "\n",
    "controller = Chain(config, globals(), locals(), os.getcwd())\n",
    "beadview = controller.createBeadView(controller.beads[0])\n",
    "beadview.createFormView()"
   ]
  },
  {
   "cell_type": "code",
   "execution_count": 2,
   "metadata": {
    "ExecuteTime": {
     "end_time": "2016-11-10T20:48:24.438269",
     "start_time": "2016-11-10T20:48:24.402569"
    },
    "collapsed": false
   },
   "outputs": [
    {
     "name": "stderr",
     "output_type": "stream",
     "text": [
      "Widget Javascript not detected.  It may not be installed properly. Did you enable the widgetsnbextension? If not, then run \"jupyter nbextension enable --py --sys-prefix widgetsnbextension\"\n"
     ]
    }
   ],
   "source": [
    "# !AUTOEXEC\n",
    "from my_extension.chain import Chain\n",
    "import json, os\n",
    "\n",
    "# load wrapper\n",
    "json_filepath = '/Users/ckmah/Documents/jupyter_x/ccal.json'\n",
    "with open(json_filepath, 'r') as f:\n",
    "    config = json.load(f)\n",
    "\n",
    "controller = Chain(config, globals(), locals(), os.getcwd())\n",
    "beadview = controller.createBeadView(controller.beads[0])\n",
    "beadview.createFormView()"
   ]
  },
  {
   "cell_type": "code",
   "execution_count": 3,
   "metadata": {
    "ExecuteTime": {
     "end_time": "2016-11-10T20:51:34.573771",
     "start_time": "2016-11-10T20:51:34.533146"
    },
    "collapsed": false
   },
   "outputs": [
    {
     "name": "stderr",
     "output_type": "stream",
     "text": [
      "Widget Javascript not detected.  It may not be installed properly. Did you enable the widgetsnbextension? If not, then run \"jupyter nbextension enable --py --sys-prefix widgetsnbextension\"\n"
     ]
    }
   ],
   "source": [
    "# !AUTOEXEC\n",
    "from my_extension.chain import Chain\n",
    "import json, os\n",
    "\n",
    "# load wrapper\n",
    "json_filepath = '/Users/ckmah/Documents/jupyter_x/ccal.json'\n",
    "with open(json_filepath, 'r') as f:\n",
    "    config = json.load(f)\n",
    "\n",
    "controller = Chain(config, globals(), locals(), os.getcwd())\n",
    "beadview = controller.createBeadView(controller.beads[0])\n",
    "beadview.createFormView()"
   ]
  },
  {
   "cell_type": "code",
   "execution_count": 6,
   "metadata": {
    "collapsed": false
   },
   "outputs": [
    {
     "data": {
      "text/plain": [
       "{'load_extensions': {'jupyter_x': True}}"
      ]
     },
     "execution_count": 6,
     "metadata": {},
     "output_type": "execute_result"
    }
   ],
   "source": [
    "from traitlets.config.loader import Config, JSONFileConfigLoader\n",
    "from jupyter_core.paths import jupyter_config_dir\n",
    "import os.path\n",
    "fname = os.path.join(jupyter_config_dir(), 'nbconfig/notebook.json')\n",
    "cl = JSONFileConfigLoader(fname)\n",
    "cl.load_config()"
   ]
  }
 ],
 "metadata": {
  "anaconda-cloud": {},
  "kernelspec": {
   "display_name": "Python 3",
   "language": "python",
   "name": "python3"
  },
  "language_info": {
   "codemirror_mode": {
    "name": "ipython",
    "version": 3
   },
   "file_extension": ".py",
   "mimetype": "text/x-python",
   "name": "python",
   "nbconvert_exporter": "python",
   "pygments_lexer": "ipython3",
   "version": "3.5.2"
  }
 },
 "nbformat": 4,
 "nbformat_minor": 1
}
