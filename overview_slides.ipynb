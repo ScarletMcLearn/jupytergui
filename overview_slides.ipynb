{
 "cells": [
  {
   "cell_type": "markdown",
   "metadata": {
    "slideshow": {
     "slide_type": "slide"
    }
   },
   "source": [
    "# Jupyter X Functionality\n",
    "\n",
    "## Goals\n",
    "1. Make computational tasks accessible to programmers/non-programmers alike.\n",
    "2. Eliminate language barrier.\n",
    "3. Easily construct and share analytical pipelines.\n",
    "\n",
    "## Approach\n",
    "- leverage existing technologies:\n",
    "    - ipywidgets and nbextensions, e.g. GenePattern/GenomeSpace Notebooks\n",
    "    "
   ]
  },
  {
   "cell_type": "markdown",
   "metadata": {
    "slideshow": {
     "slide_type": "slide"
    }
   },
   "source": [
    "## Workflow\n",
    "1. Open a new notebook.\n",
    "2. Insert a jupyter_x widget via user interface.\n",
    "\n",
    "| Hidden | Slide on Click |\n",
    "|------|------|\n",
    "| ![nav](gp-nav.png) | ![nav2](gp-nav2.png) |\n",
    "\n",
    "3. Fill in and run widget.\n",
    "4. Chain results from widgets together."
   ]
  },
  {
   "cell_type": "code",
   "execution_count": 1,
   "metadata": {
    "ExecuteTime": {
     "end_time": "2016-11-09T10:31:10.153511",
     "start_time": "2016-11-09T10:31:10.116013"
    },
    "collapsed": false,
    "init_cell": true,
    "slideshow": {
     "slide_type": "skip"
    }
   },
   "outputs": [],
   "source": [
    "# TODO convert to extension\n",
    "# http://ipython.readthedocs.io/en/stable/config/extensions/index.html#writing-extensions\n",
    "%load_ext autoreload\n",
    "from jupyter_x.chain import Chain\n",
    "import os\n",
    "import sys\n",
    "import json\n",
    "import ipywidgets as widgets\n",
    "from IPython.display import display"
   ]
  },
  {
   "cell_type": "markdown",
   "metadata": {
    "slideshow": {
     "slide_type": "slide"
    }
   },
   "source": [
    "## Creating a widget\n",
    "\n",
    "### show json format"
   ]
  },
  {
   "cell_type": "code",
   "execution_count": 2,
   "metadata": {
    "ExecuteTime": {
     "end_time": "2016-11-09T10:31:10.165644",
     "start_time": "2016-11-09T10:31:10.155903"
    },
    "collapsed": false,
    "hide_input": false,
    "slideshow": {
     "slide_type": "skip"
    }
   },
   "outputs": [],
   "source": [
    "# load wrapper\n",
    "json_filepath = '/Users/ckmah/Documents/jupyter_x/ccal.json'\n",
    "with open(json_filepath, 'r') as f:\n",
    "    config = json.load(f)"
   ]
  },
  {
   "cell_type": "markdown",
   "metadata": {
    "slideshow": {
     "slide_type": "fragment"
    }
   },
   "source": [
    "## CCAL Test Case "
   ]
  },
  {
   "cell_type": "code",
   "execution_count": 3,
   "metadata": {
    "ExecuteTime": {
     "end_time": "2016-11-09T10:31:10.173653",
     "start_time": "2016-11-09T10:31:10.168477"
    },
    "collapsed": false,
    "slideshow": {
     "slide_type": "fragment"
    }
   },
   "outputs": [],
   "source": [
    "controller = Chain(config, globals(), locals(), os.getcwd())"
   ]
  },
  {
   "cell_type": "code",
   "execution_count": 4,
   "metadata": {
    "ExecuteTime": {
     "end_time": "2016-11-09T10:31:10.297729",
     "start_time": "2016-11-09T10:31:10.176370"
    },
    "collapsed": false,
    "slideshow": {
     "slide_type": "fragment"
    }
   },
   "outputs": [],
   "source": [
    "beadview = controller.createBeadView(controller.beads[0])\n",
    "beadview.createFormView()"
   ]
  }
 ],
 "metadata": {
  "anaconda-cloud": {},
  "celltoolbar": "Slideshow",
  "kernelspec": {
   "display_name": "Python [default]",
   "language": "python",
   "name": "python3"
  },
  "language_info": {
   "codemirror_mode": {
    "name": "ipython",
    "version": 3
   },
   "file_extension": ".py",
   "mimetype": "text/x-python",
   "name": "python",
   "nbconvert_exporter": "python",
   "pygments_lexer": "ipython3",
   "version": "3.5.2"
  },
  "widgets": {
   "state": {
    "83e12a22ce8e4ef39d3547d6f9099036": {
     "views": [
      {
       "cell_index": 7
      }
     ]
    }
   },
   "version": "1.2.0"
  }
 },
 "nbformat": 4,
 "nbformat_minor": 1
}
