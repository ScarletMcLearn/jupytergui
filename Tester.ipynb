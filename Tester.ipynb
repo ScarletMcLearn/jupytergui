{
 "cells": [
  {
   "cell_type": "code",
   "execution_count": 1,
   "metadata": {
    "ExecuteTime": {
     "end_time": "2016-11-10T19:50:12.545010",
     "start_time": "2016-11-10T19:50:12.506130"
    },
    "collapsed": true
   },
   "outputs": [],
   "source": [
    "# !AUTOEXEC\n",
    "from jupyter_x.chain import Chain\n",
    "import json, os\n",
    "\n",
    "# load wrapper\n",
    "json_filepath = '/Users/ckmah/Documents/jupyter_x/ccal.json'\n",
    "with open(json_filepath, 'r') as f:\n",
    "    config = json.load(f)\n",
    "\n",
    "controller = Chain(config, globals(), locals(), os.getcwd())\n",
    "beadview = controller.createBeadView(controller.beads[0])\n",
    "beadview.createFormView()"
   ]
  },
  {
   "cell_type": "code",
   "execution_count": 3,
   "metadata": {
    "ExecuteTime": {
     "end_time": "2016-11-10T19:42:54.330542",
     "start_time": "2016-11-10T19:42:54.291552"
    },
    "collapsed": true
   },
   "outputs": [],
   "source": [
    "# !AUTOEXEC\n",
    "from jupyter_x.chain import Chain\n",
    "import json, os\n",
    "\n",
    "# load wrapper\n",
    "json_filepath = '/Users/ckmah/Documents/jupyter_x/ccal.json'\n",
    "with open(json_filepath, 'r') as f:\n",
    "    config = json.load(f)\n",
    "\n",
    "controller = Chain(config, globals(), locals(), os.getcwd())\n",
    "beadview = controller.createBeadView(controller.beads[0])\n",
    "beadview.createFormView()"
   ]
  },
  {
   "cell_type": "code",
   "execution_count": null,
   "metadata": {
    "collapsed": true
   },
   "outputs": [],
   "source": []
  }
 ],
 "metadata": {
  "anaconda-cloud": {},
  "kernelspec": {
   "display_name": "Python [default]",
   "language": "python",
   "name": "python3"
  },
  "language_info": {
   "codemirror_mode": {
    "name": "ipython",
    "version": 3
   },
   "file_extension": ".py",
   "mimetype": "text/x-python",
   "name": "python",
   "nbconvert_exporter": "python",
   "pygments_lexer": "ipython3",
   "version": "3.5.2"
  }
 },
 "nbformat": 4,
 "nbformat_minor": 1
}
