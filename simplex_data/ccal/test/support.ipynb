{
 "cells": [
  {
   "cell_type": "code",
   "execution_count": 1,
   "metadata": {
    "collapsed": false
   },
   "outputs": [
    {
     "name": "stdout",
     "output_type": "stream",
     "text": [
      "================================================================================\n",
      "================= Computational Cancer Analysis Library (CCAL) =================\n",
      "================================================================================\n",
      "<174544> Planted a random seed 20121020.\n"
     ]
    }
   ],
   "source": [
    "import time\n",
    "import math\n",
    "import numpy as np\n",
    "import sys\n",
    "sys.path.insert(0, '..')\n",
    "import ccal\n",
    "%matplotlib inline"
   ]
  },
  {
   "cell_type": "markdown",
   "metadata": {},
   "source": [
    "# NMF"
   ]
  },
  {
   "cell_type": "code",
   "execution_count": 2,
   "metadata": {
    "collapsed": false
   },
   "outputs": [
    {
     "name": "stdout",
     "output_type": "stream",
     "text": [
      "<174544> Scoring NMF with cophenetic correlation from consensus-clustering (3 clusterings) ...\n",
      "<174544> Parallelizing ...\n",
      "<174544> NMF and scoring k=4 ...\n",
      "<174544> \t(k=4) NMF (0/3) ...\n",
      "<174544> NMF and scoring k=6 ...\n",
      "<174544> \t(k=6) NMF (0/3) ...\n",
      "<174544> NMF and scoring k=5 ...\n",
      "<174544> \t\t(k=4) Saved the 1st NMF decomposition.\n",
      "<174544> \t(k=5) NMF (0/3) ...\n",
      "<174544> \t(k=4) Counting co-clusterings of 3 NMF ...\n",
      "<174544> \t\t(k=5) Saved the 1st NMF decomposition.\n",
      "<174544> \t(k=4) Computed the cophenetic correlations.\n",
      "<174544> \t(k=5) Counting co-clusterings of 3 NMF ...\n",
      "<174544> \t\t(k=6) Saved the 1st NMF decomposition.\n",
      "<174544> \t(k=5) Computed the cophenetic correlations.\n",
      "<174544> \t(k=6) Counting co-clusterings of 3 NMF ...\n",
      "<174544> \t(k=6) Computed the cophenetic correlations.\n"
     ]
    }
   ],
   "source": [
    "A = ccal.support.read_gct('/home/cyborg/hematopoietic_cancer/data/ccle_hema/ccle_hema_gene_filtered.gct')\n",
    "\n",
    "#nmf_results = ccal.support.nmf(A, range(3, 21, 3))\n",
    "nmf_results, nmf_scores = ccal.support.nmf_and_score(A, [4,5,6], n_clusterings=3)"
   ]
  },
  {
   "cell_type": "code",
   "execution_count": 8,
   "metadata": {
    "collapsed": false
   },
   "outputs": [
    {
     "data": {
      "image/png": "[encoded data removed]",
      "text/plain": [
       "<matplotlib.figure.Figure at 0x7f76e9393630>"
      ]
     },
     "metadata": {},
     "output_type": "display_data"
    }
   ],
   "source": [
    "ccal.plot_clustering_scores(nmf_scores\n",
    "                           )"
   ]
  },
  {
   "cell_type": "markdown",
   "metadata": {},
   "source": [
    "# Normalize pandas object"
   ]
  },
  {
   "cell_type": "code",
   "execution_count": null,
   "metadata": {
    "collapsed": false
   },
   "outputs": [],
   "source": [
    "import pandas as pd\n",
    "import numpy as np\n",
    "import sys\n",
    "sys.path.insert(0, '..')\n",
    "import ccal\n",
    "normalize_pandas_object = ccal.support.normalize_pandas_object\n",
    "\n",
    "shape = (5, 5)\n",
    "df = pd.DataFrame(np.random.choice([0, 2], shape))\n",
    "df.iloc[0,:] = 1\n",
    "df.iloc[1,:] = 0\n",
    "df.iloc[2,:] = 100\n",
    "df\n",
    "\n",
    "df.apply(lambda r: r * 2, axis=0)\n",
    "\n",
    "df.apply(lambda r: r * 2, axis=1)\n",
    "\n",
    "df.apply(lambda r: r * r.name, axis=0)\n",
    "\n",
    "df.apply(lambda r: r * r.name, axis=1)\n",
    "\n",
    "normalize_pandas_object(df)\n",
    "\n",
    "normalize_pandas_object(df, axis=0)\n",
    "\n",
    "normalize_pandas_object(df, axis=1)\n",
    "\n",
    "normalize_pandas_object(df, method='0-1')\n",
    "\n",
    "normalize_pandas_object(df, method='0-1', axis=0)\n",
    "\n",
    "normalize_pandas_object(df, method='0-1', axis=1)\n",
    "\n",
    "s = df.iloc[:, 2]\n",
    "s\n",
    "\n",
    "normalize_pandas_object(s)\n",
    "\n",
    "normalize_pandas_object(s, axis=0)\n",
    "\n",
    "normalize_pandas_object(s, axis=1)"
   ]
  },
  {
   "cell_type": "markdown",
   "metadata": {},
   "source": [
    "# Information"
   ]
  },
  {
   "cell_type": "markdown",
   "metadata": {},
   "source": [
    "## Test data type cases"
   ]
  },
  {
   "cell_type": "code",
   "execution_count": null,
   "metadata": {
    "collapsed": false
   },
   "outputs": [],
   "source": [
    "x = np.random.random_sample(10)\n",
    "y = np.random.random_sample(10)\n",
    "print(ccal.information.information_coefficient(x, y))\n",
    "\n",
    "x = np.random.random_sample(10)\n",
    "y = np.random.random_sample(11)\n",
    "try:\n",
    "    ccal.information.information_coefficient(x, y)\n",
    "except ValueError as e:\n",
    "    print(e)\n",
    "\n",
    "x = np.random.random_sample(10)\n",
    "x[1] = None\n",
    "y = np.random.random_sample(10)\n",
    "y[2] = None\n",
    "print(ccal.information.information_coefficient(x, y))\n",
    "\n",
    "x = np.random.random_sample(10)\n",
    "x[1] = None\n",
    "y = np.random.random_sample(10)\n",
    "y[2] = None\n",
    "y[6] = None\n",
    "print(ccal.information.information_coefficient(x, y))\n",
    "\n",
    "x = np.random.random_sample(10)\n",
    "x[1] = None\n",
    "x[3] = None\n",
    "x[5] = None\n",
    "y = np.random.random_sample(10)\n",
    "y[2] = None\n",
    "y[4] = None\n",
    "print(ccal.information.information_coefficient(x, y))\n",
    "\n",
    "x = np.array([12.517, 14.706, np.nan, 14.12, np.nan, np.nan, np.nan, 12.255])\n",
    "y = np.array([0.98246356, 0.97525171, 0.77744759, 0.64084311, 0.4405853, 0.43827196, 0.12447757, 0.08116039])\n",
    "print(ccal.information.information_coefficient(x, y))"
   ]
  },
  {
   "cell_type": "markdown",
   "metadata": {},
   "source": [
    "# Time KDE implementations"
   ]
  },
  {
   "cell_type": "code",
   "execution_count": null,
   "metadata": {
    "collapsed": true
   },
   "outputs": [],
   "source": [
    "n = 10\n",
    "size = 1000"
   ]
  },
  {
   "cell_type": "markdown",
   "metadata": {},
   "source": [
    "## R's bcv & kde2d"
   ]
  },
  {
   "cell_type": "code",
   "execution_count": null,
   "metadata": {
    "collapsed": false
   },
   "outputs": [],
   "source": [
    "import rpy2.robjects as ro\n",
    "from rpy2.robjects.packages import importr\n",
    "from rpy2.robjects.numpy2ri import numpy2ri\n",
    "\n",
    "ro.conversion.py2ri = numpy2ri\n",
    "mass = importr('MASS')\n",
    "\n",
    "for p in range(2, 5):\n",
    "    n_grids = math.pow(2, p) + 1\n",
    "    t0 = time.time()\n",
    "    for i in range(n):\n",
    "        x = np.random.random_sample(size)\n",
    "        y = np.random.random_sample(size)\n",
    "        bandwidth_x = np.asarray(mass.bcv(x)[0])\n",
    "        bandwidth_y = np.asarray(mass.bcv(y)[0])\n",
    "        kde = mass.kde2d(x, y, np.asarray([bandwidth_x, bandwidth_y]), n=np.asarray([n_grids]))\n",
    "    print(int(n_grids), '\\t', time.time() - t0)"
   ]
  },
  {
   "cell_type": "markdown",
   "metadata": {},
   "source": [
    "## fastKDE"
   ]
  },
  {
   "cell_type": "code",
   "execution_count": null,
   "metadata": {
    "collapsed": true
   },
   "outputs": [],
   "source": [
    "# from fastkde import fastKDE\n",
    "\n",
    "# for p in range(2, 10):\n",
    "#     n_grids = math.pow(2, p) + 1\n",
    "#     t0 = time.time()\n",
    "#     for i in range(n):\n",
    "#         x = np.random.random_sample(size)\n",
    "#         y = np.random.random_sample(size)\n",
    "#         pdf, axes = fastKDE.pdf(x, y, numPoints=n_grids)\n",
    "#     print(int(n_grids), '\\t', time.time() - t0)"
   ]
  },
  {
   "cell_type": "markdown",
   "metadata": {},
   "source": [
    "## KDEMultivariate\n",
    "### Higher overhead. Can specify bandwidth. Slowest."
   ]
  },
  {
   "cell_type": "code",
   "execution_count": null,
   "metadata": {
    "collapsed": false
   },
   "outputs": [],
   "source": [
    "from statsmodels.nonparametric.kernel_density import KDEMultivariate\n",
    "\n",
    "t0 = time.time()\n",
    "for i in range(n):\n",
    "    x = np.random.random_sample(size)\n",
    "    y = np.random.random_sample(size)\n",
    "    kde = KDEMultivariate([x, y], var_type='cc', bw=[0.1, 0.1])\n",
    "    kde.pdf()\n",
    "time.time() - t0"
   ]
  },
  {
   "cell_type": "markdown",
   "metadata": {},
   "source": [
    "## gaussian_kde\n",
    "### Faster. Can't specify bandwidth."
   ]
  },
  {
   "cell_type": "code",
   "execution_count": null,
   "metadata": {
    "collapsed": false
   },
   "outputs": [],
   "source": [
    "from scipy.stats import gaussian_kde\n",
    "\n",
    "t0 = time.time()\n",
    "for i in range(n):\n",
    "    x = np.random.random_sample(size)\n",
    "    y = np.random.random_sample(size)\n",
    "    kde = gaussian_kde([x, y], bw_method='silverman')\n",
    "    kde.pdf(np.random.random_sample((2, 25)))\n",
    "time.time() - t0"
   ]
  },
  {
   "cell_type": "markdown",
   "metadata": {},
   "source": [
    "# Time information_coefficient implementations"
   ]
  },
  {
   "cell_type": "markdown",
   "metadata": {},
   "source": [
    "## Wrapped R using P and H"
   ]
  },
  {
   "cell_type": "code",
   "execution_count": null,
   "metadata": {
    "collapsed": false
   },
   "outputs": [],
   "source": [
    "t0 = time.time()\n",
    "for i in range(n):\n",
    "    x = np.random.random_sample(size)\n",
    "    y = np.random.random_sample(size)\n",
    "    ccal.information.information_coefficient(x, y)\n",
    "print(time.time() - t0)"
   ]
  },
  {
   "cell_type": "code",
   "execution_count": null,
   "metadata": {
    "collapsed": false
   },
   "outputs": [],
   "source": [
    "from rpy2.robjects.packages import SignatureTranslatedAnonymousPackage\n",
    "\n",
    "\n",
    "# TODO: refactor\n",
    "r = '''\n",
    "    information_coefficient <- function(x, y, n.grid = 25) {\n",
    "        x.set <- !is.na(x)\n",
    "        y.set <- !is.na(y)\n",
    "        overlap <- x.set & y.set\n",
    "\n",
    "        x <- x[overlap] + 1e-09 * runif(length(overlap))\n",
    "        y <- y[overlap] + 1e-09 * runif(length(overlap))\n",
    "\n",
    "        if (length(x) > 2) {\n",
    "            delta <- c(bcv(x), bcv(y))\n",
    "            cor <- cor(x, y)\n",
    "\n",
    "            bandwidths <- delta * (1 + (-0.75) * abs(cor))\n",
    "            \n",
    "            kde2d.xy <- kde2d(x, y, bandwidths, n = n.grid)\n",
    "            fxy <- kde2d.xy$z + .Machine$double.eps\n",
    "            dx <- kde2d.xy$x[2] - kde2d.xy$x[1]\n",
    "            dy <- kde2d.xy$y[2] - kde2d.xy$y[1]\n",
    "            pxy <- fxy/(sum(fxy) * dx * dy)\n",
    "            px <- rowSums(pxy) * dy\n",
    "            py <- colSums(pxy) * dx\n",
    "\n",
    "            # hxy <- -sum(pxy * log(pxy)) * dx * dy\n",
    "            # hx <- -sum(px * log(px)) * dx\n",
    "            # hy <- -sum(py * log(py)) * dy\n",
    "            # mi <- hx + hy - hxy\n",
    "\n",
    "            px <- matrix(px, nrow = n.grid, ncol = n.grid)\n",
    "            py <- matrix(py, byrow = TRUE, nrow = n.grid, ncol = n.grid)\n",
    "            mi <- sum(pxy * log(pxy/(px * py))) * dx * dy\n",
    "\n",
    "            ic <- sign(cor) * sqrt(1 - exp(-2 * mi))\n",
    "\n",
    "            if (is.na(ic)) {\n",
    "                ic <- 0\n",
    "            }\n",
    "        } else {\n",
    "            ic <- 0\n",
    "        }\n",
    "        return(ic)\n",
    "    }\n",
    "    '''\n",
    "r = SignatureTranslatedAnonymousPackage(r, 'r')\n",
    "\n",
    "t0 = time.time()\n",
    "for i in range(n):\n",
    "    x = np.random.random_sample(size)\n",
    "    y = np.random.random_sample(size)\n",
    "    r.information_coefficient(x, y)\n",
    "print(time.time() - t0)"
   ]
  },
  {
   "cell_type": "markdown",
   "metadata": {},
   "source": [
    "## Using KDEMultivariate"
   ]
  },
  {
   "cell_type": "code",
   "execution_count": null,
   "metadata": {
    "collapsed": false,
    "scrolled": true
   },
   "outputs": [],
   "source": [
    "from numpy import asarray\n",
    "from numpy.random import random_sample\n",
    "from statsmodels.nonparametric.kernel_density import KDEMultivariate\n",
    "from scipy.stats import pearsonr\n",
    "\n",
    "drop_nan_columns = ccal.support.drop_nan_columns\n",
    "\n",
    "def information_coefficient_statsmodels(x, y, data_types='cc', n_grids=25, jitter=1E-10):\n",
    "    x, y = drop_nan_columns([x, y])\n",
    "    if len(x) < 3 or len(y) < 3:\n",
    "        return 0\n",
    "    x = asarray(x, dtype=float)\n",
    "    y = asarray(y, dtype=float)\n",
    "    x += random_sample(x.size) * jitter\n",
    "    y += random_sample(y.size) * jitter\n",
    "\n",
    "    cor, p = pearsonr(x, y)    \n",
    "    bandwidth_x = np.asarray(mass.bcv(x)[0]) * (1 + (-0.75) * abs(cor)) / 4\n",
    "    bandwidth_y = np.asarray(mass.bcv(y)[0]) * (1 + (-0.75) * abs(cor)) / 4\n",
    "    \n",
    "    kde = KDEMultivariate([x, y], bw=[bandwidth_x, bandwidth_y], var_type=data_types)\n",
    "    meshgrid_x, meshgrid_y = np.meshgrid(np.linspace(x.min(), x.max(), n_grids), np.linspace(y.min(), y.max(), n_grids))\n",
    "    fxy = kde.pdf(np.vstack([meshgrid_x.flatten(), meshgrid_y.flatten()])).reshape((n_grids, n_grids)) + np.finfo(float).eps\n",
    "    dx = (x.max() - x.min()) / (n_grids - 1)\n",
    "    dy = (y.max() - y.min()) / (n_grids - 1)\n",
    "    pxy = fxy / (fxy.sum() * dx * dy)\n",
    "    px = pxy.sum(axis=1) * dy\n",
    "    py = pxy.sum(axis=0) * dx\n",
    "    \n",
    "    mi = np.sum(pxy * np.log(pxy/(np.array([px] * n_grids).T * np.array([py] * n_grids)))) * dx * dy\n",
    "    \n",
    "    # hxy = - np.sum(pxy * np.log(pxy)) * dx * dy\n",
    "    # hx = -np.sum(px * np.log(px)) * dx\n",
    "    # hy = -np.sum(py * np.log(py)) * dy\n",
    "    # mi = hx + hy - hxy\n",
    "    \n",
    "    ic = np.sign(cor) * np.sqrt(1 - np.exp(- 2 * mi))\n",
    "    \n",
    "    return ic\n",
    "\n",
    "t0 = time.time()\n",
    "for i in range(n):\n",
    "    x = np.random.random_sample(size)\n",
    "    y = np.random.random_sample(size)\n",
    "    information_coefficient_statsmodels(x, y)\n",
    "print(time.time() - t0)"
   ]
  },
  {
   "cell_type": "markdown",
   "metadata": {},
   "source": [
    "## Using gaussian_kde"
   ]
  },
  {
   "cell_type": "code",
   "execution_count": null,
   "metadata": {
    "collapsed": false
   },
   "outputs": [],
   "source": [
    "from scipy.stats import gaussian_kde\n",
    "\n",
    "\n",
    "def information_coefficient_scipy(x, y, data_types='cc', n_grids=25, jitter=1E-10):\n",
    "    x, y = drop_nan_columns([x, y])\n",
    "    if len(x) < 3 or len(y) < 3:\n",
    "        return 0\n",
    "    x = asarray(x, dtype=float)\n",
    "    y = asarray(y, dtype=float)\n",
    "    x += random_sample(x.size) * jitter\n",
    "    y += random_sample(y.size) * jitter\n",
    "    \n",
    "    # Get bandwidths\n",
    "    cor, p = pearsonr(x, y)\n",
    "    bandwidth_x = np.asarray(mass.bcv(x)[0]) / 4 * (1 + (-0.75) * abs(cor))\n",
    "    bandwidth_y = np.asarray(mass.bcv(y)[0]) / 4 * (1 + (-0.75) * abs(cor))\n",
    "\n",
    "    # Kernel density estimate\n",
    "    kde = gaussian_kde([x, y], bw_method='silverman')\n",
    "    \n",
    "    meshgrid_x, meshgrid_y = np.meshgrid(np.linspace(x.min(), x.max(), n_grids), np.linspace(y.min(), y.max(), n_grids))\n",
    "    dx = (x.max() - x.min()) / (n_grids - 1)\n",
    "    dy = (y.max() - y.min()) / (n_grids - 1)\n",
    "    \n",
    "    pxy = kde.pdf(np.vstack((meshgrid_x.flatten(), meshgrid_y.flatten()))).reshape((n_grids, n_grids)) + np.finfo(float).eps\n",
    "    px = pxy.sum(axis=1) * dy\n",
    "    py = pxy.sum(axis=0) * dx\n",
    "    mi = np.sum(pxy * np.log(pxy/(px * py))) * dx * dy\n",
    "    ic = np.sign(cor) * np.sqrt(1 - np.exp(- 2 * mi))\n",
    "    return ic\n",
    "\n",
    "t0 = time.time()\n",
    "for i in range(n):\n",
    "    x = np.random.random_sample(size)\n",
    "    y = np.random.random_sample(size)\n",
    "    information_coefficient_scipy(x, y)\n",
    "time.time() - t0"
   ]
  },
  {
   "cell_type": "code",
   "execution_count": null,
   "metadata": {
    "collapsed": false
   },
   "outputs": [],
   "source": [
    "for k in nmf_results.keys():\n",
    "    ccal.visualize.plot_nmf_result(nmf_results, k, output_filepath='output/nmf_k={}.pdf'.format(k))\n",
    "\n",
    "ccal.visualize.plot_nmf_scores(nmf_scores, output_filepath='output/nmf_scores.pdf')\n",
    "\n",
    "# Project matrix\n",
    "\n",
    "W = nmf_results[6]['W']\n",
    "H = nmf_results[6]['H']\n",
    "\n",
    "ccal.analyze.nnls_matrix(W, A, method='pinv')"
   ]
  },
  {
   "cell_type": "markdown",
   "metadata": {},
   "source": [
    "# MDS"
   ]
  },
  {
   "cell_type": "code",
   "execution_count": null,
   "metadata": {
    "collapsed": true
   },
   "outputs": [],
   "source": [
    "import os\n",
    "import sys\n",
    "import numpy as np\n",
    "import pandas as pd\n",
    "from sklearn.manifold import MDS\n",
    "import matplotlib.pyplot as plt\n",
    "from seaborn import heatmap\n",
    "\n",
    "sys.path.insert(0, '..')\n",
    "import ccal\n",
    "\n",
    "%matplotlib inline\n",
    "%config InlineBackend.figure_formats = {'svg',}\n",
    "\n",
    "from ccal.support import normalize_pandas_object, compare_matrices\n",
    "from ccal.information import information_coefficient\n",
    "\n",
    "# Compare MDS using the distance matrix\n",
    "\n",
    "## Load a H matrix\n",
    "\n",
    "h = ccal.support.read_gct('/home/cyborg/hematopoietic_cancer/result/ccle_hema_r/k9/ccle_hema_k_9_H.gct')\n",
    "h = h.iloc[:5, :]\n",
    "heatmap(h, xticklabels=False)\n",
    "\n",
    "## Compute component x component distance matrix\n",
    "\n",
    "normalized_clipped_h = normalize_pandas_object(normalize_pandas_object(h).clip(-3, 3), method='0-1')\n",
    "distance_matrix = compare_matrices(normalized_clipped_h, normalized_clipped_h,\n",
    "                                   information_coefficient, is_distance=True,\n",
    "                                   report_progress=False)\n",
    "heatmap(distance_matrix, annot=True, fmt='.3g')\n",
    "\n",
    "from scipy.spatial import distance\n",
    "\n",
    "distance_matrix_euclidean = compare_matrices(normalized_clipped_h, normalized_clipped_h, distance.euclidean, report_progress=False)\n",
    "heatmap(distance_matrix_euclidean, annot=True, fmt='.3g')\n",
    "\n",
    "## 1 - IC & Metric MDS\n",
    "\n",
    "mds = MDS(metric=True, random_state=20121020, dissimilarity='precomputed', n_init=1000, max_iter=1000)\n",
    "components_coordinates = mds.fit_transform(distance_matrix)\n",
    "\n",
    "fig = plt.figure(figsize=(8, 5))\n",
    "plt.gca().plot(components_coordinates[:, 0], components_coordinates[:, 1], marker='D', linestyle='')\n",
    "for i in range(h.shape[0]):\n",
    "    x, y = components_coordinates[i, 0], components_coordinates[i, 1]\n",
    "    fig.gca().text(x, y, h.index[i])\n",
    "\n",
    "## 1 - IC& Non-metric MDS. Distances are not preserved as well as metric MDS.\n",
    "\n",
    "mds = MDS(metric=False, random_state=20121020, dissimilarity='precomputed', n_init=1000, max_iter=1000)\n",
    "components_coordinates = mds.fit_transform(distance_matrix)\n",
    "\n",
    "fig = plt.figure(figsize=(8, 5))\n",
    "plt.gca().plot(components_coordinates[:, 0], components_coordinates[:, 1], marker='D', linestyle='')\n",
    "for i in range(h.shape[0]):\n",
    "    x, y = components_coordinates[i, 0], components_coordinates[i, 1]\n",
    "    fig.gca().text(x, y, h.index[i])\n",
    "\n",
    "## Euclidian & Metric MDS\n",
    "\n",
    "mds = MDS(metric=True, random_state=20121020, n_init=1000, max_iter=1000)\n",
    "components_coordinates = mds.fit_transform(normalized_clipped_h)\n",
    "\n",
    "fig = plt.figure(figsize=(8, 5))\n",
    "plt.gca().plot(components_coordinates[:, 0], components_coordinates[:, 1], marker='D', linestyle='')\n",
    "for i in range(h.shape[0]):\n",
    "    x, y = components_coordinates[i, 0], components_coordinates[i, 1]\n",
    "    fig.gca().text(x, y, h.index[i])\n",
    "\n",
    "## Euclidian & Non-metric MDS\n",
    "\n",
    "mds = MDS(metric=False, random_state=20121020, n_init=1000, max_iter=1000)\n",
    "components_coordinates = mds.fit_transform(normalized_clipped_h)\n",
    "\n",
    "fig = plt.figure(figsize=(8, 5))\n",
    "plt.gca().plot(components_coordinates[:, 0], components_coordinates[:, 1], marker='D', linestyle='')\n",
    "for i in range(h.shape[0]):\n",
    "    x, y = components_coordinates[i, 0], components_coordinates[i, 1]\n",
    "    fig.gca().text(x, y, h.index[i])"
   ]
  }
 ],
 "metadata": {
  "anaconda-cloud": {},
  "kernelspec": {
   "display_name": "Python [default]",
   "language": "python",
   "name": "python3"
  },
  "language_info": {
   "codemirror_mode": {
    "name": "ipython",
    "version": 3
   },
   "file_extension": ".py",
   "mimetype": "text/x-python",
   "name": "python",
   "nbconvert_exporter": "python",
   "pygments_lexer": "ipython3",
   "version": "3.5.2"
  }
 },
 "nbformat": 4,
 "nbformat_minor": 0
}
