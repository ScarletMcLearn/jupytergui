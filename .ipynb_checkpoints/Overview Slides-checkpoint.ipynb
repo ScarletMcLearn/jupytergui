{
 "cells": [
  {
   "cell_type": "markdown",
   "metadata": {
    "slideshow": {
     "slide_type": "slide"
    }
   },
   "source": [
    "# Jupyter X Functionality\n",
    "\n",
    "## Goals\n",
    "1. Make computational tasks accessible to programmers/non-programmers alike.\n",
    "2. Eliminate language barrier.\n",
    "3. Easily construct and share analytical pipelines.\n",
    "\n",
    "## Approach\n",
    "- leverage existing technologies:\n",
    "    - ipywidgets and nbextensions, e.g. GenePattern/GenomeSpace Notebooks\n",
    "    "
   ]
  },
  {
   "cell_type": "markdown",
   "metadata": {
    "slideshow": {
     "slide_type": "slide"
    }
   },
   "source": [
    "## Workflow\n",
    "1. Open a new notebook.\n",
    "2. Insert a jupyter_x widget via user interface.\n",
    "\n",
    "\n",
    "| This | is   |\n",
    "|------|------|\n",
    "| ![nav](gp-nav.png) | ![nav2](gp-nav2.png) |\n",
    "\n",
    "3. "
   ]
  },
  {
   "cell_type": "code",
   "execution_count": 2,
   "metadata": {
    "ExecuteTime": {
     "end_time": "2016-11-09T09:35:57.621257",
     "start_time": "2016-11-09T09:35:57.543905"
    },
    "collapsed": false,
    "init_cell": true,
    "slideshow": {
     "slide_type": "skip"
    }
   },
   "outputs": [],
   "source": [
    "# TODO convert to extension\n",
    "# http://ipython.readthedocs.io/en/stable/config/extensions/index.html#writing-extensions\n",
    "%load_ext autoreload\n",
    "from jupyter_x.chain import Chain\n",
    "import os\n",
    "import sys\n",
    "import json\n",
    "import ipywidgets as widgets\n",
    "from IPython.display import display"
   ]
  },
  {
   "cell_type": "markdown",
   "metadata": {},
   "source": [
    "## Load package via "
   ]
  },
  {
   "cell_type": "code",
   "execution_count": 3,
   "metadata": {
    "ExecuteTime": {
     "end_time": "2016-11-09T09:35:57.912576",
     "start_time": "2016-11-09T09:35:57.901250"
    },
    "collapsed": false,
    "hide_input": false,
    "slideshow": {
     "slide_type": "fragment"
    }
   },
   "outputs": [],
   "source": [
    "# load wrapper\n",
    "json_filepath = '/Users/ckmah/Documents/jupyter_x/ccal.json'\n",
    "with open(json_filepath, 'r') as f:\n",
    "    config = json.load(f)"
   ]
  },
  {
   "cell_type": "markdown",
   "metadata": {
    "slideshow": {
     "slide_type": "fragment"
    }
   },
   "source": [
    "### show json format"
   ]
  },
  {
   "cell_type": "markdown",
   "metadata": {
    "slideshow": {
     "slide_type": "slide"
    }
   },
   "source": [
    "## CCAL Test Case "
   ]
  },
  {
   "cell_type": "code",
   "execution_count": 4,
   "metadata": {
    "ExecuteTime": {
     "end_time": "2016-11-08T19:34:45.413379",
     "start_time": "2016-11-08T19:34:45.409607"
    },
    "collapsed": false,
    "slideshow": {
     "slide_type": "skip"
    }
   },
   "outputs": [],
   "source": [
    "controller = Chain(config, globals(), locals(), os.getcwd())"
   ]
  },
  {
   "cell_type": "code",
   "execution_count": 5,
   "metadata": {
    "ExecuteTime": {
     "end_time": "2016-11-08T19:34:45.474566",
     "start_time": "2016-11-08T19:34:45.415525"
    },
    "collapsed": false,
    "slideshow": {
     "slide_type": "skip"
    }
   },
   "outputs": [
    {
     "name": "stderr",
     "output_type": "stream",
     "text": [
      "Widget Javascript not detected.  It may not be installed properly.\n"
     ]
    },
    {
     "name": "stdout",
     "output_type": "stream",
     "text": [
      "['', '']\n",
      "define_components\n",
      "ccal\n",
      "/Users/ckmah/Documents/ccal/\n",
      "<ipywidgets.widgets.widget_string.Text object at 0x106c71588>\n",
      "Please provide all parameters.\n"
     ]
    }
   ],
   "source": [
    "beadview = controller.createBeadView(controller.beads[0])\n",
    "beadview.createFormView()"
   ]
  }
 ],
 "metadata": {
  "anaconda-cloud": {},
  "celltoolbar": "Slideshow",
  "kernelspec": {
   "display_name": "Python [default]",
   "language": "python",
   "name": "python3"
  },
  "language_info": {
   "codemirror_mode": {
    "name": "ipython",
    "version": 3
   },
   "file_extension": ".py",
   "mimetype": "text/x-python",
   "name": "python",
   "nbconvert_exporter": "python",
   "pygments_lexer": "ipython3",
   "version": "3.5.2"
  }
 },
 "nbformat": 4,
 "nbformat_minor": 1
}
