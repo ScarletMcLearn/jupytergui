{
 "cells": [
  {
   "cell_type": "code",
   "execution_count": 78,
   "metadata": {
    "ExecuteTime": {
     "end_time": "2016-11-04T14:37:13.859233",
     "start_time": "2016-11-04T14:37:13.856230"
    },
    "collapsed": false,
    "init_cell": false
   },
   "outputs": [],
   "source": [
    "from ipywidgets import *\n",
    "import json"
   ]
  },
  {
   "cell_type": "code",
   "execution_count": null,
   "metadata": {
    "collapsed": true
   },
   "outputs": [],
   "source": [
    "# !AUTOEXEC\n",
    "\n",
    "print('test')"
   ]
  },
  {
   "cell_type": "code",
   "execution_count": 100,
   "metadata": {
    "ExecuteTime": {
     "end_time": "2016-11-04T14:41:42.993155",
     "start_time": "2016-11-04T14:41:42.986953"
    },
    "collapsed": false,
    "hide_input": false
   },
   "outputs": [
    {
     "ename": "FileNotFoundError",
     "evalue": "[Errno 2] No such file or directory: '/Users/ckmah/Desktop/test.json'",
     "output_type": "error",
     "traceback": [
      "\u001b[0;31m----------------------------------------------------------------\u001b[0m",
      "\u001b[0;31mFileNotFoundError\u001b[0m              Traceback (most recent call last)",
      "\u001b[0;32m<ipython-input-100-deb0770cc56d>\u001b[0m in \u001b[0;36m<module>\u001b[0;34m()\u001b[0m\n\u001b[1;32m      1\u001b[0m \u001b[0mjson_filepath\u001b[0m \u001b[0;34m=\u001b[0m \u001b[0;34m'/Users/ckmah/Desktop/test.json'\u001b[0m\u001b[0;34m\u001b[0m\u001b[0m\n\u001b[0;32m----> 2\u001b[0;31m \u001b[0;32mwith\u001b[0m \u001b[0mopen\u001b[0m\u001b[0;34m(\u001b[0m\u001b[0mjson_filepath\u001b[0m\u001b[0;34m,\u001b[0m \u001b[0;34m'r'\u001b[0m\u001b[0;34m)\u001b[0m \u001b[0;32mas\u001b[0m \u001b[0mf\u001b[0m\u001b[0;34m:\u001b[0m\u001b[0;34m\u001b[0m\u001b[0m\n\u001b[0m\u001b[1;32m      3\u001b[0m     \u001b[0mconfig\u001b[0m \u001b[0;34m=\u001b[0m \u001b[0mjson\u001b[0m\u001b[0;34m.\u001b[0m\u001b[0mload\u001b[0m\u001b[0;34m(\u001b[0m\u001b[0mf\u001b[0m\u001b[0;34m)\u001b[0m\u001b[0;34m\u001b[0m\u001b[0m\n",
      "\u001b[0;31mFileNotFoundError\u001b[0m: [Errno 2] No such file or directory: '/Users/ckmah/Desktop/test.json'"
     ]
    }
   ],
   "source": [
    "json_filepath = '/Users/ckmah/Desktop/test.json'\n",
    "with open(json_filepath, 'r') as f:\n",
    "    config = json.load(f)"
   ]
  },
  {
   "cell_type": "code",
   "execution_count": 98,
   "metadata": {
    "ExecuteTime": {
     "end_time": "2016-11-04T14:40:54.977284",
     "start_time": "2016-11-04T14:40:54.971512"
    },
    "collapsed": true
   },
   "outputs": [],
   "source": [
    "def entryPanel(args):\n",
    "    '''\n",
    "    Parameters\n",
    "    -----\n",
    "    args : list of dictionaries\n",
    "        List of elements with name = label, and elements data type and description.\n",
    "    Returns\n",
    "    -----\n",
    "    widgets.VBox\n",
    "        Contains list of generated widgets.\n",
    "    '''\n",
    "    entries = []\n",
    "\n",
    "    for arg in args:\n",
    "        print(arg)\n",
    "        entries.append([\n",
    "            widgets.Text(\n",
    "                description=arg, placeholder=arg['data_type']),\n",
    "            widgets.Button(arg['description'])\n",
    "        ])\n",
    "\n",
    "\n",
    "    return widgets.VBox([widgets.HBox(entries)])"
   ]
  },
  {
   "cell_type": "code",
   "execution_count": 99,
   "metadata": {
    "ExecuteTime": {
     "end_time": "2016-11-04T14:40:57.447609",
     "start_time": "2016-11-04T14:40:57.442697"
    },
    "collapsed": false
   },
   "outputs": [
    {
     "data": {
      "text/plain": [
       "[{'Expression Matrix to be Decomposed': {'arg_name': 'matrix',\n",
       "   'data_type': ['DataFrame', 'str'],\n",
       "   'description': 'This is an argument description for Expression Matrix to be Decomposed.'}},\n",
       " {'Numbers of Components': {'arg_name': 'ks',\n",
       "   'data_type': ['list'],\n",
       "   'description': 'This is an argument description for Number of Components.'}}]"
      ]
     },
     "execution_count": 99,
     "metadata": {},
     "output_type": "execute_result"
    }
   ],
   "source": [
    "config['required_args']"
   ]
  },
  {
   "cell_type": "code",
   "execution_count": null,
   "metadata": {
    "collapsed": true
   },
   "outputs": [],
   "source": []
  },
  {
   "cell_type": "code",
   "execution_count": null,
   "metadata": {
    "collapsed": true
   },
   "outputs": [],
   "source": []
  }
 ],
 "metadata": {
  "anaconda-cloud": {},
  "celltoolbar": "Edit Metadata",
  "kernelspec": {
   "display_name": "Python [default]",
   "language": "python",
   "name": "python3"
  },
  "language_info": {
   "codemirror_mode": {
    "name": "ipython",
    "version": 3
   },
   "file_extension": ".py",
   "mimetype": "text/x-python",
   "name": "python",
   "nbconvert_exporter": "python",
   "pygments_lexer": "ipython3",
   "version": "3.5.2"
  },
  "widgets": {
   "state": {
    "248fd701b9994612a5764dc37bbb1d92": {
     "views": [
      {
       "cell_index": 2
      }
     ]
    }
   },
   "version": "1.2.0"
  }
 },
 "nbformat": 4,
 "nbformat_minor": 1
}
