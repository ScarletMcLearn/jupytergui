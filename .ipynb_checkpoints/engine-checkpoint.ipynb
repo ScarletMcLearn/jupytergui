{
 "cells": [
  {
   "cell_type": "code",
   "execution_count": 1,
   "metadata": {
    "collapsed": false
   },
   "outputs": [],
   "source": [
    "from engine import *\n",
    "\n",
    "%load_ext autoreload\n",
    "%autoreload 2"
   ]
  },
  {
   "cell_type": "code",
   "execution_count": 10,
   "metadata": {
    "collapsed": true
   },
   "outputs": [],
   "source": [
    "path_to_include = '/home/cyborg/ccal/'\n",
    "library_name = 'ccal'\n",
    "function_name = 'define_components'\n",
    "\n",
    "args = ['/home/cyborg/jupyter_x/data/nmf_k9_h.gct', '3, 4']\n",
    "kwargs = {}\n",
    "return_names = ['nmf_results', 'ccc']"
   ]
  },
  {
   "cell_type": "code",
   "execution_count": 13,
   "metadata": {
    "collapsed": false
   },
   "outputs": [
    {
     "name": "stdout",
     "output_type": "stream",
     "text": [
      "Importing define_components ...\n",
      "Argument #1: '[3, 4]' ==> /home/cyborg/jupyter_x/data/nmf_k9_h.gct ...\n",
      "['/home/cyborg/jupyter_x/data/nmf_k9_h.gct', [3, 4]] {'n_clusterings': 10}\n",
      "<170235> Computing cophenetic correlation coefficient of 10 NMF consensus clusterings ...\n",
      "<170235> Parallelizing ...\n",
      "<170235> NMF and scoring k=3 ...\n",
      "<170235> \t(k=3) NMF (0/10) ...\n",
      "<170236> \t\t(k=3) Saved the 1st NMF decomposition.\n",
      "<170236> \t(k=3) Making consensus matrix from 10 NMF ...\n",
      "<170239> NMF and scoring k=4 ...\n",
      "<170239> \t(k=4) NMF (0/10) ...\n",
      "<170239> \t\t(k=4) Saved the 1st NMF decomposition.\n",
      "<170239> \t(k=4) Making consensus matrix from 10 NMF ...\n",
      "<170242> Plotting NMF decompositions and cophenetic correlation coefficients ...\n",
      "<170242> \tPlotting k=3 ...\n",
      "<170247> \tPlotting k=4 ...\n"
     ]
    },
    {
     "name": "stderr",
     "output_type": "stream",
     "text": [
      "/home/cyborg/tool/anaconda3/lib/python3.5/site-packages/matplotlib/pyplot.py:516: RuntimeWarning: More than 20 figures have been opened. Figures created through the pyplot interface (`matplotlib.pyplot.figure`) are retained until explicitly closed and may consume too much memory. (To control this warning, see the rcParam `figure.max_open_warning`).\n",
      "  max_open_warning, RuntimeWarning)\n"
     ]
    }
   ],
   "source": [
    "simplex(path_to_include, library_name, function_name, args, {'n_clusterings': 10}, return_names)"
   ]
  }
 ],
 "metadata": {
  "anaconda-cloud": {},
  "kernelspec": {
   "display_name": "Python [default]",
   "language": "python",
   "name": "python3"
  },
  "language_info": {
   "codemirror_mode": {
    "name": "ipython",
    "version": 3
   },
   "file_extension": ".py",
   "mimetype": "text/x-python",
   "name": "python",
   "nbconvert_exporter": "python",
   "pygments_lexer": "ipython3",
   "version": "3.5.2"
  }
 },
 "nbformat": 4,
 "nbformat_minor": 1
}
