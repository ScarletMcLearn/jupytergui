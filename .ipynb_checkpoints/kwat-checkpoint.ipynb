{
 "cells": [
  {
   "cell_type": "code",
   "execution_count": 1,
   "metadata": {
    "collapsed": false
   },
   "outputs": [],
   "source": [
    "import os\n",
    "import sys\n",
    "import json"
   ]
  },
  {
   "cell_type": "markdown",
   "metadata": {},
   "source": [
    "## Write .json"
   ]
  },
  {
   "cell_type": "code",
   "execution_count": 2,
   "metadata": {
    "collapsed": true
   },
   "outputs": [],
   "source": [
    "_dict = {}\n",
    "\n",
    "_dict['alias'] = 'Define Components'\n",
    "\n",
    "# TODO: set up importing syntax\n",
    "_dict['filepath'] = './ccal'\n",
    "_dict['library_name'] = 'ccal'\n",
    "_dict['function_name'] = 'define_components'\n",
    "\n",
    "# TODO: make data_type universally understandable\n",
    "_dict['required_args'] = [\n",
    "    {'Expression Matrix to be Decomposed': {'arg_name': 'matrix',\n",
    "                                            'data_type': ['DataFrame', 'str'],\n",
    "                                            'desctiption': 'This is an argument description for Expression Matrix to be Decomposed.'}},\n",
    "    {'Numbers of Componets': {'arg_name': 'ks',\n",
    "                              'data_type': ['list'],\n",
    "                              'desctiption': 'This is an argument description for Number of Components.'}}\n",
    "]\n",
    "\n",
    "_dict['optional_args'] = []\n",
    "_dict['return'] = [\n",
    "    {'NMF Result Dictionary':{'data_type': 'dict',\n",
    "                              'description:': 'This is the description for the returned NMF Result Dictionary.'}},\n",
    "    {'Cophenetic Correlation Coefficients': {'data_type': 'dict',\n",
    "                                             'description': 'This is the description for the returned Cophentic Correlation Coefficients.'}}\n",
    "]\n",
    "\n",
    "json_filepath = '/home/cyborg/test.json'\n",
    "\n",
    "with open(json_filepath, 'w') as f:\n",
    "    json.dump(_dict, f, indent=4, sort_keys=True)"
   ]
  },
  {
   "cell_type": "markdown",
   "metadata": {},
   "source": [
    "## Read .json"
   ]
  },
  {
   "cell_type": "code",
   "execution_count": 4,
   "metadata": {
    "collapsed": false
   },
   "outputs": [],
   "source": [
    "with open(json_filepath, 'r') as f:\n",
    "    read_dict = json.load(f)"
   ]
  },
  {
   "cell_type": "markdown",
   "metadata": {},
   "source": [
    "## Execute .json function"
   ]
  },
  {
   "cell_type": "code",
   "execution_count": 5,
   "metadata": {
    "collapsed": false
   },
   "outputs": [
    {
     "data": {
      "text/plain": [
       "'./ccal'"
      ]
     },
     "execution_count": 5,
     "metadata": {},
     "output_type": "execute_result"
    }
   ],
   "source": [
    "filepath = read_dict['filepath']\n",
    "filepath"
   ]
  },
  {
   "cell_type": "code",
   "execution_count": 6,
   "metadata": {
    "collapsed": false
   },
   "outputs": [
    {
     "data": {
      "text/plain": [
       "'ccal'"
      ]
     },
     "execution_count": 6,
     "metadata": {},
     "output_type": "execute_result"
    }
   ],
   "source": [
    "library_name = read_dict['library_name']\n",
    "library_name"
   ]
  },
  {
   "cell_type": "code",
   "execution_count": 7,
   "metadata": {
    "collapsed": false
   },
   "outputs": [
    {
     "data": {
      "text/plain": [
       "'define_components'"
      ]
     },
     "execution_count": 7,
     "metadata": {},
     "output_type": "execute_result"
    }
   ],
   "source": [
    "function_name = read_dict['function_name']\n",
    "function_name"
   ]
  },
  {
   "cell_type": "code",
   "execution_count": 8,
   "metadata": {
    "collapsed": false
   },
   "outputs": [
    {
     "name": "stdout",
     "output_type": "stream",
     "text": [
      "================================================================================\n",
      "================= Computational Cancer Analysis Library (CCAL) =================\n",
      "================================================================================\n",
      "Planted a random seed: 20121020.\n"
     ]
    }
   ],
   "source": [
    "sys.path.insert(0, filepath)\n",
    "exec('from {} import {} as function'.format(library_name, function_name))"
   ]
  },
  {
   "cell_type": "code",
   "execution_count": 9,
   "metadata": {
    "collapsed": false
   },
   "outputs": [
    {
     "data": {
      "text/plain": [
       "<function ccal.oncogps.define_components>"
      ]
     },
     "execution_count": 9,
     "metadata": {},
     "output_type": "execute_result"
    }
   ],
   "source": [
    "function()"
   ]
  },
  {
   "cell_type": "code",
   "execution_count": 10,
   "metadata": {
    "collapsed": true
   },
   "outputs": [],
   "source": [
    "import pandas as pd"
   ]
  },
  {
   "cell_type": "code",
   "execution_count": 11,
   "metadata": {
    "collapsed": true
   },
   "outputs": [],
   "source": [
    "foo = pd.DataFrame()"
   ]
  },
  {
   "cell_type": "code",
   "execution_count": 14,
   "metadata": {
    "collapsed": true
   },
   "outputs": [],
   "source": [
    "ks = range(1,11)"
   ]
  },
  {
   "cell_type": "code",
   "execution_count": null,
   "metadata": {
    "collapsed": true
   },
   "outputs": [],
   "source": [
    "function(foo, bar)"
   ]
  }
 ],
 "metadata": {
  "anaconda-cloud": {},
  "kernelspec": {
   "display_name": "Python [default]",
   "language": "python",
   "name": "python3"
  },
  "language_info": {
   "codemirror_mode": {
    "name": "ipython",
    "version": 3
   },
   "file_extension": ".py",
   "mimetype": "text/x-python",
   "name": "python",
   "nbconvert_exporter": "python",
   "pygments_lexer": "ipython3",
   "version": "3.5.2"
  }
 },
 "nbformat": 4,
 "nbformat_minor": 1
}
