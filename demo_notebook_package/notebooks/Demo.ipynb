{
 "cells": [
  {
   "cell_type": "code",
   "execution_count": 1,
   "metadata": {
    "collapsed": false
   },
   "outputs": [
    {
     "name": "stdout",
     "output_type": "stream",
     "text": [
      "Launching Notebook Package (NbPackage)...\n",
      "\tExported variable DIR_PACKAGE (/Users/kateme/Jumis/tools/simpli/demo_notebook_package).\n",
      "\tExported variable DIR_TOOLS (/Users/kateme/Jumis/tools/simpli/demo_notebook_package/tools/), and added it to the path.\n",
      "\tExported variable DIR_DATA (/Users/kateme/Jumis/tools/simpli/demo_notebook_package/data/).\n",
      "\tExported variable DIR_RESULTS (/Users/kateme/Jumis/tools/simpli/demo_notebook_package/results/).\n",
      "\tExported variable DIR_MEDIA (/Users/kateme/Jumis/tools/simpli/demo_notebook_package/media/).\n"
     ]
    }
   ],
   "source": [
    "from environment import *\n",
    "\n",
    "%matplotlib inline\n",
    "%load_ext autoreload\n",
    "%autoreload 2"
   ]
  },
  {
   "cell_type": "code",
   "execution_count": 2,
   "metadata": {
    "collapsed": true,
    "scrolled": true
   },
   "outputs": [],
   "source": [
    "def count(min_n, max_n, by=1, prefix='Number'):\n",
    "    for n in range(min_n, max_n, by):\n",
    "        print('{} {}'.format(prefix, n))"
   ]
  },
  {
   "cell_type": "code",
   "execution_count": 3,
   "metadata": {
    "collapsed": false
   },
   "outputs": [
    {
     "name": "stdout",
     "output_type": "stream",
     "text": [
      "Number 1\n",
      "Number 3\n",
      "Number 5\n",
      "Number 7\n",
      "Number 9\n"
     ]
    }
   ],
   "source": [
    "# Count odds\n",
    "\n",
    "count(1,\n",
    "      10,\n",
    "      2)"
   ]
  },
  {
   "cell_type": "code",
   "execution_count": 4,
   "metadata": {
    "collapsed": false
   },
   "outputs": [
    {
     "name": "stdout",
     "output_type": "stream",
     "text": [
      "Number 0\n",
      "Number 2\n",
      "Number 4\n",
      "Number 6\n",
      "Number 8\n"
     ]
    }
   ],
   "source": [
    "# Count even\n",
    "\n",
    "count(0, 10, 2)"
   ]
  },
  {
   "cell_type": "code",
   "execution_count": 5,
   "metadata": {
    "collapsed": false
   },
   "outputs": [],
   "source": [
    "from a_library.a_file import a_function_in_a_file"
   ]
  },
  {
   "cell_type": "code",
   "execution_count": 6,
   "metadata": {
    "collapsed": false
   },
   "outputs": [
    {
     "name": "stdout",
     "output_type": "stream",
     "text": [
      "Required argument 1 & 2: 1 & 2.\n"
     ]
    }
   ],
   "source": [
    "# Modality 1\n",
    "\n",
    "a_function_in_a_file(1, 2)"
   ]
  }
 ],
 "metadata": {
  "anaconda-cloud": {},
  "kernelspec": {
   "display_name": "Python 3",
   "language": "python",
   "name": "python3"
  },
  "language_info": {
   "codemirror_mode": {
    "name": "ipython",
    "version": 3
   },
   "file_extension": ".py",
   "mimetype": "text/x-python",
   "name": "python",
   "nbconvert_exporter": "python",
   "pygments_lexer": "ipython3",
   "version": "3.6.0"
  }
 },
 "nbformat": 4,
 "nbformat_minor": 1
}
