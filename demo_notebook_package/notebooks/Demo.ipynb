{
 "cells": [
  {
   "cell_type": "code",
   "execution_count": 2,
   "metadata": {
    "collapsed": false
   },
   "outputs": [
    {
     "name": "stdout",
     "output_type": "stream",
     "text": [
      "The autoreload extension is already loaded. To reload it, use:\n",
      "  %reload_ext autoreload\n"
     ]
    }
   ],
   "source": [
    "from environment import *\n",
    "\n",
    "%matplotlib inline\n",
    "%load_ext autoreload\n",
    "%autoreload 2"
   ]
  },
  {
   "cell_type": "code",
   "execution_count": 3,
   "metadata": {
    "collapsed": true,
    "scrolled": true
   },
   "outputs": [],
   "source": [
    "def a_function_in_a_notebook(min_n, max_n, by=1, prefix='Number'):\n",
    "    for n in range(min_n, max_n, by):\n",
    "        print('{} {}'.format(prefix, n))"
   ]
  },
  {
   "cell_type": "code",
   "execution_count": 4,
   "metadata": {
    "collapsed": false
   },
   "outputs": [
    {
     "name": "stdout",
     "output_type": "stream",
     "text": [
      "Number 1\n",
      "Number 3\n",
      "Number 5\n",
      "Number 7\n",
      "Number 9\n"
     ]
    }
   ],
   "source": [
    "# Count odds\n",
    "a_function_in_a_notebook(1,\n",
    "                                  10,\n",
    "                                  2)"
   ]
  },
  {
   "cell_type": "code",
   "execution_count": 5,
   "metadata": {
    "collapsed": false
   },
   "outputs": [
    {
     "name": "stdout",
     "output_type": "stream",
     "text": [
      "Number 0\n",
      "Number 2\n",
      "Number 4\n",
      "Number 6\n",
      "Number 8\n"
     ]
    }
   ],
   "source": [
    "# Count evens\n",
    "a_function_in_a_notebook(0,\n",
    "                                  10,\n",
    "                                  2)"
   ]
  },
  {
   "cell_type": "code",
   "execution_count": 6,
   "metadata": {
    "collapsed": false
   },
   "outputs": [],
   "source": [
    "from a_library.a_file import a_function_in_a_file"
   ]
  },
  {
   "cell_type": "code",
   "execution_count": 7,
   "metadata": {
    "collapsed": false
   },
   "outputs": [
    {
     "name": "stdout",
     "output_type": "stream",
     "text": [
      "<A function in a file> Required argument 1 & 2: 1 & 2.\n"
     ]
    }
   ],
   "source": [
    "# Modality 1\n",
    "a_function_in_a_file(1,\n",
    "                                      2)"
   ]
  },
  {
   "cell_type": "code",
   "execution_count": 6,
   "metadata": {
    "collapsed": true
   },
   "outputs": [],
   "source": [
    "from a_library import a_file"
   ]
  },
  {
   "cell_type": "code",
   "execution_count": 11,
   "metadata": {
    "collapsed": false
   },
   "outputs": [
    {
     "name": "stdout",
     "output_type": "stream",
     "text": [
      "<A function in a file> Required argument 1 & 2: 1 & 2.\n"
     ]
    }
   ],
   "source": [
    "import sys\n",
    "sys.path.insert(0, '/Users/kateme/Jumis/tools/simpli/demo_notebook_package/tools/')\n",
    "import a_library\n",
    "\n",
    "# Modality 1 from a file\n",
    "a_library.a_file.a_function_in_a_file(1,\n",
    "                                      2)"
   ]
  }
 ],
 "metadata": {
  "anaconda-cloud": {},
  "kernelspec": {
   "display_name": "Python 3",
   "language": "python",
   "name": "python3"
  },
  "language_info": {
   "codemirror_mode": {
    "name": "ipython",
    "version": 3
   },
   "file_extension": ".py",
   "mimetype": "text/x-python",
   "name": "python",
   "nbconvert_exporter": "python",
   "pygments_lexer": "ipython3",
   "version": "3.6.0"
  }
 },
 "nbformat": 4,
 "nbformat_minor": 1
}
