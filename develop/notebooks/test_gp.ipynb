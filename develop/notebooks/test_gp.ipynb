{
 "cells": [
  {
   "cell_type": "code",
   "execution_count": 1,
   "metadata": {
    "collapsed": false
   },
   "outputs": [
    {
     "data": {
      "text/plain": [
       "4"
      ]
     },
     "execution_count": 1,
     "metadata": {},
     "output_type": "execute_result"
    }
   ],
   "source": [
    "get"
   ]
  },
  {
   "cell_type": "code",
   "execution_count": 2,
   "metadata": {
    "collapsed": false
   },
   "outputs": [
    {
     "name": "stdout",
     "output_type": "stream",
     "text": [
      "The autoreload extension is already loaded. To reload it, use:\n",
      "  %reload_ext autoreload\n"
     ]
    }
   ],
   "source": [
    "import sys\n",
    "from pprint import pprint\n",
    "import inspect\n",
    "import json\n",
    "sys.path.insert(0, '../genepattern-python/')\n",
    "from gp import functions\n",
    "\n",
    "%load_ext autoreload\n",
    "%autoreload 2"
   ]
  },
  {
   "cell_type": "code",
   "execution_count": 17,
   "metadata": {
    "collapsed": false
   },
   "outputs": [
    {
     "data": {
      "text/html": [
       "<!--!AUTO_EXEC-->\n",
       "<paper-material class=\"task-widget\" elevation=\"1\"><div class=\"task-widget-header item-header\"><h2>Link JSON</h2></div><iron-collapse class=\"task-widget-inner\"><div class=\"task-widget-content item-content\"><div class=\"widget-info\">No description.</div><form is=\"iron-form\" class=\"task-widget-form\"><div class=\"widget-form-panel\"><div class=\"field-group field-required_args-group\"><div class=\"item-header\"><h3>Input</h3></div><iron-collapse><div class=\"field-group-content item-content\"><div class=\"input-parent\"><paper-input label=\"Simpli JSON to be Linked\" name=\"required_args\" value=\"/home/cyborg/Jumis/tools/genepattern-python/functions.json\" auto-validate=\"\" error-message=\"Required!\" required=\"required\"></paper-input><paper-icon-button icon=\"info\" class=\"info-toggle\"></paper-icon-button></div><iron-collapse><div class=\"item-content\">No description.</div></iron-collapse></div></iron-collapse></div></div><button class=\"form-submit-button-wrapper\"><paper-button class=\"form-submit-button\" raised=\"\">submit<iron-icon icon=\"assessment\"></iron-icon></paper-button></button></form></div></iron-collapse></paper-material>\n",
       "<!--{\"Link JSON\":{\"library_name\":\"simpli.default_tasks\",\"function_name\":\"link_json\",\"returns\":[],\"description\":\"No description.\",\"library_path\":\"\",\"default_args\":[],\"required_args\":[{\"name\":\"filepath\",\"value\":\"/home/cyborg/Jumis/tools/genepattern-python/functions.json\",\"description\":\"No description.\",\"label\":\"Simpli JSON to be Linked\"}],\"optional_args\":[]}}-->"
      ],
      "text/plain": [
       "<IPython.core.display.HTML object>"
      ]
     },
     "metadata": {},
     "output_type": "display_data"
    }
   ],
   "source": [
    "%%HTML\n",
    "<!--!AUTO_EXEC-->\n",
    "<paper-material class=\"task-widget\" elevation=\"1\"><div class=\"task-widget-header item-header\"><h2>Link JSON</h2></div><iron-collapse class=\"task-widget-inner\"><div class=\"task-widget-content item-content\"><div class=\"widget-info\">No description.</div><form is=\"iron-form\" class=\"task-widget-form\"><div class=\"widget-form-panel\"><div class=\"field-group field-required_args-group\"><div class=\"item-header\"><h3>Input</h3></div><iron-collapse><div class=\"field-group-content item-content\"><div class=\"input-parent\"><paper-input label=\"Simpli JSON to be Linked\" name=\"required_args\" value=\"/home/cyborg/Jumis/tools/genepattern-python/functions.json\" auto-validate=\"\" error-message=\"Required!\" required=\"required\"></paper-input><paper-icon-button icon=\"info\" class=\"info-toggle\"></paper-icon-button></div><iron-collapse><div class=\"item-content\">No description.</div></iron-collapse></div></iron-collapse></div></div><button class=\"form-submit-button-wrapper\"><paper-button class=\"form-submit-button\" raised=\"\">submit<iron-icon icon=\"assessment\"></iron-icon></paper-button></button></form></div></iron-collapse></paper-material>\n",
    "<!--{\"Link JSON\":{\"library_name\":\"simpli.default_tasks\",\"function_name\":\"link_json\",\"returns\":[],\"description\":\"No description.\",\"library_path\":\"\",\"default_args\":[],\"required_args\":[{\"name\":\"filepath\",\"value\":\"/home/cyborg/Jumis/tools/genepattern-python/functions.json\",\"description\":\"No description.\",\"label\":\"Simpli JSON to be Linked\"}],\"optional_args\":[]}}-->"
   ]
  },
  {
   "cell_type": "code",
   "execution_count": null,
   "metadata": {
    "collapsed": false
   },
   "outputs": [],
   "source": [
    "import sys\n",
    "sys.path.insert(0, '/home/cyborg/Jumis/tools/genepattern-python/')\n",
    "import gp\n",
    "\n",
    "# PreprocessDataset\n",
    "d = gp.functions.run_job(task_name='PreprocessDataset',\n",
    "                         **{'min.fold.change':3,\n",
    "                            'threshold.and.filter':1,\n",
    "                            'number.of.columns.above.threshold':'c',\n",
    "                            'output.file':'<input.filename_basename>.preprocessed',\n",
    "                            'row.sampling.rate':1,\n",
    "                            'num.outliers.to.exclude':0,\n",
    "                            'input.filename':'a',\n",
    "                            'min.delta':100,\n",
    "                            'threshold.for.removing.rows':'b',\n",
    "                            'floor':20,\n",
    "                            'output.file.format':3,\n",
    "                            'ceiling':20000,\n",
    "                            'row.normalization':0,\n",
    "                            'log2.transform':0,\n",
    "                           },\n",
    "                         )"
   ]
  },
  {
   "cell_type": "code",
   "execution_count": 16,
   "metadata": {
    "collapsed": false
   },
   "outputs": [
    {
     "data": {
      "text/html": [
       "<!--!AUTO_EXEC-->\n",
       "<paper-material class=\"task-widget\" elevation=\"1\"><div class=\"task-widget-header item-header\"><h2>ABSOLUTE</h2></div><iron-collapse class=\"task-widget-inner\"><div class=\"task-widget-content item-content\"><div class=\"widget-info\">TODO: get from docstring</div><form is=\"iron-form\" class=\"task-widget-form\"><div class=\"widget-form-panel\"><div class=\"field-group field-required_args-group\"><div class=\"item-header\"><h3>Input</h3></div><iron-collapse><div class=\"field-group-content item-content\"><div class=\"input-parent\"><paper-input label=\"task_name\" name=\"required_args\" value=\"\" auto-validate=\"\" error-message=\"Required!\" required=\"required\"></paper-input><paper-icon-button icon=\"info\" class=\"info-toggle\"></paper-icon-button></div><iron-collapse><div class=\"item-content\">TODO: get from docstring</div></iron-collapse></div></iron-collapse></div><div class=\"field-group field-optional_args-group\"><div class=\"item-header\"><h3>Optional Input</h3></div><iron-collapse><div class=\"field-group-content item-content\"><div class=\"input-parent\"><paper-input label=\"task_name\" name=\"optional_args\" value=\"'ABSOLUTE'\"></paper-input><paper-icon-button icon=\"info\" class=\"info-toggle\"></paper-icon-button></div><iron-collapse><div class=\"item-content\">TODO: get from docstring</div></iron-collapse></div></iron-collapse></div><div class=\"field-group field-returns-group\"><div class=\"item-header\"><h3>Output</h3></div><iron-collapse><div class=\"field-group-content item-content\"><div class=\"input-parent\"><paper-input label=\"TODO: get from docstring\" name=\"returns\" value=\"asf\" auto-validate=\"\" error-message=\"Required!\" required=\"required\"></paper-input><paper-icon-button icon=\"info\" class=\"info-toggle\"></paper-icon-button></div><iron-collapse><div class=\"item-content\">TODO: get from docstring</div></iron-collapse></div></iron-collapse></div></div><button class=\"form-submit-button-wrapper\"><paper-button class=\"form-submit-button\" raised=\"\">submit<iron-icon icon=\"assessment\"></iron-icon></paper-button></button></form></div></iron-collapse></paper-material>\n",
       "<!--{\"ABSOLUTE\":{\"returns\":[{\"label\":\"TODO: get from docstring\",\"description\":\"TODO: get from docstring\",\"value\":\"asf\"}],\"library_name\":\"gp.functions\",\"default_args\":[{\"name\":\"output.file.name.base\",\"label\":\"output.file.name.base\",\"description\":\"Keyword argument\",\"value\":\"'<sample.name>'\"},{\"name\":\"max.sigma.h\",\"label\":\"max.sigma.h\",\"description\":\"Keyword argument\",\"value\":\"'0.015'\"},{\"name\":\"platform\",\"label\":\"platform\",\"description\":\"Keyword argument\",\"value\":\"'SNP_6.0'\"},{\"name\":\"maf.file\",\"label\":\"maf.file\",\"description\":\"Keyword argument\",\"value\":\"'asdf'\"},{\"name\":\"sample.name\",\"label\":\"sample.name\",\"description\":\"Keyword argument\",\"value\":\"'asdf'\"},{\"name\":\"max.non.clonal\",\"label\":\"max.non.clonal\",\"description\":\"Keyword argument\",\"value\":\"'0.05'\"},{\"name\":\"min.mut.af\",\"label\":\"min.mut.af\",\"description\":\"Keyword argument\",\"value\":\"'asf'\"},{\"name\":\"seg.dat.file\",\"label\":\"seg.dat.file\",\"description\":\"Keyword argument\",\"value\":\"'asf'\"},{\"name\":\"sigma.p\",\"label\":\"sigma.p\",\"description\":\"Keyword argument\",\"value\":\"'0'\"},{\"name\":\"primary.disease\",\"label\":\"primary.disease\",\"description\":\"Keyword argument\",\"value\":\"'asdf'\"},{\"name\":\"max.as.seg.count\",\"label\":\"max.as.seg.count\",\"description\":\"Keyword argument\",\"value\":\"'1500'\"},{\"name\":\"min.ploidy\",\"label\":\"min.ploidy\",\"description\":\"Keyword argument\",\"value\":\"'0.95'\"},{\"name\":\"max.neg.genome\",\"label\":\"max.neg.genome\",\"description\":\"Keyword argument\",\"value\":\"'0.005'\"},{\"name\":\"max.ploidy\",\"label\":\"max.ploidy\",\"description\":\"Keyword argument\",\"value\":\"'10'\"},{\"name\":\"copy.number.type\",\"label\":\"copy.number.type\",\"description\":\"Keyword argument\",\"value\":\"'allelic'\"}],\"required_args\":[{\"name\":\"task_name\",\"label\":\"task_name\",\"description\":\"TODO: get from docstring\",\"value\":\"\"}],\"library_path\":\"/home/cyborg/Jumis/tools/genepattern-python/\",\"function_name\":\"run_job\",\"description\":\"TODO: get from docstring\",\"optional_args\":[{\"name\":\"task_name\",\"label\":\"task_name\",\"description\":\"TODO: get from docstring\",\"value\":\"'ABSOLUTE'\"}]}}-->"
      ],
      "text/plain": [
       "<IPython.core.display.HTML object>"
      ]
     },
     "metadata": {},
     "output_type": "display_data"
    }
   ],
   "source": [
    "%%HTML\n",
    "<!--!AUTO_EXEC-->\n",
    "<paper-material class=\"task-widget\" elevation=\"1\"><div class=\"task-widget-header item-header\"><h2>ABSOLUTE</h2></div><iron-collapse class=\"task-widget-inner\"><div class=\"task-widget-content item-content\"><div class=\"widget-info\">TODO: get from docstring</div><form is=\"iron-form\" class=\"task-widget-form\"><div class=\"widget-form-panel\"><div class=\"field-group field-required_args-group\"><div class=\"item-header\"><h3>Input</h3></div><iron-collapse><div class=\"field-group-content item-content\"><div class=\"input-parent\"><paper-input label=\"task_name\" name=\"required_args\" value=\"\" auto-validate=\"\" error-message=\"Required!\" required=\"required\"></paper-input><paper-icon-button icon=\"info\" class=\"info-toggle\"></paper-icon-button></div><iron-collapse><div class=\"item-content\">TODO: get from docstring</div></iron-collapse></div></iron-collapse></div><div class=\"field-group field-optional_args-group\"><div class=\"item-header\"><h3>Optional Input</h3></div><iron-collapse><div class=\"field-group-content item-content\"><div class=\"input-parent\"><paper-input label=\"task_name\" name=\"optional_args\" value=\"'ABSOLUTE'\"></paper-input><paper-icon-button icon=\"info\" class=\"info-toggle\"></paper-icon-button></div><iron-collapse><div class=\"item-content\">TODO: get from docstring</div></iron-collapse></div></iron-collapse></div><div class=\"field-group field-returns-group\"><div class=\"item-header\"><h3>Output</h3></div><iron-collapse><div class=\"field-group-content item-content\"><div class=\"input-parent\"><paper-input label=\"TODO: get from docstring\" name=\"returns\" value=\"asf\" auto-validate=\"\" error-message=\"Required!\" required=\"required\"></paper-input><paper-icon-button icon=\"info\" class=\"info-toggle\"></paper-icon-button></div><iron-collapse><div class=\"item-content\">TODO: get from docstring</div></iron-collapse></div></iron-collapse></div></div><button class=\"form-submit-button-wrapper\"><paper-button class=\"form-submit-button\" raised=\"\">submit<iron-icon icon=\"assessment\"></iron-icon></paper-button></button></form></div></iron-collapse></paper-material>\n",
    "<!--{\"ABSOLUTE\":{\"returns\":[{\"label\":\"TODO: get from docstring\",\"description\":\"TODO: get from docstring\",\"value\":\"asf\"}],\"library_name\":\"gp.functions\",\"default_args\":[{\"name\":\"output.file.name.base\",\"label\":\"output.file.name.base\",\"description\":\"Keyword argument\",\"value\":\"'<sample.name>'\"},{\"name\":\"max.sigma.h\",\"label\":\"max.sigma.h\",\"description\":\"Keyword argument\",\"value\":\"'0.015'\"},{\"name\":\"platform\",\"label\":\"platform\",\"description\":\"Keyword argument\",\"value\":\"'SNP_6.0'\"},{\"name\":\"maf.file\",\"label\":\"maf.file\",\"description\":\"Keyword argument\",\"value\":\"'asdf'\"},{\"name\":\"sample.name\",\"label\":\"sample.name\",\"description\":\"Keyword argument\",\"value\":\"'asdf'\"},{\"name\":\"max.non.clonal\",\"label\":\"max.non.clonal\",\"description\":\"Keyword argument\",\"value\":\"'0.05'\"},{\"name\":\"min.mut.af\",\"label\":\"min.mut.af\",\"description\":\"Keyword argument\",\"value\":\"'asf'\"},{\"name\":\"seg.dat.file\",\"label\":\"seg.dat.file\",\"description\":\"Keyword argument\",\"value\":\"'asf'\"},{\"name\":\"sigma.p\",\"label\":\"sigma.p\",\"description\":\"Keyword argument\",\"value\":\"'0'\"},{\"name\":\"primary.disease\",\"label\":\"primary.disease\",\"description\":\"Keyword argument\",\"value\":\"'asdf'\"},{\"name\":\"max.as.seg.count\",\"label\":\"max.as.seg.count\",\"description\":\"Keyword argument\",\"value\":\"'1500'\"},{\"name\":\"min.ploidy\",\"label\":\"min.ploidy\",\"description\":\"Keyword argument\",\"value\":\"'0.95'\"},{\"name\":\"max.neg.genome\",\"label\":\"max.neg.genome\",\"description\":\"Keyword argument\",\"value\":\"'0.005'\"},{\"name\":\"max.ploidy\",\"label\":\"max.ploidy\",\"description\":\"Keyword argument\",\"value\":\"'10'\"},{\"name\":\"copy.number.type\",\"label\":\"copy.number.type\",\"description\":\"Keyword argument\",\"value\":\"'allelic'\"}],\"required_args\":[{\"name\":\"task_name\",\"label\":\"task_name\",\"description\":\"TODO: get from docstring\",\"value\":\"\"}],\"library_path\":\"/home/cyborg/Jumis/tools/genepattern-python/\",\"function_name\":\"run_job\",\"description\":\"TODO: get from docstring\",\"optional_args\":[{\"name\":\"task_name\",\"label\":\"task_name\",\"description\":\"TODO: get from docstring\",\"value\":\"'ABSOLUTE'\"}]}}-->"
   ]
  },
  {
   "cell_type": "code",
   "execution_count": null,
   "metadata": {
    "collapsed": true
   },
   "outputs": [],
   "source": []
  },
  {
   "cell_type": "code",
   "execution_count": 14,
   "metadata": {
    "collapsed": false
   },
   "outputs": [
    {
     "name": "stdout",
     "output_type": "stream",
     "text": [
      "{'a': 1} <class 'dict'>\n"
     ]
    }
   ],
   "source": [
    "def x(**kwargs):\n",
    "    print(kwargs, type(kwargs))\n",
    "    \n",
    "x(**{'a': 1})"
   ]
  },
  {
   "cell_type": "code",
   "execution_count": null,
   "metadata": {
    "collapsed": false
   },
   "outputs": [],
   "source": [
    "functions.login('https://genepattern.broadinstitute.org/gp', 'Simpli', 'Simpli')\n",
    "\n",
    "tasks = []\n",
    "task_json = {\n",
    "    \"library_path\": \"Jumis/tools/genepattern-python\",\n",
    "    \"tasks\": tasks,\n",
    "}\n",
    "\n",
    "tasks.append(\n",
    "    {\n",
    "        \"function_path\": 'gp.functions.login',\n",
    "        \"label\": 'Login GenePattern (Broad Institute)',\n",
    "        \"description\": 'Login into the GenePattern server at the Broad Institure.',\n",
    "        \"required_args\":\n",
    "        [            \n",
    "            {\n",
    "                'name': 'user_name',\n",
    "                'label': 'User name',\n",
    "                \"description\": 'GenePattern user name.',\n",
    "            },\n",
    "            {\n",
    "                'name': 'passcode',\n",
    "                'label': 'Passcode',\n",
    "                \"description\": 'GenePattern passcode.',\n",
    "            },        \n",
    "        ],\n",
    "        \"default_args\":\n",
    "        [\n",
    "            {\n",
    "                'name': 'server_name',\n",
    "                'value': 'https://genepattern.broadinstitute.org/gp',\n",
    "            },\n",
    "        ],\n",
    "    }\n",
    "            )\n",
    "\n",
    "for i, t in enumerate(functions.get_tasks()):\n",
    "    print('Processing task ({}/280): {} ...'.format(i, t))\n",
    "    \n",
    "    t = functions.GPTask(functions.SERVER, t)\n",
    "    t.param_load()\n",
    "    name = t.get_name()\n",
    "\n",
    "    required_args = []\n",
    "    default_args = [{'name': 'task_name', 'value': name}]\n",
    "    optional_args = []\n",
    "    other_information = {}\n",
    "\n",
    "    task_entry = {\n",
    "        \"function_path\": 'gp.functions.execute',\n",
    "        \"label\": name,\n",
    "        \"description\": t.get_description(),\n",
    "        \"required_args\": required_args,\n",
    "        \"default_args\": default_args,\n",
    "        \"optional_args\": optional_args,\n",
    "        \"returns\": [{'label': 'Job', 'description': 'ONLY FOR TESTING: RETURNS FIELD WILL BE REMOVED'}],\n",
    "        \"other_information\": other_information,\n",
    "    }\n",
    "\n",
    "    ps = t.get_parameters()\n",
    "    for p in ps:\n",
    "        a = {}\n",
    "        description = p.get_description()\n",
    "        default_value = p.get_default_value()\n",
    "\n",
    "        a['name'] = p.get_name()\n",
    "        a['description'] = description\n",
    "        if default_value:\n",
    "            a['value'] = default_value\n",
    "\n",
    "        type_ = p.get_type()\n",
    "        if p.is_choice_param():\n",
    "            choices = [d['value'] for d in p.get_choices()]\n",
    "            a['description']: '{} (default={}) (choices={}) (type={})'.format(description, default_value, choices, type_,)\n",
    "        else:\n",
    "            a['description']: '{} (default={}) (type={})'.format(description, default_value, type_,)\n",
    "\n",
    "        if default_value:\n",
    "            optional_args.append(a)\n",
    "        else:\n",
    "            required_args.append(a)\n",
    "\n",
    "    other_information['lsid'] = t.get_lsid()\n",
    "    other_information['version'] = t.get_version()\n",
    "\n",
    "    tasks.append(task_entry)\n",
    "\n",
    "pprint(tasks)\n",
    "with open('/Users/kateme/Jumis/tools/genepattern-python/functions.json', 'w') as f:\n",
    "    json.dump(task_json, f, indent=4)"
   ]
  },
  {
   "cell_type": "code",
   "execution_count": null,
   "metadata": {
    "collapsed": false
   },
   "outputs": [],
   "source": [
    "js = functions.make_task_spec('PreprocessDataset')\n",
    "# js.set_parameter('input.filename',\n",
    "#                  'https://software.broadinstitute.org/cancer/software/genepattern/data/all_aml/all_aml_test.gct')\n",
    "js.set_parameter('input.filename',\n",
    "                 '/Users/kateme/Jumis/data/animals/animals.gct')\n",
    "j = functions.submit_job(js)"
   ]
  },
  {
   "cell_type": "code",
   "execution_count": null,
   "metadata": {
    "collapsed": false
   },
   "outputs": [],
   "source": [
    "print(j.is_finished())\n",
    "for f in j.get_output_files():\n",
    "    print(f.read())"
   ]
  },
  {
   "cell_type": "code",
   "execution_count": 2,
   "metadata": {
    "collapsed": false,
    "scrolled": true
   },
   "outputs": [],
   "source": [
    "import sys\n",
    "sys.path.insert(0, '')\n",
    "import simpli\n",
    "m = simpli.Manager(True)\n",
    "\n",
    "m.update_namespace(globals())\n",
    "m._load_task_from_notebook_cell(In[3])"
   ]
  }
 ],
 "metadata": {
  "kernelspec": {
   "display_name": "Python 3",
   "language": "python",
   "name": "python3"
  },
  "language_info": {
   "codemirror_mode": {
    "name": "ipython",
    "version": 3
   },
   "file_extension": ".py",
   "mimetype": "text/x-python",
   "name": "python",
   "nbconvert_exporter": "python",
   "pygments_lexer": "ipython3",
   "version": "3.5.2"
  }
 },
 "nbformat": 4,
 "nbformat_minor": 2
}
