{
 "cells": [
  {
   "cell_type": "code",
   "execution_count": null,
   "metadata": {
    "collapsed": false
   },
   "outputs": [],
   "source": [
    "# import sys\n",
    "# sys.path.insert(0, '../../')\n",
    "# from simpli.manager import Manager\n",
    "\n",
    "from environment import *\n",
    "\n",
    "%matplotlib inline\n",
    "%load_ext autoreload\n",
    "%autoreload 2"
   ]
  },
  {
   "cell_type": "code",
   "execution_count": null,
   "metadata": {
    "collapsed": false,
    "scrolled": true
   },
   "outputs": [],
   "source": [
    "def a_function_in_a_notebook(min_n, max_n, by=1, prefix='Number'):\n",
    "    for n in range(min_n, max_n, by):\n",
    "        print('{} {}'.format(prefix, n))"
   ]
  },
  {
   "cell_type": "code",
   "execution_count": null,
   "metadata": {
    "collapsed": false
   },
   "outputs": [],
   "source": [
    "%%HTML\n",
    "<!--!AUTO_EXEC-->\n",
    "<paper-material elevation=\"1\" class=\"task-widget\"><div class=\"task-widget-header item-header\"><h2>Count odds</h2></div><iron-collapse role=\"group\" aria-hidden=\"true\" aria-expanded=\"false\" class=\"task-widget-inner\" style=\"transition-property: max-height; transition-duration: 0s; max-height: 0px;\"><div class=\"task-widget-content item-content\"><div class=\"widget-info\">This task uses the general counting function defiend in this notebook to create a modality of counting odds.</div><form is=\"iron-form\" class=\"task-widget-form\"><div class=\"widget-form-panel\"><div class=\"field-group field-required_args-group\"><div class=\"item-header\"><h3>Input</h3></div><iron-collapse role=\"group\" aria-hidden=\"true\" aria-expanded=\"false\" class=\"\" style=\"transition-property: max-height; transition-duration: 0s; max-height: 0px;\"><div class=\"field-group-content item-content\"><div class=\"input-parent\"><paper-input tabindex=\"0\" aria-disabled=\"false\" label=\"Label for min_n\" name=\"required_args\" value=\"1\" auto-validate=\"\" error-message=\"Required!\" required=\"required\"></paper-input><paper-icon-button role=\"button\" tabindex=\"0\" aria-disabled=\"false\" icon=\"info\" class=\"info-toggle\"></paper-icon-button></div><iron-collapse role=\"group\" aria-hidden=\"true\" aria-expanded=\"false\" class=\"\" style=\"transition-property: max-height; transition-duration: 0s; max-height: 0px;\"><div class=\"item-content\">Start Number</div></iron-collapse><div class=\"input-parent\"><paper-input tabindex=\"0\" aria-disabled=\"false\" label=\"Label for max_n\" name=\"required_args\" value=\"10\" auto-validate=\"\" error-message=\"Required!\" required=\"required\"></paper-input><paper-icon-button role=\"button\" tabindex=\"0\" aria-disabled=\"false\" icon=\"info\" class=\"info-toggle\"></paper-icon-button></div><iron-collapse role=\"group\" aria-hidden=\"true\" aria-expanded=\"false\" class=\"\" style=\"transition-property: max-height; transition-duration: 0s; max-height: 0px;\"><div class=\"item-content\">End Number</div></iron-collapse></div></iron-collapse></div><div class=\"field-group field-optional_args-group\"><div class=\"item-header\"><h3>Optional Input</h3></div><iron-collapse role=\"group\" aria-hidden=\"true\" aria-expanded=\"false\" class=\"\" style=\"transition-property: max-height; transition-duration: 0s; max-height: 0px;\"><div class=\"field-group-content item-content\"><div class=\"input-parent\"><paper-input tabindex=\"0\" aria-disabled=\"false\" label=\"Label for by\" name=\"optional_args\" value=\"2\"></paper-input><paper-icon-button role=\"button\" tabindex=\"0\" aria-disabled=\"false\" icon=\"info\" class=\"info-toggle\"></paper-icon-button></div><iron-collapse role=\"group\" aria-hidden=\"true\" aria-expanded=\"false\" class=\"\" style=\"transition-property: max-height; transition-duration: 0s; max-height: 0px;\"><div class=\"item-content\">By</div></iron-collapse></div></iron-collapse></div></div><button class=\"form-submit-button-wrapper\"><paper-button role=\"button\" tabindex=\"0\" animated=\"\" aria-disabled=\"false\" elevation=\"1\" class=\"form-submit-button\" raised=\"\">run<iron-icon icon=\"assessment\"></iron-icon></paper-button></button></form></div></iron-collapse></paper-material>\n",
    "<!--{\"Count odds\":{\"description\":\"This task uses the general counting function defiend in this notebook to create a modality of counting odds.\",\"library_path\":\"\",\"library_name\":\"__main__\",\"function_name\":\"a_function_in_a_notebook\",\"required_args\":[{\"label\":\"Label for min_n\",\"description\":\"Start Number\",\"name\":\"min_n\",\"value\":\"1\"},{\"label\":\"Label for max_n\",\"description\":\"End Number\",\"name\":\"max_n\",\"value\":\"10\"}],\"default_args\":[],\"optional_args\":[{\"label\":\"Label for by\",\"description\":\"By\",\"name\":\"by\",\"value\":\"2\"}],\"returns\":[]}}-->"
   ]
  },
  {
   "cell_type": "code",
   "execution_count": null,
   "metadata": {
    "collapsed": false
   },
   "outputs": [],
   "source": [
    "%%HTML\n",
    "<!--!AUTO_EXEC-->\n",
    "<paper-material elevation=\"1\" class=\"task-widget\"><div class=\"task-widget-header item-header\"><h2>Count evens</h2></div><iron-collapse role=\"group\" aria-hidden=\"true\" aria-expanded=\"false\" class=\"task-widget-inner\" style=\"transition-property: max-height; transition-duration: 0s; max-height: 0px;\"><div class=\"task-widget-content item-content\"><div class=\"widget-info\">This task uses the general counting function defiend in this notebook to create a modality of counting evens.</div><form is=\"iron-form\" class=\"task-widget-form\"><div class=\"widget-form-panel\"><div class=\"field-group field-required_args-group\"><div class=\"item-header\"><h3>Input</h3></div><iron-collapse role=\"group\" aria-hidden=\"true\" aria-expanded=\"false\" class=\"\" style=\"transition-property: max-height; transition-duration: 0s; max-height: 0px;\"><div class=\"field-group-content item-content\"><div class=\"input-parent\"><paper-input tabindex=\"0\" aria-disabled=\"false\" label=\"Label for min_n\" name=\"required_args\" value=\"0\" auto-validate=\"\" error-message=\"Required!\" required=\"required\"></paper-input><paper-icon-button role=\"button\" tabindex=\"0\" aria-disabled=\"false\" icon=\"info\" class=\"info-toggle\"></paper-icon-button></div><iron-collapse role=\"group\" aria-hidden=\"true\" aria-expanded=\"false\" class=\"\" style=\"transition-property: max-height; transition-duration: 0s; max-height: 0px;\"><div class=\"item-content\"></div></iron-collapse><div class=\"input-parent\"><paper-input tabindex=\"0\" aria-disabled=\"false\" label=\"Label for max_n\" name=\"required_args\" value=\"10\" auto-validate=\"\" error-message=\"Required!\" required=\"required\"></paper-input><paper-icon-button role=\"button\" tabindex=\"0\" aria-disabled=\"false\" icon=\"info\" class=\"info-toggle\"></paper-icon-button></div><iron-collapse role=\"group\" aria-hidden=\"true\" aria-expanded=\"false\" class=\"\" style=\"transition-property: max-height; transition-duration: 0s; max-height: 0px;\"><div class=\"item-content\"></div></iron-collapse></div></iron-collapse></div><div class=\"field-group field-optional_args-group\"><div class=\"item-header\"><h3>Optional Input</h3></div><iron-collapse role=\"group\" aria-hidden=\"true\" aria-expanded=\"false\" class=\"\" style=\"transition-property: max-height; transition-duration: 0s; max-height: 0px;\"><div class=\"field-group-content item-content\"><div class=\"input-parent\"><paper-input tabindex=\"0\" aria-disabled=\"false\" label=\"Label for by\" name=\"optional_args\" value=\"2\"></paper-input><paper-icon-button role=\"button\" tabindex=\"0\" aria-disabled=\"false\" icon=\"info\" class=\"info-toggle\"></paper-icon-button></div><iron-collapse role=\"group\" aria-hidden=\"true\" aria-expanded=\"false\" class=\"\" style=\"transition-property: max-height; transition-duration: 0s; max-height: 0px;\"><div class=\"item-content\"></div></iron-collapse></div></iron-collapse></div></div><button class=\"form-submit-button-wrapper\"><paper-button role=\"button\" tabindex=\"0\" animated=\"\" aria-disabled=\"false\" elevation=\"1\" class=\"form-submit-button\" raised=\"\">run<iron-icon icon=\"assessment\"></iron-icon></paper-button></button></form></div></iron-collapse></paper-material>\n",
    "<!--{\"Count evens\":{\"description\":\"This task uses the general counting function defiend in this notebook to create a modality of counting evens.\",\"library_path\":\"\",\"library_name\":\"__main__\",\"function_name\":\"a_function_in_a_notebook\",\"required_args\":[{\"label\":\"Label for min_n\",\"description\":\"\",\"name\":\"min_n\",\"value\":\"0\"},{\"label\":\"Label for max_n\",\"description\":\"\",\"name\":\"max_n\",\"value\":\"10\"}],\"default_args\":[],\"optional_args\":[{\"label\":\"Label for by\",\"description\":\"\",\"name\":\"by\",\"value\":\"2\"}],\"returns\":[]}}-->"
   ]
  },
  {
   "cell_type": "code",
   "execution_count": null,
   "metadata": {
    "collapsed": false
   },
   "outputs": [],
   "source": [
    "from a_library.a_file import a_function_in_a_file"
   ]
  },
  {
   "cell_type": "code",
   "execution_count": null,
   "metadata": {
    "collapsed": false
   },
   "outputs": [],
   "source": [
    "# Modality 1\n",
    "a_function_in_a_file(\n",
    "    1,  # Required Arg 1\n",
    "    2,  # Reuired Arg 2\n",
    ")"
   ]
  },
  {
   "cell_type": "code",
   "execution_count": null,
   "metadata": {
    "collapsed": false,
    "scrolled": false
   },
   "outputs": [],
   "source": [
    "# m = Manager(True)\n",
    "# m.update_globals(globals())\n",
    "# t = m.get_task(notebook_cell_text=In[7])\n",
    "# m.code_task(t)"
   ]
  }
 ],
 "metadata": {
  "anaconda-cloud": {},
  "kernelspec": {
   "display_name": "Python 3",
   "language": "python",
   "name": "python3"
  },
  "language_info": {
   "codemirror_mode": {
    "name": "ipython",
    "version": 3
   },
   "file_extension": ".py",
   "mimetype": "text/x-python",
   "name": "python",
   "nbconvert_exporter": "python",
   "pygments_lexer": "ipython3",
   "version": "3.6.0"
  }
 },
 "nbformat": 4,
 "nbformat_minor": 1
}
