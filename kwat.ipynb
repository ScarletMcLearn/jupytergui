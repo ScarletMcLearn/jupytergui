{
 "cells": [
  {
   "cell_type": "code",
   "execution_count": 1,
   "metadata": {
    "ExecuteTime": {
     "end_time": "2016-11-09T12:10:37.583879",
     "start_time": "2016-11-09T12:10:37.581393"
    },
    "collapsed": false
   },
   "outputs": [],
   "source": [
    "import os\n",
    "import sys\n",
    "import json"
   ]
  },
  {
   "cell_type": "markdown",
   "metadata": {},
   "source": [
    "## Write .json"
   ]
  },
  {
   "cell_type": "code",
   "execution_count": 2,
   "metadata": {
    "ExecuteTime": {
     "end_time": "2016-11-09T12:10:38.433272",
     "start_time": "2016-11-09T12:10:38.419012"
    },
    "collapsed": false
   },
   "outputs": [],
   "source": [
    "_dict = {}\n",
    "\n",
    "_dict['alias'] = 'Define Components'\n",
    "\n",
    "# TODO: set up importing syntax\n",
    "_dict['filepath'] = './ccal'\n",
    "_dict['library_name'] = 'ccal'\n",
    "_dict['function_name'] = 'define_components'\n",
    "\n",
    "# TODO: make data_type universally understandable\n",
    "_dict['required_args'] = [{\n",
    "    'label': 'Expression Matrix to be Decomposed',\n",
    "    'arg_name': 'matrix',\n",
    "    'data_type': ['DataFrame', 'str'],\n",
    "    'description':\n",
    "    'This is an argument description for Expression Matrix to be Decomposed.'\n",
    "}, {\n",
    "    'label': 'Numbers of Components',\n",
    "    'arg_name': 'ks',\n",
    "    'data_type': ['list'],\n",
    "    'description': 'This is an argument description for Number of Components.'\n",
    "}]\n",
    "\n",
    "_dict['optional_args'] = []\n",
    "_dict['return'] = [{\n",
    "    'NMF Result Dictionary': {\n",
    "        'data_type': 'dict',\n",
    "        'description:':\n",
    "        'This is the description for the returned NMF Result Dictionary.'\n",
    "    }\n",
    "}, {\n",
    "    'Cophenetic Correlation Coefficients': {\n",
    "        'data_type': 'dict',\n",
    "        'description':\n",
    "        'This is the description for the returned Cophentic Correlation Coefficients.'\n",
    "    }\n",
    "}]\n",
    "\n",
    "json_filepath = '/Users/ckmah/Desktop/test.json'\n",
    "\n",
    "with open(json_filepath, 'w') as f:\n",
    "    json.dump(_dict, f, indent=4, sort_keys=True)"
   ]
  },
  {
   "cell_type": "markdown",
   "metadata": {},
   "source": [
    "## Read .json"
   ]
  },
  {
   "cell_type": "code",
   "execution_count": 3,
   "metadata": {
    "ExecuteTime": {
     "end_time": "2016-11-09T12:10:39.254941",
     "start_time": "2016-11-09T12:10:39.250494"
    },
    "collapsed": false
   },
   "outputs": [],
   "source": [
    "with open(json_filepath, 'r') as f:\n",
    "    read_dict = json.load(f)"
   ]
  },
  {
   "cell_type": "markdown",
   "metadata": {},
   "source": [
    "## Execute .json function"
   ]
  },
  {
   "cell_type": "code",
   "execution_count": 4,
   "metadata": {
    "ExecuteTime": {
     "end_time": "2016-11-09T12:10:40.596051",
     "start_time": "2016-11-09T12:10:40.586284"
    },
    "collapsed": false
   },
   "outputs": [
    {
     "data": {
      "text/plain": [
       "'./ccal'"
      ]
     },
     "execution_count": 4,
     "metadata": {},
     "output_type": "execute_result"
    }
   ],
   "source": [
    "filepath = read_dict['filepath']\n",
    "filepath"
   ]
  },
  {
   "cell_type": "code",
   "execution_count": 5,
   "metadata": {
    "ExecuteTime": {
     "end_time": "2016-11-09T12:10:41.293894",
     "start_time": "2016-11-09T12:10:41.290224"
    },
    "collapsed": false
   },
   "outputs": [
    {
     "data": {
      "text/plain": [
       "'ccal'"
      ]
     },
     "execution_count": 5,
     "metadata": {},
     "output_type": "execute_result"
    }
   ],
   "source": [
    "library_name = read_dict['library_name']\n",
    "library_name"
   ]
  },
  {
   "cell_type": "code",
   "execution_count": 6,
   "metadata": {
    "ExecuteTime": {
     "end_time": "2016-11-09T12:10:42.076395",
     "start_time": "2016-11-09T12:10:42.072827"
    },
    "collapsed": false
   },
   "outputs": [
    {
     "data": {
      "text/plain": [
       "'define_components'"
      ]
     },
     "execution_count": 6,
     "metadata": {},
     "output_type": "execute_result"
    }
   ],
   "source": [
    "function_name = read_dict['function_name']\n",
    "function_name"
   ]
  },
  {
   "cell_type": "code",
   "execution_count": null,
   "metadata": {
    "collapsed": true
   },
   "outputs": [],
   "source": [
    "ccal.support.fx([111111], [11111111])"
   ]
  },
  {
   "cell_type": "code",
   "execution_count": 7,
   "metadata": {
    "ExecuteTime": {
     "end_time": "2016-11-09T12:10:43.554936",
     "start_time": "2016-11-09T12:10:43.467340"
    },
    "collapsed": false
   },
   "outputs": [
    {
     "ename": "ImportError",
     "evalue": "No module named 'ccal'",
     "output_type": "error",
     "traceback": [
      "\u001b[0;31m-------------------------------------------------\u001b[0m",
      "\u001b[0;31mImportError\u001b[0m     Traceback (most recent call last)",
      "\u001b[0;32m<ipython-input-7-80564c1a2dfe>\u001b[0m in \u001b[0;36m<module>\u001b[0;34m()\u001b[0m\n\u001b[1;32m      1\u001b[0m \u001b[0msys\u001b[0m\u001b[0;34m.\u001b[0m\u001b[0mpath\u001b[0m\u001b[0;34m.\u001b[0m\u001b[0minsert\u001b[0m\u001b[0;34m(\u001b[0m\u001b[0;36m0\u001b[0m\u001b[0;34m,\u001b[0m \u001b[0mfilepath\u001b[0m\u001b[0;34m)\u001b[0m\u001b[0;34m\u001b[0m\u001b[0m\n\u001b[0;32m----> 2\u001b[0;31m \u001b[0mexec\u001b[0m\u001b[0;34m(\u001b[0m\u001b[0;34m'from {} import {} as function'\u001b[0m\u001b[0;34m.\u001b[0m\u001b[0mformat\u001b[0m\u001b[0;34m(\u001b[0m\u001b[0mlibrary_name\u001b[0m\u001b[0;34m,\u001b[0m \u001b[0mfunction_name\u001b[0m\u001b[0;34m)\u001b[0m\u001b[0;34m)\u001b[0m\u001b[0;34m\u001b[0m\u001b[0m\n\u001b[0m",
      "\u001b[0;32m<string>\u001b[0m in \u001b[0;36m<module>\u001b[0;34m()\u001b[0m\n",
      "\u001b[0;31mImportError\u001b[0m: No module named 'ccal'"
     ]
    }
   ],
   "source": [
    "sys.path.insert(0, filepath)\n",
    "exec('from {} import {} as function'.format(library_name, function_name))"
   ]
  },
  {
   "cell_type": "code",
   "execution_count": 9,
   "metadata": {
    "collapsed": false
   },
   "outputs": [
    {
     "data": {
      "text/plain": [
       "<function ccal.oncogps.define_components>"
      ]
     },
     "execution_count": 9,
     "metadata": {},
     "output_type": "execute_result"
    }
   ],
   "source": [
    "function()"
   ]
  },
  {
   "cell_type": "code",
   "execution_count": 10,
   "metadata": {
    "collapsed": true
   },
   "outputs": [],
   "source": [
    "import pandas as pd"
   ]
  },
  {
   "cell_type": "code",
   "execution_count": 11,
   "metadata": {
    "collapsed": true
   },
   "outputs": [],
   "source": [
    "foo = pd.DataFrame()"
   ]
  },
  {
   "cell_type": "code",
   "execution_count": 14,
   "metadata": {
    "collapsed": true
   },
   "outputs": [],
   "source": [
    "ks = range(1,11)"
   ]
  },
  {
   "cell_type": "code",
   "execution_count": null,
   "metadata": {
    "collapsed": true
   },
   "outputs": [],
   "source": [
    "function(foo, bar)"
   ]
  }
 ],
 "metadata": {
  "anaconda-cloud": {},
  "kernelspec": {
   "display_name": "Python [default]",
   "language": "python",
   "name": "python3"
  },
  "language_info": {
   "codemirror_mode": {
    "name": "ipython",
    "version": 3
   },
   "file_extension": ".py",
   "mimetype": "text/x-python",
   "name": "python",
   "nbconvert_exporter": "python",
   "pygments_lexer": "ipython3",
   "version": "3.5.2"
  }
 },
 "nbformat": 4,
 "nbformat_minor": 1
}
