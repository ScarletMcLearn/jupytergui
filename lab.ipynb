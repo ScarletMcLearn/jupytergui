{
 "cells": [
  {
   "cell_type": "code",
   "execution_count": 1,
   "metadata": {
    "collapsed": false
   },
   "outputs": [],
   "source": [
    "import pprint\n",
    "import sys\n",
    "sys.path.insert(0, 'simpli')\n",
    "import simpli"
   ]
  },
  {
   "cell_type": "code",
   "execution_count": 2,
   "metadata": {
    "collapsed": false
   },
   "outputs": [
    {
     "name": "stdout",
     "output_type": "stream",
     "text": [
      "Loading tasks from /home/cyborg/.Simpli/json/default_tasks.json ...\n"
     ]
    }
   ],
   "source": [
    "mgr = simpli.Manager()\n",
    "mgr.load_tasks_from_jsons()"
   ]
  },
  {
   "cell_type": "code",
   "execution_count": 3,
   "metadata": {
    "collapsed": false
   },
   "outputs": [
    {
     "name": "stdout",
     "output_type": "stream",
     "text": [
      "{'default_args': [],\n",
      " 'description': 'No description.',\n",
      " 'function_name': 'just_return',\n",
      " 'library_name': 'simpli.default_tasks',\n",
      " 'library_path': 'simpli',\n",
      " 'optional_args': [],\n",
      " 'required_args': [{'description': 'No description.',\n",
      "                    'label': 'item',\n",
      "                    'name': 'item',\n",
      "                    'value': ''}],\n",
      " 'returns': [{'description': 'No description.', 'label': 'Value'}]}\n"
     ]
    }
   ],
   "source": [
    "pprint.pprint(mgr.tasks['Assign'])"
   ]
  },
  {
   "cell_type": "code",
   "execution_count": 4,
   "metadata": {
    "collapsed": false
   },
   "outputs": [],
   "source": [
    "def get_jupyter_notebook_input(jupyter_notebook_filepath, cell_index):\n",
    "    from nbformat import read\n",
    "    # TODO: save before\n",
    "    return read(jupyter_notebook_filepath, 4).cells[3].source"
   ]
  },
  {
   "cell_type": "code",
   "execution_count": 5,
   "metadata": {
    "collapsed": false
   },
   "outputs": [],
   "source": [
    "a = mgr.get_task('Assign')"
   ]
  },
  {
   "cell_type": "code",
   "execution_count": 19,
   "metadata": {
    "collapsed": false
   },
   "outputs": [
    {
     "data": {
      "text/plain": [
       "'{\"Slice DataFrame by Column\": {\"description\": \"No description.\", \"default_args\": [{\"name\": \"ax\", \"description\": \"No description.\", \"value\": \"1\", \"label\": \"Ax\"}], \"function_name\": \"slice_dataframe\", \"returns\": [{\"description\": \"No description.\", \"label\": \"Sliced DataFrame\"}], \"library_name\": \"simpli.default_tasks\", \"library_path\": \"simpli\", \"optional_args\": [], \"required_args\": [{\"name\": \"dataframe\", \"description\": \"No description.\", \"value\": \"\", \"label\": \"DataFrame\"}, {\"name\": \"indices\", \"description\": \"No description.\", \"value\": \"\", \"label\": \"Column index(ices)\"}]}, \"Reset JSONs\": {\"description\": \"No description.\", \"default_args\": [], \"function_name\": \"json\", \"returns\": [], \"library_name\": \"simpli.default_tasks.reset_simpli.default_tasks\", \"library_path\": \"simpli\", \"optional_args\": [], \"required_args\": []}, \"Slice DataFrame by Row\": {\"description\": \"Return a subset of rows of a given DataFrame object.\", \"default_args\": [{\"name\": \"ax\", \"description\": \"No description.\", \"value\": \"0\", \"label\": \"Ax\"}], \"function_name\": \"slice_dataframe\", \"returns\": [{\"description\": \"A slice of the DataFrame including the specified rows.\", \"label\": \"Sliced DataFrame\"}], \"library_name\": \"simpli.default_tasks\", \"library_path\": \"simpli\", \"optional_args\": [], \"required_args\": [{\"name\": \"dataframe\", \"description\": \"Target dataframe object.\", \"value\": \"\", \"label\": \"DataFrame\"}, {\"name\": \"indices\", \"description\": \"An integer or list of integers separated by commas of the rows to slice. Note that indices are 0 based.\", \"value\": \"\", \"label\": \"Row index/indices\"}]}, \"AsAAAAAAAAAAAAAAAAAA\": {\"description\": \"NEWWWWWWWWWWWWWWWWWWWWWWWWWWWWWWWWWWWWWW\", \"default_args\": [], \"function_name\": \"just_return\", \"returns\": [{\"description\": \"No description.\", \"label\": \"Value\"}], \"library_name\": \"simpli.default_tasks\", \"library_path\": \"simpli\", \"optional_args\": [], \"required_args\": [{\"name\": \"item\", \"description\": \"No description.\", \"value\": \"\", \"label\": \"item\"}]}, \"Link YouTube Video\": {\"description\": \"No description.\", \"default_args\": [], \"function_name\": \"youtube\", \"returns\": [], \"library_name\": \"simpli.default_tasks\", \"library_path\": \"simpli\", \"optional_args\": [], \"required_args\": [{\"name\": \"url\", \"description\": \"No description.\", \"value\": \"\", \"label\": \"YouTube Video URL\"}]}, \"Set Jupyter Notebook Theme\": {\"description\": \"No description.\", \"default_args\": [], \"function_name\": \"set_theme\", \"returns\": [], \"library_name\": \"simpli.default_tasks\", \"library_path\": \"simpli\", \"optional_args\": [], \"required_args\": [{\"name\": \"filepath\", \"description\": \"No description.\", \"value\": \"\", \"label\": \".CSS file\"}]}, \"Assign\": {\"description\": \"NEWWWWWWWWWWWWWWWWWWWWWWWWWWWWWWWWWWWWWW\", \"default_args\": [], \"function_name\": \"just_return\", \"returns\": [{\"description\": \"No description.\", \"label\": \"Value\"}], \"library_name\": \"simpli.default_tasks\", \"library_path\": \"simpli\", \"optional_args\": [], \"required_args\": [{\"name\": \"item\", \"description\": \"No description.\", \"value\": \"\", \"label\": \"item\"}]}, \"Link JSON\": {\"description\": \"No description.\", \"default_args\": [], \"function_name\": \"link_simpli_json\", \"returns\": [], \"library_name\": \"simpli.default_tasks\", \"library_path\": \"simpli\", \"optional_args\": [], \"required_args\": [{\"name\": \"filepath\", \"description\": \"No description.\", \"value\": \"\", \"label\": \"Simpli .json to be linked\"}]}}'"
      ]
     },
     "execution_count": 19,
     "metadata": {},
     "output_type": "execute_result"
    }
   ],
   "source": [
    "import json\n",
    "json.dumps(mgr.tasks)"
   ]
  },
  {
   "cell_type": "code",
   "execution_count": null,
   "metadata": {
    "collapsed": true
   },
   "outputs": [],
   "source": []
  }
 ],
 "metadata": {
  "kernelspec": {
   "display_name": "Python 3",
   "language": "python",
   "name": "python3"
  },
  "language_info": {
   "codemirror_mode": {
    "name": "ipython",
    "version": 3
   },
   "file_extension": ".py",
   "mimetype": "text/x-python",
   "name": "python",
   "nbconvert_exporter": "python",
   "pygments_lexer": "ipython3",
   "version": "3.5.2"
  }
 },
 "nbformat": 4,
 "nbformat_minor": 1
}
