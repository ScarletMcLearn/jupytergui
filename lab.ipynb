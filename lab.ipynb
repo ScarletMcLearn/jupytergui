{
 "cells": [
  {
   "cell_type": "code",
   "execution_count": 1,
   "metadata": {
    "collapsed": false
   },
   "outputs": [],
   "source": [
    "import pprint\n",
    "import sys\n",
    "sys.path.insert(0, 'simpli')\n",
    "import simpli"
   ]
  },
  {
   "cell_type": "code",
   "execution_count": 2,
   "metadata": {
    "collapsed": false
   },
   "outputs": [
    {
     "name": "stdout",
     "output_type": "stream",
     "text": [
      "Getter (tasks)\n",
      "Loading tasks from /home/cyborg/.Simpli/json/default_tasks.json ...\n"
     ]
    }
   ],
   "source": [
    "mgr = simpli.Manager()\n",
    "mgr.load_tasks_from_jsons()"
   ]
  },
  {
   "cell_type": "code",
   "execution_count": 3,
   "metadata": {
    "collapsed": false
   },
   "outputs": [],
   "source": [
    "# pprint.pprint(mgr.tasks)"
   ]
  },
  {
   "cell_type": "code",
   "execution_count": 4,
   "metadata": {
    "collapsed": false
   },
   "outputs": [],
   "source": [
    "def get_jupyter_notebook_input(jupyter_notebook_filepath, cell_index):\n",
    "    from nbformat import read\n",
    "    # TODO: save before\n",
    "    return read(jupyter_notebook_filepath, 4).cells[3].source"
   ]
  },
  {
   "cell_type": "code",
   "execution_count": 5,
   "metadata": {
    "collapsed": false
   },
   "outputs": [
    {
     "name": "stdout",
     "output_type": "stream",
     "text": [
      "Getter (tasks)\n"
     ]
    },
    {
     "data": {
      "text/plain": [
       "{'Assign': {'default_args': [],\n",
       "  'description': 'No description.',\n",
       "  'function_name': 'just_return',\n",
       "  'library_name': 'simpli.default_tasks',\n",
       "  'library_path': 'simpli',\n",
       "  'optional_args': [],\n",
       "  'required_args': [{'description': 'No description.',\n",
       "    'label': 'item',\n",
       "    'name': 'item',\n",
       "    'value': ''}],\n",
       "  'returns': [{'description': 'No description.', 'label': 'Value'}]},\n",
       " 'Link JSON': {'default_args': [],\n",
       "  'description': 'No description.',\n",
       "  'function_name': 'link_simpli_json',\n",
       "  'library_name': 'simpli.default_tasks',\n",
       "  'library_path': 'simpli',\n",
       "  'optional_args': [],\n",
       "  'required_args': [{'description': 'No description.',\n",
       "    'label': 'Simpli .json to be linked',\n",
       "    'name': 'filepath',\n",
       "    'value': ''}],\n",
       "  'returns': []},\n",
       " 'Link YouTube Video': {'default_args': [],\n",
       "  'description': 'No description.',\n",
       "  'function_name': 'youtube',\n",
       "  'library_name': 'simpli.default_tasks',\n",
       "  'library_path': 'simpli',\n",
       "  'optional_args': [],\n",
       "  'required_args': [{'description': 'No description.',\n",
       "    'label': 'YouTube Video URL',\n",
       "    'name': 'url',\n",
       "    'value': ''}],\n",
       "  'returns': []},\n",
       " 'Reset JSONs': {'default_args': [],\n",
       "  'description': 'No description.',\n",
       "  'function_name': 'json',\n",
       "  'library_name': 'simpli.default_tasks.reset_simpli.default_tasks',\n",
       "  'library_path': 'simpli',\n",
       "  'optional_args': [],\n",
       "  'required_args': [],\n",
       "  'returns': []},\n",
       " 'Set Jupyter Notebook Theme': {'default_args': [],\n",
       "  'description': 'No description.',\n",
       "  'function_name': 'set_theme',\n",
       "  'library_name': 'simpli.default_tasks',\n",
       "  'library_path': 'simpli',\n",
       "  'optional_args': [],\n",
       "  'required_args': [{'description': 'No description.',\n",
       "    'label': '.CSS file',\n",
       "    'name': 'filepath',\n",
       "    'value': ''}],\n",
       "  'returns': []},\n",
       " 'Slice DataFrame by Column': {'default_args': [{'description': 'No description.',\n",
       "    'label': 'Ax',\n",
       "    'name': 'ax',\n",
       "    'value': '1'}],\n",
       "  'description': 'No description.',\n",
       "  'function_name': 'slice_dataframe',\n",
       "  'library_name': 'simpli.default_tasks',\n",
       "  'library_path': 'simpli',\n",
       "  'optional_args': [],\n",
       "  'required_args': [{'description': 'No description.',\n",
       "    'label': 'DataFrame',\n",
       "    'name': 'dataframe',\n",
       "    'value': ''},\n",
       "   {'description': 'No description.',\n",
       "    'label': 'Column index(ices)',\n",
       "    'name': 'indices',\n",
       "    'value': ''}],\n",
       "  'returns': [{'description': 'No description.',\n",
       "    'label': 'Sliced DataFrame'}]},\n",
       " 'Slice DataFrame by Row': {'default_args': [{'description': 'No description.',\n",
       "    'label': 'Ax',\n",
       "    'name': 'ax',\n",
       "    'value': '0'}],\n",
       "  'description': 'Return a subset of rows of a given DataFrame object.',\n",
       "  'function_name': 'slice_dataframe',\n",
       "  'library_name': 'simpli.default_tasks',\n",
       "  'library_path': 'simpli',\n",
       "  'optional_args': [],\n",
       "  'required_args': [{'description': 'Target dataframe object.',\n",
       "    'label': 'DataFrame',\n",
       "    'name': 'dataframe',\n",
       "    'value': ''},\n",
       "   {'description': 'An integer or list of integers separated by commas of the rows to slice. Note that indices are 0 based.',\n",
       "    'label': 'Row index/indices',\n",
       "    'name': 'indices',\n",
       "    'value': ''}],\n",
       "  'returns': [{'description': 'A slice of the DataFrame including the specified rows.',\n",
       "    'label': 'Sliced DataFrame'}]}}"
      ]
     },
     "execution_count": 5,
     "metadata": {},
     "output_type": "execute_result"
    }
   ],
   "source": [
    "mgr.tasks"
   ]
  },
  {
   "cell_type": "code",
   "execution_count": 6,
   "metadata": {
    "collapsed": false
   },
   "outputs": [
    {
     "name": "stdout",
     "output_type": "stream",
     "text": [
      "Getter (tasks)\n"
     ]
    },
    {
     "data": {
      "text/plain": [
       "{'Assign': {'default_args': [],\n",
       "  'description': 'No description.',\n",
       "  'function_name': 'just_return',\n",
       "  'library_name': 'simpli.default_tasks',\n",
       "  'library_path': 'simpli',\n",
       "  'optional_args': [],\n",
       "  'required_args': [{'description': 'No description.',\n",
       "    'label': 'item',\n",
       "    'name': 'item',\n",
       "    'value': ''}],\n",
       "  'returns': [{'description': 'No description.', 'label': 'Value'}]},\n",
       " 'Link JSON': {'default_args': [],\n",
       "  'description': 'No description.',\n",
       "  'function_name': 'link_simpli_json',\n",
       "  'library_name': 'simpli.default_tasks',\n",
       "  'library_path': 'simpli',\n",
       "  'optional_args': [],\n",
       "  'required_args': [{'description': 'No description.',\n",
       "    'label': 'Simpli .json to be linked',\n",
       "    'name': 'filepath',\n",
       "    'value': ''}],\n",
       "  'returns': []},\n",
       " 'Link YouTube Video': {'default_args': [],\n",
       "  'description': 'No description.',\n",
       "  'function_name': 'youtube',\n",
       "  'library_name': 'simpli.default_tasks',\n",
       "  'library_path': 'simpli',\n",
       "  'optional_args': [],\n",
       "  'required_args': [{'description': 'No description.',\n",
       "    'label': 'YouTube Video URL',\n",
       "    'name': 'url',\n",
       "    'value': ''}],\n",
       "  'returns': []},\n",
       " 'Reset JSONs': {'default_args': [],\n",
       "  'description': 'No description.',\n",
       "  'function_name': 'json',\n",
       "  'library_name': 'simpli.default_tasks.reset_simpli.default_tasks',\n",
       "  'library_path': 'simpli',\n",
       "  'optional_args': [],\n",
       "  'required_args': [],\n",
       "  'returns': []},\n",
       " 'Set Jupyter Notebook Theme': {'default_args': [],\n",
       "  'description': 'No description.',\n",
       "  'function_name': 'set_theme',\n",
       "  'library_name': 'simpli.default_tasks',\n",
       "  'library_path': 'simpli',\n",
       "  'optional_args': [],\n",
       "  'required_args': [{'description': 'No description.',\n",
       "    'label': '.CSS file',\n",
       "    'name': 'filepath',\n",
       "    'value': ''}],\n",
       "  'returns': []},\n",
       " 'Slice DataFrame by Column': {'default_args': [{'description': 'No description.',\n",
       "    'label': 'Ax',\n",
       "    'name': 'ax',\n",
       "    'value': '1'}],\n",
       "  'description': 'No description.',\n",
       "  'function_name': 'slice_dataframe',\n",
       "  'library_name': 'simpli.default_tasks',\n",
       "  'library_path': 'simpli',\n",
       "  'optional_args': [],\n",
       "  'required_args': [{'description': 'No description.',\n",
       "    'label': 'DataFrame',\n",
       "    'name': 'dataframe',\n",
       "    'value': ''},\n",
       "   {'description': 'No description.',\n",
       "    'label': 'Column index(ices)',\n",
       "    'name': 'indices',\n",
       "    'value': ''}],\n",
       "  'returns': [{'description': 'No description.',\n",
       "    'label': 'Sliced DataFrame'}]},\n",
       " 'Slice DataFrame by Row': {'default_args': [{'description': 'No description.',\n",
       "    'label': 'Ax',\n",
       "    'name': 'ax',\n",
       "    'value': '0'}],\n",
       "  'description': 'Return a subset of rows of a given DataFrame object.',\n",
       "  'function_name': 'slice_dataframe',\n",
       "  'library_name': 'simpli.default_tasks',\n",
       "  'library_path': 'simpli',\n",
       "  'optional_args': [],\n",
       "  'required_args': [{'description': 'Target dataframe object.',\n",
       "    'label': 'DataFrame',\n",
       "    'name': 'dataframe',\n",
       "    'value': ''},\n",
       "   {'description': 'An integer or list of integers separated by commas of the rows to slice. Note that indices are 0 based.',\n",
       "    'label': 'Row index/indices',\n",
       "    'name': 'indices',\n",
       "    'value': ''}],\n",
       "  'returns': [{'description': 'A slice of the DataFrame including the specified rows.',\n",
       "    'label': 'Sliced DataFrame'}]}}"
      ]
     },
     "execution_count": 6,
     "metadata": {},
     "output_type": "execute_result"
    }
   ],
   "source": [
    "\n",
    "mgr.get_tasks(return_type='dict')"
   ]
  },
  {
   "cell_type": "code",
   "execution_count": 7,
   "metadata": {
    "collapsed": false
   },
   "outputs": [
    {
     "name": "stdout",
     "output_type": "stream",
     "text": [
      "Getter (tasks)\n"
     ]
    },
    {
     "data": {
      "text/plain": [
       "{'default_args': [],\n",
       " 'description': 'No description.',\n",
       " 'function_name': 'just_return',\n",
       " 'library_name': 'simpli.default_tasks',\n",
       " 'library_path': 'simpli',\n",
       " 'optional_args': [],\n",
       " 'required_args': [{'description': 'No description.',\n",
       "   'label': 'item',\n",
       "   'name': 'item',\n",
       "   'value': ''}],\n",
       " 'returns': [{'description': 'No description.', 'label': 'Value'}]}"
      ]
     },
     "execution_count": 7,
     "metadata": {},
     "output_type": "execute_result"
    }
   ],
   "source": [
    "mgr.get_task('Assign')"
   ]
  },
  {
   "cell_type": "code",
   "execution_count": null,
   "metadata": {
    "collapsed": true
   },
   "outputs": [],
   "source": []
  }
 ],
 "metadata": {
  "kernelspec": {
   "display_name": "Python 3",
   "language": "python",
   "name": "python3"
  },
  "language_info": {
   "codemirror_mode": {
    "name": "ipython",
    "version": 3
   },
   "file_extension": ".py",
   "mimetype": "text/x-python",
   "name": "python",
   "nbconvert_exporter": "python",
   "pygments_lexer": "ipython3",
   "version": "3.5.2"
  }
 },
 "nbformat": 4,
 "nbformat_minor": 1
}
