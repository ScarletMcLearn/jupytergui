{
 "cells": [
  {
   "cell_type": "code",
   "execution_count": 1,
   "metadata": {
    "collapsed": false
   },
   "outputs": [],
   "source": [
    "import pprint\n",
    "import sys\n",
    "sys.path.insert(0, 'simpli')\n",
    "import simpli"
   ]
  },
  {
   "cell_type": "code",
   "execution_count": 2,
   "metadata": {
    "collapsed": false
   },
   "outputs": [
    {
     "name": "stdout",
     "output_type": "stream",
     "text": [
      "Loading task-specifying JSONs in directory /home/cyborg/.Simpli/json/ ...\n",
      "(Getting tasks ...)\n",
      "Loading a task-specifying JSON /home/cyborg/.Simpli/json/default_tasks.json ...\n"
     ]
    }
   ],
   "source": [
    "mgr = simpli.Manager()\n",
    "mgr.load_tasks_from_json_dir()"
   ]
  },
  {
   "cell_type": "code",
   "execution_count": 3,
   "metadata": {
    "collapsed": false
   },
   "outputs": [],
   "source": [
    "# pprint.pprint(mgr.tasks)"
   ]
  },
  {
   "cell_type": "code",
   "execution_count": 4,
   "metadata": {
    "collapsed": false
   },
   "outputs": [
    {
     "name": "stdout",
     "output_type": "stream",
     "text": [
      "Getting task Assign ...\n",
      "(Getting tasks ...)\n"
     ]
    }
   ],
   "source": [
    "task = mgr.get_task('Assign')"
   ]
  },
  {
   "cell_type": "code",
   "execution_count": 5,
   "metadata": {
    "collapsed": false
   },
   "outputs": [
    {
     "data": {
      "text/plain": [
       "{'Assign': {'default_args': [],\n",
       "  'description': 'No description.',\n",
       "  'function_name': 'just_return',\n",
       "  'library_name': 'simpli.default_tasks',\n",
       "  'library_path': 'simpli',\n",
       "  'optional_args': [],\n",
       "  'required_args': [{'description': 'No description',\n",
       "    'label': 'item',\n",
       "    'name': 'item',\n",
       "    'value': ''}],\n",
       "  'returns': [{'description': 'No description', 'label': 'Value'}]}}"
      ]
     },
     "execution_count": 5,
     "metadata": {},
     "output_type": "execute_result"
    }
   ],
   "source": [
    "task"
   ]
  },
  {
   "cell_type": "code",
   "execution_count": 6,
   "metadata": {
    "collapsed": false
   },
   "outputs": [
    {
     "data": {
      "text/plain": [
       "{'Assign': {'default_args': [],\n",
       "  'description': 'No description.',\n",
       "  'function_name': 'just_return',\n",
       "  'library_name': 'simpli.default_tasks',\n",
       "  'library_path': 'simpli',\n",
       "  'optional_args': [],\n",
       "  'required_args': [{'description': 'No description',\n",
       "    'label': 'item',\n",
       "    'name': 'item',\n",
       "    'value': ''}],\n",
       "  'returns': [{'description': 'No description',\n",
       "    'label': 'Value',\n",
       "    'value': 'return_name_0'}]}}"
      ]
     },
     "execution_count": 6,
     "metadata": {},
     "output_type": "execute_result"
    }
   ],
   "source": [
    "task_label = list(task.keys()).pop()\n",
    "\n",
    "for i, r in enumerate(task[task_label]['returns']):\n",
    "    r['value'] = 'return_name_{}'.format(i)\n",
    "\n",
    "task"
   ]
  },
  {
   "cell_type": "code",
   "execution_count": 7,
   "metadata": {
    "collapsed": false
   },
   "outputs": [
    {
     "name": "stdout",
     "output_type": "stream",
     "text": [
      "\tMerging and processing arguments ...\n",
      "(Getting namespace ...)\n",
      "(Getting namespace ...)\n",
      "\t\titem:  > '[]' (<class 'list'>)\n",
      "returns: ['return_name_0']\n",
      "Updating path, importing function, and executing task ...\n",
      "\tsys.path.insert(0, 'simpli')\n",
      "\tfrom simpli.default_tasks import just_return as function\n",
      "\tExecuting <function just_return at 0x7f0218f7a840> with:\n",
      "(Getting namespace ...)\n",
      "\t\titem = '[]' (<class 'list'>)\n",
      "(Getting namespace ...)\n",
      "(Getting namespace ...)\n",
      "self.namespace (after execution): {'return_name_0': []}\n"
     ]
    }
   ],
   "source": [
    "mgr.execute_task(task)"
   ]
  },
  {
   "cell_type": "code",
   "execution_count": null,
   "metadata": {
    "collapsed": true
   },
   "outputs": [],
   "source": []
  },
  {
   "cell_type": "code",
   "execution_count": 8,
   "metadata": {
    "collapsed": false
   },
   "outputs": [],
   "source": [
    "def get_jupyter_notebook_input(jupyter_notebook_filepath, cell_index):\n",
    "    from nbformat import read\n",
    "    # TODO: save before\n",
    "    return read(jupyter_notebook_filepath, 4).cells[3].source"
   ]
  }
 ],
 "metadata": {
  "kernelspec": {
   "display_name": "Python 3",
   "language": "python",
   "name": "python3"
  },
  "language_info": {
   "codemirror_mode": {
    "name": "ipython",
    "version": 3
   },
   "file_extension": ".py",
   "mimetype": "text/x-python",
   "name": "python",
   "nbconvert_exporter": "python",
   "pygments_lexer": "ipython3",
   "version": "3.5.2"
  }
 },
 "nbformat": 4,
 "nbformat_minor": 1
}
