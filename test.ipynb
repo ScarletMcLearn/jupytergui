{
 "cells": [
  {
   "cell_type": "code",
   "execution_count": 2,
   "metadata": {
    "collapsed": false
   },
   "outputs": [],
   "source": [
    "import sys\n",
    "# import inspect\n",
    "\n",
    "# import simpli\n",
    "\n",
    "# %load_ext autoreload\n",
    "# %autoreload 2"
   ]
  },
  {
   "cell_type": "code",
   "execution_count": 3,
   "metadata": {
    "collapsed": true
   },
   "outputs": [],
   "source": [
    "def a_function_in_a_notebook(min_n, max_n, by=1, prefix='Number'):\n",
    "    for n in range(min_n, max_n, by):\n",
    "        print('{} {}'.format(prefix, n))"
   ]
  },
  {
   "cell_type": "code",
   "execution_count": null,
   "metadata": {
    "collapsed": false
   },
   "outputs": [],
   "source": [
    "# Count odds\n",
    "a_function_in_a_notebook(1,\n",
    "                         10,\n",
    "                         2)"
   ]
  },
  {
   "cell_type": "code",
   "execution_count": null,
   "metadata": {
    "collapsed": false
   },
   "outputs": [],
   "source": [
    "# Count evens\n",
    "a_function_in_a_notebook(0,\n",
    "                         10,\n",
    "                         2)"
   ]
  },
  {
   "cell_type": "code",
   "execution_count": 10,
   "metadata": {
    "collapsed": false
   },
   "outputs": [],
   "source": [
    "sys.path.append('./demo_notebook_package/tools/')\n",
    "from a_library.a_file import a_function_in_a_file"
   ]
  },
  {
   "cell_type": "code",
   "execution_count": null,
   "metadata": {
    "collapsed": false
   },
   "outputs": [],
   "source": [
    "# A function in a file\n",
    "a_function_in_a_file(1,\n",
    "                     2)"
   ]
  },
  {
   "cell_type": "code",
   "execution_count": 15,
   "metadata": {
    "collapsed": false
   },
   "outputs": [],
   "source": [
    "sys.path.insert(0, '../ccal/')\n",
    "import ccal"
   ]
  },
  {
   "cell_type": "code",
   "execution_count": 18,
   "metadata": {
    "collapsed": false
   },
   "outputs": [
    {
     "data": {
      "text/html": [
       "<!--!AUTO_EXEC-->\n",
       "<paper-material elevation=\"1\" class=\"task-widget\"><div class=\"task-widget-header item-header\"><h2>Read GCT</h2></div><iron-collapse role=\"group\" aria-hidden=\"true\" aria-expanded=\"false\" class=\"task-widget-inner\" style=\"transition-property: max-height; transition-duration: 0s; max-height: 0px;\"><div class=\"task-widget-content item-content\"><div class=\"widget-info\">TODO: get from docstring</div><form is=\"iron-form\" class=\"task-widget-form\"><div class=\"widget-form-panel\"><div class=\"field-group field-required_args-group\"><div class=\"item-header\"><h3>Input</h3></div><iron-collapse role=\"group\" aria-hidden=\"true\" aria-expanded=\"false\" class=\"\" style=\"transition-property: max-height; transition-duration: 0s; max-height: 0px;\"><div class=\"field-group-content item-content\"><div class=\"input-parent\"><paper-input tabindex=\"0\" aria-disabled=\"false\" label=\"filepath\" name=\"required_args\" value=\"'/Users/kateme/Jumis/how_to_nbpackages/how_to_differential_gene_expression/data/kras_isogenic_vs_imortalized.gct'\" auto-validate=\"\" error-message=\"Required!\" required=\"required\"></paper-input><paper-icon-button role=\"button\" tabindex=\"0\" aria-disabled=\"false\" icon=\"info\" class=\"info-toggle\"></paper-icon-button></div><iron-collapse role=\"group\" aria-hidden=\"true\" aria-expanded=\"false\" class=\"\" style=\"transition-property: max-height; transition-duration: 0s; max-height: 0px;\"><div class=\"item-content\">TODO: get from docstring</div></iron-collapse></div></iron-collapse></div><div class=\"field-group field-returns-group\"><div class=\"item-header\"><h3>Output</h3></div><iron-collapse role=\"group\" aria-hidden=\"true\" aria-expanded=\"false\" class=\"\" style=\"transition-property: max-height; transition-duration: 0s; max-height: 0px;\"><div class=\"field-group-content item-content\"><div class=\"input-parent\"><paper-input tabindex=\"0\" aria-disabled=\"false\" label=\"TODO: get from docstring\" name=\"returns\" value=\"df\" auto-validate=\"\" error-message=\"Required!\" required=\"required\"></paper-input><paper-icon-button role=\"button\" tabindex=\"0\" aria-disabled=\"false\" icon=\"info\" class=\"info-toggle\"></paper-icon-button></div><iron-collapse role=\"group\" aria-hidden=\"true\" aria-expanded=\"false\" class=\"\" style=\"transition-property: max-height; transition-duration: 0s; max-height: 0px;\"><div class=\"item-content\">TODO: get from docstring</div></iron-collapse></div></iron-collapse></div></div><button class=\"form-submit-button-wrapper\"><paper-button role=\"button\" tabindex=\"0\" animated=\"\" aria-disabled=\"false\" elevation=\"1\" class=\"form-submit-button\" raised=\"\">submit<iron-icon icon=\"assessment\"></iron-icon></paper-button></button></form></div></iron-collapse></paper-material>\n",
       "<!--{\"Read GCT\":{\"description\":\"TODO: get from docstring\",\"library_path\":\"../ccal/\",\"library_name\":\"ccal.support.file\",\"function_name\":\"read_gct\",\"required_args\":[{\"label\":\"filepath\",\"description\":\"TODO: get from docstring\",\"name\":\"filepath\",\"value\":\"'/Users/kateme/Jumis/how_to_nbpackages/how_to_differential_gene_expression/data/kras_isogenic_vs_imortalized.gct'\"}],\"default_args\":[],\"optional_args\":[],\"returns\":[{\"label\":\"TODO: get from docstring\",\"description\":\"TODO: get from docstring\",\"value\":\"df\"}]}}-->"
      ],
      "text/plain": [
       "<IPython.core.display.HTML object>"
      ]
     },
     "metadata": {},
     "output_type": "display_data"
    }
   ],
   "source": [
    "%%HTML\n",
    "<!--!AUTO_EXEC-->\n",
    "<paper-material elevation=\"1\" class=\"task-widget\"><div class=\"task-widget-header item-header\"><h2>Read GCT</h2></div><iron-collapse role=\"group\" aria-hidden=\"true\" aria-expanded=\"false\" class=\"task-widget-inner\" style=\"transition-property: max-height; transition-duration: 0s; max-height: 0px;\"><div class=\"task-widget-content item-content\"><div class=\"widget-info\">TODO: get from docstring</div><form is=\"iron-form\" class=\"task-widget-form\"><div class=\"widget-form-panel\"><div class=\"field-group field-required_args-group\"><div class=\"item-header\"><h3>Input</h3></div><iron-collapse role=\"group\" aria-hidden=\"true\" aria-expanded=\"false\" class=\"\" style=\"transition-property: max-height; transition-duration: 0s; max-height: 0px;\"><div class=\"field-group-content item-content\"><div class=\"input-parent\"><paper-input tabindex=\"0\" aria-disabled=\"false\" label=\"filepath\" name=\"required_args\" value=\"'/Users/kateme/Jumis/how_to_nbpackages/how_to_differential_gene_expression/data/kras_isogenic_vs_imortalized.gct'\" auto-validate=\"\" error-message=\"Required!\" required=\"required\"></paper-input><paper-icon-button role=\"button\" tabindex=\"0\" aria-disabled=\"false\" icon=\"info\" class=\"info-toggle\"></paper-icon-button></div><iron-collapse role=\"group\" aria-hidden=\"true\" aria-expanded=\"false\" class=\"\" style=\"transition-property: max-height; transition-duration: 0s; max-height: 0px;\"><div class=\"item-content\">TODO: get from docstring</div></iron-collapse></div></iron-collapse></div><div class=\"field-group field-returns-group\"><div class=\"item-header\"><h3>Output</h3></div><iron-collapse role=\"group\" aria-hidden=\"true\" aria-expanded=\"false\" class=\"\" style=\"transition-property: max-height; transition-duration: 0s; max-height: 0px;\"><div class=\"field-group-content item-content\"><div class=\"input-parent\"><paper-input tabindex=\"0\" aria-disabled=\"false\" label=\"TODO: get from docstring\" name=\"returns\" value=\"df\" auto-validate=\"\" error-message=\"Required!\" required=\"required\"></paper-input><paper-icon-button role=\"button\" tabindex=\"0\" aria-disabled=\"false\" icon=\"info\" class=\"info-toggle\"></paper-icon-button></div><iron-collapse role=\"group\" aria-hidden=\"true\" aria-expanded=\"false\" class=\"\" style=\"transition-property: max-height; transition-duration: 0s; max-height: 0px;\"><div class=\"item-content\">TODO: get from docstring</div></iron-collapse></div></iron-collapse></div></div><button class=\"form-submit-button-wrapper\"><paper-button role=\"button\" tabindex=\"0\" animated=\"\" aria-disabled=\"false\" elevation=\"1\" class=\"form-submit-button\" raised=\"\">submit<iron-icon icon=\"assessment\"></iron-icon></paper-button></button></form></div></iron-collapse></paper-material>\n",
    "<!--{\"Read GCT\":{\"description\":\"TODO: get from docstring\",\"library_path\":\"../ccal/\",\"library_name\":\"ccal.support.file\",\"function_name\":\"read_gct\",\"required_args\":[{\"label\":\"filepath\",\"description\":\"TODO: get from docstring\",\"name\":\"filepath\",\"value\":\"'/Users/kateme/Jumis/how_to_nbpackages/how_to_differential_gene_expression/data/kras_isogenic_vs_imortalized.gct'\"}],\"default_args\":[],\"optional_args\":[],\"returns\":[{\"label\":\"TODO: get from docstring\",\"description\":\"TODO: get from docstring\",\"value\":\"df\"}]}}-->"
   ]
  },
  {
   "cell_type": "code",
   "execution_count": 19,
   "metadata": {
    "collapsed": false,
    "scrolled": false
   },
   "outputs": [
    {
     "name": "stdout",
     "output_type": "stream",
     "text": [
      "(Setting namespace ...)\n",
      "Getting task None ...\n",
      "Loading a task from a notebook cell ...\n",
      "*********\n",
      "# NMF\n",
      "ccal.read_gct('/Users/kateme/Jumis/how_to_nbpackages/how_to_oncogps/data/expressional_matrix.gct')\n",
      "*********\n",
      "*** lines: ['# NMF', \"ccal.read_gct('/Users/kateme/Jumis/how_to_nbpackages/how_to_oncogps/data/expressional_matrix.gct')\"]\n",
      "*** comment lines: ['# NMF']\n",
      "*** label: NMF\n",
      "*** code lines: [\"ccal.read_gct('/Users/kateme/Jumis/how_to_nbpackages/how_to_oncogps/data/expressional_matrix.gct')\"]\n",
      "*** before the 1st '(': ccal.read_gct\n",
      "*** args (after the 1st '(' without the last ')'): '/Users/kateme/Jumis/how_to_nbpackages/how_to_oncogps/data/expressional_matrix.gct'\n",
      "*** args (split): [\"'/Users/kateme/Jumis/how_to_nbpackages/how_to_oncogps/data/expressional_matrix.gct'\"]\n",
      "*** returns: ['']\n",
      "*** function_name: ccal.read_gct\n",
      "*** signature.parameters: OrderedDict([('filepath', <Parameter \"filepath\">), ('fill_na', <Parameter \"fill_na=None\">), ('drop_description', <Parameter \"drop_description=True\">), ('row_name', <Parameter \"row_name=None\">), ('column_name', <Parameter \"column_name=None\">)])\n",
      "*** required_args: [{'label': 'filepath', 'description': 'TODO: get from docstring', 'name': 'filepath', 'value': \"'/Users/kateme/Jumis/how_to_nbpackages/how_to_oncogps/data/expressional_matrix.gct'\"}]\n",
      "*** optional_args: []\n",
      "*** library_name: ccal.support.file\n",
      "*** function_name (not defined within this Notebook): read_gct\n",
      "*** library_path: ../ccal/\n",
      "(Getting tasks ...)\n",
      "Setting/updating task {} to be {'NMF': {'description': 'TODO: get from docstring', 'library_path': '../ccal/', 'library_name': 'ccal.support.file', 'function_name': 'read_gct', 'required_args': [{'label': 'filepath', 'description': 'TODO: get from docstring', 'name': 'filepath', 'value': \"'/Users/kateme/Jumis/how_to_nbpackages/how_to_oncogps/data/expressional_matrix.gct'\"}], 'default_args': [], 'optional_args': [], 'returns': []}} ...\n",
      "(Getting tasks ...)\n",
      "(Setting tasks ...)\n",
      "{\"NMF\": {\"description\": \"TODO: get from docstring\", \"library_path\": \"../ccal/\", \"library_name\": \"ccal.support.file\", \"function_name\": \"read_gct\", \"required_args\": [{\"label\": \"filepath\", \"description\": \"TODO: get from docstring\", \"name\": \"filepath\", \"value\": \"'/Users/kateme/Jumis/how_to_nbpackages/how_to_oncogps/data/expressional_matrix.gct'\"}], \"default_args\": [], \"optional_args\": [], \"returns\": []}}\n",
      "Representing task ({'NMF': {'description': 'TODO: get from docstring', 'library_path': '../ccal/', 'library_name': 'ccal.support.file', 'function_name': 'read_gct', 'required_args': [{'label': 'filepath', 'description': 'TODO: get from docstring', 'name': 'filepath', 'value': \"'/Users/kateme/Jumis/how_to_nbpackages/how_to_oncogps/data/expressional_matrix.gct'\"}], 'default_args': [], 'optional_args': [], 'returns': []}}) as code ...\n",
      "\n",
      "library_path: ../ccal/\n",
      "library_name: ccal.support.file\n",
      "function_name: read_gct\n",
      "required_args: [{'label': 'filepath', 'description': 'TODO: get from docstring', 'name': 'filepath', 'value': \"'/Users/kateme/Jumis/how_to_nbpackages/how_to_oncogps/data/expressional_matrix.gct'\"}]\n",
      "optional_args: []\n",
      "returns: []\n",
      "required_args (_str_or_named): '/Users/kateme/Jumis/how_to_nbpackages/how_to_oncogps/data/expressional_matrix.gct'\n",
      "optional_args (_str_or_named): '/Users/kateme/Jumis/how_to_nbpackages/how_to_oncogps/data/expressional_matrix.gct'\n",
      "returns (_str_or_named): \n",
      "import sys\n",
      "sys.path.insert(0, '../ccal/')\n",
      "import ccal\n",
      "# NMFccal.support.file.read_gct('/Users/kateme/Jumis/how_to_nbpackages/how_to_oncogps/data/expressional_matrix.gct')\n"
     ]
    },
    {
     "data": {
      "text/plain": [
       "\"import sys\\nsys.path.insert(0, '../ccal/')\\nimport ccal\\n# NMFccal.support.file.read_gct('/Users/kateme/Jumis/how_to_nbpackages/how_to_oncogps/data/expressional_matrix.gct')\""
      ]
     },
     "execution_count": 19,
     "metadata": {},
     "output_type": "execute_result"
    },
    {
     "name": "stdout",
     "output_type": "stream",
     "text": [
      "(Setting namespace ...)\n"
     ]
    }
   ],
   "source": [
    "mgr = simpli.Manager(True)\n",
    "mgr.update_namespace(globals())\n",
    "task = mgr.get_task(notebook_cell_text=In[17])\n",
    "mgr.task_to_code(task)"
   ]
  },
  {
   "cell_type": "code",
   "execution_count": 20,
   "metadata": {
    "collapsed": false
   },
   "outputs": [
    {
     "name": "stdout",
     "output_type": "stream",
     "text": [
      "import sys\n",
      "sys.path.insert(0, '../ccal/')\n",
      "import ccal\n",
      "# NMFccal.support.file.read_gct('/Users/kateme/Jumis/how_to_nbpackages/how_to_oncogps/data/expressional_matrix.gct')\n",
      "(Setting namespace ...)\n"
     ]
    }
   ],
   "source": [
    "print(\"import sys\\nsys.path.insert(0, '../ccal/')\\nimport ccal\\n# NMFccal.support.file.read_gct('/Users/kateme/Jumis/how_to_nbpackages/how_to_oncogps/data/expressional_matrix.gct')\")"
   ]
  },
  {
   "cell_type": "code",
   "execution_count": null,
   "metadata": {
    "collapsed": true
   },
   "outputs": [],
   "source": []
  }
 ],
 "metadata": {
  "anaconda-cloud": {},
  "kernelspec": {
   "display_name": "Python 3",
   "language": "python",
   "name": "python3"
  },
  "language_info": {
   "codemirror_mode": {
    "name": "ipython",
    "version": 3
   },
   "file_extension": ".py",
   "mimetype": "text/x-python",
   "name": "python",
   "nbconvert_exporter": "python",
   "pygments_lexer": "ipython3",
   "version": "3.6.0"
  }
 },
 "nbformat": 4,
 "nbformat_minor": 1
}
