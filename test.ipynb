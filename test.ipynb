{
 "cells": [
  {
   "cell_type": "code",
   "execution_count": 145,
   "metadata": {
    "collapsed": false
   },
   "outputs": [],
   "source": [
    "import inspect\n",
    "from pprint import pprint\n",
    "import sys\n",
    "sys.path.insert(0, 'simpli')\n",
    "import simpli"
   ]
  },
  {
   "cell_type": "code",
   "execution_count": 146,
   "metadata": {
    "collapsed": false
   },
   "outputs": [
    {
     "name": "stdout",
     "output_type": "stream",
     "text": [
      "Loading task-specifying JSONs in directory /home/cyborg/.Simpli/json/ ...\n",
      "(Getting tasks ...)\n",
      "Loading a task-specifying JSON /home/cyborg/.Simpli/json/default_tasks.json ...\n"
     ]
    }
   ],
   "source": [
    "mgr = simpli.Manager()\n",
    "mgr.load_tasks_from_json_dir()"
   ]
  },
  {
   "cell_type": "code",
   "execution_count": 147,
   "metadata": {
    "collapsed": false,
    "scrolled": true
   },
   "outputs": [
    {
     "name": "stdout",
     "output_type": "stream",
     "text": [
      "(Getting tasks ...)\n",
      "{'Assign': {'default_args': [],\n",
      "            'description': 'No description.',\n",
      "            'function_name': 'just_return',\n",
      "            'library_name': 'simpli.default_tasks',\n",
      "            'library_path': 'simpli',\n",
      "            'optional_args': [],\n",
      "            'required_args': [{'description': 'No description',\n",
      "                               'label': 'value',\n",
      "                               'name': 'value',\n",
      "                               'value': ''}],\n",
      "            'returns': [{'description': 'No description', 'label': 'item'}]},\n",
      " 'Link JSON': {'default_args': [],\n",
      "               'description': 'No description.',\n",
      "               'function_name': 'link_simpli_json',\n",
      "               'library_name': 'simpli.default_tasks',\n",
      "               'library_path': 'simpli',\n",
      "               'optional_args': [],\n",
      "               'required_args': [{'description': 'No description',\n",
      "                                  'label': 'Simpli .json to be linked',\n",
      "                                  'name': 'filepath',\n",
      "                                  'value': ''}],\n",
      "               'returns': []},\n",
      " 'Link YouTube Video': {'default_args': [],\n",
      "                        'description': 'No description.',\n",
      "                        'function_name': 'youtube',\n",
      "                        'library_name': 'simpli.default_tasks',\n",
      "                        'library_path': 'simpli',\n",
      "                        'optional_args': [],\n",
      "                        'required_args': [{'description': 'No description',\n",
      "                                           'label': 'YouTube Video URL',\n",
      "                                           'name': 'url',\n",
      "                                           'value': ''}],\n",
      "                        'returns': []},\n",
      " 'Reset JSONs': {'default_args': [],\n",
      "                 'description': 'No description.',\n",
      "                 'function_name': 'json',\n",
      "                 'library_name': 'simpli.default_tasks.reset_simpli.default_tasks',\n",
      "                 'library_path': 'simpli',\n",
      "                 'optional_args': [],\n",
      "                 'required_args': [],\n",
      "                 'returns': []},\n",
      " 'Set Jupyter Notebook Theme': {'default_args': [],\n",
      "                                'description': 'No description.',\n",
      "                                'function_name': 'set_theme',\n",
      "                                'library_name': 'simpli.default_tasks',\n",
      "                                'library_path': 'simpli',\n",
      "                                'optional_args': [],\n",
      "                                'required_args': [{'description': 'No '\n",
      "                                                                  'description',\n",
      "                                                   'label': '.CSS file',\n",
      "                                                   'name': 'filepath',\n",
      "                                                   'value': ''}],\n",
      "                                'returns': []},\n",
      " 'Slice DataFrame by Column': {'default_args': [{'description': 'No '\n",
      "                                                                'description',\n",
      "                                                 'label': 'Ax',\n",
      "                                                 'name': 'ax',\n",
      "                                                 'value': '1'}],\n",
      "                               'description': 'No description.',\n",
      "                               'function_name': 'slice_dataframe',\n",
      "                               'library_name': 'simpli.default_tasks',\n",
      "                               'library_path': 'simpli',\n",
      "                               'optional_args': [],\n",
      "                               'required_args': [{'description': 'No '\n",
      "                                                                 'description',\n",
      "                                                  'label': 'DataFrame',\n",
      "                                                  'name': 'dataframe',\n",
      "                                                  'value': ''},\n",
      "                                                 {'description': 'No '\n",
      "                                                                 'description',\n",
      "                                                  'label': 'Column index(ices)',\n",
      "                                                  'name': 'indices',\n",
      "                                                  'value': ''}],\n",
      "                               'returns': [{'description': 'No description',\n",
      "                                            'label': 'Sliced DataFrame'}]},\n",
      " 'Slice DataFrame by Row': {'default_args': [{'description': 'No description',\n",
      "                                              'label': 'Ax',\n",
      "                                              'name': 'ax',\n",
      "                                              'value': '0'}],\n",
      "                            'description': 'Return a subset of rows of a given '\n",
      "                                           'DataFrame object.',\n",
      "                            'function_name': 'slice_dataframe',\n",
      "                            'library_name': 'simpli.default_tasks',\n",
      "                            'library_path': 'simpli',\n",
      "                            'optional_args': [],\n",
      "                            'required_args': [{'description': 'Target '\n",
      "                                                              'dataframe '\n",
      "                                                              'object.',\n",
      "                                               'label': 'DataFrame',\n",
      "                                               'name': 'dataframe',\n",
      "                                               'value': ''},\n",
      "                                              {'description': 'An integer or '\n",
      "                                                              'list of '\n",
      "                                                              'integers '\n",
      "                                                              'separated by '\n",
      "                                                              'commas of the '\n",
      "                                                              'rows to slice. '\n",
      "                                                              'Note that '\n",
      "                                                              'indices are 0 '\n",
      "                                                              'based.',\n",
      "                                               'label': 'Row index/indices',\n",
      "                                               'name': 'indices',\n",
      "                                               'value': ''}],\n",
      "                            'returns': [{'description': 'A slice of the '\n",
      "                                                        'DataFrame including '\n",
      "                                                        'the specified rows.',\n",
      "                                         'label': 'Sliced DataFrame'}]}}\n"
     ]
    }
   ],
   "source": [
    "pprint(mgr.tasks)"
   ]
  }
 ],
 "metadata": {
  "kernelspec": {
   "display_name": "Python 3",
   "language": "python",
   "name": "python3"
  },
  "language_info": {
   "codemirror_mode": {
    "name": "ipython",
    "version": 3
   },
   "file_extension": ".py",
   "mimetype": "text/x-python",
   "name": "python",
   "nbconvert_exporter": "python",
   "pygments_lexer": "ipython3",
   "version": "3.5.2"
  }
 },
 "nbformat": 4,
 "nbformat_minor": 1
}
