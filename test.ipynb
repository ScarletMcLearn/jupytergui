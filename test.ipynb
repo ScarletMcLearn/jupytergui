{
 "cells": [
  {
   "cell_type": "code",
   "execution_count": 1,
   "metadata": {
    "collapsed": false
   },
   "outputs": [],
   "source": [
    "import pprint\n",
    "import sys\n",
    "sys.path.insert(0, 'simpli')\n",
    "import simpli"
   ]
  },
  {
   "cell_type": "code",
   "execution_count": 2,
   "metadata": {
    "collapsed": false
   },
   "outputs": [
    {
     "name": "stdout",
     "output_type": "stream",
     "text": [
      "Loading task-specifying JSONs in directory /home/cyborg/.Simpli/json/ ...\n",
      "(Getting tasks ...)\n",
      "Loading a task-specifying JSON /home/cyborg/.Simpli/json/default_tasks.json ...\n"
     ]
    }
   ],
   "source": [
    "mgr = simpli.Manager()\n",
    "mgr.load_tasks_from_json_dir()"
   ]
  },
  {
   "cell_type": "code",
   "execution_count": 3,
   "metadata": {
    "collapsed": false
   },
   "outputs": [],
   "source": [
    "# pprint.pprint(mgr.tasks)"
   ]
  },
  {
   "cell_type": "code",
   "execution_count": 4,
   "metadata": {
    "collapsed": false
   },
   "outputs": [
    {
     "name": "stdout",
     "output_type": "stream",
     "text": [
      "Getting task Assign ...\n",
      "(Getting tasks ...)\n"
     ]
    }
   ],
   "source": [
    "task = mgr.get_task('Assign')"
   ]
  },
  {
   "cell_type": "code",
   "execution_count": 5,
   "metadata": {
    "collapsed": false
   },
   "outputs": [
    {
     "data": {
      "text/plain": [
       "{'Assign': {'default_args': [],\n",
       "  'description': 'No description.',\n",
       "  'function_name': 'just_return',\n",
       "  'library_name': 'simpli.default_tasks',\n",
       "  'library_path': 'simpli',\n",
       "  'optional_args': [],\n",
       "  'required_args': [{'description': 'No description',\n",
       "    'label': 'item',\n",
       "    'name': 'item',\n",
       "    'value': ''}],\n",
       "  'returns': [{'description': 'No description', 'label': 'Value'}]}}"
      ]
     },
     "execution_count": 5,
     "metadata": {},
     "output_type": "execute_result"
    }
   ],
   "source": [
    "task"
   ]
  },
  {
   "cell_type": "code",
   "execution_count": 6,
   "metadata": {
    "collapsed": false
   },
   "outputs": [
    {
     "data": {
      "text/plain": [
       "{'Assign': {'default_args': [],\n",
       "  'description': 'No description.',\n",
       "  'function_name': 'just_return',\n",
       "  'library_name': 'simpli.default_tasks',\n",
       "  'library_path': 'simpli',\n",
       "  'optional_args': [],\n",
       "  'required_args': [{'description': 'No description',\n",
       "    'label': 'item',\n",
       "    'name': 'item',\n",
       "    'value': ''}],\n",
       "  'returns': [{'description': 'No description',\n",
       "    'label': 'Value',\n",
       "    'value': 'return_name_0'}]}}"
      ]
     },
     "execution_count": 6,
     "metadata": {},
     "output_type": "execute_result"
    }
   ],
   "source": [
    "task_label = list(task.keys()).pop()\n",
    "\n",
    "for i, r in enumerate(task[task_label]['returns']):\n",
    "    r['value'] = 'return_name_{}'.format(i)\n",
    "\n",
    "task"
   ]
  },
  {
   "cell_type": "code",
   "execution_count": 7,
   "metadata": {
    "collapsed": false
   },
   "outputs": [
    {
     "name": "stdout",
     "output_type": "stream",
     "text": [
      "\tMerging and processing arguments ...\n",
      "(Getting namespace ...)\n",
      "(Getting namespace ...)\n",
      "\t\titem:  > '[]' (<class 'list'>)\n",
      "returns: ['return_name_0']\n",
      "Updating path, importing function, and executing task ...\n",
      "\tsys.path.insert(0, 'simpli')\n",
      "\tfrom simpli.default_tasks import just_return as function\n",
      "\tExecuting <function just_return at 0x7ff36021d950> with:\n",
      "(Getting namespace ...)\n",
      "\t\titem = '[]' (<class 'list'>)\n",
      "(Getting namespace ...)\n",
      "(Getting namespace ...)\n",
      "self.namespace (after execution): {'return_name_0': []}\n"
     ]
    }
   ],
   "source": [
    "mgr.execute_task(task)"
   ]
  },
  {
   "cell_type": "code",
   "execution_count": 8,
   "metadata": {
    "collapsed": false
   },
   "outputs": [],
   "source": [
    "def get_jupyter_notebook_input(jupyter_notebook_filepath, cell_index):\n",
    "    from nbformat import read\n",
    "    # TODO: save before\n",
    "    return read(jupyter_notebook_filepath, 4).cells[3].source"
   ]
  },
  {
   "cell_type": "code",
   "execution_count": 123,
   "metadata": {
    "collapsed": false
   },
   "outputs": [
    {
     "ename": "NameError",
     "evalue": "name 'function' is not defined",
     "output_type": "error",
     "traceback": [
      "\u001b[0;31m---------------------------------------------------------------------------\u001b[0m",
      "\u001b[0;31mNameError\u001b[0m                                 Traceback (most recent call last)",
      "\u001b[0;32m<ipython-input-123-14496b5b5db9>\u001b[0m in \u001b[0;36m<module>\u001b[0;34m()\u001b[0m\n\u001b[1;32m      1\u001b[0m \u001b[0;31m# Label\u001b[0m\u001b[0;34m\u001b[0m\u001b[0;34m\u001b[0m\u001b[0m\n\u001b[1;32m      2\u001b[0m \u001b[0;34m\u001b[0m\u001b[0m\n\u001b[0;32m----> 3\u001b[0;31m r = function(param_1,\n\u001b[0m\u001b[1;32m      4\u001b[0m              param_2)\n",
      "\u001b[0;31mNameError\u001b[0m: name 'function' is not defined"
     ]
    }
   ],
   "source": [
    "# Label\n",
    "\n",
    "r = function(param_1,\n",
    "             param_2)"
   ]
  },
  {
   "cell_type": "code",
   "execution_count": 132,
   "metadata": {
    "collapsed": false
   },
   "outputs": [
    {
     "name": "stdout",
     "output_type": "stream",
     "text": [
      "\n",
      "text: # Label\n",
      "\n",
      "r = function(param_1,\n",
      "             param_2)\n",
      "\n",
      "lines: ['# Label', '', 'r = function(param_1,', '             param_2)']\n",
      "\n",
      "comment: ['# Label']\n",
      "\n",
      "label: Label\n",
      "\n",
      "code: r=function(param_1,param_2)\n",
      "\n",
      "b: r=function\n",
      "\n",
      "returns: r\n",
      "\n",
      "function_name: function\n",
      "\n",
      "args: ['param_1', 'param_2']\n"
     ]
    }
   ],
   "source": [
    "def strip_list_of_str(list_):\n",
    "    list_ = [x.strip() for x in list_]\n",
    "    return list_\n",
    "\n",
    "def remove_form_list(list_, remove=()):\n",
    "    if any(remove):\n",
    "        list_ = filter(lambda x: x not in remove, list_)\n",
    "    return list_\n",
    "\n",
    "text = In[123]\n",
    "print('\\ntext: {}'.format(text))\n",
    "\n",
    "lines = text.split('\\n')\n",
    "print('\\nlines: {}'.format(lines))\n",
    "\n",
    "# Comment\n",
    "comment = [l for l in lines if l.startswith('#')]\n",
    "print('\\ncomment: {}'.format(comment))\n",
    "\n",
    "label = comment[0].split('#')[1].strip()\n",
    "print('\\nlabel: {}'.format(label))\n",
    "\n",
    "# Code\n",
    "code = ''.join([l for l in lines if not l.startswith('#')]).replace(' ', '')\n",
    "print('\\ncode: {}'.format(code))\n",
    "\n",
    "before, args = code.split('(')\n",
    "print('\\nbefore: {}'.format(before))\n",
    "\n",
    "i = b.find('=')\n",
    "returns = b[:i]\n",
    "print('\\nreturns: {}'.format(returns))\n",
    "\n",
    "function_name = b[i+1:]\n",
    "print('\\nfunction_name: {}'.format(function_name))\n",
    "args = args[:-1].split(',')\n",
    "print('\\nargs: {}'.format(args))"
   ]
  },
  {
   "cell_type": "code",
   "execution_count": null,
   "metadata": {
    "collapsed": true
   },
   "outputs": [],
   "source": []
  }
 ],
 "metadata": {
  "kernelspec": {
   "display_name": "Python 3",
   "language": "python",
   "name": "python3"
  },
  "language_info": {
   "codemirror_mode": {
    "name": "ipython",
    "version": 3
   },
   "file_extension": ".py",
   "mimetype": "text/x-python",
   "name": "python",
   "nbconvert_exporter": "python",
   "pygments_lexer": "ipython3",
   "version": "3.5.2"
  }
 },
 "nbformat": 4,
 "nbformat_minor": 1
}
