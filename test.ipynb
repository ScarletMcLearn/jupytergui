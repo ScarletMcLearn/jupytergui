{
 "cells": [
  {
   "cell_type": "code",
   "execution_count": 1,
   "metadata": {
    "collapsed": false
   },
   "outputs": [],
   "source": [
    "import inspect\n",
    "from pprint import pprint\n",
    "import sys\n",
    "sys.path.insert(0, '../ccal')\n",
    "sys.path.insert(0, 'simpli')\n",
    "import ccal\n",
    "import simpli\n",
    "\n",
    "%load_ext autoreload\n",
    "%autoreload 2"
   ]
  },
  {
   "cell_type": "code",
   "execution_count": 2,
   "metadata": {
    "collapsed": false
   },
   "outputs": [
    {
     "name": "stdout",
     "output_type": "stream",
     "text": [
      "Loading task-specifying JSONs in directory /home/cyborg/.Simpli/json/ ...\n",
      "Loading task-specifying JSON /home/cyborg/.Simpli/json/default_tasks.json ...\n",
      "(Getting tasks ...)\n",
      "Setting/updating task {} to be {'Reset JSONs': {'returns': [], 'optional_args': [], 'description': 'No description.', 'default_args': [], 'required_args': [], 'function_name': 'json', 'library_path': 'simpli', 'library_name': 'simpli.default_tasks.reset_simpli.default_tasks'}, 'Slice DataFrame by Column': {'returns': [{'label': 'Sliced DataFrame', 'description': 'No description'}], 'optional_args': [], 'description': 'No description.', 'default_args': [{'value': '1', 'label': 'Ax', 'name': 'ax', 'description': 'No description'}], 'required_args': [{'value': '', 'label': 'DataFrame', 'name': 'dataframe', 'description': 'No description'}, {'value': '', 'label': 'Column index(ices)', 'name': 'indices', 'description': 'No description'}], 'function_name': 'slice_dataframe', 'library_path': 'simpli', 'library_name': 'simpli.default_tasks'}, 'Link YouTube Video': {'returns': [], 'optional_args': [], 'description': 'No description.', 'default_args': [], 'required_args': [{'value': '', 'label': 'YouTube Video URL', 'name': 'url', 'description': 'No description'}], 'function_name': 'youtube', 'library_path': 'simpli', 'library_name': 'simpli.default_tasks'}, 'Link JSON': {'returns': [], 'optional_args': [], 'description': 'No description.', 'default_args': [], 'required_args': [{'value': '', 'label': 'Simpli .json to be linked', 'name': 'filepath', 'description': 'No description'}], 'function_name': 'link_simpli_json', 'library_path': 'simpli', 'library_name': 'simpli.default_tasks'}, 'Set Jupyter Notebook Theme': {'returns': [], 'optional_args': [], 'description': 'No description.', 'default_args': [], 'required_args': [{'value': '', 'label': '.CSS file', 'name': 'filepath', 'description': 'No description'}], 'function_name': 'set_theme', 'library_path': 'simpli', 'library_name': 'simpli.default_tasks'}, 'Slice DataFrame by Row': {'returns': [{'label': 'Sliced DataFrame', 'description': 'A slice of the DataFrame including the specified rows.'}], 'optional_args': [], 'description': 'Return a subset of rows of a given DataFrame object.', 'default_args': [{'value': '0', 'label': 'Ax', 'name': 'ax', 'description': 'No description'}], 'required_args': [{'value': '', 'label': 'DataFrame', 'name': 'dataframe', 'description': 'Target dataframe object.'}, {'value': '', 'label': 'Row index/indices', 'name': 'indices', 'description': 'An integer or list of integers separated by commas of the rows to slice. Note that indices are 0 based.'}], 'function_name': 'slice_dataframe', 'library_path': 'simpli', 'library_name': 'simpli.default_tasks'}, 'Assign': {'returns': [{'label': 'item', 'description': 'No description'}], 'optional_args': [], 'description': 'No description.', 'default_args': [], 'required_args': [{'value': '', 'label': 'value', 'name': 'value', 'description': 'No description'}], 'function_name': 'just_return', 'library_path': 'simpli', 'library_name': 'simpli.default_tasks'}} ...\n",
      "(Getting tasks ...)\n",
      "(Setting tasks ...)\n"
     ]
    }
   ],
   "source": [
    "mgr = simpli.Manager(verbose=True)\n",
    "mgr.load_tasks_from_json_dir()"
   ]
  },
  {
   "cell_type": "code",
   "execution_count": 3,
   "metadata": {
    "collapsed": true
   },
   "outputs": [],
   "source": [
    "# Label\n",
    "\n",
    "output = ccal.support.str_.title_str('aa')"
   ]
  },
  {
   "cell_type": "code",
   "execution_count": 4,
   "metadata": {
    "collapsed": false
   },
   "outputs": [
    {
     "name": "stdout",
     "output_type": "stream",
     "text": [
      "(Getting namespace ...)\n"
     ]
    },
    {
     "data": {
      "text/plain": [
       "{}"
      ]
     },
     "execution_count": 4,
     "metadata": {},
     "output_type": "execute_result"
    }
   ],
   "source": [
    "mgr.namespace"
   ]
  },
  {
   "cell_type": "code",
   "execution_count": 5,
   "metadata": {
    "collapsed": false
   },
   "outputs": [
    {
     "name": "stdout",
     "output_type": "stream",
     "text": [
      "Updating namespace with {'simpli': <module 'simpli' from '/home/cyborg/simpli/simpli/__init__.py'>, '_ii': \"# Label\\n\\noutput = ccal.support.str_.title_str('aa')\", 'mgr': <simpli.manager.Manager object at 0x7f42f480def0>, 'In': ['', \"import inspect\\nfrom pprint import pprint\\nimport sys\\nsys.path.insert(0, '../ccal')\\nsys.path.insert(0, 'simpli')\\nimport ccal\\nimport simpli\\n\\nget_ipython().magic('load_ext autoreload')\\nget_ipython().magic('autoreload 2')\", 'mgr = simpli.Manager(verbose=True)\\nmgr.load_tasks_from_json_dir()', \"# Label\\n\\noutput = ccal.support.str_.title_str('aa')\", 'mgr.namespace', 'mgr.update_namespace(globals())'], 'pprint': <function pprint at 0x7f42fe9cf840>, '__spec__': None, '_4': {}, '_i5': 'mgr.update_namespace(globals())', 'get_ipython': <bound method InteractiveShell.get_ipython of <ipykernel.zmqshell.ZMQInteractiveShell object at 0x7f42f80e4a20>>, '__': '', '_i4': 'mgr.namespace', '_i3': \"# Label\\n\\noutput = ccal.support.str_.title_str('aa')\", '__name__': '__main__', '__package__': None, 'output': 'Aa', '_': {}, '__builtin__': <module 'builtins' (built-in)>, '__doc__': 'Automatically created module for IPython interactive environment', 'ccal': <module 'ccal' from '../ccal/ccal/__init__.py'>, '_i1': \"import inspect\\nfrom pprint import pprint\\nimport sys\\nsys.path.insert(0, '../ccal')\\nsys.path.insert(0, 'simpli')\\nimport ccal\\nimport simpli\\n\\n%load_ext autoreload\\n%autoreload 2\", '_sh': <module 'IPython.core.shadowns' from '/home/cyborg/tools/anaconda/lib/python3.5/site-packages/IPython/core/shadowns.py'>, 'sys': <module 'sys' (built-in)>, '_dh': ['/home/cyborg/simpli'], 'inspect': <module 'inspect' from '/home/cyborg/tools/anaconda/lib/python3.5/inspect.py'>, '_oh': {4: {}}, '_i2': 'mgr = simpli.Manager(verbose=True)\\nmgr.load_tasks_from_json_dir()', 'quit': <IPython.core.autocall.ZMQExitAutocall object at 0x7f42f5088fd0>, '_i': 'mgr.namespace', '__builtins__': <module 'builtins' (built-in)>, 'exit': <IPython.core.autocall.ZMQExitAutocall object at 0x7f42f5088fd0>, '___': '', '_iii': 'mgr = simpli.Manager(verbose=True)\\nmgr.load_tasks_from_json_dir()', '_ih': ['', \"import inspect\\nfrom pprint import pprint\\nimport sys\\nsys.path.insert(0, '../ccal')\\nsys.path.insert(0, 'simpli')\\nimport ccal\\nimport simpli\\n\\nget_ipython().magic('load_ext autoreload')\\nget_ipython().magic('autoreload 2')\", 'mgr = simpli.Manager(verbose=True)\\nmgr.load_tasks_from_json_dir()', \"# Label\\n\\noutput = ccal.support.str_.title_str('aa')\", 'mgr.namespace', 'mgr.update_namespace(globals())'], '__loader__': None, 'Out': {4: {}}} ...\n",
      "(Getting namespace ...)\n",
      "(Setting namespace ...)\n",
      "(Getting namespace ...)\n"
     ]
    }
   ],
   "source": [
    "mgr.update_namespace(globals())"
   ]
  },
  {
   "cell_type": "code",
   "execution_count": 6,
   "metadata": {
    "collapsed": false,
    "scrolled": true
   },
   "outputs": [],
   "source": [
    "# pprint(mgr.tasks)"
   ]
  },
  {
   "cell_type": "code",
   "execution_count": 9,
   "metadata": {
    "collapsed": false
   },
   "outputs": [
    {
     "name": "stdout",
     "output_type": "stream",
     "text": [
      "Loading a task from a notebook cell ...\n",
      "*********\n",
      "# Label\n",
      "\n",
      "output = ccal.support.str_.title_str('aa')\n",
      "*********\n",
      "*** lines: ['# Label', \"output = ccal.support.str_.title_str('aa')\"]\n",
      "*** comment: ['# Label']\n",
      "*** label: Label\n",
      "*** code: output=ccal.support.str_.title_str('aa')\n",
      "*** before: output=ccal.support.str_.title_str\n",
      "*** returns: ['output']\n",
      "*** signature.parameters: OrderedDict([('str_', <Parameter \"str_\">)])\n",
      "*** library_name: ccal.support.str_\n",
      "*** library_path: ../ccal/\n",
      "*** function_name: title_str\n",
      "*** args: [\"'aa\"]\n",
      "*** required_args: [{'name': 'str_', 'label': 'TODO: get from docstring', 'description': 'TODO: get from docstring', 'value': \"'aa\"}]\n",
      "*** optional_args: []\n",
      "(Getting tasks ...)\n",
      "Setting/updating task {'Reset JSONs': {'returns': [], 'optional_args': [], 'description': 'No description.', 'default_args': [], 'required_args': [], 'function_name': 'json', 'library_path': 'simpli', 'library_name': 'simpli.default_tasks.reset_simpli.default_tasks'}, 'Slice DataFrame by Column': {'returns': [{'label': 'Sliced DataFrame', 'description': 'No description'}], 'optional_args': [], 'description': 'No description.', 'default_args': [{'value': '1', 'label': 'Ax', 'name': 'ax', 'description': 'No description'}], 'required_args': [{'value': '', 'label': 'DataFrame', 'name': 'dataframe', 'description': 'No description'}, {'value': '', 'label': 'Column index(ices)', 'name': 'indices', 'description': 'No description'}], 'function_name': 'slice_dataframe', 'library_path': 'simpli', 'library_name': 'simpli.default_tasks'}, 'Link YouTube Video': {'returns': [], 'optional_args': [], 'description': 'No description.', 'default_args': [], 'required_args': [{'value': '', 'label': 'YouTube Video URL', 'name': 'url', 'description': 'No description'}], 'function_name': 'youtube', 'library_path': 'simpli', 'library_name': 'simpli.default_tasks'}, 'Link JSON': {'returns': [], 'optional_args': [], 'description': 'No description.', 'default_args': [], 'required_args': [{'value': '', 'label': 'Simpli .json to be linked', 'name': 'filepath', 'description': 'No description'}], 'function_name': 'link_simpli_json', 'library_path': 'simpli', 'library_name': 'simpli.default_tasks'}, 'Set Jupyter Notebook Theme': {'returns': [], 'optional_args': [], 'description': 'No description.', 'default_args': [], 'required_args': [{'value': '', 'label': '.CSS file', 'name': 'filepath', 'description': 'No description'}], 'function_name': 'set_theme', 'library_path': 'simpli', 'library_name': 'simpli.default_tasks'}, 'Assign': {'returns': [{'label': 'item', 'description': 'No description'}], 'optional_args': [], 'description': 'No description.', 'default_args': [], 'required_args': [{'value': '', 'label': 'value', 'name': 'value', 'description': 'No description'}], 'function_name': 'just_return', 'library_path': 'simpli', 'library_name': 'simpli.default_tasks'}, 'Slice DataFrame by Row': {'returns': [{'label': 'Sliced DataFrame', 'description': 'A slice of the DataFrame including the specified rows.'}], 'optional_args': [], 'description': 'Return a subset of rows of a given DataFrame object.', 'default_args': [{'value': '0', 'label': 'Ax', 'name': 'ax', 'description': 'No description'}], 'required_args': [{'value': '', 'label': 'DataFrame', 'name': 'dataframe', 'description': 'Target dataframe object.'}, {'value': '', 'label': 'Row index/indices', 'name': 'indices', 'description': 'An integer or list of integers separated by commas of the rows to slice. Note that indices are 0 based.'}], 'function_name': 'slice_dataframe', 'library_path': 'simpli', 'library_name': 'simpli.default_tasks'}} to be {'Label': {'returns': [{'value': 'output', 'label': 'TODO: get from docstring', 'description': 'TODO: get from docstring'}], 'optional_args': [], 'description': 'TODO: get from docstring', 'default_args': [], 'required_args': [{'name': 'str_', 'label': 'TODO: get from docstring', 'description': 'TODO: get from docstring', 'value': \"'aa\"}], 'function_name': 'title_str', 'library_path': '../ccal/', 'library_name': 'ccal.support.str_'}} ...\n",
      "(Getting tasks ...)\n",
      "(Setting tasks ...)\n"
     ]
    },
    {
     "data": {
      "text/plain": [
       "{'Label': {'default_args': [],\n",
       "  'description': 'TODO: get from docstring',\n",
       "  'function_name': 'title_str',\n",
       "  'library_name': 'ccal.support.str_',\n",
       "  'library_path': '../ccal/',\n",
       "  'optional_args': [],\n",
       "  'required_args': [{'description': 'TODO: get from docstring',\n",
       "    'label': 'TODO: get from docstring',\n",
       "    'name': 'str_',\n",
       "    'value': \"'aa\"}],\n",
       "  'returns': [{'description': 'TODO: get from docstring',\n",
       "    'label': 'TODO: get from docstring',\n",
       "    'value': 'output'}]}}"
      ]
     },
     "execution_count": 9,
     "metadata": {},
     "output_type": "execute_result"
    }
   ],
   "source": [
    "mgr._load_task_from_notebook_cell(In[3])"
   ]
  },
  {
   "cell_type": "code",
   "execution_count": null,
   "metadata": {
    "collapsed": true
   },
   "outputs": [],
   "source": []
  }
 ],
 "metadata": {
  "kernelspec": {
   "display_name": "Python 3",
   "language": "python",
   "name": "python3"
  },
  "language_info": {
   "codemirror_mode": {
    "name": "ipython",
    "version": 3
   },
   "file_extension": ".py",
   "mimetype": "text/x-python",
   "name": "python",
   "nbconvert_exporter": "python",
   "pygments_lexer": "ipython3",
   "version": "3.5.2"
  }
 },
 "nbformat": 4,
 "nbformat_minor": 1
}
