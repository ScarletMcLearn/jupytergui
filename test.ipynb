{
 "cells": [
  {
   "cell_type": "code",
   "execution_count": 1,
   "metadata": {
    "collapsed": false
   },
   "outputs": [],
   "source": [
    "import inspect\n",
    "from pprint import pprint\n",
    "import sys\n",
    "sys.path.insert(0, 'simpli')\n",
    "import simpli\n",
    "\n",
    "%load_ext autoreload\n",
    "%autoreload 2"
   ]
  },
  {
   "cell_type": "code",
   "execution_count": 2,
   "metadata": {
    "collapsed": false
   },
   "outputs": [],
   "source": [
    "mgr = simpli.Manager()\n",
    "# mgr.load_tasks_from_json_dir()"
   ]
  },
  {
   "cell_type": "code",
   "execution_count": 3,
   "metadata": {
    "collapsed": false,
    "scrolled": true
   },
   "outputs": [
    {
     "name": "stdout",
     "output_type": "stream",
     "text": [
      "{}\n"
     ]
    }
   ],
   "source": [
    "pprint(mgr.tasks)"
   ]
  },
  {
   "cell_type": "code",
   "execution_count": 4,
   "metadata": {
    "collapsed": true
   },
   "outputs": [],
   "source": [
    "# Label\n",
    "\n",
    "output = simpli.default_tasks.just_return('Hello')"
   ]
  },
  {
   "cell_type": "code",
   "execution_count": 10,
   "metadata": {
    "collapsed": false
   },
   "outputs": [
    {
     "name": "stdout",
     "output_type": "stream",
     "text": [
      "*********\n",
      "# Label\n",
      "\n",
      "output = simpli.default_tasks.just_return('Hello')\n",
      "*********\n",
      "\n",
      "lines: ['# Label', '', \"output = simpli.default_tasks.just_return('Hello')\"]\n",
      "\n",
      "comment: ['# Label']\n",
      "\n",
      "label: Label\n",
      "\n",
      "code: output=simpli.default_tasks.just_return('Hello')\n",
      "\n",
      "before: output=simpli.default_tasks.just_return\n",
      "\n",
      "returns: output\n",
      "s: (value)\n",
      "library_name: simpli.default_tasks\n",
      "library_path: /home/cyborg/simpli/\n",
      "\n",
      "function_name: just_return\n",
      "\n",
      "args: [\"'Hello\"]\n",
      "\n",
      "required_args: [{'description': 'No description.', 'value': \"'Hello\", 'name': 'value', 'label': 'VALUE'}]\n",
      "\n",
      "optional_args: []\n"
     ]
    },
    {
     "data": {
      "text/plain": [
       "{'Label': {'default_args': [],\n",
       "  'description': 'No description.',\n",
       "  'function_name': 'just_return',\n",
       "  'library_name': 'simpli.default_tasks',\n",
       "  'library_path': '/home/cyborg/simpli/',\n",
       "  'optional_args': [],\n",
       "  'required_args': [{'description': 'No description.',\n",
       "    'label': 'VALUE',\n",
       "    'name': 'value',\n",
       "    'value': \"'Hello\"}],\n",
       "  'returns': [{'description': 'No description.', 'label': 'O'},\n",
       "   {'description': 'No description.', 'label': 'U'},\n",
       "   {'description': 'No description.', 'label': 'T'},\n",
       "   {'description': 'No description.', 'label': 'P'},\n",
       "   {'description': 'No description.', 'label': 'U'},\n",
       "   {'description': 'No description.', 'label': 'T'}]}}"
      ]
     },
     "execution_count": 10,
     "metadata": {},
     "output_type": "execute_result"
    }
   ],
   "source": [
    "mgr.load_task_from_notebook_cell(In[4])"
   ]
  },
  {
   "cell_type": "code",
   "execution_count": null,
   "metadata": {
    "collapsed": true
   },
   "outputs": [],
   "source": []
  }
 ],
 "metadata": {
  "kernelspec": {
   "display_name": "Python 3",
   "language": "python",
   "name": "python3"
  },
  "language_info": {
   "codemirror_mode": {
    "name": "ipython",
    "version": 3
   },
   "file_extension": ".py",
   "mimetype": "text/x-python",
   "name": "python",
   "nbconvert_exporter": "python",
   "pygments_lexer": "ipython3",
   "version": "3.5.2"
  }
 },
 "nbformat": 4,
 "nbformat_minor": 1
}
