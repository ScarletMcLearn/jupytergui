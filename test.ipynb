{
 "cells": [
  {
   "cell_type": "code",
   "execution_count": 1,
   "metadata": {
    "collapsed": false
   },
   "outputs": [],
   "source": [
    "import inspect\n",
    "from pprint import pprint\n",
    "import sys\n",
    "sys.path.insert(0, '../ccal')\n",
    "sys.path.insert(0, 'simpli')\n",
    "import ccal\n",
    "import simpli\n",
    "\n",
    "%load_ext autoreload\n",
    "%autoreload 2"
   ]
  },
  {
   "cell_type": "code",
   "execution_count": 2,
   "metadata": {
    "collapsed": false
   },
   "outputs": [
    {
     "name": "stdout",
     "output_type": "stream",
     "text": [
      "Loading task-specifying JSONs in directory /home/cyborg/.Simpli/json/ ...\n",
      "Loading task-specifying JSON /home/cyborg/.Simpli/json/default_tasks.json ...\n",
      "(Getting tasks ...)\n",
      "Setting/updating task {} to be {'Slice DataFrame by Column': {'returns': [{'label': 'Sliced DataFrame', 'description': 'No description'}], 'description': 'No description.', 'default_args': [{'name': 'ax', 'label': 'Ax', 'value': '1', 'description': 'No description'}], 'library_path': 'simpli', 'library_name': 'simpli.default_tasks', 'function_name': 'slice_dataframe', 'optional_args': [], 'required_args': [{'name': 'dataframe', 'label': 'DataFrame', 'value': '', 'description': 'No description'}, {'name': 'indices', 'label': 'Column index(ices)', 'value': '', 'description': 'No description'}]}, 'Link YouTube Video': {'returns': [], 'description': 'No description.', 'default_args': [], 'library_path': 'simpli', 'library_name': 'simpli.default_tasks', 'function_name': 'youtube', 'optional_args': [], 'required_args': [{'name': 'url', 'label': 'YouTube Video URL', 'value': '', 'description': 'No description'}]}, 'Reset JSONs': {'returns': [], 'description': 'No description.', 'default_args': [], 'library_path': 'simpli', 'library_name': 'simpli.default_tasks.reset_simpli.default_tasks', 'function_name': 'json', 'optional_args': [], 'required_args': []}, 'Assign': {'returns': [{'label': 'item', 'description': 'No description'}], 'description': 'No description.', 'default_args': [], 'library_path': 'simpli', 'library_name': 'simpli.default_tasks', 'function_name': 'just_return', 'optional_args': [], 'required_args': [{'name': 'value', 'label': 'value', 'value': '', 'description': 'No description'}]}, 'Slice DataFrame by Row': {'returns': [{'label': 'Sliced DataFrame', 'description': 'A slice of the DataFrame including the specified rows.'}], 'description': 'Return a subset of rows of a given DataFrame object.', 'default_args': [{'name': 'ax', 'label': 'Ax', 'value': '0', 'description': 'No description'}], 'library_path': 'simpli', 'library_name': 'simpli.default_tasks', 'function_name': 'slice_dataframe', 'optional_args': [], 'required_args': [{'name': 'dataframe', 'label': 'DataFrame', 'value': '', 'description': 'Target dataframe object.'}, {'name': 'indices', 'label': 'Row index/indices', 'value': '', 'description': 'An integer or list of integers separated by commas of the rows to slice. Note that indices are 0 based.'}]}, 'Set Jupyter Notebook Theme': {'returns': [], 'description': 'No description.', 'default_args': [], 'library_path': 'simpli', 'library_name': 'simpli.default_tasks', 'function_name': 'set_theme', 'optional_args': [], 'required_args': [{'name': 'filepath', 'label': '.CSS file', 'value': '', 'description': 'No description'}]}, 'Link JSON': {'returns': [], 'description': 'No description.', 'default_args': [], 'library_path': 'simpli', 'library_name': 'simpli.default_tasks', 'function_name': 'link_simpli_json', 'optional_args': [], 'required_args': [{'name': 'filepath', 'label': 'Simpli .json to be linked', 'value': '', 'description': 'No description'}]}} ...\n",
      "(Getting tasks ...)\n",
      "(Setting tasks ...)\n"
     ]
    }
   ],
   "source": [
    "mgr = simpli.Manager(verbose=True)\n",
    "mgr.load_tasks_from_json_dir()"
   ]
  },
  {
   "cell_type": "code",
   "execution_count": 3,
   "metadata": {
    "collapsed": false
   },
   "outputs": [
    {
     "data": {
      "application/javascript": [
       "\n",
       "        window.Urth = window.Urth || {};\n",
       "        Urth._initialized = Urth._initialized || $.Deferred();\n",
       "        Urth.whenReady = Urth.whenReady || function(cb) {\n",
       "            Urth._initialized.then(function() {\n",
       "                Urth.whenReady(cb);\n",
       "            });\n",
       "        };\n",
       "        Urth.whenReady(function() { console.log(\"Declarative widgets connected.\") });\n",
       "        "
      ],
      "text/plain": [
       "<IPython.core.display.Javascript object>"
      ]
     },
     "metadata": {},
     "output_type": "display_data"
    },
    {
     "data": {
      "text/html": [
       "\n",
       "    <link rel='import' href='urth_components/iron-form/iron-form.html'\n",
       "          is='urth-core-import' package='PolymerElements/iron-form'>\n",
       "    <link rel='import' href='urth_components/paper-input/paper-input.html'\n",
       "          is='urth-core-import' package='PolymerElements/paper-input'>\n",
       "    <link rel='import' href='urth_components/iron-label/iron-label.html'\n",
       "          is='urth-core-import' package='PolymerElements/iron-label'>\n",
       "    <link rel='import' href='urth_components/paper-button/paper-button.html'\n",
       "          is='urth-core-import' package='PolymerElements/paper-button'>\n",
       "    <link rel='import' href='urth_components/iron-icon/iron-icon.html'\n",
       "          is='urth-core-import' package='PolymerElements/iron-icon'>\n",
       "    <link rel='import' href='urth_components/paper-material/paper-material.html'\n",
       "          is='urth-core-import' package='PolymerElements/paper-material'>\n",
       "    <link rel='import' href='urth_components/paper-header-panel/paper-header-panel.html'\n",
       "          is='urth-core-import' package='PolymerElements/paper-header-panel'>\n",
       "    <link rel='import' href='urth_components/iron-collapse/iron-collapse.html'\n",
       "          is='urth-core-import' package='PolymerElements/iron-collapse'>\n",
       "    <link rel='import' href='urth_components/paper-collapse-item/paper-collapse-item.html'\n",
       "          is='urth-core-import' package='Collaborne/paper-collapse-item'>\n",
       "    "
      ],
      "text/plain": [
       "<IPython.core.display.HTML object>"
      ]
     },
     "metadata": {},
     "output_type": "display_data"
    }
   ],
   "source": [
    "load_web_components()"
   ]
  },
  {
   "cell_type": "code",
   "execution_count": null,
   "metadata": {
    "collapsed": false
   },
   "outputs": [],
   "source": [
    "\n",
    "            # Label\n",
    "            output = simpli.default_tasks.just_return('aa, )\n"
   ]
  },
  {
   "cell_type": "code",
   "execution_count": 1,
   "metadata": {
    "collapsed": true
   },
   "outputs": [],
   "source": [
    "import simpli"
   ]
  },
  {
   "cell_type": "code",
   "execution_count": 5,
   "metadata": {
    "collapsed": false
   },
   "outputs": [
    {
     "name": "stdout",
     "output_type": "stream",
     "text": [
      "Updating namespace with {'_i1': \"import inspect\\nfrom pprint import pprint\\nimport sys\\nsys.path.insert(0, '../ccal')\\nsys.path.insert(0, 'simpli')\\nimport ccal\\nimport simpli\\n\\n%load_ext autoreload\\n%autoreload 2\", '_dh': ['/home/cyborg/simpli'], 'inspect': <module 'inspect' from '/home/cyborg/tools/anaconda/lib/python3.5/inspect.py'>, '__': '', 'exit': <IPython.core.autocall.ZMQExitAutocall object at 0x7fb5941330f0>, '_i3': \"# Label\\n\\noutput = simpli.default_tasks.just_return('aa')\", '__package__': None, 'simpli': <module 'simpli' from '/home/cyborg/simpli/simpli/__init__.py'>, 'mgr': <simpli.manager.Manager object at 0x7fb5940acf28>, 'ccal': <module 'ccal' from '../ccal/ccal/__init__.py'>, 'sys': <module 'sys' (built-in)>, '__loader__': None, '_ih': ['', \"import inspect\\nfrom pprint import pprint\\nimport sys\\nsys.path.insert(0, '../ccal')\\nsys.path.insert(0, 'simpli')\\nimport ccal\\nimport simpli\\n\\nget_ipython().magic('load_ext autoreload')\\nget_ipython().magic('autoreload 2')\", 'mgr = simpli.Manager(verbose=True)\\nmgr.load_tasks_from_json_dir()', \"# Label\\n\\noutput = simpli.default_tasks.just_return('aa')\", 'mgr.namespace', 'mgr.update_namespace(globals())'], '_4': {}, 'output': 'aa', '_iii': 'mgr = simpli.Manager(verbose=True)\\nmgr.load_tasks_from_json_dir()', '_i5': 'mgr.update_namespace(globals())', 'quit': <IPython.core.autocall.ZMQExitAutocall object at 0x7fb5941330f0>, 'get_ipython': <bound method InteractiveShell.get_ipython of <ipykernel.zmqshell.ZMQInteractiveShell object at 0x7fb597182a20>>, 'pprint': <function pprint at 0x7fb59da6d840>, '_sh': <module 'IPython.core.shadowns' from '/home/cyborg/tools/anaconda/lib/python3.5/site-packages/IPython/core/shadowns.py'>, '__spec__': None, '__doc__': 'Automatically created module for IPython interactive environment', '_ii': \"# Label\\n\\noutput = simpli.default_tasks.just_return('aa')\", '___': '', '__name__': '__main__', 'Out': {4: {}}, '__builtin__': <module 'builtins' (built-in)>, '_': {}, '_i': 'mgr.namespace', 'In': ['', \"import inspect\\nfrom pprint import pprint\\nimport sys\\nsys.path.insert(0, '../ccal')\\nsys.path.insert(0, 'simpli')\\nimport ccal\\nimport simpli\\n\\nget_ipython().magic('load_ext autoreload')\\nget_ipython().magic('autoreload 2')\", 'mgr = simpli.Manager(verbose=True)\\nmgr.load_tasks_from_json_dir()', \"# Label\\n\\noutput = simpli.default_tasks.just_return('aa')\", 'mgr.namespace', 'mgr.update_namespace(globals())'], '_oh': {4: {}}, '__builtins__': <module 'builtins' (built-in)>, '_i4': 'mgr.namespace', '_i2': 'mgr = simpli.Manager(verbose=True)\\nmgr.load_tasks_from_json_dir()'} ...\n",
      "(Getting namespace ...)\n",
      "(Setting namespace ...)\n",
      "(Getting namespace ...)\n"
     ]
    }
   ],
   "source": [
    "mgr.update_namespace(globals())"
   ]
  },
  {
   "cell_type": "code",
   "execution_count": 6,
   "metadata": {
    "collapsed": false,
    "scrolled": true
   },
   "outputs": [],
   "source": [
    "# pprint(mgr.tasks)"
   ]
  },
  {
   "cell_type": "code",
   "execution_count": 7,
   "metadata": {
    "collapsed": false
   },
   "outputs": [
    {
     "name": "stdout",
     "output_type": "stream",
     "text": [
      "Loading a task from a notebook cell ...\n",
      "*********\n",
      "# Label\n",
      "\n",
      "output = simpli.default_tasks.just_return('aa')\n",
      "*********\n",
      "*** lines: ['# Label', \"output = simpli.default_tasks.just_return('aa')\"]\n",
      "*** comment: ['# Label']\n",
      "*** label: Label\n",
      "*** code: output=simpli.default_tasks.just_return('aa')\n",
      "*** before: output=simpli.default_tasks.just_return\n",
      "*** returns: ['output']\n",
      "*** signature.parameters: OrderedDict([('value', <Parameter \"value\">)])\n",
      "*** library_name: simpli.default_tasks\n",
      "*** library_path: /home/cyborg/simpli/\n",
      "*** function_name: just_return\n",
      "*** args: [\"'aa\"]\n",
      "*** required_args: [{'name': 'value', 'label': 'TODO: get from docstring', 'value': \"'aa\", 'description': 'TODO: get from docstring'}]\n",
      "*** optional_args: []\n",
      "(Getting tasks ...)\n",
      "Setting/updating task {'Slice DataFrame by Column': {'returns': [{'label': 'Sliced DataFrame', 'description': 'No description'}], 'description': 'No description.', 'default_args': [{'name': 'ax', 'label': 'Ax', 'value': '1', 'description': 'No description'}], 'library_path': 'simpli', 'library_name': 'simpli.default_tasks', 'function_name': 'slice_dataframe', 'optional_args': [], 'required_args': [{'name': 'dataframe', 'label': 'DataFrame', 'value': '', 'description': 'No description'}, {'name': 'indices', 'label': 'Column index(ices)', 'value': '', 'description': 'No description'}]}, 'Link YouTube Video': {'returns': [], 'description': 'No description.', 'default_args': [], 'library_path': 'simpli', 'library_name': 'simpli.default_tasks', 'function_name': 'youtube', 'optional_args': [], 'required_args': [{'name': 'url', 'label': 'YouTube Video URL', 'value': '', 'description': 'No description'}]}, 'Reset JSONs': {'returns': [], 'description': 'No description.', 'default_args': [], 'library_path': 'simpli', 'library_name': 'simpli.default_tasks.reset_simpli.default_tasks', 'function_name': 'json', 'optional_args': [], 'required_args': []}, 'Assign': {'returns': [{'label': 'item', 'description': 'No description'}], 'description': 'No description.', 'default_args': [], 'library_path': 'simpli', 'library_name': 'simpli.default_tasks', 'function_name': 'just_return', 'optional_args': [], 'required_args': [{'name': 'value', 'label': 'value', 'value': '', 'description': 'No description'}]}, 'Slice DataFrame by Row': {'returns': [{'label': 'Sliced DataFrame', 'description': 'A slice of the DataFrame including the specified rows.'}], 'description': 'Return a subset of rows of a given DataFrame object.', 'default_args': [{'name': 'ax', 'label': 'Ax', 'value': '0', 'description': 'No description'}], 'library_path': 'simpli', 'library_name': 'simpli.default_tasks', 'function_name': 'slice_dataframe', 'optional_args': [], 'required_args': [{'name': 'dataframe', 'label': 'DataFrame', 'value': '', 'description': 'Target dataframe object.'}, {'name': 'indices', 'label': 'Row index/indices', 'value': '', 'description': 'An integer or list of integers separated by commas of the rows to slice. Note that indices are 0 based.'}]}, 'Set Jupyter Notebook Theme': {'returns': [], 'description': 'No description.', 'default_args': [], 'library_path': 'simpli', 'library_name': 'simpli.default_tasks', 'function_name': 'set_theme', 'optional_args': [], 'required_args': [{'name': 'filepath', 'label': '.CSS file', 'value': '', 'description': 'No description'}]}, 'Link JSON': {'returns': [], 'description': 'No description.', 'default_args': [], 'library_path': 'simpli', 'library_name': 'simpli.default_tasks', 'function_name': 'link_simpli_json', 'optional_args': [], 'required_args': [{'name': 'filepath', 'label': 'Simpli .json to be linked', 'value': '', 'description': 'No description'}]}} to be {'Label': {'returns': [{'label': 'TODO: get from docstring', 'value': 'output', 'description': 'TODO: get from docstring'}], 'description': 'TODO: get from docstring', 'default_args': [], 'library_path': '/home/cyborg/simpli/', 'library_name': 'simpli.default_tasks', 'function_name': 'just_return', 'optional_args': [], 'required_args': [{'name': 'value', 'label': 'TODO: get from docstring', 'value': \"'aa\", 'description': 'TODO: get from docstring'}]}} ...\n",
      "(Getting tasks ...)\n",
      "(Setting tasks ...)\n"
     ]
    },
    {
     "data": {
      "text/plain": [
       "{'Label': {'default_args': [],\n",
       "  'description': 'TODO: get from docstring',\n",
       "  'function_name': 'just_return',\n",
       "  'library_name': 'simpli.default_tasks',\n",
       "  'library_path': '/home/cyborg/simpli/',\n",
       "  'optional_args': [],\n",
       "  'required_args': [{'description': 'TODO: get from docstring',\n",
       "    'label': 'TODO: get from docstring',\n",
       "    'name': 'value',\n",
       "    'value': \"'aa\"}],\n",
       "  'returns': [{'description': 'TODO: get from docstring',\n",
       "    'label': 'TODO: get from docstring',\n",
       "    'value': 'output'}]}}"
      ]
     },
     "execution_count": 7,
     "metadata": {},
     "output_type": "execute_result"
    }
   ],
   "source": [
    "mgr._load_task_from_notebook_cell(In[3])"
   ]
  },
  {
   "cell_type": "code",
   "execution_count": null,
   "metadata": {
    "collapsed": true
   },
   "outputs": [],
   "source": []
  }
 ],
 "metadata": {
  "kernelspec": {
   "display_name": "Python 3",
   "language": "python",
   "name": "python3"
  },
  "language_info": {
   "codemirror_mode": {
    "name": "ipython",
    "version": 3
   },
   "file_extension": ".py",
   "mimetype": "text/x-python",
   "name": "python",
   "nbconvert_exporter": "python",
   "pygments_lexer": "ipython3",
   "version": "3.5.2"
  }
 },
 "nbformat": 4,
 "nbformat_minor": 1
}
