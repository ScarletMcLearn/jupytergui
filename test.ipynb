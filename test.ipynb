{
 "cells": [
  {
   "cell_type": "code",
   "execution_count": 1,
   "metadata": {
    "collapsed": false
   },
   "outputs": [],
   "source": [
    "import inspect\n",
    "from pprint import pprint\n",
    "import sys\n",
    "sys.path.insert(0, 'simpli')\n",
    "from simpli import Manager\n",
    "\n",
    "%load_ext autoreload\n",
    "%autoreload 2"
   ]
  },
  {
   "cell_type": "code",
   "execution_count": 2,
   "metadata": {
    "collapsed": false
   },
   "outputs": [
    {
     "name": "stdout",
     "output_type": "stream",
     "text": [
      "Loading task-specifying JSONs in directory /home/cyborg/.Simpli/json/ ...\n",
      "Loading task-specifying JSON /home/cyborg/.Simpli/json/default_tasks.json ...\n",
      "(Getting tasks ...)\n",
      "Setting/updating task {} to be {'Link JSON': {'optional_args': [], 'function_name': 'link_simpli_json', 'library_path': 'simpli', 'default_args': [], 'library_name': 'simpli.default_tasks', 'returns': [], 'description': 'No description.', 'required_args': [{'value': '', 'description': 'No description', 'label': 'Simpli .json to be linked', 'name': 'filepath'}]}, 'Slice DataFrame by Row': {'optional_args': [], 'function_name': 'slice_dataframe', 'library_path': 'simpli', 'default_args': [{'value': '0', 'description': 'No description', 'label': 'Ax', 'name': 'ax'}], 'library_name': 'simpli.default_tasks', 'returns': [{'description': 'A slice of the DataFrame including the specified rows.', 'label': 'Sliced DataFrame'}], 'description': 'Return a subset of rows of a given DataFrame object.', 'required_args': [{'value': '', 'description': 'Target dataframe object.', 'label': 'DataFrame', 'name': 'dataframe'}, {'value': '', 'description': 'An integer or list of integers separated by commas of the rows to slice. Note that indices are 0 based.', 'label': 'Row index/indices', 'name': 'indices'}]}, 'Assign': {'optional_args': [], 'function_name': 'just_return', 'library_path': 'simpli', 'default_args': [], 'library_name': 'simpli.default_tasks', 'returns': [{'description': 'No description', 'label': 'item'}], 'description': 'No description.', 'required_args': [{'value': '', 'description': 'No description', 'label': 'value', 'name': 'value'}]}, 'Link YouTube Video': {'optional_args': [], 'function_name': 'youtube', 'library_path': 'simpli', 'default_args': [], 'library_name': 'simpli.default_tasks', 'returns': [], 'description': 'No description.', 'required_args': [{'value': '', 'description': 'No description', 'label': 'YouTube Video URL', 'name': 'url'}]}, 'Set Jupyter Notebook Theme': {'optional_args': [], 'function_name': 'set_theme', 'library_path': 'simpli', 'default_args': [], 'library_name': 'simpli.default_tasks', 'returns': [], 'description': 'No description.', 'required_args': [{'value': '', 'description': 'No description', 'label': '.CSS file', 'name': 'filepath'}]}, 'Reset JSONs': {'optional_args': [], 'function_name': 'json', 'library_path': 'simpli', 'default_args': [], 'library_name': 'simpli.default_tasks.reset_simpli.default_tasks', 'returns': [], 'description': 'No description.', 'required_args': []}, 'Slice DataFrame by Column': {'optional_args': [], 'function_name': 'slice_dataframe', 'library_path': 'simpli', 'default_args': [{'value': '1', 'description': 'No description', 'label': 'Ax', 'name': 'ax'}], 'library_name': 'simpli.default_tasks', 'returns': [{'description': 'No description', 'label': 'Sliced DataFrame'}], 'description': 'No description.', 'required_args': [{'value': '', 'description': 'No description', 'label': 'DataFrame', 'name': 'dataframe'}, {'value': '', 'description': 'No description', 'label': 'Column index(ices)', 'name': 'indices'}]}} ...\n",
      "(Getting tasks ...)\n",
      "(Setting tasks ...)\n"
     ]
    }
   ],
   "source": [
    "mgr = Manager(verbose=True)\n",
    "mgr.load_tasks_from_json_dir()"
   ]
  },
  {
   "cell_type": "code",
   "execution_count": 3,
   "metadata": {
    "collapsed": false,
    "scrolled": true
   },
   "outputs": [],
   "source": [
    "# pprint(mgr.tasks)"
   ]
  },
  {
   "cell_type": "code",
   "execution_count": 5,
   "metadata": {
    "collapsed": false
   },
   "outputs": [
    {
     "name": "stdout",
     "output_type": "stream",
     "text": [
      "Getting task None ...\n",
      "Loading a task from a notebook cell ...\n",
      "*********\n",
      "# Label\n",
      "\n",
      "output = simpli.default_tasks.just_return(\"Hello\")\n",
      "*********\n",
      "*** lines: ['# Label', '', 'output = simpli.default_tasks.just_return(\"Hello\")']\n",
      "*** comment: ['# Label']\n",
      "*** label: Label\n",
      "*** code: output=simpli.default_tasks.just_return(\"Hello\")\n",
      "*** before: output=simpli.default_tasks.just_return\n",
      "*** returns: ['output']\n",
      "*** signature.parameters: OrderedDict([('value', <Parameter \"value\">)])\n",
      "*** library_name: simpli.default_tasks\n",
      "*** library_path: /home/cyborg/simpli/\n",
      "*** function_name: just_return\n",
      "*** args: ['\"Hello']\n",
      "*** required_args: [{'value': '\"Hello', 'description': 'TODO: get from docstring', 'label': 'TODO: get from docstring', 'name': 'value'}]\n",
      "*** optional_args: []\n",
      "(Getting tasks ...)\n",
      "Setting/updating task {'Link JSON': {'optional_args': [], 'function_name': 'link_simpli_json', 'library_path': 'simpli', 'default_args': [], 'library_name': 'simpli.default_tasks', 'returns': [], 'description': 'No description.', 'required_args': [{'value': '', 'description': 'No description', 'label': 'Simpli .json to be linked', 'name': 'filepath'}]}, 'Assign': {'optional_args': [], 'function_name': 'just_return', 'library_path': 'simpli', 'default_args': [], 'library_name': 'simpli.default_tasks', 'returns': [{'description': 'No description', 'label': 'item'}], 'description': 'No description.', 'required_args': [{'value': '', 'description': 'No description', 'label': 'value', 'name': 'value'}]}, 'Link YouTube Video': {'optional_args': [], 'function_name': 'youtube', 'library_path': 'simpli', 'default_args': [], 'library_name': 'simpli.default_tasks', 'returns': [], 'description': 'No description.', 'required_args': [{'value': '', 'description': 'No description', 'label': 'YouTube Video URL', 'name': 'url'}]}, 'Set Jupyter Notebook Theme': {'optional_args': [], 'function_name': 'set_theme', 'library_path': 'simpli', 'default_args': [], 'library_name': 'simpli.default_tasks', 'returns': [], 'description': 'No description.', 'required_args': [{'value': '', 'description': 'No description', 'label': '.CSS file', 'name': 'filepath'}]}, 'Slice DataFrame by Row': {'optional_args': [], 'function_name': 'slice_dataframe', 'library_path': 'simpli', 'default_args': [{'value': '0', 'description': 'No description', 'label': 'Ax', 'name': 'ax'}], 'library_name': 'simpli.default_tasks', 'returns': [{'description': 'A slice of the DataFrame including the specified rows.', 'label': 'Sliced DataFrame'}], 'description': 'Return a subset of rows of a given DataFrame object.', 'required_args': [{'value': '', 'description': 'Target dataframe object.', 'label': 'DataFrame', 'name': 'dataframe'}, {'value': '', 'description': 'An integer or list of integers separated by commas of the rows to slice. Note that indices are 0 based.', 'label': 'Row index/indices', 'name': 'indices'}]}, 'Slice DataFrame by Column': {'optional_args': [], 'function_name': 'slice_dataframe', 'library_path': 'simpli', 'default_args': [{'value': '1', 'description': 'No description', 'label': 'Ax', 'name': 'ax'}], 'library_name': 'simpli.default_tasks', 'returns': [{'description': 'No description', 'label': 'Sliced DataFrame'}], 'description': 'No description.', 'required_args': [{'value': '', 'description': 'No description', 'label': 'DataFrame', 'name': 'dataframe'}, {'value': '', 'description': 'No description', 'label': 'Column index(ices)', 'name': 'indices'}]}, 'Reset JSONs': {'optional_args': [], 'function_name': 'json', 'library_path': 'simpli', 'default_args': [], 'library_name': 'simpli.default_tasks.reset_simpli.default_tasks', 'returns': [], 'description': 'No description.', 'required_args': []}} to be {'Label': {'optional_args': [], 'function_name': 'just_return', 'description': 'TODO: get from docstring', 'default_args': [], 'library_name': 'simpli.default_tasks', 'library_path': '/home/cyborg/simpli/', 'required_args': [{'value': '\"Hello', 'description': 'TODO: get from docstring', 'label': 'TODO: get from docstring', 'name': 'value'}], 'returns': [{'value': 'output', 'description': 'TODO: get from docstring', 'label': 'TODO: get from docstring'}]}} ...\n",
      "(Getting tasks ...)\n",
      "(Setting tasks ...)\n",
      "{\"Label\": {\"optional_args\": [], \"function_name\": \"just_return\", \"description\": \"TODO: get from docstring\", \"default_args\": [], \"library_name\": \"simpli.default_tasks\", \"library_path\": \"/home/cyborg/simpli/\", \"required_args\": [{\"value\": \"\\\"Hello\", \"description\": \"TODO: get from docstring\", \"label\": \"TODO: get from docstring\", \"name\": \"value\"}], \"returns\": [{\"value\": \"output\", \"description\": \"TODO: get from docstring\", \"label\": \"TODO: get from docstring\"}]}}\n"
     ]
    },
    {
     "data": {
      "text/plain": [
       "{'Label': {'default_args': [],\n",
       "  'description': 'TODO: get from docstring',\n",
       "  'function_name': 'just_return',\n",
       "  'library_name': 'simpli.default_tasks',\n",
       "  'library_path': '/home/cyborg/simpli/',\n",
       "  'optional_args': [],\n",
       "  'required_args': [{'description': 'TODO: get from docstring',\n",
       "    'label': 'TODO: get from docstring',\n",
       "    'name': 'value',\n",
       "    'value': '\"Hello'}],\n",
       "  'returns': [{'description': 'TODO: get from docstring',\n",
       "    'label': 'TODO: get from docstring',\n",
       "    'value': 'output'}]}}"
      ]
     },
     "execution_count": 5,
     "metadata": {},
     "output_type": "execute_result"
    }
   ],
   "source": [
    "mgr.get_task(notebook_cell_text='''# Label\n",
    "\n",
    "output = simpli.default_tasks.just_return(\"Hello\")''')"
   ]
  },
  {
   "cell_type": "code",
   "execution_count": 4,
   "metadata": {
    "collapsed": false
   },
   "outputs": [],
   "source": [
    "# Label\n",
    "\n",
    "fff = simpli.default_tasks.just_return('Hello')"
   ]
  },
  {
   "cell_type": "code",
   "execution_count": 5,
   "metadata": {
    "collapsed": false
   },
   "outputs": [
    {
     "data": {
      "text/plain": [
       "\"# Label\\n\\nfff = simpli.default_tasks.just_return('Hello')\""
      ]
     },
     "execution_count": 5,
     "metadata": {},
     "output_type": "execute_result"
    }
   ],
   "source": [
    "In[4]"
   ]
  },
  {
   "cell_type": "code",
   "execution_count": 6,
   "metadata": {
    "collapsed": false
   },
   "outputs": [
    {
     "name": "stdout",
     "output_type": "stream",
     "text": [
      "Getting task None ...\n",
      "Loading a task from a notebook cell ...\n",
      "*********\n",
      "# Label\n",
      "\n",
      "fff = simpli.default_tasks.just_return('Hello')\n",
      "*********\n",
      "*** lines: ['# Label', '', \"fff = simpli.default_tasks.just_return('Hello')\"]\n",
      "*** comment: ['# Label']\n",
      "*** label: Label\n",
      "*** code: fff=simpli.default_tasks.just_return('Hello')\n",
      "*** before: fff=simpli.default_tasks.just_return\n",
      "*** returns: ['fff']\n",
      "*** signature.parameters: OrderedDict([('value', <Parameter \"value\">)])\n",
      "*** library_name: simpli.default_tasks\n",
      "*** library_path: /home/cyborg/simpli/\n",
      "*** function_name: just_return\n",
      "*** args: [\"'Hello\"]\n",
      "*** required_args: [{'label': 'VALUE', 'name': 'value', 'description': 'No description.', 'value': \"'Hello\"}]\n",
      "*** optional_args: []\n",
      "(Getting tasks ...)\n",
      "Setting/updating task {'Slice DataFrame by Row': {'library_path': 'simpli', 'optional_args': [], 'default_args': [{'label': 'Ax', 'name': 'ax', 'description': 'No description', 'value': '0'}], 'required_args': [{'label': 'DataFrame', 'name': 'dataframe', 'description': 'Target dataframe object.', 'value': ''}, {'label': 'Row index/indices', 'name': 'indices', 'description': 'An integer or list of integers separated by commas of the rows to slice. Note that indices are 0 based.', 'value': ''}], 'library_name': 'simpli.default_tasks', 'returns': [{'label': 'Sliced DataFrame', 'description': 'A slice of the DataFrame including the specified rows.'}], 'description': 'Return a subset of rows of a given DataFrame object.', 'function_name': 'slice_dataframe'}, 'Link JSON': {'library_path': 'simpli', 'optional_args': [], 'default_args': [], 'required_args': [{'label': 'Simpli .json to be linked', 'name': 'filepath', 'description': 'No description', 'value': ''}], 'library_name': 'simpli.default_tasks', 'returns': [], 'description': 'No description.', 'function_name': 'link_simpli_json'}, 'Slice DataFrame by Column': {'library_path': 'simpli', 'optional_args': [], 'default_args': [{'label': 'Ax', 'name': 'ax', 'description': 'No description', 'value': '1'}], 'required_args': [{'label': 'DataFrame', 'name': 'dataframe', 'description': 'No description', 'value': ''}, {'label': 'Column index(ices)', 'name': 'indices', 'description': 'No description', 'value': ''}], 'library_name': 'simpli.default_tasks', 'returns': [{'label': 'Sliced DataFrame', 'description': 'No description'}], 'description': 'No description.', 'function_name': 'slice_dataframe'}, 'Set Jupyter Notebook Theme': {'library_path': 'simpli', 'optional_args': [], 'default_args': [], 'required_args': [{'label': '.CSS file', 'name': 'filepath', 'description': 'No description', 'value': ''}], 'library_name': 'simpli.default_tasks', 'returns': [], 'description': 'No description.', 'function_name': 'set_theme'}, 'Assign': {'library_path': 'simpli', 'optional_args': [], 'default_args': [], 'required_args': [{'label': 'value', 'name': 'value', 'description': 'No description', 'value': ''}], 'library_name': 'simpli.default_tasks', 'returns': [{'label': 'item', 'description': 'No description'}], 'description': 'No description.', 'function_name': 'just_return'}, 'Link YouTube Video': {'library_path': 'simpli', 'optional_args': [], 'default_args': [], 'required_args': [{'label': 'YouTube Video URL', 'name': 'url', 'description': 'No description', 'value': ''}], 'library_name': 'simpli.default_tasks', 'returns': [], 'description': 'No description.', 'function_name': 'youtube'}, 'Reset JSONs': {'library_path': 'simpli', 'optional_args': [], 'default_args': [], 'required_args': [], 'library_name': 'simpli.default_tasks.reset_simpli.default_tasks', 'returns': [], 'description': 'No description.', 'function_name': 'json'}} to be {'Label': {'library_path': '/home/cyborg/simpli/', 'optional_args': [], 'default_args': [], 'required_args': [{'label': 'VALUE', 'name': 'value', 'description': 'No description.', 'value': \"'Hello\"}], 'library_name': 'simpli.default_tasks', 'returns': [{'label': 'FFF', 'description': 'No description.'}], 'description': 'No description.', 'function_name': 'just_return'}} ...\n",
      "(Getting tasks ...)\n",
      "(Setting tasks ...)\n",
      "{\"Label\": {\"library_path\": \"/home/cyborg/simpli/\", \"optional_args\": [], \"default_args\": [], \"required_args\": [{\"label\": \"VALUE\", \"name\": \"value\", \"description\": \"No description.\", \"value\": \"'Hello\"}], \"library_name\": \"simpli.default_tasks\", \"returns\": [{\"label\": \"FFF\", \"description\": \"No description.\"}], \"description\": \"No description.\", \"function_name\": \"just_return\"}}\n"
     ]
    },
    {
     "data": {
      "text/plain": [
       "{'Label': {'default_args': [],\n",
       "  'description': 'No description.',\n",
       "  'function_name': 'just_return',\n",
       "  'library_name': 'simpli.default_tasks',\n",
       "  'library_path': '/home/cyborg/simpli/',\n",
       "  'optional_args': [],\n",
       "  'required_args': [{'description': 'No description.',\n",
       "    'label': 'VALUE',\n",
       "    'name': 'value',\n",
       "    'value': \"'Hello\"}],\n",
       "  'returns': [{'description': 'No description.', 'label': 'FFF'}]}}"
      ]
     },
     "execution_count": 6,
     "metadata": {},
     "output_type": "execute_result"
    }
   ],
   "source": [
    "mgr.get_task(notebook_cell_text=In[4])"
   ]
  },
  {
   "cell_type": "code",
   "execution_count": 6,
   "metadata": {
    "collapsed": false
   },
   "outputs": [
    {
     "data": {
      "text/plain": [
       "'faf'"
      ]
     },
     "execution_count": 6,
     "metadata": {},
     "output_type": "execute_result"
    }
   ],
   "source": [
    "'                   faf'.strip()"
   ]
  },
  {
   "cell_type": "code",
   "execution_count": 7,
   "metadata": {
    "collapsed": false
   },
   "outputs": [
    {
     "name": "stdout",
     "output_type": "stream",
     "text": [
      "(Getting tasks ...)\n",
      "{'Assign': {'default_args': [],\n",
      "            'description': 'No description.',\n",
      "            'function_name': 'just_return',\n",
      "            'library_name': 'simpli.default_tasks',\n",
      "            'library_path': 'simpli',\n",
      "            'optional_args': [],\n",
      "            'required_args': [{'description': 'No description',\n",
      "                               'label': 'value',\n",
      "                               'name': 'value',\n",
      "                               'value': ''}],\n",
      "            'returns': [{'description': 'No description', 'label': 'item'}]},\n",
      " 'Label': {'default_args': [],\n",
      "           'description': 'No description.',\n",
      "           'function_name': 'just_return',\n",
      "           'library_name': 'simpli.default_tasks',\n",
      "           'library_path': '/home/cyborg/simpli/',\n",
      "           'optional_args': [],\n",
      "           'required_args': [{'description': 'No description.',\n",
      "                              'label': 'VALUE',\n",
      "                              'name': 'value',\n",
      "                              'value': \"'Hello\"}],\n",
      "           'returns': [{'description': 'No description.', 'label': 'FFF'}]},\n",
      " 'Link JSON': {'default_args': [],\n",
      "               'description': 'No description.',\n",
      "               'function_name': 'link_simpli_json',\n",
      "               'library_name': 'simpli.default_tasks',\n",
      "               'library_path': 'simpli',\n",
      "               'optional_args': [],\n",
      "               'required_args': [{'description': 'No description',\n",
      "                                  'label': 'Simpli .json to be linked',\n",
      "                                  'name': 'filepath',\n",
      "                                  'value': ''}],\n",
      "               'returns': []},\n",
      " 'Link YouTube Video': {'default_args': [],\n",
      "                        'description': 'No description.',\n",
      "                        'function_name': 'youtube',\n",
      "                        'library_name': 'simpli.default_tasks',\n",
      "                        'library_path': 'simpli',\n",
      "                        'optional_args': [],\n",
      "                        'required_args': [{'description': 'No description',\n",
      "                                           'label': 'YouTube Video URL',\n",
      "                                           'name': 'url',\n",
      "                                           'value': ''}],\n",
      "                        'returns': []},\n",
      " 'Reset JSONs': {'default_args': [],\n",
      "                 'description': 'No description.',\n",
      "                 'function_name': 'json',\n",
      "                 'library_name': 'simpli.default_tasks.reset_simpli.default_tasks',\n",
      "                 'library_path': 'simpli',\n",
      "                 'optional_args': [],\n",
      "                 'required_args': [],\n",
      "                 'returns': []},\n",
      " 'Set Jupyter Notebook Theme': {'default_args': [],\n",
      "                                'description': 'No description.',\n",
      "                                'function_name': 'set_theme',\n",
      "                                'library_name': 'simpli.default_tasks',\n",
      "                                'library_path': 'simpli',\n",
      "                                'optional_args': [],\n",
      "                                'required_args': [{'description': 'No '\n",
      "                                                                  'description',\n",
      "                                                   'label': '.CSS file',\n",
      "                                                   'name': 'filepath',\n",
      "                                                   'value': ''}],\n",
      "                                'returns': []},\n",
      " 'Slice DataFrame by Column': {'default_args': [{'description': 'No '\n",
      "                                                                'description',\n",
      "                                                 'label': 'Ax',\n",
      "                                                 'name': 'ax',\n",
      "                                                 'value': '1'}],\n",
      "                               'description': 'No description.',\n",
      "                               'function_name': 'slice_dataframe',\n",
      "                               'library_name': 'simpli.default_tasks',\n",
      "                               'library_path': 'simpli',\n",
      "                               'optional_args': [],\n",
      "                               'required_args': [{'description': 'No '\n",
      "                                                                 'description',\n",
      "                                                  'label': 'DataFrame',\n",
      "                                                  'name': 'dataframe',\n",
      "                                                  'value': ''},\n",
      "                                                 {'description': 'No '\n",
      "                                                                 'description',\n",
      "                                                  'label': 'Column index(ices)',\n",
      "                                                  'name': 'indices',\n",
      "                                                  'value': ''}],\n",
      "                               'returns': [{'description': 'No description',\n",
      "                                            'label': 'Sliced DataFrame'}]},\n",
      " 'Slice DataFrame by Row': {'default_args': [{'description': 'No description',\n",
      "                                              'label': 'Ax',\n",
      "                                              'name': 'ax',\n",
      "                                              'value': '0'}],\n",
      "                            'description': 'Return a subset of rows of a given '\n",
      "                                           'DataFrame object.',\n",
      "                            'function_name': 'slice_dataframe',\n",
      "                            'library_name': 'simpli.default_tasks',\n",
      "                            'library_path': 'simpli',\n",
      "                            'optional_args': [],\n",
      "                            'required_args': [{'description': 'Target '\n",
      "                                                              'dataframe '\n",
      "                                                              'object.',\n",
      "                                               'label': 'DataFrame',\n",
      "                                               'name': 'dataframe',\n",
      "                                               'value': ''},\n",
      "                                              {'description': 'An integer or '\n",
      "                                                              'list of '\n",
      "                                                              'integers '\n",
      "                                                              'separated by '\n",
      "                                                              'commas of the '\n",
      "                                                              'rows to slice. '\n",
      "                                                              'Note that '\n",
      "                                                              'indices are 0 '\n",
      "                                                              'based.',\n",
      "                                               'label': 'Row index/indices',\n",
      "                                               'name': 'indices',\n",
      "                                               'value': ''}],\n",
      "                            'returns': [{'description': 'A slice of the '\n",
      "                                                        'DataFrame including '\n",
      "                                                        'the specified rows.',\n",
      "                                         'label': 'Sliced DataFrame'}]}}\n"
     ]
    }
   ],
   "source": [
    "pprint(mgr.tasks)"
   ]
  },
  {
   "cell_type": "code",
   "execution_count": 67,
   "metadata": {
    "collapsed": false
   },
   "outputs": [
    {
     "name": "stdout",
     "output_type": "stream",
     "text": [
      "Getting task Assign ...\n",
      "(Getting tasks ...)\n",
      "{\"Assign\": {\"library_path\": \"simpli\", \"optional_args\": [], \"default_args\": [], \"required_args\": [{\"label\": \"value\", \"name\": \"value\", \"description\": \"No description\", \"value\": \"\"}], \"library_name\": \"simpli.default_tasks\", \"returns\": [{\"label\": \"item\", \"value\": \"RETURN\", \"description\": \"No description\"}], \"description\": \"No description.\", \"function_name\": \"just_return\"}}\n"
     ]
    }
   ],
   "source": [
    "task = mgr.get_task('Assign')\n",
    "task['Assign']['returns'][0]['value'] = 'RETURN_1'\n",
    "task['Assign']['required_args'][0]['value'] = 'REQUIRED_ARG_1'"
   ]
  },
  {
   "cell_type": "code",
   "execution_count": 68,
   "metadata": {
    "collapsed": false
   },
   "outputs": [
    {
     "name": "stdout",
     "output_type": "stream",
     "text": [
      "Getting task Assign ...\n",
      "(Getting tasks ...)\n",
      "{\"Assign\": {\"library_path\": \"simpli\", \"optional_args\": [], \"default_args\": [], \"required_args\": [{\"label\": \"value\", \"name\": \"value\", \"description\": \"No description\", \"value\": \"REQUIRED_ARG_1\"}], \"library_name\": \"simpli.default_tasks\", \"returns\": [{\"label\": \"item\", \"value\": \"RETURN_1\", \"description\": \"No description\"}], \"description\": \"No description.\", \"function_name\": \"just_return\"}}\n",
      "Representing task ({'Assign': {'library_path': 'simpli', 'optional_args': [], 'default_args': [], 'required_args': [{'label': 'value', 'name': 'value', 'description': 'No description', 'value': 'REQUIRED_ARG_1'}], 'library_name': 'simpli.default_tasks', 'returns': [{'label': 'item', 'value': 'RETURN_1', 'description': 'No description'}], 'description': 'No description.', 'function_name': 'just_return'}}) as code ...\n",
      "{'library_path': 'simpli', 'optional_args': [], 'default_args': [], 'required_args': [{'label': 'value', 'name': 'value', 'description': 'No description', 'value': 'REQUIRED_ARG_1'}], 'library_name': 'simpli.default_tasks', 'returns': [{'label': 'item', 'value': 'RETURN_1', 'description': 'No description'}], 'description': 'No description.', 'function_name': 'just_return'}\n",
      "returns: RETURN_1\n",
      "function_name: just_return\n",
      "required_args: REQUIRED_ARG_1\n",
      "optional_args: \n",
      "\n",
      "    # Assign\n",
      "    RETURN_1 = just_return(REQUIRED_ARG_1, )\n"
     ]
    }
   ],
   "source": [
    "task = mgr.get_task('Assign')\n",
    "print('Representing task ({}) as code ...'.format(task))\n",
    "\n",
    "label, info = task.popitem()\n",
    "print(info)\n",
    "\n",
    "returns = ', '.join([d.get('value') for d in info.get('returns')])\n",
    "print('returns: {}'.format(returns))\n",
    "\n",
    "function_name = info.get('function_name')\n",
    "print('function_name: {}'.format(function_name))\n",
    "\n",
    "required_args = ',\\n'.join([d.get('value') for d in info.get('required_args')])\n",
    "print('required_args: {}'.format(required_args))\n",
    "\n",
    "optional_args = ',\\n'.join(['{}={}'.format(d.get('name'), d.get('value')) for d in info.get('optional_args')])\n",
    "print('optional_args: {}'.format(optional_args))\n",
    "\n",
    "if returns:\n",
    "    text_template = '''\n",
    "    # {}\n",
    "    {} = {}({}, {})'''.format(label,\n",
    "                          returns,\n",
    "                          function_name,\n",
    "                          required_args,\n",
    "                          optional_args)\n",
    "else:\n",
    "    text_template = '''\n",
    "    # {}\n",
    "    {}({}, {})'''.format(label,\n",
    "                     function_name,\n",
    "                     required_args,\n",
    "                     optional_args)\n",
    "\n",
    "print(text_template)"
   ]
  },
  {
   "cell_type": "code",
   "execution_count": null,
   "metadata": {
    "collapsed": true
   },
   "outputs": [],
   "source": []
  }
 ],
 "metadata": {
  "kernelspec": {
   "display_name": "Python 3",
   "language": "python",
   "name": "python3"
  },
  "language_info": {
   "codemirror_mode": {
    "name": "ipython",
    "version": 3
   },
   "file_extension": ".py",
   "mimetype": "text/x-python",
   "name": "python",
   "nbconvert_exporter": "python",
   "pygments_lexer": "ipython3",
   "version": "3.5.2"
  }
 },
 "nbformat": 4,
 "nbformat_minor": 1
}
