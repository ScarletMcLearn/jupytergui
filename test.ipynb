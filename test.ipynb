{
 "cells": [
  {
   "cell_type": "code",
   "execution_count": 145,
   "metadata": {
    "collapsed": false
   },
   "outputs": [],
   "source": [
    "import inspect\n",
    "from pprint import pprint\n",
    "import sys\n",
    "sys.path.insert(0, 'simpli')\n",
    "import simpli"
   ]
  },
  {
   "cell_type": "code",
   "execution_count": 146,
   "metadata": {
    "collapsed": false
   },
   "outputs": [
    {
     "name": "stdout",
     "output_type": "stream",
     "text": [
      "Loading task-specifying JSONs in directory /home/cyborg/.Simpli/json/ ...\n",
      "(Getting tasks ...)\n",
      "Loading a task-specifying JSON /home/cyborg/.Simpli/json/default_tasks.json ...\n"
     ]
    }
   ],
   "source": [
    "mgr = simpli.Manager()\n",
    "mgr.load_tasks_from_json_dir()"
   ]
  },
  {
   "cell_type": "code",
   "execution_count": 147,
   "metadata": {
    "collapsed": false,
    "scrolled": true
   },
   "outputs": [
    {
     "name": "stdout",
     "output_type": "stream",
     "text": [
      "(Getting tasks ...)\n",
      "{'Assign': {'default_args': [],\n",
      "            'description': 'No description.',\n",
      "            'function_name': 'just_return',\n",
      "            'library_name': 'simpli.default_tasks',\n",
      "            'library_path': 'simpli',\n",
      "            'optional_args': [],\n",
      "            'required_args': [{'description': 'No description',\n",
      "                               'label': 'value',\n",
      "                               'name': 'value',\n",
      "                               'value': ''}],\n",
      "            'returns': [{'description': 'No description', 'label': 'item'}]},\n",
      " 'Link JSON': {'default_args': [],\n",
      "               'description': 'No description.',\n",
      "               'function_name': 'link_simpli_json',\n",
      "               'library_name': 'simpli.default_tasks',\n",
      "               'library_path': 'simpli',\n",
      "               'optional_args': [],\n",
      "               'required_args': [{'description': 'No description',\n",
      "                                  'label': 'Simpli .json to be linked',\n",
      "                                  'name': 'filepath',\n",
      "                                  'value': ''}],\n",
      "               'returns': []},\n",
      " 'Link YouTube Video': {'default_args': [],\n",
      "                        'description': 'No description.',\n",
      "                        'function_name': 'youtube',\n",
      "                        'library_name': 'simpli.default_tasks',\n",
      "                        'library_path': 'simpli',\n",
      "                        'optional_args': [],\n",
      "                        'required_args': [{'description': 'No description',\n",
      "                                           'label': 'YouTube Video URL',\n",
      "                                           'name': 'url',\n",
      "                                           'value': ''}],\n",
      "                        'returns': []},\n",
      " 'Reset JSONs': {'default_args': [],\n",
      "                 'description': 'No description.',\n",
      "                 'function_name': 'json',\n",
      "                 'library_name': 'simpli.default_tasks.reset_simpli.default_tasks',\n",
      "                 'library_path': 'simpli',\n",
      "                 'optional_args': [],\n",
      "                 'required_args': [],\n",
      "                 'returns': []},\n",
      " 'Set Jupyter Notebook Theme': {'default_args': [],\n",
      "                                'description': 'No description.',\n",
      "                                'function_name': 'set_theme',\n",
      "                                'library_name': 'simpli.default_tasks',\n",
      "                                'library_path': 'simpli',\n",
      "                                'optional_args': [],\n",
      "                                'required_args': [{'description': 'No '\n",
      "                                                                  'description',\n",
      "                                                   'label': '.CSS file',\n",
      "                                                   'name': 'filepath',\n",
      "                                                   'value': ''}],\n",
      "                                'returns': []},\n",
      " 'Slice DataFrame by Column': {'default_args': [{'description': 'No '\n",
      "                                                                'description',\n",
      "                                                 'label': 'Ax',\n",
      "                                                 'name': 'ax',\n",
      "                                                 'value': '1'}],\n",
      "                               'description': 'No description.',\n",
      "                               'function_name': 'slice_dataframe',\n",
      "                               'library_name': 'simpli.default_tasks',\n",
      "                               'library_path': 'simpli',\n",
      "                               'optional_args': [],\n",
      "                               'required_args': [{'description': 'No '\n",
      "                                                                 'description',\n",
      "                                                  'label': 'DataFrame',\n",
      "                                                  'name': 'dataframe',\n",
      "                                                  'value': ''},\n",
      "                                                 {'description': 'No '\n",
      "                                                                 'description',\n",
      "                                                  'label': 'Column index(ices)',\n",
      "                                                  'name': 'indices',\n",
      "                                                  'value': ''}],\n",
      "                               'returns': [{'description': 'No description',\n",
      "                                            'label': 'Sliced DataFrame'}]},\n",
      " 'Slice DataFrame by Row': {'default_args': [{'description': 'No description',\n",
      "                                              'label': 'Ax',\n",
      "                                              'name': 'ax',\n",
      "                                              'value': '0'}],\n",
      "                            'description': 'Return a subset of rows of a given '\n",
      "                                           'DataFrame object.',\n",
      "                            'function_name': 'slice_dataframe',\n",
      "                            'library_name': 'simpli.default_tasks',\n",
      "                            'library_path': 'simpli',\n",
      "                            'optional_args': [],\n",
      "                            'required_args': [{'description': 'Target '\n",
      "                                                              'dataframe '\n",
      "                                                              'object.',\n",
      "                                               'label': 'DataFrame',\n",
      "                                               'name': 'dataframe',\n",
      "                                               'value': ''},\n",
      "                                              {'description': 'An integer or '\n",
      "                                                              'list of '\n",
      "                                                              'integers '\n",
      "                                                              'separated by '\n",
      "                                                              'commas of the '\n",
      "                                                              'rows to slice. '\n",
      "                                                              'Note that '\n",
      "                                                              'indices are 0 '\n",
      "                                                              'based.',\n",
      "                                               'label': 'Row index/indices',\n",
      "                                               'name': 'indices',\n",
      "                                               'value': ''}],\n",
      "                            'returns': [{'description': 'A slice of the '\n",
      "                                                        'DataFrame including '\n",
      "                                                        'the specified rows.',\n",
      "                                         'label': 'Sliced DataFrame'}]}}\n"
     ]
    }
   ],
   "source": [
    "pprint(mgr.tasks)"
   ]
  },
  {
   "cell_type": "code",
   "execution_count": 148,
   "metadata": {
    "collapsed": false
   },
   "outputs": [
    {
     "name": "stdout",
     "output_type": "stream",
     "text": [
      "Getting task Assign ...\n",
      "(Getting tasks ...)\n"
     ]
    },
    {
     "data": {
      "text/plain": [
       "{'Assign': {'default_args': [],\n",
       "  'description': 'No description.',\n",
       "  'function_name': 'just_return',\n",
       "  'library_name': 'simpli.default_tasks',\n",
       "  'library_path': 'simpli',\n",
       "  'optional_args': [],\n",
       "  'required_args': [{'description': 'No description',\n",
       "    'label': 'value',\n",
       "    'name': 'value',\n",
       "    'value': ''}],\n",
       "  'returns': [{'description': 'No description', 'label': 'item'}]}}"
      ]
     },
     "execution_count": 148,
     "metadata": {},
     "output_type": "execute_result"
    }
   ],
   "source": [
    "task = mgr.get_task('Assign')\n",
    "\n",
    "task"
   ]
  },
  {
   "cell_type": "code",
   "execution_count": 149,
   "metadata": {
    "collapsed": false
   },
   "outputs": [
    {
     "name": "stdout",
     "output_type": "stream",
     "text": [
      "\tMerging and processing arguments ...\n",
      "(Getting namespace ...)\n",
      "(Getting namespace ...)\n",
      "\t\tvalue:  > '[]' (<class 'list'>)\n",
      "returns: ['return_name_0']\n",
      "Updating path, importing function, and executing task ...\n",
      "\tsys.path.insert(0, 'simpli')\n",
      "\tfrom simpli.default_tasks import just_return as function\n",
      "\tExecuting <function just_return at 0x7efd1c4448c8> with:\n",
      "(Getting namespace ...)\n",
      "\t\tvalue = '[]' (<class 'list'>)\n"
     ]
    },
    {
     "ename": "TypeError",
     "evalue": "just_return() got an unexpected keyword argument 'value'",
     "output_type": "error",
     "traceback": [
      "\u001b[0;31m---------------------------------------------------------------------------\u001b[0m",
      "\u001b[0;31mTypeError\u001b[0m                                 Traceback (most recent call last)",
      "\u001b[0;32m<ipython-input-149-1eb18de76a24>\u001b[0m in \u001b[0;36m<module>\u001b[0;34m()\u001b[0m\n\u001b[1;32m      6\u001b[0m \u001b[0mpprint\u001b[0m\u001b[0;34m(\u001b[0m\u001b[0mtask\u001b[0m\u001b[0;34m)\u001b[0m\u001b[0;34m\u001b[0m\u001b[0m\n\u001b[1;32m      7\u001b[0m \u001b[0;34m\u001b[0m\u001b[0m\n\u001b[0;32m----> 8\u001b[0;31m \u001b[0mmgr\u001b[0m\u001b[0;34m.\u001b[0m\u001b[0mexecute_task\u001b[0m\u001b[0;34m(\u001b[0m\u001b[0mtask\u001b[0m\u001b[0;34m)\u001b[0m\u001b[0;34m\u001b[0m\u001b[0m\n\u001b[0m",
      "\u001b[0;32m/home/cyborg/simpli/simpli/manager.py\u001b[0m in \u001b[0;36mexecute_task\u001b[0;34m(self, task)\u001b[0m\n\u001b[1;32m    246\u001b[0m             \u001b[0;32mraise\u001b[0m \u001b[0mValueError\u001b[0m\u001b[0;34m(\u001b[0m\u001b[0;34m'Missing returns.'\u001b[0m\u001b[0;34m)\u001b[0m\u001b[0;34m\u001b[0m\u001b[0m\n\u001b[1;32m    247\u001b[0m         \u001b[0;32melse\u001b[0m\u001b[0;34m:\u001b[0m\u001b[0;34m\u001b[0m\u001b[0m\n\u001b[0;32m--> 248\u001b[0;31m             \u001b[0mprint\u001b[0m\u001b[0;34m(\u001b[0m\u001b[0;34m'returns: {}'\u001b[0m\u001b[0;34m.\u001b[0m\u001b[0mformat\u001b[0m\u001b[0;34m(\u001b[0m\u001b[0mreturns\u001b[0m\u001b[0;34m)\u001b[0m\u001b[0;34m)\u001b[0m\u001b[0;34m\u001b[0m\u001b[0m\n\u001b[0m\u001b[1;32m    249\u001b[0m \u001b[0;34m\u001b[0m\u001b[0m\n\u001b[1;32m    250\u001b[0m         \u001b[0;31m# Call function\u001b[0m\u001b[0;34m\u001b[0m\u001b[0;34m\u001b[0m\u001b[0m\n",
      "\u001b[0;32m/home/cyborg/simpli/simpli/manager.py\u001b[0m in \u001b[0;36m_path_import_execute\u001b[0;34m(self, library_path, library_name, function_name, args)\u001b[0m\n\u001b[1;32m    289\u001b[0m         \u001b[0;31m# Execute\u001b[0m\u001b[0;34m\u001b[0m\u001b[0;34m\u001b[0m\u001b[0m\n\u001b[1;32m    290\u001b[0m         \u001b[0mprint\u001b[0m\u001b[0;34m(\u001b[0m\u001b[0;34m'\\tExecuting {} with:'\u001b[0m\u001b[0;34m.\u001b[0m\u001b[0mformat\u001b[0m\u001b[0;34m(\u001b[0m\u001b[0mlocals\u001b[0m\u001b[0;34m(\u001b[0m\u001b[0;34m)\u001b[0m\u001b[0;34m[\u001b[0m\u001b[0;34m'function'\u001b[0m\u001b[0;34m]\u001b[0m\u001b[0;34m)\u001b[0m\u001b[0;34m)\u001b[0m\u001b[0;34m\u001b[0m\u001b[0m\n\u001b[0;32m--> 291\u001b[0;31m         \u001b[0;32mfor\u001b[0m \u001b[0mn\u001b[0m\u001b[0;34m,\u001b[0m \u001b[0mv\u001b[0m \u001b[0;32min\u001b[0m \u001b[0msorted\u001b[0m\u001b[0;34m(\u001b[0m\u001b[0margs\u001b[0m\u001b[0;34m.\u001b[0m\u001b[0mitems\u001b[0m\u001b[0;34m(\u001b[0m\u001b[0;34m)\u001b[0m\u001b[0;34m)\u001b[0m\u001b[0;34m:\u001b[0m\u001b[0;34m\u001b[0m\u001b[0m\n\u001b[0m\u001b[1;32m    292\u001b[0m             \u001b[0mprint\u001b[0m\u001b[0;34m(\u001b[0m\u001b[0;34m'\\t\\t{} = {} ({})'\u001b[0m\u001b[0;34m.\u001b[0m\u001b[0mformat\u001b[0m\u001b[0;34m(\u001b[0m\u001b[0mn\u001b[0m\u001b[0;34m,\u001b[0m \u001b[0mget_name\u001b[0m\u001b[0;34m(\u001b[0m\u001b[0mv\u001b[0m\u001b[0;34m,\u001b[0m \u001b[0mself\u001b[0m\u001b[0;34m.\u001b[0m\u001b[0mnamespace\u001b[0m\u001b[0;34m)\u001b[0m\u001b[0;34m,\u001b[0m \u001b[0mtype\u001b[0m\u001b[0;34m(\u001b[0m\u001b[0mv\u001b[0m\u001b[0;34m)\u001b[0m\u001b[0;34m)\u001b[0m\u001b[0;34m)\u001b[0m\u001b[0;34m\u001b[0m\u001b[0m\n\u001b[1;32m    293\u001b[0m \u001b[0;34m\u001b[0m\u001b[0m\n",
      "\u001b[0;31mTypeError\u001b[0m: just_return() got an unexpected keyword argument 'value'"
     ]
    }
   ],
   "source": [
    "task_label = list(task.keys()).pop()\n",
    "\n",
    "for i, r in enumerate(task[task_label]['returns']):\n",
    "    r['value'] = 'return_name_{}'.format(i)\n",
    "\n",
    "pprint(task)\n",
    "\n",
    "mgr.execute_task(task)"
   ]
  },
  {
   "cell_type": "code",
   "execution_count": null,
   "metadata": {
    "collapsed": false
   },
   "outputs": [],
   "source": [
    "def get_jupyter_notebook_input(jupyter_notebook_filepath, cell_index):\n",
    "    from nbformat import read\n",
    "    # TODO: save before\n",
    "    return read(jupyter_notebook_filepath, 4).cells[3].source"
   ]
  },
  {
   "cell_type": "code",
   "execution_count": null,
   "metadata": {
    "collapsed": false
   },
   "outputs": [],
   "source": [
    "# Label\n",
    "\n",
    "simpli.default_tasks.just_return('a')"
   ]
  },
  {
   "cell_type": "code",
   "execution_count": 154,
   "metadata": {
    "collapsed": false
   },
   "outputs": [
    {
     "name": "stdout",
     "output_type": "stream",
     "text": [
      "*********\n",
      "# Label\n",
      "\n",
      "simpli.default_tasks.just_return('a')\n",
      "*********\n",
      "\n",
      "lines: ['# Label', '', \"simpli.default_tasks.just_return('a')\"]\n",
      "\n",
      "comment: ['# Label']\n",
      "\n",
      "label: Label\n",
      "\n",
      "code: simpli.default_tasks.just_return('a')\n",
      "\n",
      "before: simpli.default_tasks.just_return\n",
      "\n",
      "returns: \n",
      "library_name: simpli.default_tasks\n",
      "library_path: /home/cyborg/simpli/\n",
      "\n",
      "function_name: just_return\n",
      "\n",
      "args: [\"'a\"]\n",
      "\n",
      "required_args: [{'description': 'No description.', 'label': 'ITEM', 'value': \"'a\", 'name': 'item'}]\n",
      "\n",
      "optional_args: []\n"
     ]
    },
    {
     "data": {
      "text/plain": [
       "{'Label': {'default_args': [],\n",
       "  'description': 'No description.',\n",
       "  'function_name': 'just_return',\n",
       "  'library_name': 'simpli.default_tasks',\n",
       "  'library_path': '/home/cyborg/simpli/',\n",
       "  'optional_args': [],\n",
       "  'required_args': [{'description': 'No description.',\n",
       "    'label': 'ITEM',\n",
       "    'name': 'item',\n",
       "    'value': \"'a\"}],\n",
       "  'returns': []}}"
      ]
     },
     "execution_count": 154,
     "metadata": {},
     "output_type": "execute_result"
    }
   ],
   "source": [
    "def strip_list_of_str(list_):\n",
    "    list_ = [x.strip() for x in list_]\n",
    "    return list_\n",
    "\n",
    "def remove_form_list(list_, remove=()):\n",
    "    if any(remove):\n",
    "        list_ = filter(lambda x: x not in remove, list_)\n",
    "    return list_\n",
    "\n",
    "text = In[7]\n",
    "print('*********\\n{}\\n*********'.format(text))\n",
    "\n",
    "lines = text.split('\\n')\n",
    "print('\\nlines: {}'.format(lines))\n",
    "\n",
    "# Comment\n",
    "comment = [l for l in lines if l.startswith('#')]\n",
    "print('\\ncomment: {}'.format(comment))\n",
    "\n",
    "label = comment[0].split('#')[1].strip()\n",
    "print('\\nlabel: {}'.format(label))\n",
    "\n",
    "# Code\n",
    "code = ''.join([l for l in lines if not l.startswith('#')]).replace(' ', '')\n",
    "print('\\ncode: {}'.format(code))\n",
    "\n",
    "i = code.find('(')\n",
    "before, args = code[:i], code[i + 1:-1]\n",
    "print('\\nbefore: {}'.format(before))\n",
    "\n",
    "i = before.find('=')\n",
    "if i == -1: # No returns\n",
    "    i = 0\n",
    "returns = before[:i]\n",
    "print('\\nreturns: {}'.format(returns))\n",
    "\n",
    "if i != 0:\n",
    "    i += 1\n",
    "function_name = before[i:]\n",
    "exec('s = inspect.signature({})'.format(function_name))\n",
    "\n",
    "exec('library_name = {}.__module__'.format(function_name))\n",
    "print('library_name: {}'.format(library_name))\n",
    "exec('library_path = {}.__globals__.get(\\'__file__\\')'.format(function_name))\n",
    "library_path = library_path.split(library_name.replace('.', '/'))[0]\n",
    "print('library_path: {}'.format(library_path))\n",
    "\n",
    "function_name = function_name.split('.')[-1]\n",
    "print('\\nfunction_name: {}'.format(function_name))\n",
    "\n",
    "args = args[:-1].split(',')\n",
    "print('\\nargs: {}'.format(args))\n",
    "\n",
    "required_args = [{'label': n.upper(),\n",
    "                  'description': 'No description.',\n",
    "                  'name':n,\n",
    "                  'value':v} for n, v in zip(list(s.parameters), [x for x in args if '=' not in x])]\n",
    "print('\\nrequired_args: {}'.format(required_args))\n",
    "\n",
    "optional_args = [{'label': n.upper(),\n",
    "                  'description': 'No description',\n",
    "                  'name':n,\n",
    "                  'value':v} for n, v in [x.split('=') for x in args if '=' in x]]\n",
    "print('\\noptional_args: {}'.format(optional_args))\n",
    "\n",
    "returns = [{'label': l.upper(),\n",
    "            'description': 'No description.'} for l in returns]\n",
    "\n",
    "{label:{\n",
    "    'description': 'No description.',\n",
    "    'library_path': library_path,\n",
    "    'library_name': library_name,\n",
    "    'function_name': function_name,\n",
    "    'required_args':required_args,\n",
    "    'default_args':[],\n",
    "    'optional_args':optional_args,\n",
    "    'returns':returns\n",
    "    }\n",
    "}"
   ]
  },
  {
   "cell_type": "code",
   "execution_count": null,
   "metadata": {
    "collapsed": false
   },
   "outputs": [],
   "source": [
    "library_path.split(library_name.replace('.', '/'))"
   ]
  }
 ],
 "metadata": {
  "kernelspec": {
   "display_name": "Python 3",
   "language": "python",
   "name": "python3"
  },
  "language_info": {
   "codemirror_mode": {
    "name": "ipython",
    "version": 3
   },
   "file_extension": ".py",
   "mimetype": "text/x-python",
   "name": "python",
   "nbconvert_exporter": "python",
   "pygments_lexer": "ipython3",
   "version": "3.5.2"
  }
 },
 "nbformat": 4,
 "nbformat_minor": 1
}
