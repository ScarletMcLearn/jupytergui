{
 "cells": [
  {
   "cell_type": "code",
   "execution_count": 1,
   "metadata": {
    "collapsed": false
   },
   "outputs": [],
   "source": [
    "import inspect\n",
    "from pprint import pprint\n",
    "import sys\n",
    "sys.path.insert(0, 'simpli')\n",
    "import simpli\n",
    "\n",
    "%load_ext autoreload\n",
    "%autoreload 2"
   ]
  },
  {
   "cell_type": "code",
   "execution_count": 2,
   "metadata": {
    "collapsed": false
   },
   "outputs": [
    {
     "name": "stdout",
     "output_type": "stream",
     "text": [
      "Loading task-specifying JSONs in directory /home/cyborg/.Simpli/json/ ...\n",
      "Loading a task-specifying JSON /home/cyborg/.Simpli/json/default_tasks.json ...\n",
      "(Getting tasks ...)\n",
      "Setting/updating task {} to be {'Assign': {'optional_args': [], 'library_name': 'simpli.default_tasks', 'required_args': [{'value': '', 'label': 'value', 'description': 'No description', 'name': 'value'}], 'returns': [{'label': 'item', 'description': 'No description'}], 'function_name': 'just_return', 'default_args': [], 'description': 'No description.', 'library_path': 'simpli'}, 'Reset JSONs': {'optional_args': [], 'library_name': 'simpli.default_tasks.reset_simpli.default_tasks', 'required_args': [], 'returns': [], 'function_name': 'json', 'default_args': [], 'description': 'No description.', 'library_path': 'simpli'}, 'Link JSON': {'optional_args': [], 'library_name': 'simpli.default_tasks', 'required_args': [{'value': '', 'label': 'Simpli .json to be linked', 'description': 'No description', 'name': 'filepath'}], 'returns': [], 'function_name': 'link_simpli_json', 'default_args': [], 'description': 'No description.', 'library_path': 'simpli'}, 'Link YouTube Video': {'optional_args': [], 'library_name': 'simpli.default_tasks', 'required_args': [{'value': '', 'label': 'YouTube Video URL', 'description': 'No description', 'name': 'url'}], 'returns': [], 'function_name': 'youtube', 'default_args': [], 'description': 'No description.', 'library_path': 'simpli'}, 'Slice DataFrame by Row': {'optional_args': [], 'library_name': 'simpli.default_tasks', 'required_args': [{'value': '', 'label': 'DataFrame', 'description': 'Target dataframe object.', 'name': 'dataframe'}, {'value': '', 'label': 'Row index/indices', 'description': 'An integer or list of integers separated by commas of the rows to slice. Note that indices are 0 based.', 'name': 'indices'}], 'returns': [{'label': 'Sliced DataFrame', 'description': 'A slice of the DataFrame including the specified rows.'}], 'function_name': 'slice_dataframe', 'default_args': [{'value': '0', 'label': 'Ax', 'description': 'No description', 'name': 'ax'}], 'description': 'Return a subset of rows of a given DataFrame object.', 'library_path': 'simpli'}, 'Set Jupyter Notebook Theme': {'optional_args': [], 'library_name': 'simpli.default_tasks', 'required_args': [{'value': '', 'label': '.CSS file', 'description': 'No description', 'name': 'filepath'}], 'returns': [], 'function_name': 'set_theme', 'default_args': [], 'description': 'No description.', 'library_path': 'simpli'}, 'Slice DataFrame by Column': {'optional_args': [], 'library_name': 'simpli.default_tasks', 'required_args': [{'value': '', 'label': 'DataFrame', 'description': 'No description', 'name': 'dataframe'}, {'value': '', 'label': 'Column index(ices)', 'description': 'No description', 'name': 'indices'}], 'returns': [{'label': 'Sliced DataFrame', 'description': 'No description'}], 'function_name': 'slice_dataframe', 'default_args': [{'value': '1', 'label': 'Ax', 'description': 'No description', 'name': 'ax'}], 'description': 'No description.', 'library_path': 'simpli'}} ...\n",
      "(Getting tasks ...)\n",
      "(Setting tasks ...)\n"
     ]
    }
   ],
   "source": [
    "mgr = simpli.Manager(verbose=True)\n",
    "mgr.load_tasks_from_json_dir()"
   ]
  },
  {
   "cell_type": "code",
   "execution_count": 3,
   "metadata": {
    "collapsed": false,
    "scrolled": true
   },
   "outputs": [
    {
     "name": "stdout",
     "output_type": "stream",
     "text": [
      "(Getting tasks ...)\n",
      "{'Assign': {'default_args': [],\n",
      "            'description': 'No description.',\n",
      "            'function_name': 'just_return',\n",
      "            'library_name': 'simpli.default_tasks',\n",
      "            'library_path': 'simpli',\n",
      "            'optional_args': [],\n",
      "            'required_args': [{'description': 'No description',\n",
      "                               'label': 'value',\n",
      "                               'name': 'value',\n",
      "                               'value': ''}],\n",
      "            'returns': [{'description': 'No description', 'label': 'item'}]},\n",
      " 'Link JSON': {'default_args': [],\n",
      "               'description': 'No description.',\n",
      "               'function_name': 'link_simpli_json',\n",
      "               'library_name': 'simpli.default_tasks',\n",
      "               'library_path': 'simpli',\n",
      "               'optional_args': [],\n",
      "               'required_args': [{'description': 'No description',\n",
      "                                  'label': 'Simpli .json to be linked',\n",
      "                                  'name': 'filepath',\n",
      "                                  'value': ''}],\n",
      "               'returns': []},\n",
      " 'Link YouTube Video': {'default_args': [],\n",
      "                        'description': 'No description.',\n",
      "                        'function_name': 'youtube',\n",
      "                        'library_name': 'simpli.default_tasks',\n",
      "                        'library_path': 'simpli',\n",
      "                        'optional_args': [],\n",
      "                        'required_args': [{'description': 'No description',\n",
      "                                           'label': 'YouTube Video URL',\n",
      "                                           'name': 'url',\n",
      "                                           'value': ''}],\n",
      "                        'returns': []},\n",
      " 'Reset JSONs': {'default_args': [],\n",
      "                 'description': 'No description.',\n",
      "                 'function_name': 'json',\n",
      "                 'library_name': 'simpli.default_tasks.reset_simpli.default_tasks',\n",
      "                 'library_path': 'simpli',\n",
      "                 'optional_args': [],\n",
      "                 'required_args': [],\n",
      "                 'returns': []},\n",
      " 'Set Jupyter Notebook Theme': {'default_args': [],\n",
      "                                'description': 'No description.',\n",
      "                                'function_name': 'set_theme',\n",
      "                                'library_name': 'simpli.default_tasks',\n",
      "                                'library_path': 'simpli',\n",
      "                                'optional_args': [],\n",
      "                                'required_args': [{'description': 'No '\n",
      "                                                                  'description',\n",
      "                                                   'label': '.CSS file',\n",
      "                                                   'name': 'filepath',\n",
      "                                                   'value': ''}],\n",
      "                                'returns': []},\n",
      " 'Slice DataFrame by Column': {'default_args': [{'description': 'No '\n",
      "                                                                'description',\n",
      "                                                 'label': 'Ax',\n",
      "                                                 'name': 'ax',\n",
      "                                                 'value': '1'}],\n",
      "                               'description': 'No description.',\n",
      "                               'function_name': 'slice_dataframe',\n",
      "                               'library_name': 'simpli.default_tasks',\n",
      "                               'library_path': 'simpli',\n",
      "                               'optional_args': [],\n",
      "                               'required_args': [{'description': 'No '\n",
      "                                                                 'description',\n",
      "                                                  'label': 'DataFrame',\n",
      "                                                  'name': 'dataframe',\n",
      "                                                  'value': ''},\n",
      "                                                 {'description': 'No '\n",
      "                                                                 'description',\n",
      "                                                  'label': 'Column index(ices)',\n",
      "                                                  'name': 'indices',\n",
      "                                                  'value': ''}],\n",
      "                               'returns': [{'description': 'No description',\n",
      "                                            'label': 'Sliced DataFrame'}]},\n",
      " 'Slice DataFrame by Row': {'default_args': [{'description': 'No description',\n",
      "                                              'label': 'Ax',\n",
      "                                              'name': 'ax',\n",
      "                                              'value': '0'}],\n",
      "                            'description': 'Return a subset of rows of a given '\n",
      "                                           'DataFrame object.',\n",
      "                            'function_name': 'slice_dataframe',\n",
      "                            'library_name': 'simpli.default_tasks',\n",
      "                            'library_path': 'simpli',\n",
      "                            'optional_args': [],\n",
      "                            'required_args': [{'description': 'Target '\n",
      "                                                              'dataframe '\n",
      "                                                              'object.',\n",
      "                                               'label': 'DataFrame',\n",
      "                                               'name': 'dataframe',\n",
      "                                               'value': ''},\n",
      "                                              {'description': 'An integer or '\n",
      "                                                              'list of '\n",
      "                                                              'integers '\n",
      "                                                              'separated by '\n",
      "                                                              'commas of the '\n",
      "                                                              'rows to slice. '\n",
      "                                                              'Note that '\n",
      "                                                              'indices are 0 '\n",
      "                                                              'based.',\n",
      "                                               'label': 'Row index/indices',\n",
      "                                               'name': 'indices',\n",
      "                                               'value': ''}],\n",
      "                            'returns': [{'description': 'A slice of the '\n",
      "                                                        'DataFrame including '\n",
      "                                                        'the specified rows.',\n",
      "                                         'label': 'Sliced DataFrame'}]}}\n"
     ]
    }
   ],
   "source": [
    "pprint(mgr.tasks)"
   ]
  },
  {
   "cell_type": "code",
   "execution_count": 6,
   "metadata": {
    "collapsed": true
   },
   "outputs": [],
   "source": [
    "# Label\n",
    "\n",
    "output = simpli.default_tasks.just_return('Hello')"
   ]
  },
  {
   "cell_type": "code",
   "execution_count": 7,
   "metadata": {
    "collapsed": false
   },
   "outputs": [
    {
     "data": {
      "text/plain": [
       "\"# Label\\n\\noutput = simpli.default_tasks.just_return('Hello')\""
      ]
     },
     "execution_count": 7,
     "metadata": {},
     "output_type": "execute_result"
    }
   ],
   "source": [
    "In[6]"
   ]
  },
  {
   "cell_type": "code",
   "execution_count": 10,
   "metadata": {
    "collapsed": false
   },
   "outputs": [
    {
     "name": "stdout",
     "output_type": "stream",
     "text": [
      "Loading a task from a notebook cell ...\n",
      "*********\n",
      "# Label\n",
      "\n",
      "output = simpli.default_tasks.just_return('Hello')\n",
      "*********\n",
      "*** lines: ['# Label', '', \"output = simpli.default_tasks.just_return('Hello')\"]\n",
      "*** comment: ['# Label']\n",
      "*** label: Label\n",
      "*** code: output=simpli.default_tasks.just_return('Hello')\n",
      "*** before: output=simpli.default_tasks.just_return\n",
      "*** returns: ['output']\n",
      "*** signature.parameters: OrderedDict([('value', <Parameter \"value\">)])\n",
      "*** library_name: simpli.default_tasks\n",
      "*** library_path: /home/cyborg/simpli/\n",
      "*** function_name: just_return\n",
      "*** args: [\"'Hello\"]\n",
      "*** required_args: [{'value': \"'Hello\", 'label': 'VALUE', 'description': 'No description.', 'name': 'value'}]\n",
      "*** optional_args: []\n",
      "(Getting tasks ...)\n",
      "Setting/updating task {'Assign': {'optional_args': [], 'library_name': 'simpli.default_tasks', 'required_args': [{'value': '', 'label': 'value', 'description': 'No description', 'name': 'value'}], 'returns': [{'label': 'item', 'description': 'No description'}], 'function_name': 'just_return', 'default_args': [], 'description': 'No description.', 'library_path': 'simpli'}, 'Reset JSONs': {'optional_args': [], 'library_name': 'simpli.default_tasks.reset_simpli.default_tasks', 'required_args': [], 'returns': [], 'function_name': 'json', 'default_args': [], 'description': 'No description.', 'library_path': 'simpli'}, 'Label': {'optional_args': [], 'library_name': 'simpli.default_tasks', 'required_args': [{'value': \"'Hello\", 'label': 'VALUE', 'description': 'No description.', 'name': 'value'}], 'returns': [{'label': 'OUTPUT', 'description': 'No description.'}], 'function_name': 'just_return', 'default_args': [], 'description': 'No description.', 'library_path': '/home/cyborg/simpli/'}, 'Link JSON': {'optional_args': [], 'library_name': 'simpli.default_tasks', 'required_args': [{'value': '', 'label': 'Simpli .json to be linked', 'description': 'No description', 'name': 'filepath'}], 'returns': [], 'function_name': 'link_simpli_json', 'default_args': [], 'description': 'No description.', 'library_path': 'simpli'}, 'Link YouTube Video': {'optional_args': [], 'library_name': 'simpli.default_tasks', 'required_args': [{'value': '', 'label': 'YouTube Video URL', 'description': 'No description', 'name': 'url'}], 'returns': [], 'function_name': 'youtube', 'default_args': [], 'description': 'No description.', 'library_path': 'simpli'}, 'Slice DataFrame by Row': {'optional_args': [], 'library_name': 'simpli.default_tasks', 'required_args': [{'value': '', 'label': 'DataFrame', 'description': 'Target dataframe object.', 'name': 'dataframe'}, {'value': '', 'label': 'Row index/indices', 'description': 'An integer or list of integers separated by commas of the rows to slice. Note that indices are 0 based.', 'name': 'indices'}], 'returns': [{'label': 'Sliced DataFrame', 'description': 'A slice of the DataFrame including the specified rows.'}], 'function_name': 'slice_dataframe', 'default_args': [{'value': '0', 'label': 'Ax', 'description': 'No description', 'name': 'ax'}], 'description': 'Return a subset of rows of a given DataFrame object.', 'library_path': 'simpli'}, 'Set Jupyter Notebook Theme': {'optional_args': [], 'library_name': 'simpli.default_tasks', 'required_args': [{'value': '', 'label': '.CSS file', 'description': 'No description', 'name': 'filepath'}], 'returns': [], 'function_name': 'set_theme', 'default_args': [], 'description': 'No description.', 'library_path': 'simpli'}, 'Slice DataFrame by Column': {'optional_args': [], 'library_name': 'simpli.default_tasks', 'required_args': [{'value': '', 'label': 'DataFrame', 'description': 'No description', 'name': 'dataframe'}, {'value': '', 'label': 'Column index(ices)', 'description': 'No description', 'name': 'indices'}], 'returns': [{'label': 'Sliced DataFrame', 'description': 'No description'}], 'function_name': 'slice_dataframe', 'default_args': [{'value': '1', 'label': 'Ax', 'description': 'No description', 'name': 'ax'}], 'description': 'No description.', 'library_path': 'simpli'}} to be {'Label': {'optional_args': [], 'library_name': 'simpli.default_tasks', 'required_args': [{'value': \"'Hello\", 'label': 'VALUE', 'description': 'No description.', 'name': 'value'}], 'returns': [{'label': 'OUTPUT', 'description': 'No description.'}], 'function_name': 'just_return', 'default_args': [], 'description': 'No description.', 'library_path': '/home/cyborg/simpli/'}} ...\n",
      "(Getting tasks ...)\n",
      "(Setting tasks ...)\n"
     ]
    },
    {
     "data": {
      "text/plain": [
       "{'Label': {'default_args': [],\n",
       "  'description': 'No description.',\n",
       "  'function_name': 'just_return',\n",
       "  'library_name': 'simpli.default_tasks',\n",
       "  'library_path': '/home/cyborg/simpli/',\n",
       "  'optional_args': [],\n",
       "  'required_args': [{'description': 'No description.',\n",
       "    'label': 'VALUE',\n",
       "    'name': 'value',\n",
       "    'value': \"'Hello\"}],\n",
       "  'returns': [{'description': 'No description.', 'label': 'OUTPUT'}]}}"
      ]
     },
     "execution_count": 10,
     "metadata": {},
     "output_type": "execute_result"
    }
   ],
   "source": [
    "mgr._load_task_from_notebook_cell(In[6])"
   ]
  },
  {
   "cell_type": "code",
   "execution_count": null,
   "metadata": {
    "collapsed": true
   },
   "outputs": [],
   "source": []
  }
 ],
 "metadata": {
  "kernelspec": {
   "display_name": "Python 3",
   "language": "python",
   "name": "python3"
  },
  "language_info": {
   "codemirror_mode": {
    "name": "ipython",
    "version": 3
   },
   "file_extension": ".py",
   "mimetype": "text/x-python",
   "name": "python",
   "nbconvert_exporter": "python",
   "pygments_lexer": "ipython3",
   "version": "3.5.2"
  }
 },
 "nbformat": 4,
 "nbformat_minor": 1
}
