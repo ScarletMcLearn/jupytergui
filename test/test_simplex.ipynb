{
 "cells": [
  {
   "cell_type": "markdown",
   "metadata": {},
   "source": [
    "# Widget test"
   ]
  },
  {
   "cell_type": "code",
   "execution_count": 2,
   "metadata": {
    "collapsed": false
   },
   "outputs": [],
   "source": [
    "a = '/aaa/aaa.json'"
   ]
  },
  {
   "cell_type": "code",
   "execution_count": 3,
   "metadata": {
    "collapsed": true
   },
   "outputs": [],
   "source": [
    "import os"
   ]
  },
  {
   "cell_type": "code",
   "execution_count": 4,
   "metadata": {
    "collapsed": false
   },
   "outputs": [
    {
     "data": {
      "text/plain": [
       "('/aaa', 'aaa.json')"
      ]
     },
     "execution_count": 4,
     "metadata": {},
     "output_type": "execute_result"
    }
   ],
   "source": [
    "os.path.split(a)"
   ]
  },
  {
   "cell_type": "markdown",
   "metadata": {},
   "source": [
    "## Inject only once in the beginning"
   ]
  },
  {
   "cell_type": "code",
   "execution_count": null,
   "metadata": {
    "collapsed": false
   },
   "outputs": [],
   "source": [
    "import os\n",
    "import json\n",
    "\n",
    "import matplotlib\n",
    "\n",
    "from simplex import TaskManager\n",
    "\n",
    "%matplotlib inline\n",
    "\n",
    "\n",
    "# Initialize a TaskManager\n",
    "task_manager = TaskManager()\n",
    "\n",
    "def sync_namespaces():\n",
    "    \"\"\"\n",
    "    Sync namespaces of this Notebook and SimpleX TaskManager.\n",
    "    :return: None\n",
    "    \"\"\"\n",
    "    \n",
    "    # Notebook namespace ==> TaskManager namespace\n",
    "    task_manager.update_simplex_namespace(globals())\n",
    "    \n",
    "    # TaskManager namespace ==> Notebook namespace\n",
    "    for name, value in task_manager.simplex_namespace.items():\n",
    "        globals()[name] = value\n",
    "        \n",
    "# Register callback\n",
    "if sync_namespaces not in get_ipython().events.callbacks['post_execute']:\n",
    "    get_ipython().events.register('post_execute', sync_namespaces)\n",
    "    \n",
    "# Initial namespace sync\n",
    "sync_namespaces()"
   ]
  },
  {
   "cell_type": "markdown",
   "metadata": {},
   "source": [
    "## Inject in all cells"
   ]
  },
  {
   "cell_type": "code",
   "execution_count": null,
   "metadata": {
    "collapsed": false
   },
   "outputs": [],
   "source": [
    "# TODO: Javascrip will create a task_dict for a task using .simplex\n",
    "json_filepath = '/home/cyborg/simplex/simplex/static/simplex_library/test.simplex'\n",
    "with open(json_filepath) as f:\n",
    "    task_dict = json.load(f)\n",
    "\n",
    "# Make and show widget\n",
    "task_view = task_manager.create_task_view(task_dict)\n",
    "task_view.create()"
   ]
  },
  {
   "cell_type": "markdown",
   "metadata": {},
   "source": [
    "# Manual test"
   ]
  },
  {
   "cell_type": "code",
   "execution_count": null,
   "metadata": {
    "collapsed": false
   },
   "outputs": [],
   "source": [
    "import sys\n",
    "sys.path.insert(0, '/home/cyborg/simplex/')"
   ]
  },
  {
   "cell_type": "code",
   "execution_count": null,
   "metadata": {
    "collapsed": true
   },
   "outputs": [],
   "source": [
    "from simplex import TaskManager"
   ]
  },
  {
   "cell_type": "code",
   "execution_count": null,
   "metadata": {
    "collapsed": true
   },
   "outputs": [],
   "source": [
    "tm = TaskManager()"
   ]
  },
  {
   "cell_type": "code",
   "execution_count": null,
   "metadata": {
    "collapsed": true
   },
   "outputs": [],
   "source": [
    "library_path = '/home/cyborg/ccal/'\n",
    "library_name = 'ccal'\n",
    "function_name = 'read_gct'\n",
    "req_args = {'filepath': '/home/cyborg/ccal/data/animals/feature_x_animal.gct'}\n",
    "default_args = {}\n",
    "opt_args = {}\n",
    "return_names = ['gct']"
   ]
  },
  {
   "cell_type": "code",
   "execution_count": null,
   "metadata": {
    "collapsed": false
   },
   "outputs": [],
   "source": [
    "tm.execute_task(library_path, library_name, function_name,\n",
    "                req_args=req_args, default_args=default_args, opt_args=opt_args,\n",
    "                return_names=return_names)"
   ]
  }
 ],
 "metadata": {
  "anaconda-cloud": {},
  "kernelspec": {
   "display_name": "Python [default]",
   "language": "python",
   "name": "python3"
  },
  "language_info": {
   "codemirror_mode": {
    "name": "ipython",
    "version": 3
   },
   "file_extension": ".py",
   "mimetype": "text/x-python",
   "name": "python",
   "nbconvert_exporter": "python",
   "pygments_lexer": "ipython3",
   "version": "3.5.2"
  }
 },
 "nbformat": 4,
 "nbformat_minor": 1
}
