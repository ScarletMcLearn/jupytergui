{
 "cells": [
  {
   "cell_type": "code",
   "execution_count": 17,
   "metadata": {
    "collapsed": false
   },
   "outputs": [],
   "source": [
    "from os import environ, listdir\n",
    "from os.path import join, split, isfile, isdir\n",
    "import json\n",
    "\n",
    "\n",
    "def load_config(filepath):\n",
    "    \"\"\"\n",
    "\n",
    "    :param filepath: str; config.txt\n",
    "    :return:\n",
    "    \"\"\"\n",
    "\n",
    "    config = {}\n",
    "    with open(filepath) as f:\n",
    "        for line in f:\n",
    "            k, v = line.strip().split('=')\n",
    "            config[k] = v\n",
    "\n",
    "    print('Simplex configuration:')\n",
    "    for k, v in sorted(config.items()):\n",
    "        print('\\t{} : {}'.format(k, v))\n",
    "\n",
    "    return config\n",
    "\n",
    "\n",
    "def load_libraries(directory_path):\n",
    "    \"\"\"\n",
    "\n",
    "    :param directory_path: str; simplex_data directory\n",
    "    :return: list; list of library directory paths\n",
    "    \"\"\"\n",
    "\n",
    "    libs = []\n",
    "    for f in listdir(directory_path):\n",
    "        fp = join(directory_path, f)\n",
    "        if isdir(fp):\n",
    "            libs.append(fp)\n",
    "    libs = sorted(libs)\n",
    "\n",
    "    print('SimpleX libraries:')\n",
    "    for lib in libs:\n",
    "        print('\\t{}'.format(lib))\n",
    "\n",
    "    return libs\n",
    "\n",
    "\n",
    "def make_task_json(directory_paths, filepath):\n",
    "    \"\"\"\n",
    "\n",
    "    :param directory_paths: list; list of library directory paths\n",
    "    :param filepath: str; tasks.json containing all available SimpleX task specifications\n",
    "    :return: dict; all available SimpleX task specifications\n",
    "    \"\"\"\n",
    "\n",
    "    tasks_by_libraries = {}\n",
    "    for dp in directory_paths:\n",
    "        lib = split(dp)[1]\n",
    "\n",
    "        fp_json = join(dp, '{}.json'.format(lib))\n",
    "        try:\n",
    "            tasks = load_json(fp_json)\n",
    "            tasks_by_libraries.update(tasks)\n",
    "        except FileNotFoundError:\n",
    "            raise FileNotFoundError('{} library is missing {}.json.'.format(dp, lib))\n",
    "        except KeyError:\n",
    "            raise ValueError('Error loading {}.'.format(fp_json))\n",
    "    \n",
    "    with open(filepath, 'w') as f:\n",
    "        json.dump(tasks_by_libraries, f, sort_keys=True, indent=2)\n",
    "    \n",
    "    return tasks_by_libraries\n",
    "\n",
    "\n",
    "def load_json(filepath):\n",
    "    \"\"\"\n",
    "\n",
    "    :param filepath: str; full path to library.json\n",
    "    :return: None\n",
    "    \"\"\"\n",
    "\n",
    "    print('Loading {} ...'.format(filepath))\n",
    "    \n",
    "    if not isfile(filepath):\n",
    "        raise FileNotFoundError('The file {} isn\\'t found or isn\\'t an absolute path.')\n",
    "\n",
    "    # Open .json\n",
    "    with open(filepath) as f:\n",
    "        library = json.load(f)\n",
    "\n",
    "    processed_tasks = {}\n",
    "\n",
    "    # Library name\n",
    "    library_name = library['library_name']\n",
    "\n",
    "    # Library path\n",
    "    if 'library_path' in library:  # Use specified library path\n",
    "        library_path = library['library_path']\n",
    "        if not library_path.endswith('/'):  # Make sure the library path ends with '/'\n",
    "            library_path += '/'\n",
    "            print('\\tAppended \\'/\\' to library_path, which is now: {}.'.format(library_path))\n",
    "        if not isdir(library_path):  # Use absolute path\n",
    "            library_path = join(HOME_DIR, library_path)\n",
    "            print('\\tConverted the library path to the absolute path relative to the $HOME directory: {}.'.format(library_path))\n",
    "\n",
    "    else:  # Guess library path\n",
    "        library_path = join(split(filepath)[0], '')\n",
    "        print('\\tNo library path is specified for {} library so guessed to be {}.'.format(library_name, library_path))\n",
    "\n",
    "    # Tasks\n",
    "    tasks = library['tasks']\n",
    "    for task in tasks:\n",
    "        \n",
    "        # Task label is this task's UID\n",
    "        label = task['label']\n",
    "        if label in processed_tasks:\n",
    "            raise ValueError('Multiple \\'{}\\' task labels found! Use unique task label for each task.'.format(label))\n",
    "        else:\n",
    "            processed_tasks[label] = {}\n",
    "            \n",
    "        processed_tasks[label]['library_path'] = library_path\n",
    "        processed_tasks[label]['library_name'] = library_name\n",
    "\n",
    "        # Function name\n",
    "        processed_tasks[label]['function_name'] = task['function_name']\n",
    "\n",
    "        # Description\n",
    "        if 'description' in task:\n",
    "            processed_tasks[label]['description'] = task['description']\n",
    "        else:\n",
    "            processed_tasks[label]['description'] = ''\n",
    "            \n",
    "        # Arguments\n",
    "        for a in ['required_args', 'optional_args', 'default_args']:\n",
    "            if a in task:\n",
    "                required_args = task[a]\n",
    "                processed_tasks[label][a] = process_args(required_args)\n",
    "            else:\n",
    "                processed_tasks[label][a] = []\n",
    "        \n",
    "        # Returns\n",
    "        if 'returns' in task:\n",
    "            processed_tasks[label]['returns'] = task['returns']\n",
    "\n",
    "    return processed_tasks\n",
    "\n",
    "\n",
    "def process_args(args):\n",
    "    \n",
    "    processed_args = []\n",
    "    for a in args:\n",
    "        processed_a = {}\n",
    "\n",
    "        processed_a['arg_name'] = a['arg_name']\n",
    "        \n",
    "        if 'default_value' in a:\n",
    "            processed_a['value'] = a['value']\n",
    "        else:\n",
    "            processed_a['value'] = ''\n",
    "\n",
    "        if 'label' in a:\n",
    "            processed_a['label'] = a['label']\n",
    "        else:\n",
    "            processed_a['label'] = a['arg_name']\n",
    "\n",
    "        if 'description' in a:\n",
    "            processed_a['description'] = a['description']\n",
    "        else:\n",
    "            processed_a['description'] = ''\n",
    "\n",
    "\n",
    "        processed_args.append(processed_a)\n",
    "    \n",
    "    return processed_args\n",
    "\n",
    "\n",
    "def merge_dicts(*dicts):\n",
    "    \"\"\"\n",
    "    Shallow copy and merge dicts into a new dict; precedence goes to\n",
    "    key value pairs in latter dict.\n",
    "    :param dicts: iterable of dict;\n",
    "    :return: dict;\n",
    "    \"\"\"\n",
    "\n",
    "    merged = {}\n",
    "    for d in dicts:\n",
    "        merged.update(d)\n",
    "\n",
    "    return merged\n",
    "\n",
    "\n",
    "def cast_string_to_int_float_bool_or_str(string):\n",
    "    \"\"\"\n",
    "    Convert string into the following data types (return the first successful):\n",
    "    int, float, bool, or str.\n",
    "    :param string: str;\n",
    "    :return: int, float, bool, or str;\n",
    "    \"\"\"\n",
    "\n",
    "    value = string.strip()\n",
    "\n",
    "    # try to cast to int or float\n",
    "    for var_type in [int, float]:\n",
    "        try:\n",
    "            converted_var = var_type(value)\n",
    "            return converted_var\n",
    "        except ValueError:\n",
    "            pass\n",
    "\n",
    "    # try to cast as boolean\n",
    "    if value == 'True':\n",
    "        return True\n",
    "    elif value == 'False':\n",
    "        return False\n",
    "\n",
    "    # return as string last priority\n",
    "    return str(value)"
   ]
  },
  {
   "cell_type": "code",
   "execution_count": 18,
   "metadata": {
    "collapsed": false
   },
   "outputs": [
    {
     "name": "stdout",
     "output_type": "stream",
     "text": [
      "SimpleX libraries:\n",
      "\t/home/cyborg/simplex/simplex/default_libs/ccal\n",
      "\t/home/cyborg/simplex/simplex/default_libs/genome_explorer\n",
      "\t/home/cyborg/simplex/simplex/default_libs/sample_library\n",
      "Loading /home/cyborg/simplex/simplex/default_libs/ccal/ccal.json ...\n",
      "\tConverted the library path to the absolute path relative to the $HOME directory: /Users/ckmah/ccal/.\n",
      "Loading /home/cyborg/simplex/simplex/default_libs/genome_explorer/genome_explorer.json ...\n",
      "\tAppended '/' to library_path, which is now: simplex/simplex_data/genome_explorer/.\n",
      "\tConverted the library path to the absolute path relative to the $HOME directory: /home/cyborg/simplex/simplex_data/genome_explorer/.\n",
      "Loading /home/cyborg/simplex/simplex/default_libs/sample_library/sample_library.json ...\n",
      "\tNo library path is specified for sample_library library so guessed to be /home/cyborg/simplex/simplex/default_libs/sample_library/.\n"
     ]
    }
   ],
   "source": []
  },
  {
   "cell_type": "markdown",
   "metadata": {},
   "source": [
    "# Widget test"
   ]
  },
  {
   "cell_type": "markdown",
   "metadata": {},
   "source": [
    "## Inject only once in the beginning"
   ]
  },
  {
   "cell_type": "code",
   "execution_count": null,
   "metadata": {
    "collapsed": false
   },
   "outputs": [],
   "source": [
    "import os\n",
    "import json\n",
    "\n",
    "import matplotlib\n",
    "\n",
    "from simplex import TaskManager\n",
    "\n",
    "%matplotlib inline\n",
    "\n",
    "\n",
    "# Initialize a TaskManager\n",
    "task_manager = TaskManager()\n",
    "\n",
    "def sync_namespaces():\n",
    "    \"\"\"\n",
    "    Sync namespaces of this Notebook and SimpleX TaskManager.\n",
    "    :return: None\n",
    "    \"\"\"\n",
    "    \n",
    "    # Notebook namespace ==> TaskManager namespace\n",
    "    task_manager.update_simplex_namespace(globals())\n",
    "    \n",
    "    # TaskManager namespace ==> Notebook namespace\n",
    "    for name, value in task_manager.simplex_namespace.items():\n",
    "        globals()[name] = value\n",
    "        \n",
    "# Register callback\n",
    "if sync_namespaces not in get_ipython().events.callbacks['post_execute']:\n",
    "    get_ipython().events.register('post_execute', sync_namespaces)\n",
    "    \n",
    "# Initial namespace sync\n",
    "sync_namespaces()"
   ]
  },
  {
   "cell_type": "markdown",
   "metadata": {},
   "source": [
    "## Inject in all cells"
   ]
  },
  {
   "cell_type": "code",
   "execution_count": null,
   "metadata": {
    "collapsed": false
   },
   "outputs": [],
   "source": [
    "# TODO: Javascrip will create a task_dict for a task using .simplex\n",
    "json_filepath = '/home/cyborg/simplex/simplex/static/simplex_library/test.simplex'\n",
    "with open(json_filepath) as f:\n",
    "    task_dict = json.load(f)\n",
    "\n",
    "# Make and show widget\n",
    "task_view = task_manager.create_task_view(task_dict)\n",
    "task_view.create()"
   ]
  },
  {
   "cell_type": "markdown",
   "metadata": {},
   "source": [
    "# Manual test"
   ]
  },
  {
   "cell_type": "code",
   "execution_count": null,
   "metadata": {
    "collapsed": false
   },
   "outputs": [],
   "source": [
    "import sys\n",
    "sys.path.insert(0, '/home/cyborg/simplex/')"
   ]
  },
  {
   "cell_type": "code",
   "execution_count": null,
   "metadata": {
    "collapsed": true
   },
   "outputs": [],
   "source": [
    "from simplex import TaskManager"
   ]
  },
  {
   "cell_type": "code",
   "execution_count": null,
   "metadata": {
    "collapsed": true
   },
   "outputs": [],
   "source": [
    "tm = TaskManager()"
   ]
  },
  {
   "cell_type": "code",
   "execution_count": null,
   "metadata": {
    "collapsed": true
   },
   "outputs": [],
   "source": [
    "library_path = '/home/cyborg/ccal/'\n",
    "library_name = 'ccal'\n",
    "function_name = 'read_gct'\n",
    "req_args = {'filepath': '/home/cyborg/ccal/data/animals/feature_x_animal.gct'}\n",
    "default_args = {}\n",
    "opt_args = {}\n",
    "return_names = ['gct']"
   ]
  },
  {
   "cell_type": "code",
   "execution_count": null,
   "metadata": {
    "collapsed": false
   },
   "outputs": [],
   "source": [
    "tm.execute_task(library_path, library_name, function_name,\n",
    "                req_args=req_args, default_args=default_args, opt_args=opt_args,\n",
    "                return_names=return_names)"
   ]
  }
 ],
 "metadata": {
  "anaconda-cloud": {},
  "kernelspec": {
   "display_name": "Python [default]",
   "language": "python",
   "name": "python3"
  },
  "language_info": {
   "codemirror_mode": {
    "name": "ipython",
    "version": 3
   },
   "file_extension": ".py",
   "mimetype": "text/x-python",
   "name": "python",
   "nbconvert_exporter": "python",
   "pygments_lexer": "ipython3",
   "version": "3.5.2"
  }
 },
 "nbformat": 4,
 "nbformat_minor": 1
}
