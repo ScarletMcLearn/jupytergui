{
 "cells": [
  {
   "cell_type": "code",
   "execution_count": 45,
   "metadata": {
    "collapsed": true
   },
   "outputs": [],
   "source": [
    "import os\n",
    "import json\n",
    "\n",
    "def setup():\n",
    "    global SIMPLEX_CONFIG_FILE\n",
    "    SIMPLEX_CONFIG_FILE = os.path.join(SIMPLEX_DIR, 'config.txt')\n",
    "    global SIMPLEX_CONFIG\n",
    "    SIMPLEX_CONFIG = load_config(SIMPLEX_CONFIG_FILE)\n",
    "\n",
    "    global SIMPLEX_DATA_DIR\n",
    "    SIMPLEX_DATA_DIR = os.path.join(SIMPLEX_DIR, 'simplex_data/')\n",
    "    global SIMPLEX_LIBRARIES\n",
    "    SIMPLEX_LIBRARIES = load_libraries(SIMPLEX_DATA_DIR)\n",
    "\n",
    "    check_jsons(SIMPLEX_LIBRARIES)\n",
    "    \n",
    "\n",
    "def load_config(filepath):\n",
    "    config = {}\n",
    "    with open(filepath) as f:\n",
    "        for line in f:\n",
    "            k, v = line.strip().split('=')\n",
    "            config[k] = v\n",
    "            \n",
    "    print('Simplex configuration:')\n",
    "    for k, v in sorted(config.items()):\n",
    "        print('\\t{} : {}'.format(k, v))\n",
    "    \n",
    "    return config\n",
    "\n",
    "\n",
    "def load_libraries(directory_path):\n",
    "    libs = []\n",
    "    for f in os.listdir(directory_path):\n",
    "        fp = os.path.join(directory_path, f)\n",
    "        if os.path.isdir(fp):\n",
    "            libs.append(fp)\n",
    "    libs = sorted(libs)\n",
    "    \n",
    "    print('Simple libraries:')\n",
    "    for lib in libs:\n",
    "        print('\\t{}'.format(lib))\n",
    "    \n",
    "    return libs\n",
    "\n",
    "\n",
    "def check_jsons(directory_paths):\n",
    "    for dp in directory_paths:\n",
    "        lib = os.path.split(dp)[1]\n",
    "        \n",
    "        fp_json = os.path.join(dp, '{}.json'.format(lib))\n",
    "        try:\n",
    "            load_json(fp_json)\n",
    "        except FileNotFoundError:\n",
    "            raise FileNotFoundError('{} library is missing {}.json.'.format(dp, lib))\n",
    "        except KeyError as e:\n",
    "            raise ValueError('Error loading {}.'.format(fp_json))\n",
    "    else:\n",
    "        print('All .json files are good.')\n",
    "\n",
    "            \n",
    "def load_json(filepath, default_library_directory_path=SIMPLEX_DATA_DIR):\n",
    "    # Open .json\n",
    "    with open(filepath) as f:\n",
    "        library = json.load(f)\n",
    "    \n",
    "    processed_tasks = {}\n",
    "    \n",
    "    # Library name\n",
    "    library_name = library['library_name']\n",
    "    \n",
    "    # Library path\n",
    "    if 'library_path' in library:\n",
    "        library_path = library['library_path']\n",
    "    else:\n",
    "        library_path = os.path.join(default_library_directory_path, library_name, '')\n",
    "        print('No library path is specified for {} library so guessed to be {}.'.format(library_name, library_path))\n",
    "    if not library_path.endswith('/'):\n",
    "        library_path += '/'\n",
    "        print('Appended \\'/\\' to library_path, which is now: {}.'.format(library_path))\n",
    "    if not os.path.isdir(library_path):\n",
    "        library_path = os.path.join(filepath.split(library_path)[0], library_path)\n",
    "        if not os.path.isdir(library_path):\n",
    "            raise ValueError('Error converting the library path {} to the absolute path.'.format(library_path))\n",
    "    \n",
    "    # Tasks\n",
    "    tasks = library['tasks']\n",
    "    for task in tasks:\n",
    "        \n",
    "        # Task label is this task's UID\n",
    "        label = task['label']\n",
    "        if label in processed_tasks:\n",
    "            raise ValueError('Multiple \\'{}\\' task labels found! Use unique task label for each task.'.format(label))\n",
    "        else:\n",
    "            processed_tasks[label] = {}\n",
    "        \n",
    "        # Function name\n",
    "        processed_tasks[label]['function_name'] = task['function_name']\n",
    "\n",
    "        # Description\n",
    "        if 'description' in task:\n",
    "            processed_tasks[label]['description'] = task['description']\n",
    "\n",
    "        # Arguments\n",
    "        if 'required_args' in task:\n",
    "            processed_tasks[label]['required_args'] = task['required_args']\n",
    "        if 'optional_args' in task:\n",
    "            processed_tasks[label]['optional_args'] = task['optional_args']\n",
    "        if 'default_args' in task:\n",
    "            processed_tasks[label]['default_args'] = task['default_args']\n",
    "\n",
    "        # Returns\n",
    "        if 'returns' in task:\n",
    "            processed_tasks[label]['returns'] = task['returns']\n",
    "        \n",
    "    return processed_tasks"
   ]
  },
  {
   "cell_type": "code",
   "execution_count": 46,
   "metadata": {
    "collapsed": false
   },
   "outputs": [
    {
     "name": "stdout",
     "output_type": "stream",
     "text": [
      "Simplex configuration:\n",
      "\tSIMPLEX_DATA_DIR : ./simplex_data\n",
      "Simple libraries:\n",
      "\t/home/cyborg/simplex/simplex_data/ccal\n",
      "\t/home/cyborg/simplex/simplex_data/genome_explorer\n",
      "\t/home/cyborg/simplex/simplex_data/sample_library\n",
      "Appended '/' to library_path, which is now: simplex/simplex_data/genome_explorer/.\n",
      "No library path is specified for sample_library library so guessed to be /home/cyborg/simplex/simplex_data/sample_library/.\n",
      "All .json files are good.\n"
     ]
    }
   ],
   "source": [
    "SIMPLEX_DIR = '/home/cyborg/simplex/'\n",
    "SIMPLEX_DATA_DIR = None\n",
    "\n",
    "setup()"
   ]
  },
  {
   "cell_type": "markdown",
   "metadata": {},
   "source": [
    "# Widget test"
   ]
  },
  {
   "cell_type": "markdown",
   "metadata": {},
   "source": [
    "## Inject only once in the beginning"
   ]
  },
  {
   "cell_type": "code",
   "execution_count": null,
   "metadata": {
    "collapsed": false
   },
   "outputs": [],
   "source": [
    "import os\n",
    "import json\n",
    "\n",
    "import matplotlib\n",
    "\n",
    "from simplex import TaskManager\n",
    "\n",
    "%matplotlib inline\n",
    "\n",
    "\n",
    "# Initialize a TaskManager\n",
    "task_manager = TaskManager()\n",
    "\n",
    "def sync_namespaces():\n",
    "    \"\"\"\n",
    "    Sync namespaces of this Notebook and SimpleX TaskManager.\n",
    "    :return: None\n",
    "    \"\"\"\n",
    "    \n",
    "    # Notebook namespace ==> TaskManager namespace\n",
    "    task_manager.update_simplex_namespace(globals())\n",
    "    \n",
    "    # TaskManager namespace ==> Notebook namespace\n",
    "    for name, value in task_manager.simplex_namespace.items():\n",
    "        globals()[name] = value\n",
    "        \n",
    "# Register callback\n",
    "if sync_namespaces not in get_ipython().events.callbacks['post_execute']:\n",
    "    get_ipython().events.register('post_execute', sync_namespaces)\n",
    "    \n",
    "# Initial namespace sync\n",
    "sync_namespaces()"
   ]
  },
  {
   "cell_type": "markdown",
   "metadata": {},
   "source": [
    "## Inject in all cells"
   ]
  },
  {
   "cell_type": "code",
   "execution_count": null,
   "metadata": {
    "collapsed": false
   },
   "outputs": [],
   "source": [
    "# TODO: Javascrip will create a task_dict for a task using .simplex\n",
    "json_filepath = '/home/cyborg/simplex/simplex/static/simplex_library/test.simplex'\n",
    "with open(json_filepath) as f:\n",
    "    task_dict = json.load(f)\n",
    "\n",
    "# Make and show widget\n",
    "task_view = task_manager.create_task_view(task_dict)\n",
    "task_view.create()"
   ]
  },
  {
   "cell_type": "markdown",
   "metadata": {},
   "source": [
    "# Manual test"
   ]
  },
  {
   "cell_type": "code",
   "execution_count": null,
   "metadata": {
    "collapsed": false
   },
   "outputs": [],
   "source": [
    "import sys\n",
    "sys.path.insert(0, '/home/cyborg/simplex/')"
   ]
  },
  {
   "cell_type": "code",
   "execution_count": null,
   "metadata": {
    "collapsed": true
   },
   "outputs": [],
   "source": [
    "from simplex import TaskManager"
   ]
  },
  {
   "cell_type": "code",
   "execution_count": null,
   "metadata": {
    "collapsed": true
   },
   "outputs": [],
   "source": [
    "tm = TaskManager()"
   ]
  },
  {
   "cell_type": "code",
   "execution_count": null,
   "metadata": {
    "collapsed": true
   },
   "outputs": [],
   "source": [
    "library_path = '/home/cyborg/ccal/'\n",
    "library_name = 'ccal'\n",
    "function_name = 'read_gct'\n",
    "req_args = {'filepath': '/home/cyborg/ccal/data/animals/feature_x_animal.gct'}\n",
    "default_args = {}\n",
    "opt_args = {}\n",
    "return_names = ['gct']"
   ]
  },
  {
   "cell_type": "code",
   "execution_count": null,
   "metadata": {
    "collapsed": false
   },
   "outputs": [],
   "source": [
    "tm.execute_task(library_path, library_name, function_name,\n",
    "                req_args=req_args, default_args=default_args, opt_args=opt_args,\n",
    "                return_names=return_names)"
   ]
  }
 ],
 "metadata": {
  "anaconda-cloud": {},
  "kernelspec": {
   "display_name": "Python [default]",
   "language": "python",
   "name": "python3"
  },
  "language_info": {
   "codemirror_mode": {
    "name": "ipython",
    "version": 3
   },
   "file_extension": ".py",
   "mimetype": "text/x-python",
   "name": "python",
   "nbconvert_exporter": "python",
   "pygments_lexer": "ipython3",
   "version": "3.5.2"
  }
 },
 "nbformat": 4,
 "nbformat_minor": 1
}
