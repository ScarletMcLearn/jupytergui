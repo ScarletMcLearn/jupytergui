{
 "cells": [
  {
   "cell_type": "code",
   "execution_count": null,
   "metadata": {
    "collapsed": true
   },
   "outputs": [],
   "source": [
    "# Before Resistance"
   ]
  },
  {
   "cell_type": "raw",
   "metadata": {},
   "source": [
    "# SNP VCF files\n",
    "/home/cyborg/lenalidomine_resistance/dna/variants/snp/TJK528A/TJK528A.GATK.snp.reformated.vcf.gz\n",
    "\n",
    "# InDel VCF files\n",
    "/home/cyborg/lenalidomine_resistance/dna/variants/indel/TJK528A/TJK528A.GATK.indel.reformated.vcf.gz"
   ]
  },
  {
   "cell_type": "raw",
   "metadata": {},
   "source": [
    "/home/cyborg/Desktop/combined.vcf"
   ]
  },
  {
   "cell_type": "code",
   "execution_count": 1,
   "metadata": {
    "collapsed": true
   },
   "outputs": [],
   "source": [
    "# !AUTOEXEC\n",
    "# Make and show widget\n",
    "task_view = task_manager.create_task_view(json.loads('''{\"function_name\":\"vcf_concat_snp_indel\",\"description\":\"\",\"library_path\":\"/home/cyborg/genome_explorer\",\"default_args\":[],\"required_args\":[{\"arg_name\":\"snp_filepath\",\"description\":\"No description :(\",\"value\":\"\",\"label\":\"Snp Filepath\"},{\"arg_name\":\"indel_filepath\",\"description\":\"No description :(\",\"value\":\"\",\"label\":\"Indel Filepath\"},{\"arg_name\":\"output_fname\",\"description\":\"No description :(\",\"value\":\"\",\"label\":\"Output Filename Prefix\"}],\"returns\":[{\"label\":\"Combined VCF File\",\"description\":\"No description :(\"}],\"optional_args\":[],\"library_name\":\"genome_explorer\",\"label\":\"VCF: Combine SNPs and InDels\"}'''))\n",
    "task_view.create()\n",
    "      "
   ]
  },
  {
   "cell_type": "code",
   "execution_count": 2,
   "metadata": {
    "collapsed": true
   },
   "outputs": [],
   "source": [
    "# !AUTOEXEC\n",
    "# Make and show widget\n",
    "task_view = task_manager.create_task_view(json.loads('''{\"function_name\":\"vcf_extract_chr\",\"description\":\"\",\"library_path\":\"/home/cyborg/genome_explorer\",\"default_args\":[],\"required_args\":[{\"arg_name\":\"fname\",\"description\":\"No description :(\",\"value\":\"\",\"label\":\"Fname\"},{\"arg_name\":\"Chromosome Format\",\"description\":\"No description :(\",\"value\":\"\",\"label\":\"Chromosome Format\"}],\"returns\":[{\"label\":\"Extracted VCF File\",\"description\":\"No description :(\"}],\"optional_args\":[],\"library_name\":\"genome_explorer\",\"label\":\"VCF: Extract Chr1-23, X, Y, and M\"}'''))\n",
    "task_view.create()\n",
    "      "
   ]
  },
  {
   "cell_type": "code",
   "execution_count": 3,
   "metadata": {
    "collapsed": true
   },
   "outputs": [],
   "source": [
    "# !AUTOEXEC\n",
    "# Make and show widget\n",
    "task_view = task_manager.create_task_view(json.loads('''{\"function_name\":\"vcf_annotate\",\"description\":\"\",\"library_path\":\"/home/cyborg/genome_explorer\",\"default_args\":[{\"arg_name\":\"pipeline\",\"description\":\"No description :(\",\"value\":\"dbsnp-snpeff-clinvar\",\"label\":\"Pipeline\"}],\"required_args\":[{\"arg_name\":\"fname\",\"description\":\"No description :(\",\"value\":\"\",\"label\":\"Fname\"}],\"returns\":[{\"label\":\"Annotated VCF File\",\"description\":\"No description :(\"}],\"optional_args\":[],\"library_name\":\"genome_explorer\",\"label\":\"VCF: Annotate with DBSNP, SNPEff, & ClinVar\"}'''))\n",
    "task_view.create()\n",
    "      "
   ]
  },
  {
   "cell_type": "markdown",
   "metadata": {},
   "source": [
    "# After resistance"
   ]
  },
  {
   "cell_type": "raw",
   "metadata": {},
   "source": [
    "# SNP VCF files\n",
    "/home/cyborg/lenalidomine_resistance/dna/variants/snp/TJK528B/TJK528B.GATK.snp.reformated.vcf.gz\n",
    "\n",
    "# InDel VCF files\n",
    "/home/cyborg/lenalidomine_resistance/dna/variants/indel/TJK528B/TJK528B.GATK.indel.reformated.vcf.gz"
   ]
  },
  {
   "cell_type": "raw",
   "metadata": {},
   "source": [
    "/home/cyborg/Desktop/combined.vcf"
   ]
  }
 ],
 "metadata": {
  "anaconda-cloud": {},
  "kernelspec": {
   "display_name": "Python [default]",
   "language": "python",
   "name": "python3"
  },
  "language_info": {
   "codemirror_mode": {
    "name": "ipython",
    "version": 3
   },
   "file_extension": ".py",
   "mimetype": "text/x-python",
   "name": "python",
   "nbconvert_exporter": "python",
   "pygments_lexer": "ipython3",
   "version": "3.5.2"
  },
  "widgets": {
   "state": {
    "11a0d1b19e314296ab563dc2cfe84f52": {
     "views": [
      {
       "cell_index": 5
      }
     ]
    },
    "584feb56a8d64628ae255d2d9c1363a8": {
     "views": [
      {
       "cell_index": 4
      }
     ]
    },
    "6ef35fcf80914e8b8212e2c6d6744dbd": {
     "views": [
      {
       "cell_index": 3
      }
     ]
    }
   },
   "version": "1.2.0"
  }
 },
 "nbformat": 4,
 "nbformat_minor": 1
}
