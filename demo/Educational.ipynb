{
 "cells": [
  {
   "cell_type": "raw",
   "metadata": {
    "collapsed": true
   },
   "source": [
    "/home/cyborg/data/grch/38/sequence/primary_assembly/Homo_sapiens.GRCh38.dna.primary_assembly.fa.gz"
   ]
  },
  {
   "cell_type": "code",
   "execution_count": 49,
   "metadata": {
    "collapsed": false
   },
   "outputs": [
    {
     "name": "stdout",
     "output_type": "stream",
     "text": [
      "Executing a task ...\n",
      "\tsys.path.insert(0, '/home/cyborg/simplex/simplex/default_libs/genome_explorer/')\n",
      "\tfrom genome_explorer import load_genomic_filepath as function\n",
      "Processing arguments ...\n",
      "\tfilepath: /home/cyborg/data/grch/38/sequence/primary_assembly/Homo_sapiens.GRCh38.dna.primary_assembly.fa.gz ==> '/home/cyborg/data/grch/38/sequence/primary_assembly/Homo_sapiens.GRCh38.dna.primary_assembly.fa.gz' (<class 'str'>)\n",
      "\tspecies: human ==> 'human' (<class 'str'>)\n",
      "\tExecuting <function load_genomic_filepath at 0x7faa793662f0> with:\n",
      "\t\tfilepath='/home/cyborg/data/grch/38/sequence/primary_assembly/Homo_sapiens.GRCh38.dna.primary_assembly.fa.gz' (<class 'str'>)\n",
      "\t\tspecies='human' (<class 'str'>)\n",
      "Loaded human genome from: /home/cyborg/data/grch/38/sequence/primary_assembly/Homo_sapiens.GRCh38.dna.primary_assembly.fa.gz.\n"
     ]
    }
   ],
   "source": [
    "# !AUTOEXEC\n",
    "# Make and show widget\n",
    "task_view = task_manager.create_task_view(json.loads('''{\"default_args\":[{\"value\":\"human\",\"label\":\"species\",\"description\":\"No description.\",\"arg_name\":\"species\"}],\"function_name\":\"load_genomic_filepath\",\"description\":\"Lorem ipsum dolor sit amet, consectetur adipisicing elit. Eos, eligendi? Eaque modi reprehenderit sequi, nulla amet magni inventore id fugit laborum ducimus nam, tempora incidunt quos, sapiente labore ratione adipisci.\",\"library_path\":\"/home/cyborg/simplex/simplex/default_libs/genome_explorer/\",\"optional_args\":[],\"return_names\":[],\"library_name\":\"genome_explorer\",\"required_args\":[{\"value\":\"\",\"label\":\"File Path to a Genome File (.fasta, .fa, or a their compressed form).\",\"description\":\"Lorem ipsum dolor sit amet, consectetur adipisicing elit. Eos, eligendi? Eaque modi reprehenderit sequi, nulla amet magni inventore id fugit laborum ducimus nam, tempora incidunt quos, sapiente labore ratione adipisci.\",\"arg_name\":\"filepath\"}],\"label\":\"Load Human Genome\"}'''))\n",
    "task_view.create()\n",
    "      "
   ]
  },
  {
   "cell_type": "code",
   "execution_count": 50,
   "metadata": {
    "collapsed": false
   },
   "outputs": [
    {
     "name": "stdout",
     "output_type": "stream",
     "text": [
      "Executing a task ...\n",
      "\tsys.path.insert(0, '/home/cyborg/simplex/simplex/default_libs/genome_explorer/')\n"
     ]
    },
    {
     "ename": "ImportError",
     "evalue": "cannot import name 'get_species_dna_sequence'",
     "output_type": "error",
     "traceback": [
      "\u001b[0;31m---------------------------------------------------------------------------\u001b[0m",
      "\u001b[0;31mImportError\u001b[0m                               Traceback (most recent call last)",
      "\u001b[0;32m/home/cyborg/simplex/simplex/taskview.py\u001b[0m in \u001b[0;36mcallback\u001b[0;34m(self, unused_widget_item)\u001b[0m\n\u001b[1;32m     21\u001b[0m     \u001b[0;31m# TODO: test\u001b[0m\u001b[0;34m\u001b[0m\u001b[0;34m\u001b[0m\u001b[0m\n\u001b[1;32m     22\u001b[0m     \u001b[0;32mdef\u001b[0m \u001b[0mcallback\u001b[0m\u001b[0;34m(\u001b[0m\u001b[0mself\u001b[0m\u001b[0;34m,\u001b[0m \u001b[0munused_widget_item\u001b[0m\u001b[0;34m)\u001b[0m\u001b[0;34m:\u001b[0m\u001b[0;34m\u001b[0m\u001b[0m\n\u001b[0;32m---> 23\u001b[0;31m         \u001b[0mself\u001b[0m\u001b[0;34m.\u001b[0m\u001b[0mtask_manager\u001b[0m\u001b[0;34m.\u001b[0m\u001b[0msubmit\u001b[0m\u001b[0;34m(\u001b[0m\u001b[0mself\u001b[0m\u001b[0;34m.\u001b[0m\u001b[0mfields\u001b[0m\u001b[0;34m,\u001b[0m \u001b[0mself\u001b[0m\u001b[0;34m.\u001b[0m\u001b[0mtask\u001b[0m\u001b[0;34m)\u001b[0m\u001b[0;34m\u001b[0m\u001b[0m\n\u001b[0m\u001b[1;32m     24\u001b[0m \u001b[0;34m\u001b[0m\u001b[0m\n\u001b[1;32m     25\u001b[0m     \u001b[0;32mdef\u001b[0m \u001b[0mcreate\u001b[0m\u001b[0;34m(\u001b[0m\u001b[0mself\u001b[0m\u001b[0;34m)\u001b[0m\u001b[0;34m:\u001b[0m\u001b[0;34m\u001b[0m\u001b[0m\n",
      "\u001b[0;32m/home/cyborg/simplex/simplex/taskmanager.py\u001b[0m in \u001b[0;36msubmit\u001b[0;34m(self, fields, task)\u001b[0m\n\u001b[1;32m     78\u001b[0m         \u001b[0;31m# Call function\u001b[0m\u001b[0;34m\u001b[0m\u001b[0;34m\u001b[0m\u001b[0m\n\u001b[1;32m     79\u001b[0m         results = self.execute_task(task.library_path, task.library_name, task.function_name,\n\u001b[0;32m---> 80\u001b[0;31m                                     req_args, default_args, opt_args, return_names)\n\u001b[0m\u001b[1;32m     81\u001b[0m \u001b[0;34m\u001b[0m\u001b[0m\n\u001b[1;32m     82\u001b[0m         \u001b[0;32mif\u001b[0m \u001b[0mlen\u001b[0m\u001b[0;34m(\u001b[0m\u001b[0mreturn_names\u001b[0m\u001b[0;34m)\u001b[0m \u001b[0;34m==\u001b[0m \u001b[0;36m1\u001b[0m\u001b[0;34m:\u001b[0m\u001b[0;34m\u001b[0m\u001b[0m\n",
      "\u001b[0;32m/home/cyborg/simplex/simplex/taskmanager.py\u001b[0m in \u001b[0;36mexecute_task\u001b[0;34m(self, library_path, library_name, function_name, req_args, default_args, opt_args, return_names)\u001b[0m\n\u001b[1;32m    109\u001b[0m \u001b[0;34m\u001b[0m\u001b[0m\n\u001b[1;32m    110\u001b[0m         \u001b[0;31m# Import function\u001b[0m\u001b[0;34m\u001b[0m\u001b[0;34m\u001b[0m\u001b[0m\n\u001b[0;32m--> 111\u001b[0;31m         \u001b[0mprint\u001b[0m\u001b[0;34m(\u001b[0m\u001b[0;34m'\\tfrom {} import {} as function'\u001b[0m\u001b[0;34m.\u001b[0m\u001b[0mformat\u001b[0m\u001b[0;34m(\u001b[0m\u001b[0mlibrary_name\u001b[0m\u001b[0;34m,\u001b[0m \u001b[0mfunction_name\u001b[0m\u001b[0;34m)\u001b[0m\u001b[0;34m)\u001b[0m\u001b[0;34m\u001b[0m\u001b[0m\n\u001b[0m\u001b[1;32m    112\u001b[0m         \u001b[0mexec\u001b[0m\u001b[0;34m(\u001b[0m\u001b[0;34m'from {} import {} as function'\u001b[0m\u001b[0;34m.\u001b[0m\u001b[0mformat\u001b[0m\u001b[0;34m(\u001b[0m\u001b[0mlibrary_name\u001b[0m\u001b[0;34m,\u001b[0m \u001b[0mfunction_name\u001b[0m\u001b[0;34m)\u001b[0m\u001b[0;34m)\u001b[0m\u001b[0;34m\u001b[0m\u001b[0m\n\u001b[1;32m    113\u001b[0m \u001b[0;34m\u001b[0m\u001b[0m\n",
      "\u001b[0;32m/home/cyborg/simplex/simplex/taskmanager.py\u001b[0m in \u001b[0;36m<module>\u001b[0;34m()\u001b[0m\n",
      "\u001b[0;31mImportError\u001b[0m: cannot import name 'get_species_dna_sequence'"
     ]
    }
   ],
   "source": [
    "# !AUTOEXEC\n",
    "# Make and show widget\n",
    "task_view = task_manager.create_task_view(json.loads('''{\"return_names\":[{\"description\":\"No description.\",\"label\":\"Genomic sequence\"}],\"optional_args\":[],\"library_path\":\"/home/cyborg/simplex/simplex/default_libs/genome_explorer/\",\"library_name\":\"genome_explorer\",\"default_args\":[{\"value\":\"human\",\"description\":\"No description.\",\"label\":\"species\",\"arg_name\":\"species\"}],\"function_name\":\"get_species_dna_sequence\",\"description\":\"\",\"required_args\":[{\"value\":\"\",\"description\":\"No description.\",\"label\":\"chromosome\",\"arg_name\":\"chromosome\"},{\"value\":\"\",\"description\":\"No description.\",\"label\":\"Starting genomic position\",\"arg_name\":\"start\"},{\"value\":\"\",\"description\":\"No description.\",\"label\":\"Ending genomic position\",\"arg_name\":\"end\"}],\"label\":\"Get Human DNA Sequence\"}'''))\n",
    "task_view.create()\n",
    "      "
   ]
  },
  {
   "cell_type": "code",
   "execution_count": 47,
   "metadata": {
    "collapsed": true
   },
   "outputs": [],
   "source": [
    "sys.path.insert(0, '/home/cyborg/simplex/simplex/default_libs/genome_explorer')"
   ]
  },
  {
   "cell_type": "code",
   "execution_count": 48,
   "metadata": {
    "collapsed": true
   },
   "outputs": [],
   "source": [
    "import genome_explorer"
   ]
  },
  {
   "cell_type": "code",
   "execution_count": null,
   "metadata": {
    "collapsed": true
   },
   "outputs": [],
   "source": []
  }
 ],
 "metadata": {
  "anaconda-cloud": {},
  "kernelspec": {
   "display_name": "Python [default]",
   "language": "python",
   "name": "python3"
  },
  "language_info": {
   "codemirror_mode": {
    "name": "ipython",
    "version": 3
   },
   "file_extension": ".py",
   "mimetype": "text/x-python",
   "name": "python",
   "nbconvert_exporter": "python",
   "pygments_lexer": "ipython3",
   "version": "3.5.2"
  },
  "widgets": {
   "state": {
    "1e02f89e201f49d092fa104c6f154342": {
     "views": [
      {
       "cell_index": 2
      }
     ]
    },
    "263130dbf5d4495d841750701750f211": {
     "views": [
      {
       "cell_index": 2
      }
     ]
    },
    "3014614058c14b4297297a525d3551d2": {
     "views": [
      {
       "cell_index": 2
      }
     ]
    },
    "569284916b1b4e39a20c4c096252ad36": {
     "views": [
      {
       "cell_index": 2
      }
     ]
    },
    "5c61ab8aedc94210819bd1d1f270123c": {
     "views": [
      {
       "cell_index": 1
      }
     ]
    },
    "76c5c4564aab4f4b976d455daedb76fb": {
     "views": [
      {
       "cell_index": 1
      }
     ]
    },
    "951ab93c603c407a95f9499cfb8f3aba": {
     "views": [
      {
       "cell_index": 1
      }
     ]
    },
    "bb043fa86f7449fe95bb827814961550": {
     "views": [
      {
       "cell_index": 1
      }
     ]
    },
    "d55d556799954676894a44d4dacf862c": {
     "views": [
      {
       "cell_index": 1
      }
     ]
    }
   },
   "version": "1.2.0"
  }
 },
 "nbformat": 4,
 "nbformat_minor": 1
}
