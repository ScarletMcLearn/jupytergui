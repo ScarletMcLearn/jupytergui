{
 "cells": [
  {
   "cell_type": "code",
   "execution_count": null,
   "metadata": {
    "collapsed": true
   },
   "outputs": [],
   "source": []
  },
  {
   "cell_type": "raw",
   "metadata": {
    "collapsed": false
   },
   "source": [
    "/home/cyborg/simplex/test/data/A.gct\n",
    "A"
   ]
  },
  {
   "cell_type": "raw",
   "metadata": {
    "collapsed": false
   },
   "source": [
    "A\n",
    "8, 9, 10\n",
    "10\n",
    "nmf_results\n",
    "ccc"
   ]
  },
  {
   "cell_type": "code",
   "execution_count": 1,
   "metadata": {
    "collapsed": false
   },
   "outputs": [],
   "source": [
    "# !AUTOEXEC\n",
    "# Make and show widget\n",
    "task_view = task_manager.create_task_view(json.loads('''{\"default_args\":[],\"description\":\"Lorem ipsum dolor sit amet, consectetur adipisicing elit. Eos, eligendi? Eaque modi reprehenderit sequi, nulla amet magni inventore id fugit laborum ducimus nam, tempora incidunt quos, sapiente labore ratione adipisci.\",\"function_name\":\"define_components\",\"library_name\":\"ccal\",\"library_path\":\"/home/cyborg/ccal/\",\"optional_args\":[{\"arg_name\":\"n_clusterings\",\"description\":\"This is an argument description for Number of Consensus Clusterings.\",\"label\":\"Number of Consensus Clusterings\",\"value\":\"\"}],\"required_args\":[{\"arg_name\":\"matrix\",\"description\":\"This is an argument description for Expression Matrix.\",\"label\":\"Expression Matrix\",\"value\":\"\"},{\"arg_name\":\"ks\",\"description\":\"This is an argument description for Number of Components.\",\"label\":\"Numbers of Components\",\"value\":\"\"}],\"return_names\":[{\"description\":\"This is the description for the returned NMF Result Dictionary.\",\"label\":\"NMF Result Dictionary\"},{\"description\":\"This is the description for the returned Cophentic Correlation Coefficients.\",\"label\":\"Cophenetic Correlation Coefficients\"}],\"label\":\"Define Components\"}'''))\n",
    "task_view.create()\n",
    "      "
   ]
  },
  {
   "cell_type": "raw",
   "metadata": {},
   "source": [
    "nmf_results\n",
    "9\n",
    "h_matrix"
   ]
  },
  {
   "cell_type": "code",
   "execution_count": 2,
   "metadata": {
    "collapsed": false
   },
   "outputs": [],
   "source": [
    "# !AUTOEXEC\n",
    "# Make and show widget\n",
    "task_view = task_manager.create_task_view(json.loads('''{\"default_args\":[{\"arg_name\":\"w_or_h\",\"description\":\"No description.\",\"label\":\"w_or_h\",\"value\":\"\"}],\"description\":\"Lorem ipsum dolor sit amet, consectetur adipisicing elit. Eos, eligendi? Eaque modi reprehenderit sequi, nulla amet magni inventore id fugit laborum ducimus nam, tempora incidunt quos, sapiente labore ratione adipisci.\",\"function_name\":\"get_w_or_h_matrix\",\"library_name\":\"ccal\",\"library_path\":\"/home/cyborg/ccal/\",\"optional_args\":[],\"required_args\":[{\"arg_name\":\"nmf_results\",\"description\":\"This is an argument description for NMF Results.\",\"label\":\"NMF Results\",\"value\":\"\"},{\"arg_name\":\"k\",\"description\":\"This is an argument description for Number of Components.\",\"label\":\"Number of Components\",\"value\":\"\"}],\"return_names\":[{\"description\":\"This is the description for the returned Cophentic Correlation Coefficients.\",\"label\":\"H Matrix\"}],\"label\":\"Get H Matrix\"}'''))\n",
    "task_view.create()\n",
    "      "
   ]
  }
 ],
 "metadata": {
  "anaconda-cloud": {},
  "kernelspec": {
   "display_name": "Python [default]",
   "language": "python",
   "name": "python3"
  },
  "language_info": {
   "codemirror_mode": {
    "name": "ipython",
    "version": 3
   },
   "file_extension": ".py",
   "mimetype": "text/x-python",
   "name": "python",
   "nbconvert_exporter": "python",
   "pygments_lexer": "ipython3",
   "version": "3.5.2"
  },
  "widgets": {
   "state": {
    "55b77b9e0b1e4c9886721fbdcfa35ad9": {
     "views": [
      {
       "cell_index": 5
      }
     ]
    },
    "da43aa52df0f4ba1b150d080e2b76480": {
     "views": [
      {
       "cell_index": 3
      }
     ]
    }
   },
   "version": "1.2.0"
  }
 },
 "nbformat": 4,
 "nbformat_minor": 1
}
