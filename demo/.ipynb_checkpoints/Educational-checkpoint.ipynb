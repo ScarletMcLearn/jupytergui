{
 "cells": [
  {
   "cell_type": "code",
   "execution_count": null,
   "metadata": {
    "collapsed": true
   },
   "outputs": [],
   "source": [
    "/home/cyborg/data/grch/38/sequence/primary_assembly/Homo_sapiens.GRCh38.dna.primary_assembly.fa.gz"
   ]
  },
  {
   "cell_type": "code",
   "execution_count": 5,
   "metadata": {
    "collapsed": false
   },
   "outputs": [
    {
     "name": "stdout",
     "output_type": "stream",
     "text": [
      "Executing task ...\n",
      "\tsys.path.insert(0, '/home/cyborg/simplex/simplex/default_libs/genome_explorer/')\n",
      "\tfrom genome_explorer import load_genomic_filepath as function\n",
      "{'species': 'human', 'filepath': '/home/cyborg/data/grch/38/sequence/primary_assembly/Homo_sapiens.GRCh38.dna.primary_assembly.fa.gz'}\n",
      "\tExecuting <function load_genomic_filepath at 0x7ff4bfa871e0> with:\n",
      "\t\tfilepath='/home/cyborg/data/grch/38/sequence/primary_assembly/Homo_sapiens.GRCh38.dna.primary_assembly.fa.gz' (<class 'str'>)\n",
      "\t\tspecies='human' (<class 'str'>)\n",
      "Loaded human genome from: /home/cyborg/data/grch/38/sequence/primary_assembly/Homo_sapiens.GRCh38.dna.primary_assembly.fa.gz.\n"
     ]
    }
   ],
   "source": [
    "# !AUTOEXEC\n",
    "# Make and show widget\n",
    "task_view = task_manager.create_task_view(json.loads('''{\"default_args\":[{\"value\":\"human\",\"label\":\"species\",\"description\":\"No description.\",\"arg_name\":\"species\"}],\"function_name\":\"load_genomic_filepath\",\"description\":\"Lorem ipsum dolor sit amet, consectetur adipisicing elit. Eos, eligendi? Eaque modi reprehenderit sequi, nulla amet magni inventore id fugit laborum ducimus nam, tempora incidunt quos, sapiente labore ratione adipisci.\",\"library_path\":\"/home/cyborg/simplex/simplex/default_libs/genome_explorer/\",\"optional_args\":[],\"return_names\":[],\"library_name\":\"genome_explorer\",\"required_args\":[{\"value\":\"\",\"label\":\"File Path to a Genome File (.fasta, .fa, or a their compressed form).\",\"description\":\"Lorem ipsum dolor sit amet, consectetur adipisicing elit. Eos, eligendi? Eaque modi reprehenderit sequi, nulla amet magni inventore id fugit laborum ducimus nam, tempora incidunt quos, sapiente labore ratione adipisci.\",\"arg_name\":\"filepath\"}],\"label\":\"Load Human Genome\"}'''))\n",
    "task_view.create()\n",
    "      "
   ]
  },
  {
   "cell_type": "code",
   "execution_count": 6,
   "metadata": {
    "collapsed": false
   },
   "outputs": [
    {
     "name": "stdout",
     "output_type": "stream",
     "text": [
      "Executing task ...\n",
      "\tsys.path.insert(0, '/home/cyborg/simplex/simplex/default_libs/genome_explorer/')\n",
      "\tfrom genome_explorer import explore_species_genome as function\n",
      "{'species': 'human', 'start': 10000, 'chromosome': 1, 'end': 11000}\n",
      "\tExecuting <function explore_species_genome at 0x7ff4bfa87400> with:\n",
      "\t\tchromosome=1 (<class 'int'>)\n",
      "\t\tend=11000 (<class 'int'>)\n",
      "\t\tspecies='human' (<class 'str'>)\n",
      "\t\tstart=10000 (<class 'int'>)\n"
     ]
    }
   ],
   "source": [
    "# !AUTOEXEC\n",
    "# Make and show widget\n",
    "task_view = task_manager.create_task_view(json.loads('''{\"default_args\":[{\"value\":\"human\",\"label\":\"species\",\"description\":\"No description.\",\"arg_name\":\"species\"}],\"function_name\":\"explore_species_genome\",\"description\":\"Lorem ipsum dolor sit amet, consectetur adipisicing elit. Eos, eligendi? Eaque modi reprehenderit sequi, nulla amet magni inventore id fugit laborum ducimus nam, tempora incidunt quos, sapiente labore ratione adipisci.\",\"library_path\":\"/home/cyborg/simplex/simplex/default_libs/genome_explorer/\",\"optional_args\":[],\"return_names\":[{\"label\":\"Genomic sequence\",\"description\":\"Lorem ipsum dolor sit amet, consectetur adipisicing elit. Eos, eligendi? Eaque modi reprehenderit sequi, nulla amet magni inventore id fugit laborum ducimus nam, tempora incidunt quos, sapiente labore ratione adipisci.\"}],\"library_name\":\"genome_explorer\",\"required_args\":[{\"value\":\"\",\"label\":\"Chromosome\",\"description\":\"Lorem ipsum dolor sit amet, consectetur adipisicing elit. Eos, eligendi? Eaque modi reprehenderit sequi, nulla amet magni inventore id fugit laborum ducimus nam, tempora incidunt quos, sapiente labore ratione adipisci.\",\"arg_name\":\"chromosome\"},{\"value\":\"\",\"label\":\"Starting genomic position\",\"description\":\"Lorem ipsum dolor sit amet, consectetur adipisicing elit. Eos, eligendi? Eaque modi reprehenderit sequi, nulla amet magni inventore id fugit laborum ducimus nam, tempora incidunt quos, sapiente labore ratione adipisci.\",\"arg_name\":\"start\"},{\"value\":\"\",\"label\":\"Ending genomic position\",\"description\":\"Lorem ipsum dolor sit amet, consectetur adipisicing elit. Eos, eligendi? Eaque modi reprehenderit sequi, nulla amet magni inventore id fugit laborum ducimus nam, tempora incidunt quos, sapiente labore ratione adipisci.\",\"arg_name\":\"end\"}],\"label\":\"Explore Human Genome\"}'''))\n",
    "task_view.create()\n",
    "      "
   ]
  },
  {
   "cell_type": "code",
   "execution_count": 7,
   "metadata": {
    "collapsed": false
   },
   "outputs": [
    {
     "data": {
      "text/plain": [
       "'NTAACCCTAACCCTAACCCTAACCCTAACCCTAACCCTAACCCTAACCCTAACCCTAACCCTAACCCTAACCCTAACCCTAACCCTAACCCTAACCCTAACCCTAACCCAACCCTAACCCTAACCCTAACCCTAACCCTAACCCTAACCCCTAACCCTAACCCTAACCCTAACCCTAACCTAACCCTAACCCTAACCCTAACCCTAACCCTAACCCTAACCCTAACCCTAACCCCTAACCCTAACCCTAAACCCTAAACCCTAACCCTAACCCTAACCCTAACCCTAACCCCAACCCCAACCCCAACCCCAACCCCAACCCCAACCCTAACCCCTAACCCTAACCCTAACCCTACCCTAACCCTAACCCTAACCCTAACCCTAACCCTAACCCCTAACCCCTAACCCTAACCCTAACCCTAACCCTAACCCTAACCCTAACCCCTAACCCTAACCCTAACCCTAACCCTCGCGGTACCCTCAGCCGGCCCGCCCGCCCGGGTCTGACCTGAGGAGAACTGTGCTCCGCCTTCAGAGTACCACCGAAATCTGTGCAGAGGACAACGCAGCTCCGCCCTCGCGGTGCTCTCCGGGTCTGTGCTGAGGAGAACGCAACTCCGCCGTTGCAAAGGCGCGCCGCGCCGGCGCAGGCGCAGAGAGGCGCGCCGCGCCGGCGCAGGCGCAGAGAGGCGCGCCGCGCCGGCGCAGGCGCAGAGAGGCGCGCCGCGCCGGCGCAGGCGCAGAGAGGCGCGCCGCGCCGGCGCAGGCGCAGAGAGGCGCGCCGCGCCGGCGCAGGCGCAGACACATGCTAGCGCGTCGGGGTGGAGGCGTGGCGCAGGCGCAGAGAGGCGCGCCGCGCCGGCGCAGGCGCAGAGACACATGCTACCGCGTCCAGGGGTGGAGGCGTGGCGCAGGCGCAGAGAGGCGCACCGCGCCGGCGCAGGCGCAGAGACACATGCTAGCGCGTCCAGGGGTGGAGGCGTGGCGCAGGCGCAGAGACGC'"
      ]
     },
     "execution_count": 7,
     "metadata": {},
     "output_type": "execute_result"
    }
   ],
   "source": [
    "sequences"
   ]
  }
 ],
 "metadata": {
  "anaconda-cloud": {},
  "kernelspec": {
   "display_name": "Python [default]",
   "language": "python",
   "name": "python3"
  },
  "language_info": {
   "codemirror_mode": {
    "name": "ipython",
    "version": 3
   },
   "file_extension": ".py",
   "mimetype": "text/x-python",
   "name": "python",
   "nbconvert_exporter": "python",
   "pygments_lexer": "ipython3",
   "version": "3.5.2"
  },
  "widgets": {
   "state": {
    "9d258e861bd04f469af6890e7bd4d3c4": {
     "views": [
      {
       "cell_index": 1
      }
     ]
    },
    "ff2df0e5a8264584a0fa29c9bb742866": {
     "views": [
      {
       "cell_index": 2
      }
     ]
    }
   },
   "version": "1.2.0"
  }
 },
 "nbformat": 4,
 "nbformat_minor": 1
}
