{
 "cells": [
  {
   "cell_type": "markdown",
   "metadata": {},
   "source": [
    "# Before Resistance"
   ]
  },
  {
   "cell_type": "raw",
   "metadata": {},
   "source": [
    "# SNP VCF files\n",
    "/home/cyborg/lenalidomine_resistance/dna/variants/snp/TJK528A/TJK528A.GATK.snp.reformated.vcf.gz\n",
    "\n",
    "# InDel VCF files\n",
    "/home/cyborg/lenalidomine_resistance/dna/variants/indel/TJK528A/TJK528A.GATK.indel.reformated.vcf.gz"
   ]
  },
  {
   "cell_type": "raw",
   "metadata": {},
   "source": [
    "/home/cyborg/Desktop/combined.vcf"
   ]
  },
  {
   "cell_type": "markdown",
   "metadata": {},
   "source": [
    "# After resistance"
   ]
  },
  {
   "cell_type": "raw",
   "metadata": {},
   "source": [
    "# SNP VCF files\n",
    "/home/cyborg/lenalidomine_resistance/dna/variants/snp/TJK528B/TJK528B.GATK.snp.reformated.vcf.gz\n",
    "\n",
    "# InDel VCF files\n",
    "/home/cyborg/lenalidomine_resistance/dna/variants/indel/TJK528B/TJK528B.GATK.indel.reformated.vcf.gz"
   ]
  },
  {
   "cell_type": "raw",
   "metadata": {},
   "source": [
    "/home/cyborg/Desktop/combined.vcf"
   ]
  }
 ],
 "metadata": {
  "anaconda-cloud": {},
  "kernelspec": {
   "display_name": "Python [default]",
   "language": "python",
   "name": "python3"
  },
  "language_info": {
   "codemirror_mode": {
    "name": "ipython",
    "version": 3
   },
   "file_extension": ".py",
   "mimetype": "text/x-python",
   "name": "python",
   "nbconvert_exporter": "python",
   "pygments_lexer": "ipython3",
   "version": "3.5.2"
  }
 },
 "nbformat": 4,
 "nbformat_minor": 1
}
