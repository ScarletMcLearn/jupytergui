{
 "cells": [
  {
   "cell_type": "code",
   "execution_count": 11,
   "metadata": {
    "collapsed": false
   },
   "outputs": [
    {
     "name": "stdout",
     "output_type": "stream",
     "text": [
      "The autoreload extension is already loaded. To reload it, use:\n",
      "  %reload_ext autoreload\n"
     ]
    }
   ],
   "source": [
    "from pprint import pprint\n",
    "import json\n",
    "import sys\n",
    "sys.path.insert(0, '../genepattern-python/')\n",
    "from gp import functions\n",
    "\n",
    "%load_ext autoreload\n",
    "%autoreload 2"
   ]
  },
  {
   "cell_type": "code",
   "execution_count": null,
   "metadata": {
    "collapsed": true
   },
   "outputs": [],
   "source": [
    "functions.login('https://genepattern.broadinstitute.org/gp', 'Simpli', 'Simpli')\n",
    "functions.get_tasks()\n",
    "\n",
    "t = functions.GPTask(functions.SERVER, 'PreprocessDataset')\n",
    "t.param_load()\n",
    "name = t.get_name()\n",
    "\n",
    "required_args = []\n",
    "default_args = [{'name': 'task_name', 'value': name}]\n",
    "optional_args = []\n",
    "other_information = {}\n",
    "\n",
    "task_entry = {\n",
    "    \"function_path\": 'gp.functions.execute',\n",
    "    \"label\": name,\n",
    "    \"description\": t.get_description(),\n",
    "    \"required_args\": required_args,\n",
    "    \"default_args\": default_args,\n",
    "    \"optional_args\": optional_args,\n",
    "    \"returns\": [{'label': 'Job', \n",
    "                 'description': 'ONLY FOR TESTING: RETURNS FIELD WILL BE REMOVED'}],\n",
    "    \"other_information\": other_information,\n",
    "}\n",
    "\n",
    "tasks = []\n",
    "\n",
    "task_json = {\n",
    "    \"library_path\": \"Jumis/tools/genepattern-python\",\n",
    "    \"tasks\": tasks,\n",
    "}\n",
    "\n",
    "tasks.append(\n",
    "    {\n",
    "        \"function_path\": 'gp.functions.login',\n",
    "        \"label\": 'Login GenePattern (Broad Institute)',\n",
    "        \"description\": 'Login into the GenePattern server at the Broad Institure.',\n",
    "        \"required_args\":\n",
    "        [            \n",
    "            {\n",
    "                'name': 'user_name',\n",
    "                'label': 'User name',\n",
    "                \"description\": 'GenePattern user name.',\n",
    "            },\n",
    "            {\n",
    "                'name': 'passcode',\n",
    "                'label': 'Passcode',\n",
    "                \"description\": 'GenePattern passcode.',\n",
    "            },        \n",
    "        ],\n",
    "        \"default_args\":\n",
    "        [\n",
    "            {\n",
    "                'name': 'server_name',\n",
    "                'value': 'https://genepattern.broadinstitute.org/gp',\n",
    "            },\n",
    "        ],\n",
    "    }\n",
    "            )\n",
    "\n",
    "ps = t.get_parameters()\n",
    "for p in ps:\n",
    "    a = {}\n",
    "    description = p.get_description()\n",
    "    default_value = p.get_default_value()\n",
    "    \n",
    "    a['name'] = p.get_name()\n",
    "    a['description'] = description\n",
    "    if default_value:\n",
    "        a['value'] = default_value\n",
    "    \n",
    "    type_ = p.get_type()\n",
    "    if p.is_choice_param():\n",
    "        choices = [d['value'] for d in p.get_choices()]\n",
    "        a['description']: '{} (default={}) (choices={}) (type={})'.format(description, default_value, choices, type_,)\n",
    "    else:\n",
    "        a['description']: '{} (default={}) (type={})'.format(description, default_value, type_,)\n",
    "    \n",
    "    if default_value:\n",
    "        optional_args.append(a)\n",
    "    else:\n",
    "        required_args.append(a)\n",
    "\n",
    "other_information['lsid'] = t.get_lsid()\n",
    "other_information['version'] = t.get_version()\n",
    "\n",
    "tasks.append(task_entry)\n",
    "\n",
    "with open('/Users/kateme/Jumis/tools/genepattern-python/functions.json', 'w') as f:\n",
    "    json.dump(task_json, f, indent=4)"
   ]
  },
  {
   "cell_type": "code",
   "execution_count": 30,
   "metadata": {
    "collapsed": false
   },
   "outputs": [
    {
     "name": "stdout",
     "output_type": "stream",
     "text": [
      "Logged into GenePattern server at: https://genepattern.broadinstitute.org/gp.\n",
      "<urllib.request.Request object at 0x10c3f0240>\n",
      "b'{\"lsid\": \"urn:lsid:broad.mit.edu:cancer.software.genepattern.module.analysis:00020:5.1\", \"params\": [{\"name\": \"input.filename\", \"values\": [\"https://genepattern.broadinstitute.org/gp/users/Simpli/tmp/run7768702568123352155.tmp/animals.gct\"]}], \"tags\": [\"GenePattern Python Client\"]}'\n"
     ]
    }
   ],
   "source": [
    "js = functions.make_task_spec('PreprocessDataset')\n",
    "# js.set_parameter('input.filename',\n",
    "#                  'https://software.broadinstitute.org/cancer/software/genepattern/data/all_aml/all_aml_test.gct')\n",
    "js.set_parameter('input.filename',\n",
    "                 '/Users/kateme/Jumis/data/animals/animals.gct')\n",
    "j = functions.submit_job(js)"
   ]
  },
  {
   "cell_type": "code",
   "execution_count": 29,
   "metadata": {
    "collapsed": false
   },
   "outputs": [
    {
     "name": "stdout",
     "output_type": "stream",
     "text": [
      "True\n",
      "Filtered all genes.\n",
      "\n"
     ]
    }
   ],
   "source": [
    "print(j.is_finished())\n",
    "for f in j.get_output_files():\n",
    "    print(f.read())"
   ]
  },
  {
   "cell_type": "code",
   "execution_count": 4,
   "metadata": {
    "collapsed": false,
    "scrolled": true
   },
   "outputs": [],
   "source": [
    "import sys\n",
    "sys.path.insert(0, '')\n",
    "import simpli\n",
    "m = simpli.Manager(True)\n",
    "m.print_tasks_as_json()\n",
    "'/Users/kateme/Jumis/tools/genepattern-python/functions.json'"
   ]
  }
 ],
 "metadata": {
  "kernelspec": {
   "display_name": "Python 3",
   "language": "python",
   "name": "python3"
  },
  "language_info": {
   "codemirror_mode": {
    "name": "ipython",
    "version": 3
   },
   "file_extension": ".py",
   "mimetype": "text/x-python",
   "name": "python",
   "nbconvert_exporter": "python",
   "pygments_lexer": "ipython3",
   "version": "3.6.0"
  }
 },
 "nbformat": 4,
 "nbformat_minor": 2
}
