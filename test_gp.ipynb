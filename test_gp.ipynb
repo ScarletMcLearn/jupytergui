{
 "cells": [
  {
   "cell_type": "code",
   "execution_count": 4,
   "metadata": {
    "collapsed": false
   },
   "outputs": [
    {
     "name": "stdout",
     "output_type": "stream",
     "text": [
      "The autoreload extension is already loaded. To reload it, use:\n",
      "  %reload_ext autoreload\n"
     ]
    }
   ],
   "source": [
    "from pprint import pprint\n",
    "import json\n",
    "import sys\n",
    "sys.path.insert(0, '../genepattern-python/')\n",
    "from gp import functions\n",
    "\n",
    "%load_ext autoreload\n",
    "%autoreload 2"
   ]
  },
  {
   "cell_type": "code",
   "execution_count": 3,
   "metadata": {
    "collapsed": false
   },
   "outputs": [
    {
     "data": {
      "text/html": [
       "<!--!AUTO_EXEC-->\n",
       "<paper-material elevation=\"1\" class=\"task-widget\"><div class=\"task-widget-header item-header\"><h2>Login GenePattern (Broad Institute)</h2></div><iron-collapse role=\"group\" aria-hidden=\"true\" aria-expanded=\"false\" class=\"task-widget-inner\" style=\"transition-property: max-height; transition-duration: 0s; max-height: 0px;\"><div class=\"task-widget-content item-content\"><div class=\"widget-info\">Login into the GenePattern server at the Broad Institure.</div><form is=\"iron-form\" class=\"task-widget-form\"><div class=\"widget-form-panel\"><div class=\"field-group field-required_args-group\"><div class=\"item-header\"><h3>Input</h3></div><iron-collapse role=\"group\" aria-hidden=\"true\" aria-expanded=\"false\" class=\"\" style=\"transition-property: max-height; transition-duration: 0s; max-height: 0px;\"><div class=\"field-group-content item-content\"><div class=\"input-parent\"><paper-input tabindex=\"0\" aria-disabled=\"false\" label=\"User name\" name=\"required_args\" value=\"\" auto-validate=\"\" error-message=\"Required!\" required=\"required\"></paper-input><paper-icon-button role=\"button\" tabindex=\"0\" aria-disabled=\"false\" icon=\"info\" class=\"info-toggle\"></paper-icon-button></div><iron-collapse role=\"group\" aria-hidden=\"true\" aria-expanded=\"false\" class=\"\" style=\"transition-property: max-height; transition-duration: 0s; max-height: 0px;\"><div class=\"item-content\">GenePattern user name.</div></iron-collapse><div class=\"input-parent\"><paper-input tabindex=\"0\" aria-disabled=\"false\" label=\"Passcode\" name=\"required_args\" value=\"\" auto-validate=\"\" error-message=\"Required!\" required=\"required\"></paper-input><paper-icon-button role=\"button\" tabindex=\"0\" aria-disabled=\"false\" icon=\"info\" class=\"info-toggle\"></paper-icon-button></div><iron-collapse role=\"group\" aria-hidden=\"true\" aria-expanded=\"false\" class=\"\" style=\"transition-property: max-height; transition-duration: 0s; max-height: 0px;\"><div class=\"item-content\">GenePattern passcode.</div></iron-collapse></div></iron-collapse></div></div><button class=\"form-submit-button-wrapper\"><paper-button role=\"button\" tabindex=\"0\" animated=\"\" aria-disabled=\"false\" elevation=\"1\" class=\"form-submit-button\" raised=\"\">submit<iron-icon icon=\"assessment\"></iron-icon></paper-button></button></form></div></iron-collapse></paper-material>\n",
       "<!--{\"Login GenePattern (Broad Institute)\":{\"library_path\":\"/Users/kateme/Jumis/tools/genepattern-python\",\"library_name\":\"gp.functions\",\"function_name\":\"login\",\"description\":\"Login into the GenePattern server at the Broad Institure.\",\"required_args\":[{\"name\":\"user_name\",\"value\":\"\",\"label\":\"User name\",\"description\":\"GenePattern user name.\"},{\"name\":\"passcode\",\"value\":\"\",\"label\":\"Passcode\",\"description\":\"GenePattern passcode.\"}],\"default_args\":[{\"name\":\"server_name\",\"value\":\"https://genepattern.broadinstitute.org/gp\",\"label\":\"Server Name\",\"description\":\"No description.\"}],\"optional_args\":[],\"returns\":[]}}-->"
      ],
      "text/plain": [
       "<IPython.core.display.HTML object>"
      ]
     },
     "metadata": {},
     "output_type": "display_data"
    },
    {
     "name": "stdout",
     "output_type": "stream",
     "text": [
      "Logged into GenePattern server at: https://genepattern.broadinstitute.org/gp.\n"
     ]
    }
   ],
   "source": [
    "%%HTML\n",
    "<!--!AUTO_EXEC-->\n",
    "<paper-material elevation=\"1\" class=\"task-widget\"><div class=\"task-widget-header item-header\"><h2>Login GenePattern (Broad Institute)</h2></div><iron-collapse role=\"group\" aria-hidden=\"true\" aria-expanded=\"false\" class=\"task-widget-inner\" style=\"transition-property: max-height; transition-duration: 0s; max-height: 0px;\"><div class=\"task-widget-content item-content\"><div class=\"widget-info\">Login into the GenePattern server at the Broad Institure.</div><form is=\"iron-form\" class=\"task-widget-form\"><div class=\"widget-form-panel\"><div class=\"field-group field-required_args-group\"><div class=\"item-header\"><h3>Input</h3></div><iron-collapse role=\"group\" aria-hidden=\"true\" aria-expanded=\"false\" class=\"\" style=\"transition-property: max-height; transition-duration: 0s; max-height: 0px;\"><div class=\"field-group-content item-content\"><div class=\"input-parent\"><paper-input tabindex=\"0\" aria-disabled=\"false\" label=\"User name\" name=\"required_args\" value=\"Simpli\" auto-validate=\"\" error-message=\"Required!\" required=\"required\"></paper-input><paper-icon-button role=\"button\" tabindex=\"0\" aria-disabled=\"false\" icon=\"info\" class=\"info-toggle\"></paper-icon-button></div><iron-collapse role=\"group\" aria-hidden=\"true\" aria-expanded=\"false\" class=\"\" style=\"transition-property: max-height; transition-duration: 0s; max-height: 0px;\"><div class=\"item-content\">GenePattern user name.</div></iron-collapse><div class=\"input-parent\"><paper-input tabindex=\"0\" aria-disabled=\"false\" label=\"Passcode\" name=\"required_args\" value=\"Simpli\" auto-validate=\"\" error-message=\"Required!\" required=\"required\"></paper-input><paper-icon-button role=\"button\" tabindex=\"0\" aria-disabled=\"false\" icon=\"info\" class=\"info-toggle\"></paper-icon-button></div><iron-collapse role=\"group\" aria-hidden=\"true\" aria-expanded=\"false\" class=\"\" style=\"transition-property: max-height; transition-duration: 0s; max-height: 0px;\"><div class=\"item-content\">GenePattern passcode.</div></iron-collapse></div></iron-collapse></div></div><button class=\"form-submit-button-wrapper\"><paper-button role=\"button\" tabindex=\"0\" animated=\"\" aria-disabled=\"false\" elevation=\"1\" class=\"form-submit-button\" raised=\"\">submit<iron-icon icon=\"assessment\"></iron-icon></paper-button></button></form></div></iron-collapse></paper-material>\n",
    "<!--{\"Login GenePattern (Broad Institute)\":{\"library_path\":\"/Users/kateme/Jumis/tools/genepattern-python\",\"library_name\":\"gp.functions\",\"function_name\":\"login\",\"description\":\"Login into the GenePattern server at the Broad Institure.\",\"required_args\":[{\"name\":\"user_name\",\"value\":\"Simpli\",\"label\":\"User name\",\"description\":\"GenePattern user name.\"},{\"name\":\"passcode\",\"value\":\"Simpli\",\"label\":\"Passcode\",\"description\":\"GenePattern passcode.\"}],\"default_args\":[{\"name\":\"server_name\",\"value\":\"https://genepattern.broadinstitute.org/gp\",\"label\":\"Server Name\",\"description\":\"No description.\"}],\"optional_args\":[],\"returns\":[]}}-->"
   ]
  },
  {
   "cell_type": "code",
   "execution_count": 2,
   "metadata": {
    "collapsed": false
   },
   "outputs": [
    {
     "data": {
      "text/html": [
       "<!--!AUTO_EXEC-->\n",
       "<paper-material elevation=\"1\" class=\"task-widget\"><div class=\"task-widget-header item-header\"><h2>PreprocessDataset</h2></div><iron-collapse role=\"group\" aria-hidden=\"true\" aria-expanded=\"false\" class=\"task-widget-inner\" style=\"transition-property: max-height; transition-duration: 0s; max-height: 0px;\"><div class=\"task-widget-content item-content\"><div class=\"widget-info\">Performs several preprocessing steps on a res, gct, or odf input file</div><form is=\"iron-form\" class=\"task-widget-form\"><div class=\"widget-form-panel\"><div class=\"field-group field-required_args-group\"><div class=\"item-header\"><h3>Input</h3></div><iron-collapse role=\"group\" aria-hidden=\"true\" aria-expanded=\"false\" class=\"\" style=\"transition-property: max-height; transition-duration: 0s; max-height: 0px;\"><div class=\"field-group-content item-content\"><div class=\"input-parent\"><paper-input tabindex=\"0\" aria-disabled=\"false\" label=\"Input.Filename\" name=\"required_args\" value=\"\" auto-validate=\"\" error-message=\"Required!\" required=\"required\"></paper-input><paper-icon-button role=\"button\" tabindex=\"0\" aria-disabled=\"false\" icon=\"info\" class=\"info-toggle\"></paper-icon-button></div><iron-collapse role=\"group\" aria-hidden=\"true\" aria-expanded=\"false\" class=\"\" style=\"transition-property: max-height; transition-duration: 0s; max-height: 0px;\"><div class=\"item-content\">Input filename - .res, .gct, .odf</div></iron-collapse><div class=\"input-parent\"><paper-input tabindex=\"0\" aria-disabled=\"false\" label=\"Threshold.For.Removing.Rows\" name=\"required_args\" value=\"\" auto-validate=\"\" error-message=\"Required!\" required=\"required\"></paper-input><paper-icon-button role=\"button\" tabindex=\"0\" aria-disabled=\"false\" icon=\"info\" class=\"info-toggle\"></paper-icon-button></div><iron-collapse role=\"group\" aria-hidden=\"true\" aria-expanded=\"false\" class=\"\" style=\"transition-property: max-height; transition-duration: 0s; max-height: 0px;\"><div class=\"item-content\">Threshold for removing rows</div></iron-collapse><div class=\"input-parent\"><paper-input tabindex=\"0\" aria-disabled=\"false\" label=\"Number.Of.Columns.Above.Threshold\" name=\"required_args\" value=\"\" auto-validate=\"\" error-message=\"Required!\" required=\"required\"></paper-input><paper-icon-button role=\"button\" tabindex=\"0\" aria-disabled=\"false\" icon=\"info\" class=\"info-toggle\"></paper-icon-button></div><iron-collapse role=\"group\" aria-hidden=\"true\" aria-expanded=\"false\" class=\"\" style=\"transition-property: max-height; transition-duration: 0s; max-height: 0px;\"><div class=\"item-content\">Remove row if this number of columns not &gt;= given threshold</div></iron-collapse></div></iron-collapse></div><div class=\"field-group field-optional_args-group\"><div class=\"item-header\"><h3>Optional Input</h3></div><iron-collapse role=\"group\" aria-hidden=\"true\" aria-expanded=\"false\" class=\"\" style=\"transition-property: max-height; transition-duration: 0s; max-height: 0px;\"><div class=\"field-group-content item-content\"><div class=\"input-parent\"><paper-input tabindex=\"0\" aria-disabled=\"false\" label=\"Threshold.And.Filter\" name=\"optional_args\" value=\"1\"></paper-input><paper-icon-button role=\"button\" tabindex=\"0\" aria-disabled=\"false\" icon=\"info\" class=\"info-toggle\"></paper-icon-button></div><iron-collapse role=\"group\" aria-hidden=\"true\" aria-expanded=\"false\" class=\"\" style=\"transition-property: max-height; transition-duration: 0s; max-height: 0px;\"><div class=\"item-content\">Apply floor, ceiling and variation filter</div></iron-collapse><div class=\"input-parent\"><paper-input tabindex=\"0\" aria-disabled=\"false\" label=\"Floor\" name=\"optional_args\" value=\"20\"></paper-input><paper-icon-button role=\"button\" tabindex=\"0\" aria-disabled=\"false\" icon=\"info\" class=\"info-toggle\"></paper-icon-button></div><iron-collapse role=\"group\" aria-hidden=\"true\" aria-expanded=\"false\" class=\"\" style=\"transition-property: max-height; transition-duration: 0s; max-height: 0px;\"><div class=\"item-content\">Value for floor threshold</div></iron-collapse><div class=\"input-parent\"><paper-input tabindex=\"0\" aria-disabled=\"false\" label=\"Ceiling\" name=\"optional_args\" value=\"20000\"></paper-input><paper-icon-button role=\"button\" tabindex=\"0\" aria-disabled=\"false\" icon=\"info\" class=\"info-toggle\"></paper-icon-button></div><iron-collapse role=\"group\" aria-hidden=\"true\" aria-expanded=\"false\" class=\"\" style=\"transition-property: max-height; transition-duration: 0s; max-height: 0px;\"><div class=\"item-content\">Value for ceiling threshold</div></iron-collapse><div class=\"input-parent\"><paper-input tabindex=\"0\" aria-disabled=\"false\" label=\"Min.Fold.Change\" name=\"optional_args\" value=\"3\"></paper-input><paper-icon-button role=\"button\" tabindex=\"0\" aria-disabled=\"false\" icon=\"info\" class=\"info-toggle\"></paper-icon-button></div><iron-collapse role=\"group\" aria-hidden=\"true\" aria-expanded=\"false\" class=\"\" style=\"transition-property: max-height; transition-duration: 0s; max-height: 0px;\"><div class=\"item-content\">Minimum fold change for variation filter</div></iron-collapse><div class=\"input-parent\"><paper-input tabindex=\"0\" aria-disabled=\"false\" label=\"Min.Delta\" name=\"optional_args\" value=\"100\"></paper-input><paper-icon-button role=\"button\" tabindex=\"0\" aria-disabled=\"false\" icon=\"info\" class=\"info-toggle\"></paper-icon-button></div><iron-collapse role=\"group\" aria-hidden=\"true\" aria-expanded=\"false\" class=\"\" style=\"transition-property: max-height; transition-duration: 0s; max-height: 0px;\"><div class=\"item-content\">Minimum delta for variation filter</div></iron-collapse><div class=\"input-parent\"><paper-input tabindex=\"0\" aria-disabled=\"false\" label=\"Num.Outliers.To.Exclude\" name=\"optional_args\" value=\"0\"></paper-input><paper-icon-button role=\"button\" tabindex=\"0\" aria-disabled=\"false\" icon=\"info\" class=\"info-toggle\"></paper-icon-button></div><iron-collapse role=\"group\" aria-hidden=\"true\" aria-expanded=\"false\" class=\"\" style=\"transition-property: max-height; transition-duration: 0s; max-height: 0px;\"><div class=\"item-content\">Number of outliers per row to ignore when calculating row min and max for variation filter</div></iron-collapse><div class=\"input-parent\"><paper-input tabindex=\"0\" aria-disabled=\"false\" label=\"Row.Normalization\" name=\"optional_args\" value=\"0\"></paper-input><paper-icon-button role=\"button\" tabindex=\"0\" aria-disabled=\"false\" icon=\"info\" class=\"info-toggle\"></paper-icon-button></div><iron-collapse role=\"group\" aria-hidden=\"true\" aria-expanded=\"false\" class=\"\" style=\"transition-property: max-height; transition-duration: 0s; max-height: 0px;\"><div class=\"item-content\">Perform row normalization</div></iron-collapse><div class=\"input-parent\"><paper-input tabindex=\"0\" aria-disabled=\"false\" label=\"Row.Sampling.Rate\" name=\"optional_args\" value=\"1\"></paper-input><paper-icon-button role=\"button\" tabindex=\"0\" aria-disabled=\"false\" icon=\"info\" class=\"info-toggle\"></paper-icon-button></div><iron-collapse role=\"group\" aria-hidden=\"true\" aria-expanded=\"false\" class=\"\" style=\"transition-property: max-height; transition-duration: 0s; max-height: 0px;\"><div class=\"item-content\">Sample rows without replacement to obtain this fraction of the total number of rows</div></iron-collapse><div class=\"input-parent\"><paper-input tabindex=\"0\" aria-disabled=\"false\" label=\"Log2.Transform\" name=\"optional_args\" value=\"0\"></paper-input><paper-icon-button role=\"button\" tabindex=\"0\" aria-disabled=\"false\" icon=\"info\" class=\"info-toggle\"></paper-icon-button></div><iron-collapse role=\"group\" aria-hidden=\"true\" aria-expanded=\"false\" class=\"\" style=\"transition-property: max-height; transition-duration: 0s; max-height: 0px;\"><div class=\"item-content\">Apply log2 transform after all other preprocessing steps</div></iron-collapse><div class=\"input-parent\"><paper-input tabindex=\"0\" aria-disabled=\"false\" label=\"Output.File.Format\" name=\"optional_args\" value=\"3\"></paper-input><paper-icon-button role=\"button\" tabindex=\"0\" aria-disabled=\"false\" icon=\"info\" class=\"info-toggle\"></paper-icon-button></div><iron-collapse role=\"group\" aria-hidden=\"true\" aria-expanded=\"false\" class=\"\" style=\"transition-property: max-height; transition-duration: 0s; max-height: 0px;\"><div class=\"item-content\">Output file format</div></iron-collapse><div class=\"input-parent\"><paper-input tabindex=\"0\" aria-disabled=\"false\" label=\"Output.File\" name=\"optional_args\" value=\"<input.filename_basename>.preprocessed\"></paper-input><paper-icon-button role=\"button\" tabindex=\"0\" aria-disabled=\"false\" icon=\"info\" class=\"info-toggle\"></paper-icon-button></div><iron-collapse role=\"group\" aria-hidden=\"true\" aria-expanded=\"false\" class=\"\" style=\"transition-property: max-height; transition-duration: 0s; max-height: 0px;\"><div class=\"item-content\">Output file name</div></iron-collapse></div></iron-collapse></div><div class=\"field-group field-returns-group\"><div class=\"item-header\"><h3>Output</h3></div><iron-collapse role=\"group\" aria-hidden=\"true\" aria-expanded=\"false\" class=\"\" style=\"transition-property: max-height; transition-duration: 0s; max-height: 0px;\"><div class=\"field-group-content item-content\"><div class=\"input-parent\"><paper-input tabindex=\"0\" aria-disabled=\"false\" label=\"Job\" name=\"returns\" auto-validate=\"\" error-message=\"Required!\" required=\"required\"></paper-input><paper-icon-button role=\"button\" tabindex=\"0\" aria-disabled=\"false\" icon=\"info\" class=\"info-toggle\"></paper-icon-button></div><iron-collapse role=\"group\" aria-hidden=\"true\" aria-expanded=\"false\" class=\"\" style=\"transition-property: max-height; transition-duration: 0s; max-height: 0px;\"><div class=\"item-content\">ONLY FOR TESTING: RETURNS FIELD WILL BE REMOVED</div></iron-collapse></div></iron-collapse></div></div><button class=\"form-submit-button-wrapper\"><paper-button role=\"button\" tabindex=\"0\" animated=\"\" aria-disabled=\"false\" elevation=\"1\" class=\"form-submit-button\" raised=\"\">submit<iron-icon icon=\"assessment\"></iron-icon></paper-button></button></form></div></iron-collapse></paper-material>\n",
       "<!--{\"PreprocessDataset\":{\"library_path\":\"/Users/kateme/Jumis/tools/genepattern-python\",\"library_name\":\"gp.functions\",\"function_name\":\"run_job\",\"description\":\"Performs several preprocessing steps on a res, gct, or odf input file\",\"required_args\":[{\"name\":\"input.filename\",\"value\":\"\",\"label\":\"Input.Filename\",\"description\":\"Input filename - .res, .gct, .odf\"},{\"name\":\"threshold.for.removing.rows\",\"value\":\"\",\"label\":\"Threshold.For.Removing.Rows\",\"description\":\"Threshold for removing rows\"},{\"name\":\"number.of.columns.above.threshold\",\"value\":\"\",\"label\":\"Number.Of.Columns.Above.Threshold\",\"description\":\"Remove row if this number of columns not >= given threshold\"}],\"default_args\":[{\"name\":\"task_name\",\"value\":\"PreprocessDataset\",\"label\":\"Task Name\",\"description\":\"No description.\"}],\"optional_args\":[{\"name\":\"threshold.and.filter\",\"value\":\"1\",\"label\":\"Threshold.And.Filter\",\"description\":\"Apply floor, ceiling and variation filter\"},{\"name\":\"floor\",\"value\":\"20\",\"label\":\"Floor\",\"description\":\"Value for floor threshold\"},{\"name\":\"ceiling\",\"value\":\"20000\",\"label\":\"Ceiling\",\"description\":\"Value for ceiling threshold\"},{\"name\":\"min.fold.change\",\"value\":\"3\",\"label\":\"Min.Fold.Change\",\"description\":\"Minimum fold change for variation filter\"},{\"name\":\"min.delta\",\"value\":\"100\",\"label\":\"Min.Delta\",\"description\":\"Minimum delta for variation filter\"},{\"name\":\"num.outliers.to.exclude\",\"value\":\"0\",\"label\":\"Num.Outliers.To.Exclude\",\"description\":\"Number of outliers per row to ignore when calculating row min and max for variation filter\"},{\"name\":\"row.normalization\",\"value\":\"0\",\"label\":\"Row.Normalization\",\"description\":\"Perform row normalization\"},{\"name\":\"row.sampling.rate\",\"value\":\"1\",\"label\":\"Row.Sampling.Rate\",\"description\":\"Sample rows without replacement to obtain this fraction of the total number of rows\"},{\"name\":\"log2.transform\",\"value\":\"0\",\"label\":\"Log2.Transform\",\"description\":\"Apply log2 transform after all other preprocessing steps\"},{\"name\":\"output.file.format\",\"value\":\"3\",\"label\":\"Output.File.Format\",\"description\":\"Output file format\"},{\"name\":\"output.file\",\"value\":\"<input.filename_basename>.preprocessed\",\"label\":\"Output.File\",\"description\":\"Output file name\"}],\"returns\":[{\"label\":\"Job\",\"description\":\"ONLY FOR TESTING: RETURNS FIELD WILL BE REMOVED\"}]}}-->"
      ],
      "text/plain": [
       "<IPython.core.display.HTML object>"
      ]
     },
     "metadata": {},
     "output_type": "display_data"
    },
    {
     "name": "stdout",
     "output_type": "stream",
     "text": [
      "<urllib.request.Request object at 0x10ec0cf98>\n",
      "b'{\"lsid\": \"urn:lsid:broad.mit.edu:cancer.software.genepattern.module.analysis:00020:5.1\", \"params\": [{\"name\": \"input.filename\", \"values\": [\"https://genepattern.broadinstitute.org/gp/users/Simpli/tmp/run3131939259916255494.tmp/animals.gct\"]}, {\"name\": \"threshold.for.removing.rows\", \"values\": []}, {\"name\": \"number.of.columns.above.threshold\", \"values\": []}, {\"name\": \"threshold.and.filter\", \"values\": [1]}, {\"name\": \"floor\", \"values\": [20]}, {\"name\": \"ceiling\", \"values\": [20000]}, {\"name\": \"min.fold.change\", \"values\": [3]}, {\"name\": \"min.delta\", \"values\": [100]}, {\"name\": \"num.outliers.to.exclude\", \"values\": [0]}, {\"name\": \"row.normalization\", \"values\": [0]}, {\"name\": \"row.sampling.rate\", \"values\": [1]}, {\"name\": \"log2.transform\", \"values\": [0]}, {\"name\": \"output.file.format\", \"values\": [3]}, {\"name\": \"output.file\", \"values\": [\"<input.filename_basename>.preprocessed\"]}], \"tags\": [\"GenePattern Python Client\"]}'\n"
     ]
    }
   ],
   "source": [
    "%%HTML\n",
    "<!--!AUTO_EXEC-->\n",
    "<paper-material elevation=\"1\" class=\"task-widget\"><div class=\"task-widget-header item-header\"><h2>PreprocessDataset</h2></div><iron-collapse role=\"group\" aria-hidden=\"true\" aria-expanded=\"false\" class=\"task-widget-inner\" style=\"transition-property: max-height; transition-duration: 0s; max-height: 0px;\"><div class=\"task-widget-content item-content\"><div class=\"widget-info\">Performs several preprocessing steps on a res, gct, or odf input file</div><form is=\"iron-form\" class=\"task-widget-form\"><div class=\"widget-form-panel\"><div class=\"field-group field-required_args-group\"><div class=\"item-header\"><h3>Input</h3></div><iron-collapse role=\"group\" aria-hidden=\"true\" aria-expanded=\"false\" class=\"\" style=\"transition-property: max-height; transition-duration: 0s; max-height: 0px;\"><div class=\"field-group-content item-content\"><div class=\"input-parent\"><paper-input tabindex=\"0\" aria-disabled=\"false\" label=\"Input.Filename\" name=\"required_args\" value=\"/Users/kateme/Jumis/data/animals/animals.gct\" auto-validate=\"\" error-message=\"Required!\" required=\"required\"></paper-input><paper-icon-button role=\"button\" tabindex=\"0\" aria-disabled=\"false\" icon=\"info\" class=\"info-toggle\"></paper-icon-button></div><iron-collapse role=\"group\" aria-hidden=\"true\" aria-expanded=\"false\" class=\"\" style=\"transition-property: max-height; transition-duration: 0s; max-height: 0px;\"><div class=\"item-content\">Input filename - .res, .gct, .odf</div></iron-collapse><div class=\"input-parent\"><paper-input tabindex=\"0\" aria-disabled=\"false\" label=\"Threshold.For.Removing.Rows\" name=\"required_args\" value=\"''\" auto-validate=\"\" error-message=\"Required!\" required=\"required\"></paper-input><paper-icon-button role=\"button\" tabindex=\"0\" aria-disabled=\"false\" icon=\"info\" class=\"info-toggle\"></paper-icon-button></div><iron-collapse role=\"group\" aria-hidden=\"true\" aria-expanded=\"false\" class=\"\" style=\"transition-property: max-height; transition-duration: 0s; max-height: 0px;\"><div class=\"item-content\">Threshold for removing rows</div></iron-collapse><div class=\"input-parent\"><paper-input tabindex=\"0\" aria-disabled=\"false\" label=\"Number.Of.Columns.Above.Threshold\" name=\"required_args\" value=\"''\" auto-validate=\"\" error-message=\"Required!\" required=\"required\"></paper-input><paper-icon-button role=\"button\" tabindex=\"0\" aria-disabled=\"false\" icon=\"info\" class=\"info-toggle\"></paper-icon-button></div><iron-collapse role=\"group\" aria-hidden=\"true\" aria-expanded=\"false\" class=\"\" style=\"transition-property: max-height; transition-duration: 0s; max-height: 0px;\"><div class=\"item-content\">Remove row if this number of columns not &gt;= given threshold</div></iron-collapse></div></iron-collapse></div><div class=\"field-group field-optional_args-group\"><div class=\"item-header\"><h3>Optional Input</h3></div><iron-collapse role=\"group\" aria-hidden=\"true\" aria-expanded=\"false\" class=\"\" style=\"transition-property: max-height; transition-duration: 0s; max-height: 0px;\"><div class=\"field-group-content item-content\"><div class=\"input-parent\"><paper-input tabindex=\"0\" aria-disabled=\"false\" label=\"Threshold.And.Filter\" name=\"optional_args\" value=\"1\"></paper-input><paper-icon-button role=\"button\" tabindex=\"0\" aria-disabled=\"false\" icon=\"info\" class=\"info-toggle\"></paper-icon-button></div><iron-collapse role=\"group\" aria-hidden=\"true\" aria-expanded=\"false\" class=\"\" style=\"transition-property: max-height; transition-duration: 0s; max-height: 0px;\"><div class=\"item-content\">Apply floor, ceiling and variation filter</div></iron-collapse><div class=\"input-parent\"><paper-input tabindex=\"0\" aria-disabled=\"false\" label=\"Floor\" name=\"optional_args\" value=\"20\"></paper-input><paper-icon-button role=\"button\" tabindex=\"0\" aria-disabled=\"false\" icon=\"info\" class=\"info-toggle\"></paper-icon-button></div><iron-collapse role=\"group\" aria-hidden=\"true\" aria-expanded=\"false\" class=\"\" style=\"transition-property: max-height; transition-duration: 0s; max-height: 0px;\"><div class=\"item-content\">Value for floor threshold</div></iron-collapse><div class=\"input-parent\"><paper-input tabindex=\"0\" aria-disabled=\"false\" label=\"Ceiling\" name=\"optional_args\" value=\"20000\"></paper-input><paper-icon-button role=\"button\" tabindex=\"0\" aria-disabled=\"false\" icon=\"info\" class=\"info-toggle\"></paper-icon-button></div><iron-collapse role=\"group\" aria-hidden=\"true\" aria-expanded=\"false\" class=\"\" style=\"transition-property: max-height; transition-duration: 0s; max-height: 0px;\"><div class=\"item-content\">Value for ceiling threshold</div></iron-collapse><div class=\"input-parent\"><paper-input tabindex=\"0\" aria-disabled=\"false\" label=\"Min.Fold.Change\" name=\"optional_args\" value=\"3\"></paper-input><paper-icon-button role=\"button\" tabindex=\"0\" aria-disabled=\"false\" icon=\"info\" class=\"info-toggle\"></paper-icon-button></div><iron-collapse role=\"group\" aria-hidden=\"true\" aria-expanded=\"false\" class=\"\" style=\"transition-property: max-height; transition-duration: 0s; max-height: 0px;\"><div class=\"item-content\">Minimum fold change for variation filter</div></iron-collapse><div class=\"input-parent\"><paper-input tabindex=\"0\" aria-disabled=\"false\" label=\"Min.Delta\" name=\"optional_args\" value=\"100\"></paper-input><paper-icon-button role=\"button\" tabindex=\"0\" aria-disabled=\"false\" icon=\"info\" class=\"info-toggle\"></paper-icon-button></div><iron-collapse role=\"group\" aria-hidden=\"true\" aria-expanded=\"false\" class=\"\" style=\"transition-property: max-height; transition-duration: 0s; max-height: 0px;\"><div class=\"item-content\">Minimum delta for variation filter</div></iron-collapse><div class=\"input-parent\"><paper-input tabindex=\"0\" aria-disabled=\"false\" label=\"Num.Outliers.To.Exclude\" name=\"optional_args\" value=\"0\"></paper-input><paper-icon-button role=\"button\" tabindex=\"0\" aria-disabled=\"false\" icon=\"info\" class=\"info-toggle\"></paper-icon-button></div><iron-collapse role=\"group\" aria-hidden=\"true\" aria-expanded=\"false\" class=\"\" style=\"transition-property: max-height; transition-duration: 0s; max-height: 0px;\"><div class=\"item-content\">Number of outliers per row to ignore when calculating row min and max for variation filter</div></iron-collapse><div class=\"input-parent\"><paper-input tabindex=\"0\" aria-disabled=\"false\" label=\"Row.Normalization\" name=\"optional_args\" value=\"0\"></paper-input><paper-icon-button role=\"button\" tabindex=\"0\" aria-disabled=\"false\" icon=\"info\" class=\"info-toggle\"></paper-icon-button></div><iron-collapse role=\"group\" aria-hidden=\"true\" aria-expanded=\"false\" class=\"\" style=\"transition-property: max-height; transition-duration: 0s; max-height: 0px;\"><div class=\"item-content\">Perform row normalization</div></iron-collapse><div class=\"input-parent\"><paper-input tabindex=\"0\" aria-disabled=\"false\" label=\"Row.Sampling.Rate\" name=\"optional_args\" value=\"1\"></paper-input><paper-icon-button role=\"button\" tabindex=\"0\" aria-disabled=\"false\" icon=\"info\" class=\"info-toggle\"></paper-icon-button></div><iron-collapse role=\"group\" aria-hidden=\"true\" aria-expanded=\"false\" class=\"\" style=\"transition-property: max-height; transition-duration: 0s; max-height: 0px;\"><div class=\"item-content\">Sample rows without replacement to obtain this fraction of the total number of rows</div></iron-collapse><div class=\"input-parent\"><paper-input tabindex=\"0\" aria-disabled=\"false\" label=\"Log2.Transform\" name=\"optional_args\" value=\"0\"></paper-input><paper-icon-button role=\"button\" tabindex=\"0\" aria-disabled=\"false\" icon=\"info\" class=\"info-toggle\"></paper-icon-button></div><iron-collapse role=\"group\" aria-hidden=\"true\" aria-expanded=\"false\" class=\"\" style=\"transition-property: max-height; transition-duration: 0s; max-height: 0px;\"><div class=\"item-content\">Apply log2 transform after all other preprocessing steps</div></iron-collapse><div class=\"input-parent\"><paper-input tabindex=\"0\" aria-disabled=\"false\" label=\"Output.File.Format\" name=\"optional_args\" value=\"3\"></paper-input><paper-icon-button role=\"button\" tabindex=\"0\" aria-disabled=\"false\" icon=\"info\" class=\"info-toggle\"></paper-icon-button></div><iron-collapse role=\"group\" aria-hidden=\"true\" aria-expanded=\"false\" class=\"\" style=\"transition-property: max-height; transition-duration: 0s; max-height: 0px;\"><div class=\"item-content\">Output file format</div></iron-collapse><div class=\"input-parent\"><paper-input tabindex=\"0\" aria-disabled=\"false\" label=\"Output.File\" name=\"optional_args\" value=\"<input.filename_basename>.preprocessed\"></paper-input><paper-icon-button role=\"button\" tabindex=\"0\" aria-disabled=\"false\" icon=\"info\" class=\"info-toggle\"></paper-icon-button></div><iron-collapse role=\"group\" aria-hidden=\"true\" aria-expanded=\"false\" class=\"\" style=\"transition-property: max-height; transition-duration: 0s; max-height: 0px;\"><div class=\"item-content\">Output file name</div></iron-collapse></div></iron-collapse></div><div class=\"field-group field-returns-group\"><div class=\"item-header\"><h3>Output</h3></div><iron-collapse role=\"group\" aria-hidden=\"true\" aria-expanded=\"false\" class=\"\" style=\"transition-property: max-height; transition-duration: 0s; max-height: 0px;\"><div class=\"field-group-content item-content\"><div class=\"input-parent\"><paper-input tabindex=\"0\" aria-disabled=\"false\" label=\"Job\" name=\"returns\" value=\"j\" auto-validate=\"\" error-message=\"Required!\" required=\"required\"></paper-input><paper-icon-button role=\"button\" tabindex=\"0\" aria-disabled=\"false\" icon=\"info\" class=\"info-toggle\"></paper-icon-button></div><iron-collapse role=\"group\" aria-hidden=\"true\" aria-expanded=\"false\" class=\"\" style=\"transition-property: max-height; transition-duration: 0s; max-height: 0px;\"><div class=\"item-content\">ONLY FOR TESTING: RETURNS FIELD WILL BE REMOVED</div></iron-collapse></div></iron-collapse></div></div><button class=\"form-submit-button-wrapper\"><paper-button role=\"button\" tabindex=\"0\" animated=\"\" aria-disabled=\"false\" elevation=\"1\" class=\"form-submit-button\" raised=\"\">submit<iron-icon icon=\"assessment\"></iron-icon></paper-button></button></form></div></iron-collapse></paper-material>\n",
    "<!--{\"PreprocessDataset\":{\"library_path\":\"/Users/kateme/Jumis/tools/genepattern-python\",\"library_name\":\"gp.functions\",\"function_name\":\"run_job\",\"description\":\"Performs several preprocessing steps on a res, gct, or odf input file\",\"required_args\":[{\"name\":\"input.filename\",\"value\":\"/Users/kateme/Jumis/data/animals/animals.gct\",\"label\":\"Input.Filename\",\"description\":\"Input filename - .res, .gct, .odf\"},{\"name\":\"threshold.for.removing.rows\",\"value\":\"''\",\"label\":\"Threshold.For.Removing.Rows\",\"description\":\"Threshold for removing rows\"},{\"name\":\"number.of.columns.above.threshold\",\"value\":\"''\",\"label\":\"Number.Of.Columns.Above.Threshold\",\"description\":\"Remove row if this number of columns not >= given threshold\"}],\"default_args\":[{\"name\":\"task_name\",\"value\":\"PreprocessDataset\",\"label\":\"Task Name\",\"description\":\"No description.\"}],\"optional_args\":[{\"name\":\"threshold.and.filter\",\"value\":\"1\",\"label\":\"Threshold.And.Filter\",\"description\":\"Apply floor, ceiling and variation filter\"},{\"name\":\"floor\",\"value\":\"20\",\"label\":\"Floor\",\"description\":\"Value for floor threshold\"},{\"name\":\"ceiling\",\"value\":\"20000\",\"label\":\"Ceiling\",\"description\":\"Value for ceiling threshold\"},{\"name\":\"min.fold.change\",\"value\":\"3\",\"label\":\"Min.Fold.Change\",\"description\":\"Minimum fold change for variation filter\"},{\"name\":\"min.delta\",\"value\":\"100\",\"label\":\"Min.Delta\",\"description\":\"Minimum delta for variation filter\"},{\"name\":\"num.outliers.to.exclude\",\"value\":\"0\",\"label\":\"Num.Outliers.To.Exclude\",\"description\":\"Number of outliers per row to ignore when calculating row min and max for variation filter\"},{\"name\":\"row.normalization\",\"value\":\"0\",\"label\":\"Row.Normalization\",\"description\":\"Perform row normalization\"},{\"name\":\"row.sampling.rate\",\"value\":\"1\",\"label\":\"Row.Sampling.Rate\",\"description\":\"Sample rows without replacement to obtain this fraction of the total number of rows\"},{\"name\":\"log2.transform\",\"value\":\"0\",\"label\":\"Log2.Transform\",\"description\":\"Apply log2 transform after all other preprocessing steps\"},{\"name\":\"output.file.format\",\"value\":\"3\",\"label\":\"Output.File.Format\",\"description\":\"Output file format\"},{\"name\":\"output.file\",\"value\":\"<input.filename_basename>.preprocessed\",\"label\":\"Output.File\",\"description\":\"Output file name\"}],\"returns\":[{\"label\":\"Job\",\"description\":\"ONLY FOR TESTING: RETURNS FIELD WILL BE REMOVED\",\"value\":\"j\"}]}}-->"
   ]
  },
  {
   "cell_type": "code",
   "execution_count": 7,
   "metadata": {
    "collapsed": false
   },
   "outputs": [
    {
     "data": {
      "text/html": [
       "<!--!AUTO_EXEC-->\n",
       "<paper-material elevation=\"1\" class=\"task-widget\"><div class=\"task-widget-header item-header\"><h2>Report Job Statuses</h2></div><iron-collapse role=\"group\" aria-hidden=\"true\" aria-expanded=\"false\" class=\"task-widget-inner\" style=\"transition-property: max-height; transition-duration: 0s; max-height: 0px;\"><div class=\"task-widget-content item-content\"><div class=\"widget-info\">Report job statuses.</div><form is=\"iron-form\" class=\"task-widget-form\"><div class=\"widget-form-panel\"></div><button class=\"form-submit-button-wrapper\"><paper-button role=\"button\" tabindex=\"0\" animated=\"\" aria-disabled=\"false\" elevation=\"1\" class=\"form-submit-button\" raised=\"\">submit<iron-icon icon=\"assessment\"></iron-icon></paper-button></button></form></div></iron-collapse></paper-material>\n",
       "<!--{\"Report Job Statuses\":{\"library_path\":\"/Users/kateme/Jumis/tools/genepattern-python\",\"library_name\":\"gp.functions\",\"function_name\":\"report_job_statuses\",\"description\":\"Report job statuses.\",\"required_args\":[],\"default_args\":[],\"optional_args\":[],\"returns\":[]}}-->"
      ],
      "text/plain": [
       "<IPython.core.display.HTML object>"
      ]
     },
     "metadata": {},
     "output_type": "display_data"
    },
    {
     "name": "stdout",
     "output_type": "stream",
     "text": [
      "Task: PreprocessDataset\n",
      "\tStatus: The job is queued or being scheduled and executed\n"
     ]
    }
   ],
   "source": [
    "%%HTML\n",
    "<!--!AUTO_EXEC-->\n",
    "<paper-material elevation=\"1\" class=\"task-widget\"><div class=\"task-widget-header item-header\"><h2>Report Job Statuses</h2></div><iron-collapse role=\"group\" aria-hidden=\"true\" aria-expanded=\"false\" class=\"task-widget-inner\" style=\"transition-property: max-height; transition-duration: 0s; max-height: 0px;\"><div class=\"task-widget-content item-content\"><div class=\"widget-info\">Report job statuses.</div><form is=\"iron-form\" class=\"task-widget-form\"><div class=\"widget-form-panel\"></div><button class=\"form-submit-button-wrapper\"><paper-button role=\"button\" tabindex=\"0\" animated=\"\" aria-disabled=\"false\" elevation=\"1\" class=\"form-submit-button\" raised=\"\">submit<iron-icon icon=\"assessment\"></iron-icon></paper-button></button></form></div></iron-collapse></paper-material>\n",
    "<!--{\"Report Job Statuses\":{\"library_path\":\"/Users/kateme/Jumis/tools/genepattern-python\",\"library_name\":\"gp.functions\",\"function_name\":\"report_job_statuses\",\"description\":\"Report job statuses.\",\"required_args\":[],\"default_args\":[],\"optional_args\":[],\"returns\":[]}}-->"
   ]
  },
  {
   "cell_type": "code",
   "execution_count": null,
   "metadata": {
    "collapsed": true
   },
   "outputs": [],
   "source": []
  },
  {
   "cell_type": "code",
   "execution_count": null,
   "metadata": {
    "collapsed": false
   },
   "outputs": [],
   "source": [
    "functions.login('https://genepattern.broadinstitute.org/gp', 'Simpli', 'Simpli')\n",
    "\n",
    "tasks = []\n",
    "task_json = {\n",
    "    \"library_path\": \"Jumis/tools/genepattern-python\",\n",
    "    \"tasks\": tasks,\n",
    "}\n",
    "\n",
    "tasks.append(\n",
    "    {\n",
    "        \"function_path\": 'gp.functions.login',\n",
    "        \"label\": 'Login GenePattern (Broad Institute)',\n",
    "        \"description\": 'Login into the GenePattern server at the Broad Institure.',\n",
    "        \"required_args\":\n",
    "        [            \n",
    "            {\n",
    "                'name': 'user_name',\n",
    "                'label': 'User name',\n",
    "                \"description\": 'GenePattern user name.',\n",
    "            },\n",
    "            {\n",
    "                'name': 'passcode',\n",
    "                'label': 'Passcode',\n",
    "                \"description\": 'GenePattern passcode.',\n",
    "            },        \n",
    "        ],\n",
    "        \"default_args\":\n",
    "        [\n",
    "            {\n",
    "                'name': 'server_name',\n",
    "                'value': 'https://genepattern.broadinstitute.org/gp',\n",
    "            },\n",
    "        ],\n",
    "    }\n",
    "            )\n",
    "\n",
    "for i, t in enumerate(functions.get_tasks()):\n",
    "    print('Processing task ({}/280): {} ...'.format(i, t))\n",
    "    \n",
    "    t = functions.GPTask(functions.SERVER, t)\n",
    "    t.param_load()\n",
    "    name = t.get_name()\n",
    "\n",
    "    required_args = []\n",
    "    default_args = [{'name': 'task_name', 'value': name}]\n",
    "    optional_args = []\n",
    "    other_information = {}\n",
    "\n",
    "    task_entry = {\n",
    "        \"function_path\": 'gp.functions.execute',\n",
    "        \"label\": name,\n",
    "        \"description\": t.get_description(),\n",
    "        \"required_args\": required_args,\n",
    "        \"default_args\": default_args,\n",
    "        \"optional_args\": optional_args,\n",
    "        \"returns\": [{'label': 'Job', 'description': 'ONLY FOR TESTING: RETURNS FIELD WILL BE REMOVED'}],\n",
    "        \"other_information\": other_information,\n",
    "    }\n",
    "\n",
    "    ps = t.get_parameters()\n",
    "    for p in ps:\n",
    "        a = {}\n",
    "        description = p.get_description()\n",
    "        default_value = p.get_default_value()\n",
    "\n",
    "        a['name'] = p.get_name()\n",
    "        a['description'] = description\n",
    "        if default_value:\n",
    "            a['value'] = default_value\n",
    "\n",
    "        type_ = p.get_type()\n",
    "        if p.is_choice_param():\n",
    "            choices = [d['value'] for d in p.get_choices()]\n",
    "            a['description']: '{} (default={}) (choices={}) (type={})'.format(description, default_value, choices, type_,)\n",
    "        else:\n",
    "            a['description']: '{} (default={}) (type={})'.format(description, default_value, type_,)\n",
    "\n",
    "        if default_value:\n",
    "            optional_args.append(a)\n",
    "        else:\n",
    "            required_args.append(a)\n",
    "\n",
    "    other_information['lsid'] = t.get_lsid()\n",
    "    other_information['version'] = t.get_version()\n",
    "\n",
    "    tasks.append(task_entry)"
   ]
  },
  {
   "cell_type": "code",
   "execution_count": null,
   "metadata": {
    "collapsed": false
   },
   "outputs": [],
   "source": [
    "pprint(tasks)\n",
    "with open('/Users/kateme/Jumis/tools/genepattern-python/functions.json', 'w') as f:\n",
    "    json.dump(task_json, f, indent=4)"
   ]
  },
  {
   "cell_type": "code",
   "execution_count": null,
   "metadata": {
    "collapsed": true
   },
   "outputs": [],
   "source": []
  },
  {
   "cell_type": "code",
   "execution_count": null,
   "metadata": {
    "collapsed": false
   },
   "outputs": [],
   "source": [
    "js = functions.make_task_spec('PreprocessDataset')\n",
    "# js.set_parameter('input.filename',\n",
    "#                  'https://software.broadinstitute.org/cancer/software/genepattern/data/all_aml/all_aml_test.gct')\n",
    "js.set_parameter('input.filename',\n",
    "                 '/Users/kateme/Jumis/data/animals/animals.gct')\n",
    "j = functions.submit_job(js)"
   ]
  },
  {
   "cell_type": "code",
   "execution_count": null,
   "metadata": {
    "collapsed": false
   },
   "outputs": [],
   "source": [
    "print(j.is_finished())\n",
    "for f in j.get_output_files():\n",
    "    print(f.read())"
   ]
  },
  {
   "cell_type": "code",
   "execution_count": null,
   "metadata": {
    "collapsed": false,
    "scrolled": true
   },
   "outputs": [],
   "source": [
    "import sys\n",
    "sys.path.insert(0, '')\n",
    "import simpli\n",
    "m = simpli.Manager(True)\n",
    "m.print_tasks_as_json()\n",
    "simpli.default_tasks.link_json('/Users/kateme/Jumis/tools/genepattern-python/functions.json')"
   ]
  }
 ],
 "metadata": {
  "kernelspec": {
   "display_name": "Python 3",
   "language": "python",
   "name": "python3"
  },
  "language_info": {
   "codemirror_mode": {
    "name": "ipython",
    "version": 3
   },
   "file_extension": ".py",
   "mimetype": "text/x-python",
   "name": "python",
   "nbconvert_exporter": "python",
   "pygments_lexer": "ipython3",
   "version": "3.6.0"
  }
 },
 "nbformat": 4,
 "nbformat_minor": 2
}
