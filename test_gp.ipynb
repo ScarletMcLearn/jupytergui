{
 "cells": [
  {
   "cell_type": "code",
   "execution_count": 2,
   "metadata": {
    "collapsed": false
   },
   "outputs": [
    {
     "name": "stdout",
     "output_type": "stream",
     "text": [
      "The autoreload extension is already loaded. To reload it, use:\n",
      "  %reload_ext autoreload\n"
     ]
    }
   ],
   "source": [
    "from pprint import pprint\n",
    "import json\n",
    "import sys\n",
    "sys.path.insert(0, '../genepattern-python/')\n",
    "from gp import functions\n",
    "\n",
    "%load_ext autoreload\n",
    "%autoreload 2"
   ]
  },
  {
   "cell_type": "code",
   "execution_count": null,
   "metadata": {
    "collapsed": true
   },
   "outputs": [],
   "source": []
  },
  {
   "cell_type": "code",
   "execution_count": 3,
   "metadata": {
    "collapsed": false
   },
   "outputs": [
    {
     "data": {
      "text/html": [
       "<!--!AUTO_EXEC-->\n",
       "<paper-material elevation=\"1\" class=\"task-widget\"><div class=\"task-widget-header item-header\"><h2>Load JSON</h2></div><iron-collapse role=\"group\" aria-hidden=\"true\" aria-expanded=\"false\" class=\"task-widget-inner\" style=\"transition-property: max-height; transition-duration: 0s; max-height: 0px;\"><div class=\"task-widget-content item-content\"><div class=\"widget-info\">No description.</div><form is=\"iron-form\" class=\"task-widget-form\"><div class=\"widget-form-panel\"><div class=\"field-group field-required_args-group\"><div class=\"item-header\"><h3>Input</h3></div><iron-collapse role=\"group\" aria-hidden=\"true\" aria-expanded=\"false\" class=\"\" style=\"transition-property: max-height; transition-duration: 0s; max-height: 0px;\"><div class=\"field-group-content item-content\"><div class=\"input-parent\"><paper-input tabindex=\"0\" aria-disabled=\"false\" label=\"Simpli JSON to be Loaded\" name=\"required_args\" value=\"\" auto-validate=\"\" error-message=\"Required!\" required=\"required\"></paper-input><paper-icon-button role=\"button\" tabindex=\"0\" aria-disabled=\"false\" icon=\"info\" class=\"info-toggle\"></paper-icon-button></div><iron-collapse role=\"group\" aria-hidden=\"true\" aria-expanded=\"false\" class=\"\" style=\"transition-property: max-height; transition-duration: 0s; max-height: 0px;\"><div class=\"item-content\">No description.</div></iron-collapse></div></iron-collapse></div></div><button class=\"form-submit-button-wrapper\"><paper-button role=\"button\" tabindex=\"0\" animated=\"\" aria-disabled=\"false\" elevation=\"1\" class=\"form-submit-button\" raised=\"\">submit<iron-icon icon=\"assessment\"></iron-icon></paper-button></button></form></div></iron-collapse></paper-material>\n",
       "<!--{\"Load JSON\":{\"library_path\":\"\",\"library_name\":\"simpli.default_tasks\",\"function_name\":\"link_json\",\"description\":\"No description.\",\"required_args\":[{\"name\":\"filepath\",\"value\":\"\",\"label\":\"Simpli JSON to be Loaded\",\"description\":\"No description.\"}],\"default_args\":[],\"optional_args\":[],\"returns\":[]}}-->"
      ],
      "text/plain": [
       "<IPython.core.display.HTML object>"
      ]
     },
     "metadata": {},
     "output_type": "display_data"
    }
   ],
   "source": [
    "%%HTML\n",
    "<!--!AUTO_EXEC-->\n",
    "<paper-material elevation=\"1\" class=\"task-widget\"><div class=\"task-widget-header item-header\"><h2>Load JSON</h2></div><iron-collapse role=\"group\" aria-hidden=\"true\" aria-expanded=\"false\" class=\"task-widget-inner\" style=\"transition-property: max-height; transition-duration: 0s; max-height: 0px;\"><div class=\"task-widget-content item-content\"><div class=\"widget-info\">No description.</div><form is=\"iron-form\" class=\"task-widget-form\"><div class=\"widget-form-panel\"><div class=\"field-group field-required_args-group\"><div class=\"item-header\"><h3>Input</h3></div><iron-collapse role=\"group\" aria-hidden=\"true\" aria-expanded=\"false\" class=\"\" style=\"transition-property: max-height; transition-duration: 0s; max-height: 0px;\"><div class=\"field-group-content item-content\"><div class=\"input-parent\"><paper-input tabindex=\"0\" aria-disabled=\"false\" label=\"Simpli JSON to be Loaded\" name=\"required_args\" value=\"/Users/Jumis/tools/genepattern-python/functions.json\" auto-validate=\"\" error-message=\"Required!\" required=\"required\"></paper-input><paper-icon-button role=\"button\" tabindex=\"0\" aria-disabled=\"false\" icon=\"info\" class=\"info-toggle\"></paper-icon-button></div><iron-collapse role=\"group\" aria-hidden=\"true\" aria-expanded=\"false\" class=\"\" style=\"transition-property: max-height; transition-duration: 0s; max-height: 0px;\"><div class=\"item-content\">No description.</div></iron-collapse></div></iron-collapse></div></div><button class=\"form-submit-button-wrapper\"><paper-button role=\"button\" tabindex=\"0\" animated=\"\" aria-disabled=\"false\" elevation=\"1\" class=\"form-submit-button\" raised=\"\">submit<iron-icon icon=\"assessment\"></iron-icon></paper-button></button></form></div></iron-collapse></paper-material>\n",
    "<!--{\"Load JSON\":{\"library_path\":\"\",\"library_name\":\"simpli.default_tasks\",\"function_name\":\"link_json\",\"description\":\"No description.\",\"required_args\":[{\"name\":\"filepath\",\"value\":\"/Users/Jumis/tools/genepattern-python/functions.json\",\"label\":\"Simpli JSON to be Loaded\",\"description\":\"No description.\"}],\"default_args\":[],\"optional_args\":[],\"returns\":[]}}-->"
   ]
  },
  {
   "cell_type": "code",
   "execution_count": null,
   "metadata": {
    "collapsed": true
   },
   "outputs": [],
   "source": []
  },
  {
   "cell_type": "code",
   "execution_count": null,
   "metadata": {
    "collapsed": true
   },
   "outputs": [],
   "source": [
    "functions.login('https://genepattern.broadinstitute.org/gp', 'Simpli', 'Simpli')\n",
    "functions.get_tasks()\n",
    "\n",
    "t = functions.GPTask(functions.SERVER, 'PreprocessDataset')\n",
    "t.param_load()\n",
    "name = t.get_name()\n",
    "\n",
    "required_args = []\n",
    "default_args = [{'name': 'task_name', 'value': name}]\n",
    "optional_args = []\n",
    "other_information = {}\n",
    "\n",
    "task_entry = {\n",
    "    \"function_path\": 'gp.gp_functions.execute',\n",
    "    \"label\": name,\n",
    "    \"description\": t.get_description(),\n",
    "    \"required_args\": required_args,\n",
    "    \"default_args\": default_args,\n",
    "    \"optional_args\": optional_args,\n",
    "    \"returns\": [{'label': 'Job', \n",
    "                 'description': 'ONLY FOR TESTING: RETURNS FIELD WILL BE REMOVED'}],\n",
    "    \"other_information\": other_information,\n",
    "}\n",
    "\n",
    "tasks = []\n",
    "\n",
    "task_json = {\n",
    "    \"library_path\": \"Jumis/tools/genepattern-python\",\n",
    "    \"tasks\": tasks,\n",
    "}\n",
    "\n",
    "tasks.append(\n",
    "    {\n",
    "        \"function_path\": 'gp.gp_functions.execute',\n",
    "        \"label\": 'Login GenePattern (Broad Institute)',\n",
    "        \"description\": 'Login into the GenePattern server at the Broad Institure.',\n",
    "        \"required_args\":\n",
    "        [            \n",
    "            {\n",
    "                'name': 'user_name',\n",
    "                'label': 'User name',\n",
    "                \"description\": 'GenePattern user name.',\n",
    "            },\n",
    "            {\n",
    "                'name': 'passcode',\n",
    "                'label': 'Passcode',\n",
    "                \"description\": 'GenePattern passcode.',\n",
    "            },        \n",
    "        ],\n",
    "        \"default_args\":\n",
    "        [\n",
    "            {\n",
    "                'name': 'server_name',\n",
    "                'value': 'https://genepattern.broadinstitute.org/gp',\n",
    "            },\n",
    "        ],\n",
    "    }\n",
    "            )\n",
    "\n",
    "ps = t.get_parameters()\n",
    "for p in ps:\n",
    "    a = {}\n",
    "    description = p.get_description()\n",
    "    default_value = p.get_default_value()\n",
    "    \n",
    "    a['name'] = p.get_name()\n",
    "    a['description'] = description\n",
    "    if default_value:\n",
    "        a['value'] = default_value\n",
    "    \n",
    "    type_ = p.get_type()\n",
    "    if p.is_choice_param():\n",
    "        choices = [d['value'] for d in p.get_choices()]\n",
    "        a['description']: '{} (default={}) (choices={}) (type={})'.format(description, default_value, choices, type_,)\n",
    "    else:\n",
    "        a['description']: '{} (default={}) (type={})'.format(description, default_value, type_,)\n",
    "    \n",
    "    if default_value:\n",
    "        optional_args.append(a)\n",
    "    else:\n",
    "        required_args.append(a)\n",
    "\n",
    "other_information['lsid'] = t.get_lsid()\n",
    "other_information['version'] = t.get_version()\n",
    "\n",
    "tasks.append(task_entry)\n",
    "\n",
    "pprint(task_json)\n",
    "with open('/Users/kateme/Jumis/tools/genepattern-python/functions.json', 'w') as f:\n",
    "    json.dump(task_json, f, indent=4)\n",
    "\n",
    "js = functions.make_task_spec('PreprocessDataset')\n",
    "# js.set_parameter('input.filename',\n",
    "#                  'https://software.broadinstitute.org/cancer/software/genepattern/data/all_aml/all_aml_test.gct')\n",
    "js.set_parameter('input.filename',\n",
    "                 '/Users/kateme/Jumis/data/animals/animals.gct')\n",
    "j = functions.submit_job(js)"
   ]
  },
  {
   "cell_type": "code",
   "execution_count": 3,
   "metadata": {
    "collapsed": false
   },
   "outputs": [
    {
     "name": "stdout",
     "output_type": "stream",
     "text": [
      "True\n",
      "Filtered all genes.\n",
      "\n"
     ]
    }
   ],
   "source": [
    "print(j.is_finished())\n",
    "for f in j.get_output_files():\n",
    "    print(f.read())"
   ]
  },
  {
   "cell_type": "code",
   "execution_count": 4,
   "metadata": {
    "collapsed": false,
    "scrolled": true
   },
   "outputs": [],
   "source": [
    "# import sys\n",
    "# sys.path.insert(0, '')\n",
    "# import simpli\n",
    "# m = simpli.Manager(True)\n",
    "# m.print_tasks_as_json()"
   ]
  }
 ],
 "metadata": {
  "kernelspec": {
   "display_name": "Python 3",
   "language": "python",
   "name": "python3"
  },
  "language_info": {
   "codemirror_mode": {
    "name": "ipython",
    "version": 3
   },
   "file_extension": ".py",
   "mimetype": "text/x-python",
   "name": "python",
   "nbconvert_exporter": "python",
   "pygments_lexer": "ipython3",
   "version": "3.6.0"
  }
 },
 "nbformat": 4,
 "nbformat_minor": 2
}
