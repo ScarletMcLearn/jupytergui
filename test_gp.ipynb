{
 "cells": [
  {
   "cell_type": "code",
   "execution_count": 11,
   "metadata": {
    "collapsed": false
   },
   "outputs": [
    {
     "name": "stdout",
     "output_type": "stream",
     "text": [
      "The autoreload extension is already loaded. To reload it, use:\n",
      "  %reload_ext autoreload\n"
     ]
    }
   ],
   "source": [
    "from pprint import pprint\n",
    "import json\n",
    "import sys\n",
    "sys.path.insert(0, '../genepattern-python/')\n",
    "from gp import functions\n",
    "\n",
    "%load_ext autoreload\n",
    "%autoreload 2"
   ]
  },
  {
   "cell_type": "code",
   "execution_count": null,
   "metadata": {
    "collapsed": true
   },
   "outputs": [],
   "source": [
    "functions.login('https://genepattern.broadinstitute.org/gp', 'Simpli', 'Simpli')\n",
    "functions.get_tasks()\n",
    "\n",
    "t = functions.GPTask(functions.SERVER, 'PreprocessDataset')\n",
    "t.param_load()\n",
    "name = t.get_name()\n",
    "\n",
    "required_args = []\n",
    "default_args = [{'name': 'task_name', 'value': name}]\n",
    "optional_args = []\n",
    "other_information = {}\n",
    "\n",
    "task_entry = {\n",
    "    \"function_path\": 'gp.functions.execute',\n",
    "    \"label\": name,\n",
    "    \"description\": t.get_description(),\n",
    "    \"required_args\": required_args,\n",
    "    \"default_args\": default_args,\n",
    "    \"optional_args\": optional_args,\n",
    "    \"returns\": [{'label': 'Job', \n",
    "                 'description': 'ONLY FOR TESTING: RETURNS FIELD WILL BE REMOVED'}],\n",
    "    \"other_information\": other_information,\n",
    "}\n",
    "\n",
    "tasks = []\n",
    "\n",
    "task_json = {\n",
    "    \"library_path\": \"Jumis/tools/genepattern-python\",\n",
    "    \"tasks\": tasks,\n",
    "}\n",
    "\n",
    "tasks.append(\n",
    "    {\n",
    "        \"function_path\": 'gp.functions.login',\n",
    "        \"label\": 'Login GenePattern (Broad Institute)',\n",
    "        \"description\": 'Login into the GenePattern server at the Broad Institure.',\n",
    "        \"required_args\":\n",
    "        [            \n",
    "            {\n",
    "                'name': 'user_name',\n",
    "                'label': 'User name',\n",
    "                \"description\": 'GenePattern user name.',\n",
    "            },\n",
    "            {\n",
    "                'name': 'passcode',\n",
    "                'label': 'Passcode',\n",
    "                \"description\": 'GenePattern passcode.',\n",
    "            },        \n",
    "        ],\n",
    "        \"default_args\":\n",
    "        [\n",
    "            {\n",
    "                'name': 'server_name',\n",
    "                'value': 'https://genepattern.broadinstitute.org/gp',\n",
    "            },\n",
    "        ],\n",
    "    }\n",
    "            )\n",
    "\n",
    "ps = t.get_parameters()\n",
    "for p in ps:\n",
    "    a = {}\n",
    "    description = p.get_description()\n",
    "    default_value = p.get_default_value()\n",
    "    \n",
    "    a['name'] = p.get_name()\n",
    "    a['description'] = description\n",
    "    if default_value:\n",
    "        a['value'] = default_value\n",
    "    \n",
    "    type_ = p.get_type()\n",
    "    if p.is_choice_param():\n",
    "        choices = [d['value'] for d in p.get_choices()]\n",
    "        a['description']: '{} (default={}) (choices={}) (type={})'.format(description, default_value, choices, type_,)\n",
    "    else:\n",
    "        a['description']: '{} (default={}) (type={})'.format(description, default_value, type_,)\n",
    "    \n",
    "    if default_value:\n",
    "        optional_args.append(a)\n",
    "    else:\n",
    "        required_args.append(a)\n",
    "\n",
    "other_information['lsid'] = t.get_lsid()\n",
    "other_information['version'] = t.get_version()\n",
    "\n",
    "tasks.append(task_entry)\n",
    "\n",
    "with open('/Users/kateme/Jumis/tools/genepattern-python/functions.json', 'w') as f:\n",
    "    json.dump(task_json, f, indent=4)"
   ]
  },
  {
   "cell_type": "code",
   "execution_count": 30,
   "metadata": {
    "collapsed": false
   },
   "outputs": [
    {
     "name": "stdout",
     "output_type": "stream",
     "text": [
      "Logged into GenePattern server at: https://genepattern.broadinstitute.org/gp.\n",
      "<urllib.request.Request object at 0x10c3f0240>\n",
      "b'{\"lsid\": \"urn:lsid:broad.mit.edu:cancer.software.genepattern.module.analysis:00020:5.1\", \"params\": [{\"name\": \"input.filename\", \"values\": [\"https://genepattern.broadinstitute.org/gp/users/Simpli/tmp/run7768702568123352155.tmp/animals.gct\"]}], \"tags\": [\"GenePattern Python Client\"]}'\n"
     ]
    }
   ],
   "source": [
    "js = functions.make_task_spec('PreprocessDataset')\n",
    "# js.set_parameter('input.filename',\n",
    "#                  'https://software.broadinstitute.org/cancer/software/genepattern/data/all_aml/all_aml_test.gct')\n",
    "js.set_parameter('input.filename',\n",
    "                 '/Users/kateme/Jumis/data/animals/animals.gct')\n",
    "j = functions.submit_job(js)"
   ]
  },
  {
   "cell_type": "code",
   "execution_count": 29,
   "metadata": {
    "collapsed": false
   },
   "outputs": [
    {
     "name": "stdout",
     "output_type": "stream",
     "text": [
      "True\n",
      "Filtered all genes.\n",
      "\n"
     ]
    }
   ],
   "source": [
    "print(j.is_finished())\n",
    "for f in j.get_output_files():\n",
    "    print(f.read())"
   ]
  },
  {
   "cell_type": "code",
   "execution_count": 34,
   "metadata": {
    "collapsed": false,
    "scrolled": true
   },
   "outputs": [
    {
     "name": "stdout",
     "output_type": "stream",
     "text": [
      "Printing tasks in JSON format ...\n",
      "Loading task-specifying JSONs in directory /Users/kateme/.Simpli/json/ ...\n",
      "Loading task-specifying JSON /Users/kateme/.Simpli/json/default_tasks.json ...\n",
      "Processing args ...\n",
      "Processing args ...\n",
      "Processing args ...\n",
      "Processing returns ...\n",
      "\t\tLoaded task Load JSON: {'library_path': '', 'library_name': 'simpli.default_tasks', 'function_name': 'link_json', 'description': 'No description.', 'required_args': [{'name': 'filepath', 'value': '', 'label': 'Simpli JSON to be Loaded', 'description': 'No description.'}], 'default_args': [], 'optional_args': [], 'returns': []}.\n",
      "Processing args ...\n",
      "Processing args ...\n",
      "Processing args ...\n",
      "Processing returns ...\n",
      "\t\tLoaded task Reset JSONs: {'library_path': '', 'library_name': 'simpli.default_tasks', 'function_name': 'reset_jsons', 'description': 'No description.', 'required_args': [], 'default_args': [], 'optional_args': [], 'returns': []}.\n",
      "Processing args ...\n",
      "Processing args ...\n",
      "Processing args ...\n",
      "Processing returns ...\n",
      "\t\tLoaded task Assign: {'library_path': '', 'library_name': 'simpli.default_tasks', 'function_name': 'just_return', 'description': 'No description.', 'required_args': [{'name': 'value', 'value': '', 'label': 'Value to Assign', 'description': 'No description.'}], 'default_args': [], 'optional_args': [], 'returns': [{'label': 'Variable Name to Assign to', 'description': 'No description.'}]}.\n",
      "Processing args ...\n",
      "Processing args ...\n",
      "Processing args ...\n",
      "Processing returns ...\n",
      "\t\tLoaded task Slice DataFrame by Row: {'library_path': '', 'library_name': 'simpli.default_tasks', 'function_name': 'slice_dataframe', 'description': 'Return a subset of rows of a given DataFrame object.', 'required_args': [{'name': 'dataframe', 'value': '', 'label': 'DataFrame', 'description': 'Target dataframe object.'}, {'name': 'indices', 'value': '', 'label': 'Row Index(ices)', 'description': 'An integer or list of integers separated by commas of the rows to slice. Note that indices are 0 based.'}], 'default_args': [{'name': 'ax', 'value': '0', 'label': 'Ax', 'description': 'No description.'}], 'optional_args': [], 'returns': [{'label': 'Sliced DataFrame', 'description': 'A slice of the DataFrame including the specified rows.'}]}.\n",
      "Processing args ...\n",
      "Processing args ...\n",
      "Processing args ...\n",
      "Processing returns ...\n",
      "\t\tLoaded task Slice DataFrame by Column: {'library_path': '', 'library_name': 'simpli.default_tasks', 'function_name': 'slice_dataframe', 'description': 'No description.', 'required_args': [{'name': 'dataframe', 'value': '', 'label': 'DataFrame', 'description': 'No description.'}, {'name': 'indices', 'value': '', 'label': 'Column Index(ices)', 'description': 'No description.'}], 'default_args': [{'name': 'ax', 'value': '1', 'label': 'Ax', 'description': 'No description.'}], 'optional_args': [], 'returns': [{'label': 'Sliced DataFrame', 'description': 'No description.'}]}.\n",
      "Processing args ...\n",
      "Processing args ...\n",
      "Processing args ...\n",
      "Processing returns ...\n",
      "\t\tLoaded task Set Notebook Theme: {'library_path': '', 'library_name': 'simpli.default_tasks', 'function_name': 'set_notebook_theme', 'description': 'No description.', 'required_args': [{'name': 'filepath', 'value': '', 'label': 'CSS File', 'description': 'No description.'}], 'default_args': [], 'optional_args': [], 'returns': []}.\n",
      "Processing args ...\n",
      "Processing args ...\n",
      "Processing args ...\n",
      "Processing returns ...\n",
      "\t\tLoaded task Center Align Outputs: {'library_path': '', 'library_name': 'simpli.default_tasks', 'function_name': 'center_align_output_cells', 'description': 'No description.', 'required_args': [], 'default_args': [], 'optional_args': [], 'returns': []}.\n",
      "Processing args ...\n",
      "Processing args ...\n",
      "Processing args ...\n",
      "Processing returns ...\n",
      "\t\tLoaded task Display Start Banner and Logos: {'library_path': '', 'library_name': 'simpli.default_tasks', 'function_name': 'display_start_banner_and_logos', 'description': 'No description.', 'required_args': [], 'default_args': [], 'optional_args': [], 'returns': []}.\n",
      "Processing args ...\n",
      "Processing args ...\n",
      "Processing args ...\n",
      "Processing returns ...\n",
      "\t\tLoaded task Display End Banner: {'library_path': '', 'library_name': 'simpli.default_tasks', 'function_name': 'display_end_banner', 'description': 'No description.', 'required_args': [], 'default_args': [], 'optional_args': [], 'returns': []}.\n",
      "Processing args ...\n",
      "Processing args ...\n",
      "Processing args ...\n",
      "Processing returns ...\n",
      "\t\tLoaded task Link YouTube Video: {'library_path': '', 'library_name': 'simpli.default_tasks', 'function_name': 'youtube', 'description': 'No description.', 'required_args': [{'name': 'url', 'value': '', 'label': 'YouTube Video URL', 'description': 'No description.'}], 'default_args': [], 'optional_args': [], 'returns': []}.\n",
      "Processing args ...\n",
      "Processing args ...\n",
      "Processing args ...\n",
      "Processing returns ...\n",
      "\t\tLoaded task Toggle Input Cells: {'library_path': '', 'library_name': 'simpli.default_tasks', 'function_name': 'toggle_input_cells', 'description': 'No description.', 'required_args': [], 'default_args': [], 'optional_args': [], 'returns': []}.\n",
      "Processing args ...\n",
      "Processing args ...\n",
      "Processing args ...\n",
      "Processing returns ...\n",
      "\t\tLoaded task Execute HTML: {'library_path': '', 'library_name': 'simpli.default_tasks', 'function_name': 'display_raw_html', 'description': 'No description.', 'required_args': [], 'default_args': [], 'optional_args': [], 'returns': []}.\n",
      "(Getting tasks ...)\n",
      "Setting/updating task {} to be {'Load JSON': {'library_path': '', 'library_name': 'simpli.default_tasks', 'function_name': 'link_json', 'description': 'No description.', 'required_args': [{'name': 'filepath', 'value': '', 'label': 'Simpli JSON to be Loaded', 'description': 'No description.'}], 'default_args': [], 'optional_args': [], 'returns': []}, 'Reset JSONs': {'library_path': '', 'library_name': 'simpli.default_tasks', 'function_name': 'reset_jsons', 'description': 'No description.', 'required_args': [], 'default_args': [], 'optional_args': [], 'returns': []}, 'Assign': {'library_path': '', 'library_name': 'simpli.default_tasks', 'function_name': 'just_return', 'description': 'No description.', 'required_args': [{'name': 'value', 'value': '', 'label': 'Value to Assign', 'description': 'No description.'}], 'default_args': [], 'optional_args': [], 'returns': [{'label': 'Variable Name to Assign to', 'description': 'No description.'}]}, 'Slice DataFrame by Row': {'library_path': '', 'library_name': 'simpli.default_tasks', 'function_name': 'slice_dataframe', 'description': 'Return a subset of rows of a given DataFrame object.', 'required_args': [{'name': 'dataframe', 'value': '', 'label': 'DataFrame', 'description': 'Target dataframe object.'}, {'name': 'indices', 'value': '', 'label': 'Row Index(ices)', 'description': 'An integer or list of integers separated by commas of the rows to slice. Note that indices are 0 based.'}], 'default_args': [{'name': 'ax', 'value': '0', 'label': 'Ax', 'description': 'No description.'}], 'optional_args': [], 'returns': [{'label': 'Sliced DataFrame', 'description': 'A slice of the DataFrame including the specified rows.'}]}, 'Slice DataFrame by Column': {'library_path': '', 'library_name': 'simpli.default_tasks', 'function_name': 'slice_dataframe', 'description': 'No description.', 'required_args': [{'name': 'dataframe', 'value': '', 'label': 'DataFrame', 'description': 'No description.'}, {'name': 'indices', 'value': '', 'label': 'Column Index(ices)', 'description': 'No description.'}], 'default_args': [{'name': 'ax', 'value': '1', 'label': 'Ax', 'description': 'No description.'}], 'optional_args': [], 'returns': [{'label': 'Sliced DataFrame', 'description': 'No description.'}]}, 'Set Notebook Theme': {'library_path': '', 'library_name': 'simpli.default_tasks', 'function_name': 'set_notebook_theme', 'description': 'No description.', 'required_args': [{'name': 'filepath', 'value': '', 'label': 'CSS File', 'description': 'No description.'}], 'default_args': [], 'optional_args': [], 'returns': []}, 'Center Align Outputs': {'library_path': '', 'library_name': 'simpli.default_tasks', 'function_name': 'center_align_output_cells', 'description': 'No description.', 'required_args': [], 'default_args': [], 'optional_args': [], 'returns': []}, 'Display Start Banner and Logos': {'library_path': '', 'library_name': 'simpli.default_tasks', 'function_name': 'display_start_banner_and_logos', 'description': 'No description.', 'required_args': [], 'default_args': [], 'optional_args': [], 'returns': []}, 'Display End Banner': {'library_path': '', 'library_name': 'simpli.default_tasks', 'function_name': 'display_end_banner', 'description': 'No description.', 'required_args': [], 'default_args': [], 'optional_args': [], 'returns': []}, 'Link YouTube Video': {'library_path': '', 'library_name': 'simpli.default_tasks', 'function_name': 'youtube', 'description': 'No description.', 'required_args': [{'name': 'url', 'value': '', 'label': 'YouTube Video URL', 'description': 'No description.'}], 'default_args': [], 'optional_args': [], 'returns': []}, 'Toggle Input Cells': {'library_path': '', 'library_name': 'simpli.default_tasks', 'function_name': 'toggle_input_cells', 'description': 'No description.', 'required_args': [], 'default_args': [], 'optional_args': [], 'returns': []}, 'Execute HTML': {'library_path': '', 'library_name': 'simpli.default_tasks', 'function_name': 'display_raw_html', 'description': 'No description.', 'required_args': [], 'default_args': [], 'optional_args': [], 'returns': []}} ...\n",
      "(Getting tasks ...)\n",
      "(Setting tasks ...)\n",
      "Loading task-specifying JSON /Users/kateme/.Simpli/json/functions.json ...\n"
     ]
    },
    {
     "ename": "FileNotFoundError",
     "evalue": "[Errno 2] No such file or directory: '/Users/kateme/.Simpli/json/functions.json'",
     "output_type": "error",
     "traceback": [
      "\u001b[0;31m---------------------------------------------------------------------------\u001b[0m",
      "\u001b[0;31mFileNotFoundError\u001b[0m                         Traceback (most recent call last)",
      "\u001b[0;32m<ipython-input-34-c28801a915cf>\u001b[0m in \u001b[0;36m<module>\u001b[0;34m()\u001b[0m\n\u001b[1;32m      3\u001b[0m \u001b[0;32mimport\u001b[0m \u001b[0msimpli\u001b[0m\u001b[0;34m\u001b[0m\u001b[0m\n\u001b[1;32m      4\u001b[0m \u001b[0mm\u001b[0m \u001b[0;34m=\u001b[0m \u001b[0msimpli\u001b[0m\u001b[0;34m.\u001b[0m\u001b[0mManager\u001b[0m\u001b[0;34m(\u001b[0m\u001b[0;32mTrue\u001b[0m\u001b[0;34m)\u001b[0m\u001b[0;34m\u001b[0m\u001b[0m\n\u001b[0;32m----> 5\u001b[0;31m \u001b[0mm\u001b[0m\u001b[0;34m.\u001b[0m\u001b[0mprint_tasks_as_json\u001b[0m\u001b[0;34m(\u001b[0m\u001b[0;34m)\u001b[0m\u001b[0;34m\u001b[0m\u001b[0m\n\u001b[0m\u001b[1;32m      6\u001b[0m \u001b[0;34m'/Users/kateme/Jumis/tools/genepattern-python/functions.json'\u001b[0m\u001b[0;34m\u001b[0m\u001b[0m\n",
      "\u001b[0;32m/Users/kateme/Jumis/tools/simpli/simpli/startup.py\u001b[0m in \u001b[0;36mprint_tasks_as_json\u001b[0;34m(self, json_directory_path)\u001b[0m\n\u001b[1;32m    117\u001b[0m         \u001b[0mself\u001b[0m\u001b[0;34m.\u001b[0m\u001b[0m_print\u001b[0m\u001b[0;34m(\u001b[0m\u001b[0;34m'Printing tasks in JSON format ...'\u001b[0m\u001b[0;34m)\u001b[0m\u001b[0;34m\u001b[0m\u001b[0m\n\u001b[1;32m    118\u001b[0m \u001b[0;34m\u001b[0m\u001b[0m\n\u001b[0;32m--> 119\u001b[0;31m         \u001b[0mself\u001b[0m\u001b[0;34m.\u001b[0m\u001b[0m_load_tasks_from_json_dir\u001b[0m\u001b[0;34m(\u001b[0m\u001b[0mjson_directory_path\u001b[0m\u001b[0;34m=\u001b[0m\u001b[0mjson_directory_path\u001b[0m\u001b[0;34m)\u001b[0m\u001b[0;34m\u001b[0m\u001b[0m\n\u001b[0m\u001b[1;32m    120\u001b[0m \u001b[0;34m\u001b[0m\u001b[0m\n\u001b[1;32m    121\u001b[0m         \u001b[0mprint\u001b[0m\u001b[0;34m(\u001b[0m\u001b[0mdumps\u001b[0m\u001b[0;34m(\u001b[0m\u001b[0mself\u001b[0m\u001b[0;34m.\u001b[0m\u001b[0m_tasks\u001b[0m\u001b[0;34m)\u001b[0m\u001b[0;34m)\u001b[0m\u001b[0;34m\u001b[0m\u001b[0m\n",
      "\u001b[0;32m/Users/kateme/Jumis/tools/simpli/simpli/startup.py\u001b[0m in \u001b[0;36m_load_tasks_from_json_dir\u001b[0;34m(self, json_directory_path)\u001b[0m\n\u001b[1;32m    169\u001b[0m             \u001b[0mfp_json\u001b[0m \u001b[0;34m=\u001b[0m \u001b[0mjoin\u001b[0m\u001b[0;34m(\u001b[0m\u001b[0mjson_directory_path\u001b[0m\u001b[0;34m,\u001b[0m \u001b[0mf\u001b[0m\u001b[0;34m)\u001b[0m\u001b[0;34m\u001b[0m\u001b[0m\n\u001b[1;32m    170\u001b[0m             \u001b[0;32mtry\u001b[0m\u001b[0;34m:\u001b[0m\u001b[0;34m\u001b[0m\u001b[0m\n\u001b[0;32m--> 171\u001b[0;31m                 \u001b[0mself\u001b[0m\u001b[0;34m.\u001b[0m\u001b[0m_load_tasks_from_json\u001b[0m\u001b[0;34m(\u001b[0m\u001b[0mfp_json\u001b[0m\u001b[0;34m)\u001b[0m\u001b[0;34m\u001b[0m\u001b[0m\n\u001b[0m\u001b[1;32m    172\u001b[0m \u001b[0;34m\u001b[0m\u001b[0m\n\u001b[1;32m    173\u001b[0m             \u001b[0;32mexcept\u001b[0m \u001b[0mFileNotFoundError\u001b[0m \u001b[0;32mas\u001b[0m \u001b[0me\u001b[0m\u001b[0;34m:\u001b[0m\u001b[0;34m\u001b[0m\u001b[0m\n",
      "\u001b[0;32m/Users/kateme/Jumis/tools/simpli/simpli/startup.py\u001b[0m in \u001b[0;36m_load_tasks_from_json\u001b[0;34m(self, json_filepath)\u001b[0m\n\u001b[1;32m    184\u001b[0m         \u001b[0;34m:\u001b[0m\u001b[0;32mreturn\u001b[0m\u001b[0;34m:\u001b[0m \u001b[0;32mNone\u001b[0m\u001b[0;34m\u001b[0m\u001b[0m\n\u001b[1;32m    185\u001b[0m         \"\"\"\n\u001b[0;32m--> 186\u001b[0;31m \u001b[0;34m\u001b[0m\u001b[0m\n\u001b[0m\u001b[1;32m    187\u001b[0m         \u001b[0mself\u001b[0m\u001b[0;34m.\u001b[0m\u001b[0m_print\u001b[0m\u001b[0;34m(\u001b[0m\u001b[0;34m'Loading task-specifying JSON {} ...'\u001b[0m\u001b[0;34m.\u001b[0m\u001b[0mformat\u001b[0m\u001b[0;34m(\u001b[0m\u001b[0mjson_filepath\u001b[0m\u001b[0;34m)\u001b[0m\u001b[0;34m)\u001b[0m\u001b[0;34m\u001b[0m\u001b[0m\n\u001b[1;32m    188\u001b[0m \u001b[0;34m\u001b[0m\u001b[0m\n",
      "\u001b[0;31mFileNotFoundError\u001b[0m: [Errno 2] No such file or directory: '/Users/kateme/.Simpli/json/functions.json'"
     ]
    }
   ],
   "source": [
    "import sys\n",
    "sys.path.insert(0, '')\n",
    "import simpli\n",
    "m = simpli.Manager(True)\n",
    "m.print_tasks_as_json()\n",
    "'/Users/kateme/Jumis/tools/genepattern-python/functions.json'"
   ]
  },
  {
   "cell_type": "code",
   "execution_count": null,
   "metadata": {
    "collapsed": true
   },
   "outputs": [],
   "source": []
  }
 ],
 "metadata": {
  "kernelspec": {
   "display_name": "Python 3",
   "language": "python",
   "name": "python3"
  },
  "language_info": {
   "codemirror_mode": {
    "name": "ipython",
    "version": 3
   },
   "file_extension": ".py",
   "mimetype": "text/x-python",
   "name": "python",
   "nbconvert_exporter": "python",
   "pygments_lexer": "ipython3",
   "version": "3.6.0"
  }
 },
 "nbformat": 4,
 "nbformat_minor": 2
}
