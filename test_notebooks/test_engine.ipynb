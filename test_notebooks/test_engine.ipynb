{
 "cells": [
  {
   "cell_type": "code",
   "execution_count": 1,
   "metadata": {
    "collapsed": false
   },
   "outputs": [],
   "source": [
    "import os\n",
    "import sys\n",
    "sys.path.insert(0, '../simplex')\n",
    "\n",
    "from engine import *\n",
    "\n",
    "%load_ext autoreload\n",
    "%autoreload 2"
   ]
  },
  {
   "cell_type": "code",
   "execution_count": 2,
   "metadata": {
    "collapsed": true
   },
   "outputs": [],
   "source": [
    "# path_to_include = '/Users/ckmah/Documents/ccal/'\n",
    "path_to_include = '/home/cyborg/ccal'\n",
    "library_name = 'ccal'\n",
    "function_name = 'define_components'\n",
    "\n",
    "req_args = {'matrix': '~/simplex/data/nmf_k9_h.gct',\n",
    "            'ks': '3,'}\n",
    "opt_args = {'n_clusterings': 3}\n",
    "return_names = ['nmf_results', 'ccc']"
   ]
  },
  {
   "cell_type": "code",
   "execution_count": 5,
   "metadata": {
    "collapsed": false,
    "scrolled": true
   },
   "outputs": [
    {
     "name": "stdout",
     "output_type": "stream",
     "text": [
      "{'process_kwargs': <function process_kwargs at 0x7f612817ae18>, 'merge_dicts': <function merge_dicts at 0x7f61281a0048>, '__name__': 'engine', 'sys': <module 'sys' (built-in)>, '__cached__': '../simplex/__pycache__/engine.cpython-35.pyc', 'test_setting_global_variable': <function test_setting_global_variable at 0x7f612817ad08>, '__package__': '', 'simplex': <function simplex at 0x7f612817af28>, '__file__': '../simplex/engine.py', 'cast_string_to_int_float_bool_or_str': <function cast_string_to_int_float_bool_or_str at 0x7f61281a00d0>, '__loader__': <_frozen_importlib_external.SourceFileLoader object at 0x7f6128202ba8>, '__spec__': ModuleSpec(name='engine', loader=<_frozen_importlib_external.SourceFileLoader object at 0x7f6128202ba8>, origin='../simplex/engine.py'), '*** TEST 1 ***': '*** TEST 1 ***', '__builtins__': {'bin': <built-in function bin>, 'all': <built-in function all>, 'RuntimeWarning': <class 'RuntimeWarning'>, 'FileNotFoundError': <class 'FileNotFoundError'>, 'eval': <built-in function eval>, 'pow': <built-in function pow>, 'license': Type license() to see the full license text, 'id': <built-in function id>, 'OSError': <class 'OSError'>, 'RecursionError': <class 'RecursionError'>, 'ResourceWarning': <class 'ResourceWarning'>, 'get_ipython': <bound method InteractiveShell.get_ipython of <ipykernel.zmqshell.ZMQInteractiveShell object at 0x7f61292c3ba8>>, 'abs': <built-in function abs>, 'OverflowError': <class 'OverflowError'>, 'EnvironmentError': <class 'OSError'>, 'dir': <built-in function dir>, 'UserWarning': <class 'UserWarning'>, 'bool': <class 'bool'>, 'ChildProcessError': <class 'ChildProcessError'>, 'delattr': <built-in function delattr>, 'compile': <built-in function compile>, 'property': <class 'property'>, 'InterruptedError': <class 'InterruptedError'>, 'FileExistsError': <class 'FileExistsError'>, 'UnicodeDecodeError': <class 'UnicodeDecodeError'>, 'repr': <built-in function repr>, 'RuntimeError': <class 'RuntimeError'>, 'bytes': <class 'bytes'>, 'ReferenceError': <class 'ReferenceError'>, 'IndexError': <class 'IndexError'>, 'chr': <built-in function chr>, 'copyright': Copyright (c) 2001-2016 Python Software Foundation.\n",
      "All Rights Reserved.\n",
      "\n",
      "Copyright (c) 2000 BeOpen.com.\n",
      "All Rights Reserved.\n",
      "\n",
      "Copyright (c) 1995-2001 Corporation for National Research Initiatives.\n",
      "All Rights Reserved.\n",
      "\n",
      "Copyright (c) 1991-1995 Stichting Mathematisch Centrum, Amsterdam.\n",
      "All Rights Reserved., 'sum': <built-in function sum>, 'NotImplemented': NotImplemented, 'IndentationError': <class 'IndentationError'>, 'DeprecationWarning': <class 'DeprecationWarning'>, 'Warning': <class 'Warning'>, 'BufferError': <class 'BufferError'>, 'ArithmeticError': <class 'ArithmeticError'>, 'ImportWarning': <class 'ImportWarning'>, 'callable': <built-in function callable>, 'divmod': <built-in function divmod>, 'bytearray': <class 'bytearray'>, 'FloatingPointError': <class 'FloatingPointError'>, 'memoryview': <class 'memoryview'>, 'type': <class 'type'>, 'sorted': <built-in function sorted>, 'format': <built-in function format>, 'classmethod': <class 'classmethod'>, 'globals': <built-in function globals>, 'any': <built-in function any>, 'dict': <class 'dict'>, 'FutureWarning': <class 'FutureWarning'>, 'ConnectionRefusedError': <class 'ConnectionRefusedError'>, 'ImportError': <class 'ImportError'>, 'True': True, 'float': <class 'float'>, 'SyntaxWarning': <class 'SyntaxWarning'>, 'frozenset': <class 'frozenset'>, 'zip': <class 'zip'>, 'UnicodeWarning': <class 'UnicodeWarning'>, 'issubclass': <built-in function issubclass>, '__loader__': <class '_frozen_importlib.BuiltinImporter'>, 'KeyboardInterrupt': <class 'KeyboardInterrupt'>, 'TabError': <class 'TabError'>, 'ord': <built-in function ord>, 'enumerate': <class 'enumerate'>, 'super': <class 'super'>, 'input': <bound method Kernel.raw_input of <ipykernel.ipkernel.IPythonKernel object at 0x7f61292c3978>>, 'staticmethod': <class 'staticmethod'>, 'range': <class 'range'>, 'UnicodeError': <class 'UnicodeError'>, 'print': <built-in function print>, 'object': <class 'object'>, 'hasattr': <built-in function hasattr>, 'ConnectionError': <class 'ConnectionError'>, 'int': <class 'int'>, '__build_class__': <built-in function __build_class__>, 'EOFError': <class 'EOFError'>, 'StopIteration': <class 'StopIteration'>, 'oct': <built-in function oct>, 'open': <built-in function open>, '__package__': '', 'filter': <class 'filter'>, 'tuple': <class 'tuple'>, 'dreload': <function _dreload at 0x7f6128272510>, 'IsADirectoryError': <class 'IsADirectoryError'>, 'reversed': <class 'reversed'>, 'BrokenPipeError': <class 'BrokenPipeError'>, 'min': <built-in function min>, 'None': None, 'BlockingIOError': <class 'BlockingIOError'>, 'ConnectionAbortedError': <class 'ConnectionAbortedError'>, 'help': Type help() for interactive help, or help(object) for help about object., 'ZeroDivisionError': <class 'ZeroDivisionError'>, 'list': <class 'list'>, 'UnicodeTranslateError': <class 'UnicodeTranslateError'>, 'ProcessLookupError': <class 'ProcessLookupError'>, 'isinstance': <built-in function isinstance>, 'NotImplementedError': <class 'NotImplementedError'>, 'locals': <built-in function locals>, 'hex': <built-in function hex>, 'AttributeError': <class 'AttributeError'>, 'Ellipsis': Ellipsis, '__import__': <built-in function __import__>, 'SystemError': <class 'SystemError'>, 'str': <class 'str'>, 'TimeoutError': <class 'TimeoutError'>, 'StopAsyncIteration': <class 'StopAsyncIteration'>, 'UnboundLocalError': <class 'UnboundLocalError'>, 'MemoryError': <class 'MemoryError'>, 'len': <built-in function len>, 'AssertionError': <class 'AssertionError'>, 'hash': <built-in function hash>, 'PendingDeprecationWarning': <class 'PendingDeprecationWarning'>, 'Exception': <class 'Exception'>, 'setattr': <built-in function setattr>, 'LookupError': <class 'LookupError'>, 'BytesWarning': <class 'BytesWarning'>, 'getattr': <built-in function getattr>, 'ConnectionResetError': <class 'ConnectionResetError'>, 'ascii': <built-in function ascii>, 'map': <class 'map'>, 'max': <built-in function max>, 'credits':     Thanks to CWI, CNRI, BeOpen.com, Zope Corporation and a cast of thousands\n",
      "    for supporting Python development.  See www.python.org for more information., 'SystemExit': <class 'SystemExit'>, '__IPYTHON__': True, 'set': <class 'set'>, 'NameError': <class 'NameError'>, 'ValueError': <class 'ValueError'>, 'BaseException': <class 'BaseException'>, 'slice': <class 'slice'>, 'round': <built-in function round>, 'PermissionError': <class 'PermissionError'>, 'vars': <built-in function vars>, 'exec': <built-in function exec>, '__name__': 'builtins', 'KeyError': <class 'KeyError'>, 'TypeError': <class 'TypeError'>, 'UnicodeEncodeError': <class 'UnicodeEncodeError'>, '__doc__': \"Built-in functions, exceptions, and other objects.\\n\\nNoteworthy: None is the `nil' object; Ellipsis represents `...' in slices.\", 'NotADirectoryError': <class 'NotADirectoryError'>, '__debug__': True, 'False': False, 'IOError': <class 'OSError'>, '__spec__': ModuleSpec(name='builtins', loader=<class '_frozen_importlib.BuiltinImporter'>), 'SyntaxError': <class 'SyntaxError'>, 'GeneratorExit': <class 'GeneratorExit'>, 'iter': <built-in function iter>, 'next': <built-in function next>, 'complex': <class 'complex'>}, 'process_args': <function process_args at 0x7f612817aea0>}\n",
      "\n",
      "\n",
      "\n",
      "{'process_kwargs': <function process_kwargs at 0x7f612817ae18>, 'merge_dicts': <function merge_dicts at 0x7f61281a0048>, '__name__': 'engine', 'sys': <module 'sys' (built-in)>, '__cached__': '../simplex/__pycache__/engine.cpython-35.pyc', 'test_setting_global_variable': <function test_setting_global_variable at 0x7f612817ad08>, '__package__': '', 'simplex': <function simplex at 0x7f612817af28>, '__file__': '../simplex/engine.py', 'cast_string_to_int_float_bool_or_str': <function cast_string_to_int_float_bool_or_str at 0x7f61281a00d0>, '__loader__': <_frozen_importlib_external.SourceFileLoader object at 0x7f6128202ba8>, '__spec__': ModuleSpec(name='engine', loader=<_frozen_importlib_external.SourceFileLoader object at 0x7f6128202ba8>, origin='../simplex/engine.py'), 'TEST_2': '*** TEST 2 ***', '*** TEST 1 ***': '*** TEST 1 ***', '__builtins__': {'bin': <built-in function bin>, 'all': <built-in function all>, 'RuntimeWarning': <class 'RuntimeWarning'>, 'FileNotFoundError': <class 'FileNotFoundError'>, 'eval': <built-in function eval>, 'pow': <built-in function pow>, 'license': Type license() to see the full license text, 'id': <built-in function id>, 'OSError': <class 'OSError'>, 'RecursionError': <class 'RecursionError'>, 'ResourceWarning': <class 'ResourceWarning'>, 'get_ipython': <bound method InteractiveShell.get_ipython of <ipykernel.zmqshell.ZMQInteractiveShell object at 0x7f61292c3ba8>>, 'abs': <built-in function abs>, 'OverflowError': <class 'OverflowError'>, 'EnvironmentError': <class 'OSError'>, 'dir': <built-in function dir>, 'UserWarning': <class 'UserWarning'>, 'bool': <class 'bool'>, 'ChildProcessError': <class 'ChildProcessError'>, 'delattr': <built-in function delattr>, 'compile': <built-in function compile>, 'property': <class 'property'>, 'InterruptedError': <class 'InterruptedError'>, 'FileExistsError': <class 'FileExistsError'>, 'UnicodeDecodeError': <class 'UnicodeDecodeError'>, 'repr': <built-in function repr>, 'RuntimeError': <class 'RuntimeError'>, 'bytes': <class 'bytes'>, 'ReferenceError': <class 'ReferenceError'>, 'IndexError': <class 'IndexError'>, 'chr': <built-in function chr>, 'copyright': Copyright (c) 2001-2016 Python Software Foundation.\n",
      "All Rights Reserved.\n",
      "\n",
      "Copyright (c) 2000 BeOpen.com.\n",
      "All Rights Reserved.\n",
      "\n",
      "Copyright (c) 1995-2001 Corporation for National Research Initiatives.\n",
      "All Rights Reserved.\n",
      "\n",
      "Copyright (c) 1991-1995 Stichting Mathematisch Centrum, Amsterdam.\n",
      "All Rights Reserved., 'sum': <built-in function sum>, 'NotImplemented': NotImplemented, 'IndentationError': <class 'IndentationError'>, 'DeprecationWarning': <class 'DeprecationWarning'>, 'Warning': <class 'Warning'>, 'BufferError': <class 'BufferError'>, 'ArithmeticError': <class 'ArithmeticError'>, 'ImportWarning': <class 'ImportWarning'>, 'callable': <built-in function callable>, 'divmod': <built-in function divmod>, 'bytearray': <class 'bytearray'>, 'FloatingPointError': <class 'FloatingPointError'>, 'memoryview': <class 'memoryview'>, 'type': <class 'type'>, 'sorted': <built-in function sorted>, 'format': <built-in function format>, 'classmethod': <class 'classmethod'>, 'globals': <built-in function globals>, 'any': <built-in function any>, 'dict': <class 'dict'>, 'FutureWarning': <class 'FutureWarning'>, 'ConnectionRefusedError': <class 'ConnectionRefusedError'>, 'ImportError': <class 'ImportError'>, 'True': True, 'float': <class 'float'>, 'SyntaxWarning': <class 'SyntaxWarning'>, 'frozenset': <class 'frozenset'>, 'zip': <class 'zip'>, 'UnicodeWarning': <class 'UnicodeWarning'>, 'issubclass': <built-in function issubclass>, '__loader__': <class '_frozen_importlib.BuiltinImporter'>, 'KeyboardInterrupt': <class 'KeyboardInterrupt'>, 'TabError': <class 'TabError'>, 'ord': <built-in function ord>, 'enumerate': <class 'enumerate'>, 'super': <class 'super'>, 'input': <bound method Kernel.raw_input of <ipykernel.ipkernel.IPythonKernel object at 0x7f61292c3978>>, 'staticmethod': <class 'staticmethod'>, 'range': <class 'range'>, 'UnicodeError': <class 'UnicodeError'>, 'print': <built-in function print>, 'object': <class 'object'>, 'hasattr': <built-in function hasattr>, 'ConnectionError': <class 'ConnectionError'>, 'int': <class 'int'>, '__build_class__': <built-in function __build_class__>, 'EOFError': <class 'EOFError'>, 'StopIteration': <class 'StopIteration'>, 'oct': <built-in function oct>, 'open': <built-in function open>, '__package__': '', 'filter': <class 'filter'>, 'tuple': <class 'tuple'>, 'dreload': <function _dreload at 0x7f6128272510>, 'IsADirectoryError': <class 'IsADirectoryError'>, 'reversed': <class 'reversed'>, 'BrokenPipeError': <class 'BrokenPipeError'>, 'min': <built-in function min>, 'None': None, 'BlockingIOError': <class 'BlockingIOError'>, 'ConnectionAbortedError': <class 'ConnectionAbortedError'>, 'help': Type help() for interactive help, or help(object) for help about object., 'ZeroDivisionError': <class 'ZeroDivisionError'>, 'list': <class 'list'>, 'UnicodeTranslateError': <class 'UnicodeTranslateError'>, 'ProcessLookupError': <class 'ProcessLookupError'>, 'isinstance': <built-in function isinstance>, 'NotImplementedError': <class 'NotImplementedError'>, 'locals': <built-in function locals>, 'hex': <built-in function hex>, 'AttributeError': <class 'AttributeError'>, 'Ellipsis': Ellipsis, '__import__': <built-in function __import__>, 'SystemError': <class 'SystemError'>, 'str': <class 'str'>, 'TimeoutError': <class 'TimeoutError'>, 'StopAsyncIteration': <class 'StopAsyncIteration'>, 'UnboundLocalError': <class 'UnboundLocalError'>, 'MemoryError': <class 'MemoryError'>, 'len': <built-in function len>, 'AssertionError': <class 'AssertionError'>, 'hash': <built-in function hash>, 'PendingDeprecationWarning': <class 'PendingDeprecationWarning'>, 'Exception': <class 'Exception'>, 'setattr': <built-in function setattr>, 'LookupError': <class 'LookupError'>, 'BytesWarning': <class 'BytesWarning'>, 'getattr': <built-in function getattr>, 'ConnectionResetError': <class 'ConnectionResetError'>, 'ascii': <built-in function ascii>, 'map': <class 'map'>, 'max': <built-in function max>, 'credits':     Thanks to CWI, CNRI, BeOpen.com, Zope Corporation and a cast of thousands\n",
      "    for supporting Python development.  See www.python.org for more information., 'SystemExit': <class 'SystemExit'>, '__IPYTHON__': True, 'set': <class 'set'>, 'NameError': <class 'NameError'>, 'ValueError': <class 'ValueError'>, 'BaseException': <class 'BaseException'>, 'slice': <class 'slice'>, 'round': <built-in function round>, 'PermissionError': <class 'PermissionError'>, 'vars': <built-in function vars>, 'exec': <built-in function exec>, '__name__': 'builtins', 'KeyError': <class 'KeyError'>, 'TypeError': <class 'TypeError'>, 'UnicodeEncodeError': <class 'UnicodeEncodeError'>, '__doc__': \"Built-in functions, exceptions, and other objects.\\n\\nNoteworthy: None is the `nil' object; Ellipsis represents `...' in slices.\", 'NotADirectoryError': <class 'NotADirectoryError'>, '__debug__': True, 'False': False, 'IOError': <class 'OSError'>, '__spec__': ModuleSpec(name='builtins', loader=<class '_frozen_importlib.BuiltinImporter'>), 'SyntaxError': <class 'SyntaxError'>, 'GeneratorExit': <class 'GeneratorExit'>, 'iter': <built-in function iter>, 'next': <built-in function next>, 'complex': <class 'complex'>}, 'process_args': <function process_args at 0x7f612817aea0>}\n",
      "\n",
      "\n",
      "\n"
     ]
    }
   ],
   "source": [
    "test_setting_global_variable()"
   ]
  },
  {
   "cell_type": "code",
   "execution_count": null,
   "metadata": {
    "collapsed": true
   },
   "outputs": [],
   "source": [
    "ll = []"
   ]
  },
  {
   "cell_type": "code",
   "execution_count": null,
   "metadata": {
    "collapsed": false
   },
   "outputs": [],
   "source": [
    "test(ll)"
   ]
  },
  {
   "cell_type": "code",
   "execution_count": null,
   "metadata": {
    "collapsed": false
   },
   "outputs": [],
   "source": [
    "ll"
   ]
  },
  {
   "cell_type": "code",
   "execution_count": null,
   "metadata": {
    "collapsed": false
   },
   "outputs": [],
   "source": [
    "simplex(path_to_include, library_name, function_name, req_args, opt_args, return_names)"
   ]
  },
  {
   "cell_type": "code",
   "execution_count": null,
   "metadata": {
    "collapsed": false
   },
   "outputs": [],
   "source": [
    "globals().keys()"
   ]
  }
 ],
 "metadata": {
  "anaconda-cloud": {},
  "kernelspec": {
   "display_name": "Python [default]",
   "language": "python",
   "name": "python3"
  },
  "language_info": {
   "codemirror_mode": {
    "name": "ipython",
    "version": 3
   },
   "file_extension": ".py",
   "mimetype": "text/x-python",
   "name": "python",
   "nbconvert_exporter": "python",
   "pygments_lexer": "ipython3",
   "version": "3.5.2"
  }
 },
 "nbformat": 4,
 "nbformat_minor": 1
}
