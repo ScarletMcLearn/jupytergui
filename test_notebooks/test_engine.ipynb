{
 "cells": [
  {
   "cell_type": "code",
   "execution_count": 10,
   "metadata": {
    "collapsed": false
   },
   "outputs": [],
   "source": [
    "# !AUTOEXEC\n",
    "from simplex.chain import Chain\n",
    "import json, os\n",
    "\n",
    "# load wrapper\n",
    "DIR_HOME = os.environ['HOME']\n",
    "DIR_SIMPLEX = os.path.join(DIR_HOME, '.simplex')\n",
    "if not os.path.isdir(DIR_SIMPLEX):\n",
    "    os.mkdir(DIR_SIMPLEX)\n",
    "json_filepath = os.path.join(DIR_SIMPLEX, 'ccal.simplex')\n",
    "with open(json_filepath, 'r') as f:\n",
    "    config = json.load(f)\n",
    "\n",
    "controller = Chain(config, globals(), locals(), os.getcwd())\n",
    "beadview = controller.createBeadView(controller.beads[0])\n",
    "beadview.createPanel()\n"
   ]
  },
  {
   "cell_type": "code",
   "execution_count": 11,
   "metadata": {
    "collapsed": false
   },
   "outputs": [],
   "source": [
    "from simplex.engine import *\n",
    "path_to_include = '/Users/ckmah/.simplex/ccal/'\n",
    "library_name = 'ccal'\n",
    "function_name = 'define_components'\n",
    "\n",
    "req_args = {'matrix': '~/Documents/simplex/test_data/nmf_k9_h.gct',\n",
    "            'ks': '3,'}\n",
    "opt_args = {'n_clusterings': 3}\n",
    "return_names = ['nmf_results', 'ccc']"
   ]
  },
  {
   "cell_type": "code",
   "execution_count": 16,
   "metadata": {
    "collapsed": true
   },
   "outputs": [],
   "source": [
    "# !AUTOEXEC\n",
    "from simplex.chain import Chain\n",
    "import json, os\n",
    "\n",
    "# load wrapper\n",
    "DIR_HOME = os.environ['HOME']\n",
    "DIR_SIMPLEX = os.path.join(DIR_HOME, '.simplex')\n",
    "if not os.path.isdir(DIR_SIMPLEX):\n",
    "    os.mkdir(DIR_SIMPLEX)\n",
    "json_filepath = os.path.join(DIR_SIMPLEX, 'ccal.simplex')\n",
    "with open(json_filepath, 'r') as f:\n",
    "    config = json.load(f)\n",
    "\n",
    "controller = Chain(config, globals(), locals(), os.getcwd())\n",
    "beadview = controller.createBeadView(controller.beads[0])\n",
    "beadview.createPanel()\n"
   ]
  },
  {
   "cell_type": "code",
   "execution_count": 13,
   "metadata": {
    "collapsed": true
   },
   "outputs": [],
   "source": [
    "def simplex(path_to_include, library_name, function_name, req_args, opt_args, return_names):\n",
    "    \"\"\"\n",
    "\n",
    "    :param path_to_include:\n",
    "    :param library_name:\n",
    "    :param function_name:\n",
    "    :param req_args:\n",
    "    :param opt_args:\n",
    "    :param return_names:\n",
    "    :return:\n",
    "    \"\"\"\n",
    "\n",
    "    # Import function\n",
    "    sys.path.insert(0, path_to_include)\n",
    "    print('From {} importing {} ...'.format(path_to_include, function_name))\n",
    "    exec('from {} import {} as function'.format(library_name, function_name))\n",
    "\n",
    "    # Process args\n",
    "    args = process_args(req_args, opt_args)\n",
    "\n",
    "    # Execute\n",
    "    returned = locals()['function'](**args)\n",
    "\n",
    "    for n, r in zip(return_names, returned):\n",
    "        globals()[n] = r\n",
    "    print('hello')\n",
    "    print(globals())"
   ]
  },
  {
   "cell_type": "code",
   "execution_count": 14,
   "metadata": {
    "collapsed": false,
    "scrolled": true
   },
   "outputs": [
    {
     "name": "stdout",
     "output_type": "stream",
     "text": [
      "From /Users/ckmah/.simplex/ccal/ importing define_components ...\n",
      "Argument: '3,' ==> [3] ...\n",
      "<192031> Computing cophenetic correlation coefficient of 3 NMF consensus clusterings ...\n",
      "<192031> Not parallelizing ...\n",
      "<192031> NMF and scoring k=3 ...\n",
      "<192031> \t(k=3) NMF (0/3) ...\n",
      "<192031> \t\t(k=3) Saved the 1st NMF decomposition.\n",
      "<192031> \t(k=3) Making consensus matrix from 3 NMF ...\n",
      "<192033> Plotting NMF decompositions and cophenetic correlation coefficients ...\n",
      "<192033> \tPlotting k=3 ...\n"
     ]
    },
    {
     "name": "stderr",
     "output_type": "stream",
     "text": [
      "/Users/ckmah/anaconda3/lib/python3.5/site-packages/matplotlib/pyplot.py:524: RuntimeWarning: More than 20 figures have been opened. Figures created through the pyplot interface (`matplotlib.pyplot.figure`) are retained until explicitly closed and may consume too much memory. (To control this warning, see the rcParam `figure.max_open_warning`).\n",
      "  max_open_warning, RuntimeWarning)\n"
     ]
    },
    {
     "name": "stdout",
     "output_type": "stream",
     "text": [
      "hello\n",
      "{'_i12': 'def test():\\n    simplex(path_to_include, library_name, function_name, req_args, opt_args, return_names)\\n#     for n, r in zip(return_names, results):\\n#         print(n, r)\\n#         globals()[n] = r\\ntest()', '_4': <built-in method __dir__ of function object at 0x106b616a8>, 'merge_dicts': <function merge_dicts at 0x106b61268>, '__name__': '__main__', '_3': {...}, '_oh': {3: {...}, 4: <built-in method __dir__ of function object at 0x106b616a8>, 5: ['__reduce__', '__str__', '__reduce_ex__', '__ne__', '__name__', '__hash__', '__getattribute__', '__gt__', '__ge__', '__format__', '__class__', '__module__', '__le__', '__eq__', '__globals__', '__setattr__', '__kwdefaults__', '__lt__', '__doc__', '__sizeof__', '__code__', '__subclasshook__', '__delattr__', '__qualname__', '__get__', '__defaults__', '__dir__', '__annotations__', '__closure__', '__dict__', '__repr__', '__init__', '__new__', '__call__'], 6: {...}, 7: <method-wrapper '__call__' of function object at 0x106b616a8>, 8: <class 'function'>}, 'test': <function test at 0x121e72e18>, 'process_args': <function process_args at 0x106b61158>, '_i7': 'test.__call__', '__spec__': None, 'cast_string_to_int_float_bool_or_str': <function cast_string_to_int_float_bool_or_str at 0x106b612f0>, 'function_name': 'define_components', '__builtins__': <module 'builtins' (built-in)>, '_sh': <module 'IPython.core.shadowns' from '/Users/ckmah/anaconda3/lib/python3.5/site-packages/IPython/core/shadowns.py'>, '_ii': 'def test():\\n    simplex(path_to_include, library_name, function_name, req_args, opt_args, return_names)\\n#     for n, r in zip(return_names, results):\\n#         print(n, r)\\n#         globals()[n] = r\\ntest()', 'exit': <IPython.core.autocall.ZMQExitAutocall object at 0x1069a7630>, '_i14': 'def test():\\n    simplex(path_to_include, library_name, function_name, req_args, opt_args, return_names)\\n#     for n, r in zip(return_names, results):\\n#         print(n, r)\\n#         globals()[n] = r\\ntest()', '_7': <method-wrapper '__call__' of function object at 0x106b616a8>, '_6': {...}, '_i3': 'test.__globals__', 'nmf_results': {3: {'h':    A101D_SKIN  A172_CENTRAL_NERVOUS_SYSTEM  A204_SOFT_TISSUE  A2058_SKIN  \\\n",
      "0   77.248078                    94.482285         80.169817   70.782088   \n",
      "1   22.266258                    12.129055         24.103650   17.703562   \n",
      "2   33.677689                    25.099743         28.992628   44.732019   \n",
      "\n",
      "   A2780_OVARY  A375_SKIN  A498_KIDNEY  A549_LUNG  A673_BONE  A704_KIDNEY  \\\n",
      "0    68.568106  53.184978    91.415501  71.954572  55.968655    63.989013   \n",
      "1     7.674816  12.240130    25.213395  38.909366   1.890353    27.583605   \n",
      "2    55.477541  62.735055    15.911522  18.403056  71.017242    39.105655   \n",
      "\n",
      "       ...        WM88_SKIN  WM983B_SKIN  YAPC_PANCREAS  \\\n",
      "0      ...        71.144537    57.423744      15.666300   \n",
      "1      ...        28.145880     3.334824      72.399483   \n",
      "2      ...        34.233001    69.793889      34.391770   \n",
      "\n",
      "   YD10B_UPPER_AERODIGESTIVE_TRACT  YD38_UPPER_AERODIGESTIVE_TRACT  \\\n",
      "0                        48.471807                        6.864381   \n",
      "1                        23.466973                       76.740792   \n",
      "2                        53.602004                       35.245407   \n",
      "\n",
      "   YD8_UPPER_AERODIGESTIVE_TRACT  YH13_CENTRAL_NERVOUS_SYSTEM  \\\n",
      "0                      92.927655                    72.649396   \n",
      "1                      37.347922                     7.682466   \n",
      "2                       0.000000                    47.010797   \n",
      "\n",
      "   YKG1_CENTRAL_NERVOUS_SYSTEM  ZR751_BREAST  ZR7530_BREAST  \n",
      "0                    61.069880     42.604958      30.924265  \n",
      "1                     0.000000     57.834812      47.676171  \n",
      "2                    69.560581     29.587368      51.063036  \n",
      "\n",
      "[3 rows x 750 columns], 'e': 164108.89290515616, 'w':            0           1           2\n",
      "1  46.163389   41.701919   17.443814\n",
      "2  22.496856   70.806313   14.937668\n",
      "3   1.837670   13.518556  104.808527\n",
      "4   0.000000  102.356254   36.202880\n",
      "5  58.804849    0.000000   78.604177\n",
      "6  81.174523   57.775764    0.000000\n",
      "7   0.000000   83.870090   56.124751\n",
      "8  97.905914    0.000000   34.493402\n",
      "9  58.419126   35.691489   66.835763}}, '_dh': ['/Users/ckmah/Documents/simplex/test_notebooks'], 'x': 1000, 'ccc': {3: 0.97332317092381904}, 'process_kwargs': <function process_kwargs at 0x106b611e0>, 'In': ['', \"from simplex.engine import *\\npath_to_include = '/Users/ckmah/.simplex/ccal/'\\nlibrary_name = 'ccal'\\nfunction_name = 'define_components'\\n\\nreq_args = {'matrix': '~/Documents/simplex/test_data/nmf_k9_h.gct',\\n            'ks': '3,'}\\nopt_args = {'n_clusterings': 3}\\nreturn_names = ['nmf_results', 'ccc']\", 'def test():\\n    simplex(path_to_include, library_name, function_name, req_args, opt_args, return_names)\\n#     for n, r in zip(return_names, results):\\n#         print(n, r)\\n#         globals()[n] = r\\ntest()', 'test.__globals__', 'test.__dir__', 'test.__dir__()', 'test.__globals__', 'test.__call__', 'test.__class__', \"from simplex.engine import *\\npath_to_include = '/Users/ckmah/.simplex/ccal/'\\nlibrary_name = 'ccal'\\nfunction_name = 'define_components'\\n\\nreq_args = {'matrix': '~/Documents/simplex/test_data/nmf_k9_h.gct',\\n            'ks': '3,'}\\nopt_args = {'n_clusterings': 3}\\nreturn_names = ['nmf_results', 'ccc']\", 'def test():\\n    simplex(path_to_include, library_name, function_name, req_args, opt_args, return_names)\\n#     for n, r in zip(return_names, results):\\n#         print(n, r)\\n#         globals()[n] = r\\ntest()', \"from simplex.engine import *\\npath_to_include = '/Users/ckmah/.simplex/ccal/'\\nlibrary_name = 'ccal'\\nfunction_name = 'define_components'\\n\\nreq_args = {'matrix': '~/Documents/simplex/test_data/nmf_k9_h.gct',\\n            'ks': '3,'}\\nopt_args = {'n_clusterings': 3}\\nreturn_names = ['nmf_results', 'ccc']\", 'def test():\\n    simplex(path_to_include, library_name, function_name, req_args, opt_args, return_names)\\n#     for n, r in zip(return_names, results):\\n#         print(n, r)\\n#         globals()[n] = r\\ntest()', 'def simplex(path_to_include, library_name, function_name, req_args, opt_args, return_names):\\n    \"\"\"\\n\\n    :param path_to_include:\\n    :param library_name:\\n    :param function_name:\\n    :param req_args:\\n    :param opt_args:\\n    :param return_names:\\n    :return:\\n    \"\"\"\\n\\n    # Import function\\n    sys.path.insert(0, path_to_include)\\n    print(\\'From {} importing {} ...\\'.format(path_to_include, function_name))\\n    exec(\\'from {} import {} as function\\'.format(library_name, function_name))\\n\\n    # Process args\\n    args = process_args(req_args, opt_args)\\n\\n    # Execute\\n    returned = locals()[\\'function\\'](**args)\\n\\n    for n, r in zip(return_names, returned):\\n        globals()[n] = r\\n    print(\\'hello\\')\\n    print(globals())', 'def test():\\n    simplex(path_to_include, library_name, function_name, req_args, opt_args, return_names)\\n#     for n, r in zip(return_names, results):\\n#         print(n, r)\\n#         globals()[n] = r\\ntest()'], 'library_name': 'ccal', '_i': 'def simplex(path_to_include, library_name, function_name, req_args, opt_args, return_names):\\n    \"\"\"\\n\\n    :param path_to_include:\\n    :param library_name:\\n    :param function_name:\\n    :param req_args:\\n    :param opt_args:\\n    :param return_names:\\n    :return:\\n    \"\"\"\\n\\n    # Import function\\n    sys.path.insert(0, path_to_include)\\n    print(\\'From {} importing {} ...\\'.format(path_to_include, function_name))\\n    exec(\\'from {} import {} as function\\'.format(library_name, function_name))\\n\\n    # Process args\\n    args = process_args(req_args, opt_args)\\n\\n    # Execute\\n    returned = locals()[\\'function\\'](**args)\\n\\n    for n, r in zip(return_names, returned):\\n        globals()[n] = r\\n    print(\\'hello\\')\\n    print(globals())', '_i6': 'test.__globals__', '__builtin__': <module 'builtins' (built-in)>, 'sys': <module 'sys' (built-in)>, 'Out': {3: {...}, 4: <built-in method __dir__ of function object at 0x106b616a8>, 5: ['__reduce__', '__str__', '__reduce_ex__', '__ne__', '__name__', '__hash__', '__getattribute__', '__gt__', '__ge__', '__format__', '__class__', '__module__', '__le__', '__eq__', '__globals__', '__setattr__', '__kwdefaults__', '__lt__', '__doc__', '__sizeof__', '__code__', '__subclasshook__', '__delattr__', '__qualname__', '__get__', '__defaults__', '__dir__', '__annotations__', '__closure__', '__dict__', '__repr__', '__init__', '__new__', '__call__'], 6: {...}, 7: <method-wrapper '__call__' of function object at 0x106b616a8>, 8: <class 'function'>}, '_i13': 'def simplex(path_to_include, library_name, function_name, req_args, opt_args, return_names):\\n    \"\"\"\\n\\n    :param path_to_include:\\n    :param library_name:\\n    :param function_name:\\n    :param req_args:\\n    :param opt_args:\\n    :param return_names:\\n    :return:\\n    \"\"\"\\n\\n    # Import function\\n    sys.path.insert(0, path_to_include)\\n    print(\\'From {} importing {} ...\\'.format(path_to_include, function_name))\\n    exec(\\'from {} import {} as function\\'.format(library_name, function_name))\\n\\n    # Process args\\n    args = process_args(req_args, opt_args)\\n\\n    # Execute\\n    returned = locals()[\\'function\\'](**args)\\n\\n    for n, r in zip(return_names, returned):\\n        globals()[n] = r\\n    print(\\'hello\\')\\n    print(globals())', '__loader__': None, 'path_to_include': '/Users/ckmah/.simplex/ccal/', '_i8': 'test.__class__', '_i11': \"from simplex.engine import *\\npath_to_include = '/Users/ckmah/.simplex/ccal/'\\nlibrary_name = 'ccal'\\nfunction_name = 'define_components'\\n\\nreq_args = {'matrix': '~/Documents/simplex/test_data/nmf_k9_h.gct',\\n            'ks': '3,'}\\nopt_args = {'n_clusterings': 3}\\nreturn_names = ['nmf_results', 'ccc']\", '_i9': \"from simplex.engine import *\\npath_to_include = '/Users/ckmah/.simplex/ccal/'\\nlibrary_name = 'ccal'\\nfunction_name = 'define_components'\\n\\nreq_args = {'matrix': '~/Documents/simplex/test_data/nmf_k9_h.gct',\\n            'ks': '3,'}\\nopt_args = {'n_clusterings': 3}\\nreturn_names = ['nmf_results', 'ccc']\", '_iii': \"from simplex.engine import *\\npath_to_include = '/Users/ckmah/.simplex/ccal/'\\nlibrary_name = 'ccal'\\nfunction_name = 'define_components'\\n\\nreq_args = {'matrix': '~/Documents/simplex/test_data/nmf_k9_h.gct',\\n            'ks': '3,'}\\nopt_args = {'n_clusterings': 3}\\nreturn_names = ['nmf_results', 'ccc']\", 'opt_args': {'n_clusterings': 3}, '__doc__': 'Automatically created module for IPython interactive environment', 'return_names': ['nmf_results', 'ccc'], 'quit': <IPython.core.autocall.ZMQExitAutocall object at 0x1069a7630>, '___': {...}, 'req_args': {'matrix': '~/Documents/simplex/test_data/nmf_k9_h.gct', 'ks': '3,'}, '_5': ['__reduce__', '__str__', '__reduce_ex__', '__ne__', '__name__', '__hash__', '__getattribute__', '__gt__', '__ge__', '__format__', '__class__', '__module__', '__le__', '__eq__', '__globals__', '__setattr__', '__kwdefaults__', '__lt__', '__doc__', '__sizeof__', '__code__', '__subclasshook__', '__delattr__', '__qualname__', '__get__', '__defaults__', '__dir__', '__annotations__', '__closure__', '__dict__', '__repr__', '__init__', '__new__', '__call__'], '_ih': ['', \"from simplex.engine import *\\npath_to_include = '/Users/ckmah/.simplex/ccal/'\\nlibrary_name = 'ccal'\\nfunction_name = 'define_components'\\n\\nreq_args = {'matrix': '~/Documents/simplex/test_data/nmf_k9_h.gct',\\n            'ks': '3,'}\\nopt_args = {'n_clusterings': 3}\\nreturn_names = ['nmf_results', 'ccc']\", 'def test():\\n    simplex(path_to_include, library_name, function_name, req_args, opt_args, return_names)\\n#     for n, r in zip(return_names, results):\\n#         print(n, r)\\n#         globals()[n] = r\\ntest()', 'test.__globals__', 'test.__dir__', 'test.__dir__()', 'test.__globals__', 'test.__call__', 'test.__class__', \"from simplex.engine import *\\npath_to_include = '/Users/ckmah/.simplex/ccal/'\\nlibrary_name = 'ccal'\\nfunction_name = 'define_components'\\n\\nreq_args = {'matrix': '~/Documents/simplex/test_data/nmf_k9_h.gct',\\n            'ks': '3,'}\\nopt_args = {'n_clusterings': 3}\\nreturn_names = ['nmf_results', 'ccc']\", 'def test():\\n    simplex(path_to_include, library_name, function_name, req_args, opt_args, return_names)\\n#     for n, r in zip(return_names, results):\\n#         print(n, r)\\n#         globals()[n] = r\\ntest()', \"from simplex.engine import *\\npath_to_include = '/Users/ckmah/.simplex/ccal/'\\nlibrary_name = 'ccal'\\nfunction_name = 'define_components'\\n\\nreq_args = {'matrix': '~/Documents/simplex/test_data/nmf_k9_h.gct',\\n            'ks': '3,'}\\nopt_args = {'n_clusterings': 3}\\nreturn_names = ['nmf_results', 'ccc']\", 'def test():\\n    simplex(path_to_include, library_name, function_name, req_args, opt_args, return_names)\\n#     for n, r in zip(return_names, results):\\n#         print(n, r)\\n#         globals()[n] = r\\ntest()', 'def simplex(path_to_include, library_name, function_name, req_args, opt_args, return_names):\\n    \"\"\"\\n\\n    :param path_to_include:\\n    :param library_name:\\n    :param function_name:\\n    :param req_args:\\n    :param opt_args:\\n    :param return_names:\\n    :return:\\n    \"\"\"\\n\\n    # Import function\\n    sys.path.insert(0, path_to_include)\\n    print(\\'From {} importing {} ...\\'.format(path_to_include, function_name))\\n    exec(\\'from {} import {} as function\\'.format(library_name, function_name))\\n\\n    # Process args\\n    args = process_args(req_args, opt_args)\\n\\n    # Execute\\n    returned = locals()[\\'function\\'](**args)\\n\\n    for n, r in zip(return_names, returned):\\n        globals()[n] = r\\n    print(\\'hello\\')\\n    print(globals())', 'def test():\\n    simplex(path_to_include, library_name, function_name, req_args, opt_args, return_names)\\n#     for n, r in zip(return_names, results):\\n#         print(n, r)\\n#         globals()[n] = r\\ntest()'], '_8': <class 'function'>, '__package__': None, '_i10': 'def test():\\n    simplex(path_to_include, library_name, function_name, req_args, opt_args, return_names)\\n#     for n, r in zip(return_names, results):\\n#         print(n, r)\\n#         globals()[n] = r\\ntest()', '_i2': 'def test():\\n    simplex(path_to_include, library_name, function_name, req_args, opt_args, return_names)\\n#     for n, r in zip(return_names, results):\\n#         print(n, r)\\n#         globals()[n] = r\\ntest()', '_i4': 'test.__dir__', 'simplex': <function simplex at 0x121e728c8>, '__': <method-wrapper '__call__' of function object at 0x106b616a8>, 'get_ipython': <bound method InteractiveShell.get_ipython of <ipykernel.zmqshell.ZMQInteractiveShell object at 0x106954908>>, '_': <class 'function'>, '_i1': \"from simplex.engine import *\\npath_to_include = '/Users/ckmah/.simplex/ccal/'\\nlibrary_name = 'ccal'\\nfunction_name = 'define_components'\\n\\nreq_args = {'matrix': '~/Documents/simplex/test_data/nmf_k9_h.gct',\\n            'ks': '3,'}\\nopt_args = {'n_clusterings': 3}\\nreturn_names = ['nmf_results', 'ccc']\", '_i5': 'test.__dir__()'}\n"
     ]
    }
   ],
   "source": [
    "def test():\n",
    "    simplex(path_to_include, library_name, function_name, req_args, opt_args, return_names)\n",
    "#     for n, r in zip(return_names, results):\n",
    "#         print(n, r)\n",
    "#         globals()[n] = r\n",
    "test()"
   ]
  },
  {
   "cell_type": "code",
   "execution_count": 15,
   "metadata": {
    "collapsed": false
   },
   "outputs": [
    {
     "data": {
      "text/plain": [
       "{3: {'e': 164108.89290515616,\n",
       "  'h':    A101D_SKIN  A172_CENTRAL_NERVOUS_SYSTEM  A204_SOFT_TISSUE  A2058_SKIN  \\\n",
       "  0   77.248078                    94.482285         80.169817   70.782088   \n",
       "  1   22.266258                    12.129055         24.103650   17.703562   \n",
       "  2   33.677689                    25.099743         28.992628   44.732019   \n",
       "  \n",
       "     A2780_OVARY  A375_SKIN  A498_KIDNEY  A549_LUNG  A673_BONE  A704_KIDNEY  \\\n",
       "  0    68.568106  53.184978    91.415501  71.954572  55.968655    63.989013   \n",
       "  1     7.674816  12.240130    25.213395  38.909366   1.890353    27.583605   \n",
       "  2    55.477541  62.735055    15.911522  18.403056  71.017242    39.105655   \n",
       "  \n",
       "         ...        WM88_SKIN  WM983B_SKIN  YAPC_PANCREAS  \\\n",
       "  0      ...        71.144537    57.423744      15.666300   \n",
       "  1      ...        28.145880     3.334824      72.399483   \n",
       "  2      ...        34.233001    69.793889      34.391770   \n",
       "  \n",
       "     YD10B_UPPER_AERODIGESTIVE_TRACT  YD38_UPPER_AERODIGESTIVE_TRACT  \\\n",
       "  0                        48.471807                        6.864381   \n",
       "  1                        23.466973                       76.740792   \n",
       "  2                        53.602004                       35.245407   \n",
       "  \n",
       "     YD8_UPPER_AERODIGESTIVE_TRACT  YH13_CENTRAL_NERVOUS_SYSTEM  \\\n",
       "  0                      92.927655                    72.649396   \n",
       "  1                      37.347922                     7.682466   \n",
       "  2                       0.000000                    47.010797   \n",
       "  \n",
       "     YKG1_CENTRAL_NERVOUS_SYSTEM  ZR751_BREAST  ZR7530_BREAST  \n",
       "  0                    61.069880     42.604958      30.924265  \n",
       "  1                     0.000000     57.834812      47.676171  \n",
       "  2                    69.560581     29.587368      51.063036  \n",
       "  \n",
       "  [3 rows x 750 columns],\n",
       "  'w':            0           1           2\n",
       "  1  46.163389   41.701919   17.443814\n",
       "  2  22.496856   70.806313   14.937668\n",
       "  3   1.837670   13.518556  104.808527\n",
       "  4   0.000000  102.356254   36.202880\n",
       "  5  58.804849    0.000000   78.604177\n",
       "  6  81.174523   57.775764    0.000000\n",
       "  7   0.000000   83.870090   56.124751\n",
       "  8  97.905914    0.000000   34.493402\n",
       "  9  58.419126   35.691489   66.835763}}"
      ]
     },
     "execution_count": 15,
     "metadata": {},
     "output_type": "execute_result"
    }
   ],
   "source": [
    "nmf_results"
   ]
  },
  {
   "cell_type": "code",
   "execution_count": null,
   "metadata": {
    "collapsed": true
   },
   "outputs": [],
   "source": []
  }
 ],
 "metadata": {
  "anaconda-cloud": {},
  "kernelspec": {
   "display_name": "Python [default]",
   "language": "python",
   "name": "python3"
  },
  "language_info": {
   "codemirror_mode": {
    "name": "ipython",
    "version": 3
   },
   "file_extension": ".py",
   "mimetype": "text/x-python",
   "name": "python",
   "nbconvert_exporter": "python",
   "pygments_lexer": "ipython3",
   "version": "3.5.2"
  },
  "widgets": {
   "state": {
    "facb58b625a64e2f8981e6b452d9c611": {
     "views": [
      {
       "cell_index": 0
      }
     ]
    }
   },
   "version": "1.2.0"
  }
 },
 "nbformat": 4,
 "nbformat_minor": 1
}
