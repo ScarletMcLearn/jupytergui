{
 "cells": [
  {
   "cell_type": "code",
   "execution_count": 1,
   "metadata": {
    "collapsed": false
   },
   "outputs": [
    {
     "name": "stdout",
     "output_type": "stream",
     "text": [
      "{'matrix': '/Users/ckmah/Documents/simplex/test_data/nmf_k9_h.gct', 'ks': '3, 4'}\n",
      "{'n_clusterings': '3'}\n",
      "['a', 'b']\n",
      "define_components\n",
      "ccal\n",
      "/Users/ckmah/.simplex/ccal/\n",
      "{'matrix': '/Users/ckmah/Documents/simplex/test_data/nmf_k9_h.gct', 'ks': '3, 4'}\n",
      "{'n_clusterings': '3'}\n",
      "['a', 'b']\n",
      "{'n_clusterings': <ipywidgets.widgets.widget_string.Text object at 0x106b6db70>}\n",
      "From /Users/ckmah/.simplex/ccal/ importing define_components ...\n"
     ]
    },
    {
     "name": "stderr",
     "output_type": "stream",
     "text": [
      "/Users/ckmah/anaconda3/envs/jupyter_x/lib/python3.5/site-packages/sklearn/cross_validation.py:44: DeprecationWarning: This module was deprecated in version 0.18 in favor of the model_selection module into which all the refactored classes and functions are moved. Also note that the interface of the new CV iterators are different from that of this module. This module will be removed in 0.20.\n",
      "  \"This module will be removed in 0.20.\", DeprecationWarning)\n"
     ]
    },
    {
     "name": "stdout",
     "output_type": "stream",
     "text": [
      "================================================================================\n",
      "================= Computational Cancer Analysis Library (CCAL) =================\n",
      "================================================================================\n",
      "Planted a random seed: 20121020.\n",
      "Argument: '3, 4' ==> [3, 4] ...\n",
      "<171116> Computing cophenetic correlation coefficient of 3 NMF consensus clusterings ...\n",
      "<171116> Parallelizing ...\n",
      "<171116> NMF and scoring k=3 ...\n",
      "<171116> NMF and scoring k=4 ...\n"
     ]
    },
    {
     "ename": "TypeError",
     "evalue": "'str' object cannot be interpreted as an integer",
     "output_type": "error",
     "traceback": [
      "\u001b[0;31m---------------------------------------------------------------------------\u001b[0m",
      "\u001b[0;31mRemoteTraceback\u001b[0m                           Traceback (most recent call last)",
      "\u001b[0;31mRemoteTraceback\u001b[0m: \n\"\"\"\nTraceback (most recent call last):\n  File \"/Users/ckmah/anaconda3/envs/jupyter_x/lib/python3.5/multiprocessing/pool.py\", line 119, in worker\n    result = (True, func(*args, **kwds))\n  File \"/Users/ckmah/anaconda3/envs/jupyter_x/lib/python3.5/multiprocessing/pool.py\", line 44, in mapstar\n    return list(map(*args))\n  File \"/Users/ckmah/.simplex/ccal/ccal/support.py\", line 1457, in _nmf_and_score\n    sample_x_clustering = DataFrame(index=matrix.columns, columns=range(n_clusterings), dtype=int)\nTypeError: 'str' object cannot be interpreted as an integer\n\"\"\"",
      "\nThe above exception was the direct cause of the following exception:\n",
      "\u001b[0;31mTypeError\u001b[0m                                 Traceback (most recent call last)",
      "\u001b[0;32m/Users/ckmah/anaconda3/envs/jupyter_x/lib/python3.5/site-packages/simplex/chain.py\u001b[0m in \u001b[0;36msubmit\u001b[0;34m(self, fields, bead, button)\u001b[0m\n\u001b[1;32m     77\u001b[0m                           \u001b[0mreq_args\u001b[0m\u001b[0;34m=\u001b[0m\u001b[0minput_values\u001b[0m\u001b[0;34m,\u001b[0m\u001b[0;34m\u001b[0m\u001b[0m\n\u001b[1;32m     78\u001b[0m                           \u001b[0mopt_args\u001b[0m\u001b[0;34m=\u001b[0m\u001b[0mopt_input_values\u001b[0m\u001b[0;34m,\u001b[0m\u001b[0;34m\u001b[0m\u001b[0m\n\u001b[0;32m---> 79\u001b[0;31m                           return_names=output_values)\n\u001b[0m\u001b[1;32m     80\u001b[0m \u001b[0;34m\u001b[0m\u001b[0m\n\u001b[1;32m     81\u001b[0m         \u001b[0;31m# Parse returned values\u001b[0m\u001b[0;34m\u001b[0m\u001b[0;34m\u001b[0m\u001b[0m\n",
      "\u001b[0;32m/Users/ckmah/anaconda3/envs/jupyter_x/lib/python3.5/site-packages/simplex/engine.py\u001b[0m in \u001b[0;36msimplex\u001b[0;34m(path_to_include, library_name, function_name, req_args, opt_args, return_names)\u001b[0m\n\u001b[1;32m     26\u001b[0m \u001b[0;34m\u001b[0m\u001b[0m\n\u001b[1;32m     27\u001b[0m     \u001b[0;31m# Execute\u001b[0m\u001b[0;34m\u001b[0m\u001b[0;34m\u001b[0m\u001b[0m\n\u001b[0;32m---> 28\u001b[0;31m     \u001b[0mreturned\u001b[0m \u001b[0;34m=\u001b[0m \u001b[0mlocals\u001b[0m\u001b[0;34m(\u001b[0m\u001b[0;34m)\u001b[0m\u001b[0;34m[\u001b[0m\u001b[0;34m'function'\u001b[0m\u001b[0;34m]\u001b[0m\u001b[0;34m(\u001b[0m\u001b[0;34m**\u001b[0m\u001b[0margs\u001b[0m\u001b[0;34m)\u001b[0m\u001b[0;34m\u001b[0m\u001b[0m\n\u001b[0m\u001b[1;32m     29\u001b[0m \u001b[0;34m\u001b[0m\u001b[0m\n\u001b[1;32m     30\u001b[0m     \u001b[0;32mfor\u001b[0m \u001b[0mn\u001b[0m\u001b[0;34m,\u001b[0m \u001b[0mr\u001b[0m \u001b[0;32min\u001b[0m \u001b[0mzip\u001b[0m\u001b[0;34m(\u001b[0m\u001b[0mreturn_names\u001b[0m\u001b[0;34m,\u001b[0m \u001b[0mreturned\u001b[0m\u001b[0;34m)\u001b[0m\u001b[0;34m:\u001b[0m\u001b[0;34m\u001b[0m\u001b[0m\n",
      "\u001b[0;32m/Users/ckmah/.simplex/ccal/ccal/oncogps.py\u001b[0m in \u001b[0;36mdefine_components\u001b[0;34m(matrix, ks, n_jobs, n_clusterings, random_state, directory_path)\u001b[0m\n\u001b[1;32m     77\u001b[0m     nmf_results, cophenetic_correlation_coefficient = nmf_consensus_cluster(matrix, ks,\n\u001b[1;32m     78\u001b[0m                                                                             \u001b[0mn_jobs\u001b[0m\u001b[0;34m=\u001b[0m\u001b[0mn_jobs\u001b[0m\u001b[0;34m,\u001b[0m \u001b[0mn_clusterings\u001b[0m\u001b[0;34m=\u001b[0m\u001b[0mn_clusterings\u001b[0m\u001b[0;34m,\u001b[0m\u001b[0;34m\u001b[0m\u001b[0m\n\u001b[0;32m---> 79\u001b[0;31m                                                                             random_state=random_state)\n\u001b[0m\u001b[1;32m     80\u001b[0m \u001b[0;34m\u001b[0m\u001b[0m\n\u001b[1;32m     81\u001b[0m     \u001b[0;31m# Make NMF directory, where\u001b[0m\u001b[0;34m\u001b[0m\u001b[0;34m\u001b[0m\u001b[0m\n",
      "\u001b[0;32m/Users/ckmah/.simplex/ccal/ccal/support.py\u001b[0m in \u001b[0;36mnmf_consensus_cluster\u001b[0;34m(matrix, ks, n_jobs, n_clusterings, init, solver, tol, max_iter, random_state, alpha, l1_ratio, shuffle_, nls_max_iter, sparseness, beta, eta)\u001b[0m\n\u001b[1;32m   1425\u001b[0m                  nls_max_iter, sparseness, beta, eta] for k in ks]\n\u001b[1;32m   1426\u001b[0m \u001b[0;34m\u001b[0m\u001b[0m\n\u001b[0;32m-> 1427\u001b[0;31m         \u001b[0;32mfor\u001b[0m \u001b[0mnmf_result\u001b[0m\u001b[0;34m,\u001b[0m \u001b[0mnmf_score\u001b[0m \u001b[0;32min\u001b[0m \u001b[0mparallelize\u001b[0m\u001b[0;34m(\u001b[0m\u001b[0m_nmf_and_score\u001b[0m\u001b[0;34m,\u001b[0m \u001b[0margs\u001b[0m\u001b[0;34m,\u001b[0m \u001b[0mn_jobs\u001b[0m\u001b[0;34m=\u001b[0m\u001b[0mn_jobs\u001b[0m\u001b[0;34m)\u001b[0m\u001b[0;34m:\u001b[0m\u001b[0;34m\u001b[0m\u001b[0m\n\u001b[0m\u001b[1;32m   1428\u001b[0m             \u001b[0mnmf_results\u001b[0m\u001b[0;34m.\u001b[0m\u001b[0mupdate\u001b[0m\u001b[0;34m(\u001b[0m\u001b[0mnmf_result\u001b[0m\u001b[0;34m)\u001b[0m\u001b[0;34m\u001b[0m\u001b[0m\n\u001b[1;32m   1429\u001b[0m             \u001b[0mcophenetic_correlation_coefficients\u001b[0m\u001b[0;34m.\u001b[0m\u001b[0mupdate\u001b[0m\u001b[0;34m(\u001b[0m\u001b[0mnmf_score\u001b[0m\u001b[0;34m)\u001b[0m\u001b[0;34m\u001b[0m\u001b[0m\n",
      "\u001b[0;32m/Users/ckmah/.simplex/ccal/ccal/support.py\u001b[0m in \u001b[0;36mparallelize\u001b[0;34m(function, list_of_args, n_jobs)\u001b[0m\n\u001b[1;32m    118\u001b[0m     \u001b[0;31m# Parallelize\u001b[0m\u001b[0;34m\u001b[0m\u001b[0;34m\u001b[0m\u001b[0m\n\u001b[1;32m    119\u001b[0m     \u001b[0;32mwith\u001b[0m \u001b[0mPool\u001b[0m\u001b[0;34m(\u001b[0m\u001b[0mn_jobs\u001b[0m\u001b[0;34m)\u001b[0m \u001b[0;32mas\u001b[0m \u001b[0mp\u001b[0m\u001b[0;34m:\u001b[0m\u001b[0;34m\u001b[0m\u001b[0m\n\u001b[0;32m--> 120\u001b[0;31m         \u001b[0;32mreturn\u001b[0m \u001b[0mp\u001b[0m\u001b[0;34m.\u001b[0m\u001b[0mmap\u001b[0m\u001b[0;34m(\u001b[0m\u001b[0mfunction\u001b[0m\u001b[0;34m,\u001b[0m \u001b[0mlist_of_args\u001b[0m\u001b[0;34m)\u001b[0m\u001b[0;34m\u001b[0m\u001b[0m\n\u001b[0m\u001b[1;32m    121\u001b[0m \u001b[0;34m\u001b[0m\u001b[0m\n\u001b[1;32m    122\u001b[0m \u001b[0;34m\u001b[0m\u001b[0m\n",
      "\u001b[0;32m/Users/ckmah/anaconda3/envs/jupyter_x/lib/python3.5/multiprocessing/pool.py\u001b[0m in \u001b[0;36mmap\u001b[0;34m(self, func, iterable, chunksize)\u001b[0m\n\u001b[1;32m    258\u001b[0m         \u001b[0;32min\u001b[0m \u001b[0ma\u001b[0m \u001b[0mlist\u001b[0m \u001b[0mthat\u001b[0m \u001b[0;32mis\u001b[0m \u001b[0mreturned\u001b[0m\u001b[0;34m.\u001b[0m\u001b[0;34m\u001b[0m\u001b[0m\n\u001b[1;32m    259\u001b[0m         '''\n\u001b[0;32m--> 260\u001b[0;31m         \u001b[0;32mreturn\u001b[0m \u001b[0mself\u001b[0m\u001b[0;34m.\u001b[0m\u001b[0m_map_async\u001b[0m\u001b[0;34m(\u001b[0m\u001b[0mfunc\u001b[0m\u001b[0;34m,\u001b[0m \u001b[0miterable\u001b[0m\u001b[0;34m,\u001b[0m \u001b[0mmapstar\u001b[0m\u001b[0;34m,\u001b[0m \u001b[0mchunksize\u001b[0m\u001b[0;34m)\u001b[0m\u001b[0;34m.\u001b[0m\u001b[0mget\u001b[0m\u001b[0;34m(\u001b[0m\u001b[0;34m)\u001b[0m\u001b[0;34m\u001b[0m\u001b[0m\n\u001b[0m\u001b[1;32m    261\u001b[0m \u001b[0;34m\u001b[0m\u001b[0m\n\u001b[1;32m    262\u001b[0m     \u001b[0;32mdef\u001b[0m \u001b[0mstarmap\u001b[0m\u001b[0;34m(\u001b[0m\u001b[0mself\u001b[0m\u001b[0;34m,\u001b[0m \u001b[0mfunc\u001b[0m\u001b[0;34m,\u001b[0m \u001b[0miterable\u001b[0m\u001b[0;34m,\u001b[0m \u001b[0mchunksize\u001b[0m\u001b[0;34m=\u001b[0m\u001b[0;32mNone\u001b[0m\u001b[0;34m)\u001b[0m\u001b[0;34m:\u001b[0m\u001b[0;34m\u001b[0m\u001b[0m\n",
      "\u001b[0;32m/Users/ckmah/anaconda3/envs/jupyter_x/lib/python3.5/multiprocessing/pool.py\u001b[0m in \u001b[0;36mget\u001b[0;34m(self, timeout)\u001b[0m\n\u001b[1;32m    606\u001b[0m             \u001b[0;32mreturn\u001b[0m \u001b[0mself\u001b[0m\u001b[0;34m.\u001b[0m\u001b[0m_value\u001b[0m\u001b[0;34m\u001b[0m\u001b[0m\n\u001b[1;32m    607\u001b[0m         \u001b[0;32melse\u001b[0m\u001b[0;34m:\u001b[0m\u001b[0;34m\u001b[0m\u001b[0m\n\u001b[0;32m--> 608\u001b[0;31m             \u001b[0;32mraise\u001b[0m \u001b[0mself\u001b[0m\u001b[0;34m.\u001b[0m\u001b[0m_value\u001b[0m\u001b[0;34m\u001b[0m\u001b[0m\n\u001b[0m\u001b[1;32m    609\u001b[0m \u001b[0;34m\u001b[0m\u001b[0m\n\u001b[1;32m    610\u001b[0m     \u001b[0;32mdef\u001b[0m \u001b[0m_set\u001b[0m\u001b[0;34m(\u001b[0m\u001b[0mself\u001b[0m\u001b[0;34m,\u001b[0m \u001b[0mi\u001b[0m\u001b[0;34m,\u001b[0m \u001b[0mobj\u001b[0m\u001b[0;34m)\u001b[0m\u001b[0;34m:\u001b[0m\u001b[0;34m\u001b[0m\u001b[0m\n",
      "\u001b[0;31mTypeError\u001b[0m: 'str' object cannot be interpreted as an integer"
     ]
    }
   ],
   "source": [
    "# !AUTOEXEC\n",
    "from simplex.chain import Chain\n",
    "import json, os\n",
    "\n",
    "# load wrapper\n",
    "DIR_HOME = os.environ['HOME']\n",
    "DIR_SIMPLEX = os.path.join(DIR_HOME, '.simplex')\n",
    "if not os.path.isdir(DIR_SIMPLEX):\n",
    "    os.mkdir(DIR_SIMPLEX)\n",
    "json_filepath = os.path.join(DIR_SIMPLEX, 'ccal.simplex')\n",
    "with open(json_filepath, 'r') as f:\n",
    "    config = json.load(f)\n",
    "\n",
    "controller = Chain(config, globals(), locals(), os.getcwd())\n",
    "beadview = controller.createBeadView(controller.beads[0])\n",
    "beadview.createPanel()\n"
   ]
  },
  {
   "cell_type": "code",
   "execution_count": 1,
   "metadata": {
    "collapsed": false
   },
   "outputs": [],
   "source": [
    "import os\n",
    "import sys\n",
    "sys.path.insert(0, '../my_extension')\n",
    "\n",
    "from engine import *\n",
    "\n",
    "%load_ext autoreload\n",
    "%autoreload 2"
   ]
  },
  {
   "cell_type": "code",
   "execution_count": null,
   "metadata": {
    "collapsed": true
   },
   "outputs": [],
   "source": [
    "# path_to_include = '/Users/ckmah/Documents/ccal/'\n",
    "path_to_include = '/home/cyborg/ccal'\n",
    "library_name = 'ccal'\n",
    "function_name = 'define_components'\n",
    "\n",
    "req_args = {'matrix': '~/jupyter_x/data/nmf_k9_h.gct',\n",
    "            'ks': '3,'}\n",
    "opt_args = {'n_clusterings': 3}\n",
    "return_names = ['nmf_results', 'ccc']"
   ]
  },
  {
   "cell_type": "code",
   "execution_count": 3,
   "metadata": {
    "collapsed": true
   },
   "outputs": [],
   "source": [
    "test()"
   ]
  },
  {
   "cell_type": "code",
   "execution_count": 4,
   "metadata": {
    "collapsed": false
   },
   "outputs": [
    {
     "data": {
      "text/plain": [
       "{'In': ['',\n",
       "  \"import os\\nimport sys\\nsys.path.insert(0, '../my_extension')\\n\\nfrom engine import *\\n\\nget_ipython().magic('load_ext autoreload')\\nget_ipython().magic('autoreload 2')\",\n",
       "  \"# path_to_include = '/Users/ckmah/Documents/ccal/'\\npath_to_include = '/home/cyborg/ccal'\\nlibrary_name = 'ccal'\\nfunction_name = 'define_components'\\n\\nreq_args = {'matrix': '~/jupyter_x/data/nmf_k9_h.gct',\\n            'ks': '3,'}\\nopt_args = {'n_clusterings': 3}\\nreturn_names = ['nmf_results', 'ccc']\",\n",
       "  'test()',\n",
       "  'globals()'],\n",
       " 'Out': {},\n",
       " '_': '',\n",
       " '__': '',\n",
       " '___': '',\n",
       " '__builtin__': <module 'builtins' (built-in)>,\n",
       " '__builtins__': <module 'builtins' (built-in)>,\n",
       " '__doc__': 'Automatically created module for IPython interactive environment',\n",
       " '__loader__': None,\n",
       " '__name__': '__main__',\n",
       " '__package__': None,\n",
       " '__spec__': None,\n",
       " '_dh': ['/home/cyborg/jupyter_x/notebooks'],\n",
       " '_i': 'test()',\n",
       " '_i1': \"import os\\nimport sys\\nsys.path.insert(0, '../my_extension')\\n\\nfrom engine import *\\n\\n%load_ext autoreload\\n%autoreload 2\",\n",
       " '_i2': \"# path_to_include = '/Users/ckmah/Documents/ccal/'\\npath_to_include = '/home/cyborg/ccal'\\nlibrary_name = 'ccal'\\nfunction_name = 'define_components'\\n\\nreq_args = {'matrix': '~/jupyter_x/data/nmf_k9_h.gct',\\n            'ks': '3,'}\\nopt_args = {'n_clusterings': 3}\\nreturn_names = ['nmf_results', 'ccc']\",\n",
       " '_i3': 'test()',\n",
       " '_i4': 'globals()',\n",
       " '_ih': ['',\n",
       "  \"import os\\nimport sys\\nsys.path.insert(0, '../my_extension')\\n\\nfrom engine import *\\n\\nget_ipython().magic('load_ext autoreload')\\nget_ipython().magic('autoreload 2')\",\n",
       "  \"# path_to_include = '/Users/ckmah/Documents/ccal/'\\npath_to_include = '/home/cyborg/ccal'\\nlibrary_name = 'ccal'\\nfunction_name = 'define_components'\\n\\nreq_args = {'matrix': '~/jupyter_x/data/nmf_k9_h.gct',\\n            'ks': '3,'}\\nopt_args = {'n_clusterings': 3}\\nreturn_names = ['nmf_results', 'ccc']\",\n",
       "  'test()',\n",
       "  'globals()'],\n",
       " '_ii': \"# path_to_include = '/Users/ckmah/Documents/ccal/'\\npath_to_include = '/home/cyborg/ccal'\\nlibrary_name = 'ccal'\\nfunction_name = 'define_components'\\n\\nreq_args = {'matrix': '~/jupyter_x/data/nmf_k9_h.gct',\\n            'ks': '3,'}\\nopt_args = {'n_clusterings': 3}\\nreturn_names = ['nmf_results', 'ccc']\",\n",
       " '_iii': \"import os\\nimport sys\\nsys.path.insert(0, '../my_extension')\\n\\nfrom engine import *\\n\\n%load_ext autoreload\\n%autoreload 2\",\n",
       " '_oh': {},\n",
       " '_sh': <module 'IPython.core.shadowns' from '/home/cyborg/tool/anaconda3/lib/python3.5/site-packages/IPython/core/shadowns.py'>,\n",
       " 'cast_string_to_int_float_bool_or_str': <function engine.cast_string_to_int_float_bool_or_str>,\n",
       " 'exit': <IPython.core.autocall.ZMQExitAutocall at 0x7f000873a5c0>,\n",
       " 'function_name': 'define_components',\n",
       " 'get_ipython': <bound method InteractiveShell.get_ipython of <ipykernel.zmqshell.ZMQInteractiveShell object at 0x7f000afe5ba8>>,\n",
       " 'library_name': 'ccal',\n",
       " 'merge_dicts': <function engine.merge_dicts>,\n",
       " 'opt_args': {'n_clusterings': 3},\n",
       " 'os': <module 'os' from '/home/cyborg/tool/anaconda3/lib/python3.5/os.py'>,\n",
       " 'path_to_include': '/home/cyborg/ccal',\n",
       " 'process_args': <function engine.process_args>,\n",
       " 'process_kwargs': <function engine.process_kwargs>,\n",
       " 'quit': <IPython.core.autocall.ZMQExitAutocall at 0x7f000873a5c0>,\n",
       " 'req_args': {'ks': '3,', 'matrix': '~/jupyter_x/data/nmf_k9_h.gct'},\n",
       " 'return_names': ['nmf_results', 'ccc'],\n",
       " 'simplex': <function engine.simplex>,\n",
       " 'sys': <module 'sys' (built-in)>,\n",
       " 'test': <function engine.test>}"
      ]
     },
     "execution_count": 4,
     "metadata": {},
     "output_type": "execute_result"
    }
   ],
   "source": [
    "globals()"
   ]
  },
  {
   "cell_type": "code",
   "execution_count": 3,
   "metadata": {
    "collapsed": false
   },
   "outputs": [
    {
     "name": "stdout",
     "output_type": "stream",
     "text": [
      "Importing define_components ...\n",
      "================================================================================\n",
      "================= Computational Cancer Analysis Library (CCAL) =================\n",
      "================================================================================\n",
      "Planted a random seed: 20121020.\n",
      "Argument: '3,' ==> [3] ...\n",
      "<123422> Computing cophenetic correlation coefficient of 3 NMF consensus clusterings ...\n",
      "<123422> Not parallelizing ...\n",
      "<123422> NMF and scoring k=3 ...\n",
      "<123422> \t(k=3) NMF (0/3) ...\n",
      "<123422> \t\t(k=3) Saved the 1st NMF decomposition.\n",
      "<123422> \t(k=3) Making consensus matrix from 3 NMF ...\n",
      "<123424> Plotting NMF decompositions and cophenetic correlation coefficients ...\n",
      "<123424> \tPlotting k=3 ...\n",
      "dict_keys(['__spec__', 'process_args', '__builtins__', 'sys', '__package__', 'ccc', 'simplex', '__loader__', '__name__', '__doc__', 'cast_string_to_int_float_bool_or_str', 'process_kwargs', 'nmf_results', 'merge_dicts', '__cached__', '__file__'])\n"
     ]
    }
   ],
   "source": [
    "simplex(path_to_include, library_name, function_name, req_args, opt_args, return_names)"
   ]
  },
  {
   "cell_type": "code",
   "execution_count": 4,
   "metadata": {
    "collapsed": false
   },
   "outputs": [
    {
     "data": {
      "text/plain": [
       "dict_keys(['__spec__', 'process_args', '_ii', 'get_ipython', '_iii', '_', 'os', '_i3', 'req_args', '_i2', 'simplex', 'In', '__name__', '__doc__', 'process_kwargs', '_i1', 'quit', '_i4', 'Out', '__builtin__', 'library_name', 'sys', '_i', '_ih', 'return_names', '__builtins__', '___', '_dh', 'function_name', '__package__', '_sh', 'opt_args', '__loader__', 'cast_string_to_int_float_bool_or_str', '_oh', '__', 'merge_dicts', 'path_to_include', 'exit'])"
      ]
     },
     "execution_count": 4,
     "metadata": {},
     "output_type": "execute_result"
    }
   ],
   "source": [
    "globals().keys()"
   ]
  }
 ],
 "metadata": {
  "anaconda-cloud": {},
  "kernelspec": {
   "display_name": "Python 3",
   "language": "python",
   "name": "python3"
  },
  "language_info": {
   "codemirror_mode": {
    "name": "ipython",
    "version": 3
   },
   "file_extension": ".py",
   "mimetype": "text/x-python",
   "name": "python",
   "nbconvert_exporter": "python",
   "pygments_lexer": "ipython3",
   "version": "3.5.2"
  },
  "widgets": {
   "state": {
    "79fe38f35bed41728c3e9527d164048d": {
     "views": [
      {
       "cell_index": 0
      }
     ]
    }
   },
   "version": "1.2.0"
  }
 },
 "nbformat": 4,
 "nbformat_minor": 1
}
