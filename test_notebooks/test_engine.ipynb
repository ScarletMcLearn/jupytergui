{
 "cells": [
  {
   "cell_type": "code",
   "execution_count": 1,
   "metadata": {
    "collapsed": false
   },
   "outputs": [],
   "source": [
    "import os\n",
    "import sys\n",
    "sys.path.insert(0, '../my_extension')\n",
    "\n",
    "from engine import *\n",
    "\n",
    "%load_ext autoreload\n",
    "%autoreload 2"
   ]
  },
  {
   "cell_type": "code",
   "execution_count": 2,
   "metadata": {
    "collapsed": true
   },
   "outputs": [],
   "source": [
    "# path_to_include = '/Users/ckmah/Documents/ccal/'\n",
    "path_to_include = '/home/cyborg/ccal'\n",
    "library_name = 'ccal'\n",
    "function_name = 'define_components'\n",
    "\n",
    "req_args = {'matrix': '~/jupyter_x/data/nmf_k9_h.gct',\n",
    "            'ks': '3,'}\n",
    "opt_args = {'n_clusterings': 3}\n",
    "return_names = ['nmf_results', 'ccc']"
   ]
  },
  {
   "cell_type": "code",
   "execution_count": 3,
   "metadata": {
    "collapsed": true
   },
   "outputs": [],
   "source": [
    "test()"
   ]
  },
  {
   "cell_type": "code",
   "execution_count": 4,
   "metadata": {
    "collapsed": false
   },
   "outputs": [
    {
     "data": {
      "text/plain": [
       "{'In': ['',\n",
       "  \"import os\\nimport sys\\nsys.path.insert(0, '../my_extension')\\n\\nfrom engine import *\\n\\nget_ipython().magic('load_ext autoreload')\\nget_ipython().magic('autoreload 2')\",\n",
       "  \"# path_to_include = '/Users/ckmah/Documents/ccal/'\\npath_to_include = '/home/cyborg/ccal'\\nlibrary_name = 'ccal'\\nfunction_name = 'define_components'\\n\\nreq_args = {'matrix': '~/jupyter_x/data/nmf_k9_h.gct',\\n            'ks': '3,'}\\nopt_args = {'n_clusterings': 3}\\nreturn_names = ['nmf_results', 'ccc']\",\n",
       "  'test()',\n",
       "  'globals()'],\n",
       " 'Out': {},\n",
       " '_': '',\n",
       " '__': '',\n",
       " '___': '',\n",
       " '__builtin__': <module 'builtins' (built-in)>,\n",
       " '__builtins__': <module 'builtins' (built-in)>,\n",
       " '__doc__': 'Automatically created module for IPython interactive environment',\n",
       " '__loader__': None,\n",
       " '__name__': '__main__',\n",
       " '__package__': None,\n",
       " '__spec__': None,\n",
       " '_dh': ['/home/cyborg/jupyter_x/notebooks'],\n",
       " '_i': 'test()',\n",
       " '_i1': \"import os\\nimport sys\\nsys.path.insert(0, '../my_extension')\\n\\nfrom engine import *\\n\\n%load_ext autoreload\\n%autoreload 2\",\n",
       " '_i2': \"# path_to_include = '/Users/ckmah/Documents/ccal/'\\npath_to_include = '/home/cyborg/ccal'\\nlibrary_name = 'ccal'\\nfunction_name = 'define_components'\\n\\nreq_args = {'matrix': '~/jupyter_x/data/nmf_k9_h.gct',\\n            'ks': '3,'}\\nopt_args = {'n_clusterings': 3}\\nreturn_names = ['nmf_results', 'ccc']\",\n",
       " '_i3': 'test()',\n",
       " '_i4': 'globals()',\n",
       " '_ih': ['',\n",
       "  \"import os\\nimport sys\\nsys.path.insert(0, '../my_extension')\\n\\nfrom engine import *\\n\\nget_ipython().magic('load_ext autoreload')\\nget_ipython().magic('autoreload 2')\",\n",
       "  \"# path_to_include = '/Users/ckmah/Documents/ccal/'\\npath_to_include = '/home/cyborg/ccal'\\nlibrary_name = 'ccal'\\nfunction_name = 'define_components'\\n\\nreq_args = {'matrix': '~/jupyter_x/data/nmf_k9_h.gct',\\n            'ks': '3,'}\\nopt_args = {'n_clusterings': 3}\\nreturn_names = ['nmf_results', 'ccc']\",\n",
       "  'test()',\n",
       "  'globals()'],\n",
       " '_ii': \"# path_to_include = '/Users/ckmah/Documents/ccal/'\\npath_to_include = '/home/cyborg/ccal'\\nlibrary_name = 'ccal'\\nfunction_name = 'define_components'\\n\\nreq_args = {'matrix': '~/jupyter_x/data/nmf_k9_h.gct',\\n            'ks': '3,'}\\nopt_args = {'n_clusterings': 3}\\nreturn_names = ['nmf_results', 'ccc']\",\n",
       " '_iii': \"import os\\nimport sys\\nsys.path.insert(0, '../my_extension')\\n\\nfrom engine import *\\n\\n%load_ext autoreload\\n%autoreload 2\",\n",
       " '_oh': {},\n",
       " '_sh': <module 'IPython.core.shadowns' from '/home/cyborg/tool/anaconda3/lib/python3.5/site-packages/IPython/core/shadowns.py'>,\n",
       " 'cast_string_to_int_float_bool_or_str': <function engine.cast_string_to_int_float_bool_or_str>,\n",
       " 'exit': <IPython.core.autocall.ZMQExitAutocall at 0x7f000873a5c0>,\n",
       " 'function_name': 'define_components',\n",
       " 'get_ipython': <bound method InteractiveShell.get_ipython of <ipykernel.zmqshell.ZMQInteractiveShell object at 0x7f000afe5ba8>>,\n",
       " 'library_name': 'ccal',\n",
       " 'merge_dicts': <function engine.merge_dicts>,\n",
       " 'opt_args': {'n_clusterings': 3},\n",
       " 'os': <module 'os' from '/home/cyborg/tool/anaconda3/lib/python3.5/os.py'>,\n",
       " 'path_to_include': '/home/cyborg/ccal',\n",
       " 'process_args': <function engine.process_args>,\n",
       " 'process_kwargs': <function engine.process_kwargs>,\n",
       " 'quit': <IPython.core.autocall.ZMQExitAutocall at 0x7f000873a5c0>,\n",
       " 'req_args': {'ks': '3,', 'matrix': '~/jupyter_x/data/nmf_k9_h.gct'},\n",
       " 'return_names': ['nmf_results', 'ccc'],\n",
       " 'simplex': <function engine.simplex>,\n",
       " 'sys': <module 'sys' (built-in)>,\n",
       " 'test': <function engine.test>}"
      ]
     },
     "execution_count": 4,
     "metadata": {},
     "output_type": "execute_result"
    }
   ],
   "source": [
    "globals()"
   ]
  },
  {
   "cell_type": "code",
   "execution_count": 3,
   "metadata": {
    "collapsed": false
   },
   "outputs": [
    {
     "name": "stdout",
     "output_type": "stream",
     "text": [
      "Importing define_components ...\n",
      "================================================================================\n",
      "================= Computational Cancer Analysis Library (CCAL) =================\n",
      "================================================================================\n",
      "Planted a random seed: 20121020.\n",
      "Argument: '3,' ==> [3] ...\n",
      "<123422> Computing cophenetic correlation coefficient of 3 NMF consensus clusterings ...\n",
      "<123422> Not parallelizing ...\n",
      "<123422> NMF and scoring k=3 ...\n",
      "<123422> \t(k=3) NMF (0/3) ...\n",
      "<123422> \t\t(k=3) Saved the 1st NMF decomposition.\n",
      "<123422> \t(k=3) Making consensus matrix from 3 NMF ...\n",
      "<123424> Plotting NMF decompositions and cophenetic correlation coefficients ...\n",
      "<123424> \tPlotting k=3 ...\n",
      "dict_keys(['__spec__', 'process_args', '__builtins__', 'sys', '__package__', 'ccc', 'simplex', '__loader__', '__name__', '__doc__', 'cast_string_to_int_float_bool_or_str', 'process_kwargs', 'nmf_results', 'merge_dicts', '__cached__', '__file__'])\n"
     ]
    }
   ],
   "source": [
    "simplex(path_to_include, library_name, function_name, req_args, opt_args, return_names)"
   ]
  },
  {
   "cell_type": "code",
   "execution_count": 4,
   "metadata": {
    "collapsed": false
   },
   "outputs": [
    {
     "data": {
      "text/plain": [
       "dict_keys(['__spec__', 'process_args', '_ii', 'get_ipython', '_iii', '_', 'os', '_i3', 'req_args', '_i2', 'simplex', 'In', '__name__', '__doc__', 'process_kwargs', '_i1', 'quit', '_i4', 'Out', '__builtin__', 'library_name', 'sys', '_i', '_ih', 'return_names', '__builtins__', '___', '_dh', 'function_name', '__package__', '_sh', 'opt_args', '__loader__', 'cast_string_to_int_float_bool_or_str', '_oh', '__', 'merge_dicts', 'path_to_include', 'exit'])"
      ]
     },
     "execution_count": 4,
     "metadata": {},
     "output_type": "execute_result"
    }
   ],
   "source": [
    "globals().keys()"
   ]
  }
 ],
 "metadata": {
  "anaconda-cloud": {},
  "kernelspec": {
   "display_name": "Python [default]",
   "language": "python",
   "name": "python3"
  },
  "language_info": {
   "codemirror_mode": {
    "name": "ipython",
    "version": 3
   },
   "file_extension": ".py",
   "mimetype": "text/x-python",
   "name": "python",
   "nbconvert_exporter": "python",
   "pygments_lexer": "ipython3",
   "version": "3.5.2"
  }
 },
 "nbformat": 4,
 "nbformat_minor": 1
}
