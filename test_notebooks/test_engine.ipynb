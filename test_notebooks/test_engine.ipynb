{
 "cells": [
  {
   "cell_type": "code",
   "execution_count": 1,
   "metadata": {
    "collapsed": false,
    "scrolled": false
   },
   "outputs": [
    {
     "name": "stdout",
     "output_type": "stream",
     "text": [
      "{'matrix': '/Users/ckmah/Documents/simplex/test_data/nmf_k9_h.gct', 'ks': '3, 4'}\n",
      "{'n_clusterings': '3 '}\n",
      "['nmf', 'ccc']\n",
      "From /Users/ckmah/.simplex/ccal/ importing define_components ...\n"
     ]
    },
    {
     "name": "stderr",
     "output_type": "stream",
     "text": [
      "/Users/ckmah/anaconda3/lib/python3.5/site-packages/sklearn/cross_validation.py:44: DeprecationWarning: This module was deprecated in version 0.18 in favor of the model_selection module into which all the refactored classes and functions are moved. Also note that the interface of the new CV iterators are different from that of this module. This module will be removed in 0.20.\n",
      "  \"This module will be removed in 0.20.\", DeprecationWarning)\n"
     ]
    },
    {
     "name": "stdout",
     "output_type": "stream",
     "text": [
      "================================================================================\n",
      "================= Computational Cancer Analysis Library (CCAL) =================\n",
      "================================================================================\n",
      "Planted a random seed: 20121020.\n",
      "ARGS:  {'matrix': '/Users/ckmah/Documents/simplex/test_data/nmf_k9_h.gct', 'n_clusterings': 3, 'ks': [3, 4]}\n",
      "<204620> Computing cophenetic correlation coefficient of 3 NMF consensus clusterings ...\n",
      "<204620> Parallelizing ...\n",
      "<204620> NMF and scoring k=3 ...\n",
      "<204620> \t(k=3) NMF (0/3) ...\n",
      "<204621> \t\t(k=3) Saved the 1st NMF decomposition.\n",
      "<204621> \t(k=3) Making consensus matrix from 3 NMF ...\n",
      "<204622> NMF and scoring k=4 ...\n",
      "<204622> \t(k=4) NMF (0/3) ...\n",
      "<204622> \t\t(k=4) Saved the 1st NMF decomposition.\n",
      "<204622> \t(k=4) Making consensus matrix from 3 NMF ...\n",
      "<204624> Plotting NMF decompositions and cophenetic correlation coefficients ...\n",
      "<204624> \tPlotting k=3 ...\n",
      "<204630> \tPlotting k=4 ...\n",
      "dict_keys(['sys', '__package__', '__spec__', 'nmf', '__file__', 'Chain', 'ccc', '__name__', 'os', '__cached__', 'simplex', 'Bead', 'BeadView', '__doc__', '__loader__', '__builtins__'])\n"
     ]
    }
   ],
   "source": [
    "# !AUTOEXEC\n",
    "from simplex.chain import Chain\n",
    "import json, os\n",
    "\n",
    "# load wrapper\n",
    "DIR_HOME = os.environ['HOME']\n",
    "DIR_SIMPLEX = os.path.join(DIR_HOME, '.simplex')\n",
    "if not os.path.isdir(DIR_SIMPLEX):\n",
    "    os.mkdir(DIR_SIMPLEX)\n",
    "json_filepath = os.path.join(DIR_SIMPLEX, 'ccal.simplex')\n",
    "with open(json_filepath, 'r') as f:\n",
    "    config = json.load(f)\n",
    "\n",
    "controller = Chain(config, globals(), locals(), os.getcwd())\n",
    "beadview = controller.createBeadView(controller.beads[0])\n",
    "beadview.createPanel()\n"
   ]
  },
  {
   "cell_type": "code",
   "execution_count": 4,
   "metadata": {
    "collapsed": false
   },
   "outputs": [
    {
     "ename": "NameError",
     "evalue": "name 'nmf' is not defined",
     "output_type": "error",
     "traceback": [
      "\u001b[0;31m---------------------------------------------------------------------------\u001b[0m",
      "\u001b[0;31mNameError\u001b[0m                                 Traceback (most recent call last)",
      "\u001b[0;32m<ipython-input-2-0c362efbc272>\u001b[0m in \u001b[0;36m<module>\u001b[0;34m()\u001b[0m\n\u001b[0;32m----> 1\u001b[0;31m \u001b[0mnmf\u001b[0m\u001b[0;34m\u001b[0m\u001b[0m\n\u001b[0m",
      "\u001b[0;31mNameError\u001b[0m: name 'nmf' is not defined"
     ]
    }
   ],
   "source": [
    "nmf"
   ]
  },
  {
   "cell_type": "code",
   "execution_count": 6,
   "metadata": {
    "collapsed": false
   },
   "outputs": [
    {
     "data": {
      "text/plain": [
       "{'ccc': {3: 0.97332317092381904},\n",
       " 'nmf_results': {3: {'e': 164108.89290515616,\n",
       "   'h':    A101D_SKIN  A172_CENTRAL_NERVOUS_SYSTEM  A204_SOFT_TISSUE  A2058_SKIN  \\\n",
       "   0   77.248078                    94.482285         80.169817   70.782088   \n",
       "   1   22.266258                    12.129055         24.103650   17.703562   \n",
       "   2   33.677689                    25.099743         28.992628   44.732019   \n",
       "   \n",
       "      A2780_OVARY  A375_SKIN  A498_KIDNEY  A549_LUNG  A673_BONE  A704_KIDNEY  \\\n",
       "   0    68.568106  53.184978    91.415501  71.954572  55.968655    63.989013   \n",
       "   1     7.674816  12.240130    25.213395  38.909366   1.890353    27.583605   \n",
       "   2    55.477541  62.735055    15.911522  18.403056  71.017242    39.105655   \n",
       "   \n",
       "          ...        WM88_SKIN  WM983B_SKIN  YAPC_PANCREAS  \\\n",
       "   0      ...        71.144537    57.423744      15.666300   \n",
       "   1      ...        28.145880     3.334824      72.399483   \n",
       "   2      ...        34.233001    69.793889      34.391770   \n",
       "   \n",
       "      YD10B_UPPER_AERODIGESTIVE_TRACT  YD38_UPPER_AERODIGESTIVE_TRACT  \\\n",
       "   0                        48.471807                        6.864381   \n",
       "   1                        23.466973                       76.740792   \n",
       "   2                        53.602004                       35.245407   \n",
       "   \n",
       "      YD8_UPPER_AERODIGESTIVE_TRACT  YH13_CENTRAL_NERVOUS_SYSTEM  \\\n",
       "   0                      92.927655                    72.649396   \n",
       "   1                      37.347922                     7.682466   \n",
       "   2                       0.000000                    47.010797   \n",
       "   \n",
       "      YKG1_CENTRAL_NERVOUS_SYSTEM  ZR751_BREAST  ZR7530_BREAST  \n",
       "   0                    61.069880     42.604958      30.924265  \n",
       "   1                     0.000000     57.834812      47.676171  \n",
       "   2                    69.560581     29.587368      51.063036  \n",
       "   \n",
       "   [3 rows x 750 columns],\n",
       "   'w':            0           1           2\n",
       "   1  46.163389   41.701919   17.443814\n",
       "   2  22.496856   70.806313   14.937668\n",
       "   3   1.837670   13.518556  104.808527\n",
       "   4   0.000000  102.356254   36.202880\n",
       "   5  58.804849    0.000000   78.604177\n",
       "   6  81.174523   57.775764    0.000000\n",
       "   7   0.000000   83.870090   56.124751\n",
       "   8  97.905914    0.000000   34.493402\n",
       "   9  58.419126   35.691489   66.835763}}}"
      ]
     },
     "execution_count": 7,
     "metadata": {},
     "output_type": "execute_result"
    }
   ],
   "source": [
    "OUTPUT"
   ]
  },
  {
   "cell_type": "code",
   "execution_count": 18,
   "metadata": {
    "collapsed": false
   },
   "outputs": [
    {
     "name": "stdout",
     "output_type": "stream",
     "text": [
      "The autoreload extension is already loaded. To reload it, use:\n",
      "  %reload_ext autoreload\n"
     ]
    }
   ],
   "source": [
    "import os\n",
    "import sys\n",
    "sys.path.insert(0, '../simplex')\n",
    "\n",
    "from engine import *\n",
    "\n",
    "%load_ext autoreload\n",
    "%autoreload 2"
   ]
  },
  {
   "cell_type": "markdown",
   "metadata": {},
   "source": [
    "# Automate updating variables from SimpleX's OUTPUT variable"
   ]
  },
  {
   "cell_type": "code",
   "execution_count": 7,
   "metadata": {
    "collapsed": false
   },
   "outputs": [],
   "source": [
    "from IPython.core.events import EventManager, shell_initialized, available_events, post_execute"
   ]
  },
  {
   "cell_type": "code",
   "execution_count": 6,
   "metadata": {
    "collapsed": true
   },
   "outputs": [],
   "source": [
    "path_to_include = '/Users/ckmah/.simplex/ccal/'\n",
    "# path_to_include = '/home/cyborg/ccal'\n",
    "library_name = 'ccal'\n",
    "function_name = 'define_components'\n",
    "\n",
    "req_args = {'matrix': ' /Users/ckmah/Documents/simplex/test_data/nmf_k9_h.gct',\n",
    "            'ks': '3,'}\n",
    "opt_args = {'n_clusterings': 3}\n",
    "return_names = ['nmf_results', 'ccc']"
   ]
  },
  {
   "cell_type": "code",
   "execution_count": 8,
   "metadata": {
    "collapsed": false
   },
   "outputs": [
    {
     "name": "stdout",
     "output_type": "stream",
     "text": [
      "From /Users/ckmah/Documents/.simplex/ccal/ importing define_components ...\n"
     ]
    },
    {
     "ename": "ImportError",
     "evalue": "No module named 'ccal'",
     "output_type": "error",
     "traceback": [
      "\u001b[0;31m---------------------------------------------------------------------------\u001b[0m",
      "\u001b[0;31mImportError\u001b[0m                               Traceback (most recent call last)",
      "\u001b[0;32m<ipython-input-8-1b29bdd9b0f0>\u001b[0m in \u001b[0;36m<module>\u001b[0;34m()\u001b[0m\n\u001b[0;32m----> 1\u001b[0;31m \u001b[0msimplex\u001b[0m\u001b[0;34m(\u001b[0m\u001b[0mpath_to_include\u001b[0m\u001b[0;34m,\u001b[0m \u001b[0mlibrary_name\u001b[0m\u001b[0;34m,\u001b[0m \u001b[0mfunction_name\u001b[0m\u001b[0;34m,\u001b[0m \u001b[0mreq_args\u001b[0m\u001b[0;34m,\u001b[0m \u001b[0mopt_args\u001b[0m\u001b[0;34m,\u001b[0m \u001b[0mreturn_names\u001b[0m\u001b[0;34m)\u001b[0m\u001b[0;34m\u001b[0m\u001b[0m\n\u001b[0m",
      "\u001b[0;32m/Users/ckmah/Documents/simplex/simplex/engine.py\u001b[0m in \u001b[0;36msimplex\u001b[0;34m(path_to_include, library_name, function_name, req_args, opt_args, return_names)\u001b[0m\n\u001b[1;32m     28\u001b[0m     \u001b[0msys\u001b[0m\u001b[0;34m.\u001b[0m\u001b[0mpath\u001b[0m\u001b[0;34m.\u001b[0m\u001b[0minsert\u001b[0m\u001b[0;34m(\u001b[0m\u001b[0;36m0\u001b[0m\u001b[0;34m,\u001b[0m \u001b[0mpath_to_include\u001b[0m\u001b[0;34m)\u001b[0m\u001b[0;34m\u001b[0m\u001b[0m\n\u001b[1;32m     29\u001b[0m     \u001b[0mprint\u001b[0m\u001b[0;34m(\u001b[0m\u001b[0;34m'From {} importing {} ...'\u001b[0m\u001b[0;34m.\u001b[0m\u001b[0mformat\u001b[0m\u001b[0;34m(\u001b[0m\u001b[0mpath_to_include\u001b[0m\u001b[0;34m,\u001b[0m \u001b[0mfunction_name\u001b[0m\u001b[0;34m)\u001b[0m\u001b[0;34m)\u001b[0m\u001b[0;34m\u001b[0m\u001b[0m\n\u001b[0;32m---> 30\u001b[0;31m     \u001b[0mexec\u001b[0m\u001b[0;34m(\u001b[0m\u001b[0;34m'from {} import {} as function'\u001b[0m\u001b[0;34m.\u001b[0m\u001b[0mformat\u001b[0m\u001b[0;34m(\u001b[0m\u001b[0mlibrary_name\u001b[0m\u001b[0;34m,\u001b[0m \u001b[0mfunction_name\u001b[0m\u001b[0;34m)\u001b[0m\u001b[0;34m)\u001b[0m\u001b[0;34m\u001b[0m\u001b[0m\n\u001b[0m\u001b[1;32m     31\u001b[0m \u001b[0;34m\u001b[0m\u001b[0m\n\u001b[1;32m     32\u001b[0m     \u001b[0;31m# Process args\u001b[0m\u001b[0;34m\u001b[0m\u001b[0;34m\u001b[0m\u001b[0m\n",
      "\u001b[0;32m/Users/ckmah/Documents/simplex/simplex/engine.py\u001b[0m in \u001b[0;36m<module>\u001b[0;34m()\u001b[0m\n",
      "\u001b[0;31mImportError\u001b[0m: No module named 'ccal'"
     ]
    }
   ],
   "source": [
    "simplex(path_to_include, library_name, function_name, req_args, opt_args, return_names)"
   ]
  },
  {
   "cell_type": "code",
   "execution_count": 10,
   "metadata": {
    "collapsed": false
   },
   "outputs": [
    {
     "ename": "NameError",
     "evalue": "name 'rm' is not defined",
     "output_type": "error",
     "traceback": [
      "\u001b[0;31m---------------------------------------------------------------------------\u001b[0m",
      "\u001b[0;31mNameError\u001b[0m                                 Traceback (most recent call last)",
      "\u001b[0;32m<ipython-input-10-2b2b2f8a3d7d>\u001b[0m in \u001b[0;36m<module>\u001b[0;34m()\u001b[0m\n\u001b[0;32m----> 1\u001b[0;31m \u001b[0mrm\u001b[0m\u001b[0;34m.\u001b[0m\u001b[0mregister\u001b[0m\u001b[0;34m(\u001b[0m\u001b[0;34m'post_run_cell'\u001b[0m\u001b[0;34m,\u001b[0m \u001b[0mtest_post_execute\u001b[0m\u001b[0;34m)\u001b[0m\u001b[0;34m\u001b[0m\u001b[0m\n\u001b[0m",
      "\u001b[0;31mNameError\u001b[0m: name 'rm' is not defined"
     ]
    }
   ],
   "source": [
    "rm.register('post_run_cell', test_post_execute)"
   ]
  }
 ],
 "metadata": {
  "anaconda-cloud": {},
  "kernelspec": {
   "display_name": "Python [default]",
   "language": "python",
   "name": "python3"
  },
  "language_info": {
   "codemirror_mode": {
    "name": "ipython",
    "version": 3
   },
   "file_extension": ".py",
   "mimetype": "text/x-python",
   "name": "python",
   "nbconvert_exporter": "python",
   "pygments_lexer": "ipython3",
   "version": "3.5.2"
  },
  "widgets": {
   "state": {
    "53d00784733841748df0580f4d8eb2fc": {
     "views": [
      {
       "cell_index": 0
      }
     ]
    }
   },
   "version": "1.2.0"
  }
 },
 "nbformat": 4,
 "nbformat_minor": 1
}
