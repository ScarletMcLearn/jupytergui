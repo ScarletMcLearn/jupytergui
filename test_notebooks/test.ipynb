{
 "cells": [
  {
   "cell_type": "code",
   "execution_count": 1,
   "metadata": {
    "collapsed": false
   },
   "outputs": [],
   "source": [
    "# !AUTOEXEC\n",
    "from simplex.taskmanager import TaskManager\n",
    "import json, os\n",
    "\n",
    "# load wrapper\n",
    "config = json.loads('''{\n",
    "  \"version\": \"\",\n",
    "  \"library_path\": \"/home/cyborg/ccal/\",\n",
    "  \"tasks\": [\n",
    "    {\n",
    "      \"library_name\": \"ccal\",\n",
    "      \"label\": \"CCAL - Define Components\",\n",
    "      \"function_name\": \"define_components\",\n",
    "      \"required_args\": [\n",
    "        {\n",
    "          \"arg_name\": \"matrix\",\n",
    "          \"label\": \"Expression Matrix\",\n",
    "          \"description\": \"This is an argument description for Expression Matrix.\"\n",
    "        },\n",
    "        {\n",
    "          \"arg_name\": \"ks\",\n",
    "          \"label\": \"Numbers of Components\",\n",
    "          \"description\": \"This is an argument description for Number of Components.\"\n",
    "        }\n",
    "      ],\n",
    "      \"optional_args\": [ {\n",
    "        \"arg_name\": \"n_clusterings\",\n",
    "        \"label\": \"Number of Consensus Clusterings\",\n",
    "        \"description\": \"This is an argument description for Number of Consensus Clusterings.\"\n",
    "      }],\n",
    "      \"return_names\": [\n",
    "        {\n",
    "          \"label\": \"NMF Result Dictionary\",\n",
    "          \"description\": \"This is the description for the returned NMF Result Dictionary.\"\n",
    "        },\n",
    "        {\n",
    "          \"label\": \"Cophenetic Correlation Coefficients\",\n",
    "          \"description\": \"This is the description for the returned Cophentic Correlation Coefficients.\"\n",
    "        }\n",
    "      ]\n",
    "    }\n",
    "  ]\n",
    "}\n",
    "''')\n",
    "task_manager = TaskManager(config, globals(), locals(), os.getcwd())\n",
    "\n",
    "def set_globals():\n",
    "    for name, value in task_manager.output.items():\n",
    "        globals()[name] = value\n",
    "        # exec('global {}'.format(name), globals())\n",
    "        # exec('{} = value'.format(name))\n",
    "\n",
    "# register callback\n",
    "if (set_globals not in get_ipython().events.callbacks['post_run_cell']):\n",
    "    get_ipython().events.register('post_execute', set_globals)\n",
    "\n",
    "# make and show widget\n",
    "task_view = task_manager.create_task_view(task_manager.tasks[0])\n",
    "task_view.createPanel()\n"
   ]
  },
  {
   "cell_type": "code",
   "execution_count": 2,
   "metadata": {
    "collapsed": false
   },
   "outputs": [
    {
     "ename": "JSONDecodeError",
     "evalue": "Expecting value: line 1 column 1 (char 0)",
     "output_type": "error",
     "traceback": [
      "\u001b[0;31m---------------------------------------------------------------------------\u001b[0m",
      "\u001b[0;31mJSONDecodeError\u001b[0m                           Traceback (most recent call last)",
      "\u001b[0;32m<ipython-input-2-cfe44f78d9bf>\u001b[0m in \u001b[0;36m<module>\u001b[0;34m()\u001b[0m\n\u001b[1;32m      4\u001b[0m \u001b[0;34m\u001b[0m\u001b[0m\n\u001b[1;32m      5\u001b[0m \u001b[0;31m# load wrapper\u001b[0m\u001b[0;34m\u001b[0m\u001b[0;34m\u001b[0m\u001b[0m\n\u001b[0;32m----> 6\u001b[0;31m \u001b[0mconfig\u001b[0m \u001b[0;34m=\u001b[0m \u001b[0mjson\u001b[0m\u001b[0;34m.\u001b[0m\u001b[0mloads\u001b[0m\u001b[0;34m(\u001b[0m\u001b[0;34m'''undefined'''\u001b[0m\u001b[0;34m)\u001b[0m\u001b[0;34m\u001b[0m\u001b[0m\n\u001b[0m\u001b[1;32m      7\u001b[0m \u001b[0mtask_manager\u001b[0m \u001b[0;34m=\u001b[0m \u001b[0mTaskManager\u001b[0m\u001b[0;34m(\u001b[0m\u001b[0mconfig\u001b[0m\u001b[0;34m,\u001b[0m \u001b[0mglobals\u001b[0m\u001b[0;34m(\u001b[0m\u001b[0;34m)\u001b[0m\u001b[0;34m,\u001b[0m \u001b[0mlocals\u001b[0m\u001b[0;34m(\u001b[0m\u001b[0;34m)\u001b[0m\u001b[0;34m,\u001b[0m \u001b[0mos\u001b[0m\u001b[0;34m.\u001b[0m\u001b[0mgetcwd\u001b[0m\u001b[0;34m(\u001b[0m\u001b[0;34m)\u001b[0m\u001b[0;34m)\u001b[0m\u001b[0;34m\u001b[0m\u001b[0m\n\u001b[1;32m      8\u001b[0m \u001b[0;34m\u001b[0m\u001b[0m\n",
      "\u001b[0;32m/home/cyborg/tools/anaconda/lib/python3.5/json/__init__.py\u001b[0m in \u001b[0;36mloads\u001b[0;34m(s, encoding, cls, object_hook, parse_float, parse_int, parse_constant, object_pairs_hook, **kw)\u001b[0m\n\u001b[1;32m    317\u001b[0m             \u001b[0mparse_int\u001b[0m \u001b[0;32mis\u001b[0m \u001b[0;32mNone\u001b[0m \u001b[0;32mand\u001b[0m \u001b[0mparse_float\u001b[0m \u001b[0;32mis\u001b[0m \u001b[0;32mNone\u001b[0m \u001b[0;32mand\u001b[0m\u001b[0;34m\u001b[0m\u001b[0m\n\u001b[1;32m    318\u001b[0m             parse_constant is None and object_pairs_hook is None and not kw):\n\u001b[0;32m--> 319\u001b[0;31m         \u001b[0;32mreturn\u001b[0m \u001b[0m_default_decoder\u001b[0m\u001b[0;34m.\u001b[0m\u001b[0mdecode\u001b[0m\u001b[0;34m(\u001b[0m\u001b[0ms\u001b[0m\u001b[0;34m)\u001b[0m\u001b[0;34m\u001b[0m\u001b[0m\n\u001b[0m\u001b[1;32m    320\u001b[0m     \u001b[0;32mif\u001b[0m \u001b[0mcls\u001b[0m \u001b[0;32mis\u001b[0m \u001b[0;32mNone\u001b[0m\u001b[0;34m:\u001b[0m\u001b[0;34m\u001b[0m\u001b[0m\n\u001b[1;32m    321\u001b[0m         \u001b[0mcls\u001b[0m \u001b[0;34m=\u001b[0m \u001b[0mJSONDecoder\u001b[0m\u001b[0;34m\u001b[0m\u001b[0m\n",
      "\u001b[0;32m/home/cyborg/tools/anaconda/lib/python3.5/json/decoder.py\u001b[0m in \u001b[0;36mdecode\u001b[0;34m(self, s, _w)\u001b[0m\n\u001b[1;32m    337\u001b[0m \u001b[0;34m\u001b[0m\u001b[0m\n\u001b[1;32m    338\u001b[0m         \"\"\"\n\u001b[0;32m--> 339\u001b[0;31m         \u001b[0mobj\u001b[0m\u001b[0;34m,\u001b[0m \u001b[0mend\u001b[0m \u001b[0;34m=\u001b[0m \u001b[0mself\u001b[0m\u001b[0;34m.\u001b[0m\u001b[0mraw_decode\u001b[0m\u001b[0;34m(\u001b[0m\u001b[0ms\u001b[0m\u001b[0;34m,\u001b[0m \u001b[0midx\u001b[0m\u001b[0;34m=\u001b[0m\u001b[0m_w\u001b[0m\u001b[0;34m(\u001b[0m\u001b[0ms\u001b[0m\u001b[0;34m,\u001b[0m \u001b[0;36m0\u001b[0m\u001b[0;34m)\u001b[0m\u001b[0;34m.\u001b[0m\u001b[0mend\u001b[0m\u001b[0;34m(\u001b[0m\u001b[0;34m)\u001b[0m\u001b[0;34m)\u001b[0m\u001b[0;34m\u001b[0m\u001b[0m\n\u001b[0m\u001b[1;32m    340\u001b[0m         \u001b[0mend\u001b[0m \u001b[0;34m=\u001b[0m \u001b[0m_w\u001b[0m\u001b[0;34m(\u001b[0m\u001b[0ms\u001b[0m\u001b[0;34m,\u001b[0m \u001b[0mend\u001b[0m\u001b[0;34m)\u001b[0m\u001b[0;34m.\u001b[0m\u001b[0mend\u001b[0m\u001b[0;34m(\u001b[0m\u001b[0;34m)\u001b[0m\u001b[0;34m\u001b[0m\u001b[0m\n\u001b[1;32m    341\u001b[0m         \u001b[0;32mif\u001b[0m \u001b[0mend\u001b[0m \u001b[0;34m!=\u001b[0m \u001b[0mlen\u001b[0m\u001b[0;34m(\u001b[0m\u001b[0ms\u001b[0m\u001b[0;34m)\u001b[0m\u001b[0;34m:\u001b[0m\u001b[0;34m\u001b[0m\u001b[0m\n",
      "\u001b[0;32m/home/cyborg/tools/anaconda/lib/python3.5/json/decoder.py\u001b[0m in \u001b[0;36mraw_decode\u001b[0;34m(self, s, idx)\u001b[0m\n\u001b[1;32m    355\u001b[0m             \u001b[0mobj\u001b[0m\u001b[0;34m,\u001b[0m \u001b[0mend\u001b[0m \u001b[0;34m=\u001b[0m \u001b[0mself\u001b[0m\u001b[0;34m.\u001b[0m\u001b[0mscan_once\u001b[0m\u001b[0;34m(\u001b[0m\u001b[0ms\u001b[0m\u001b[0;34m,\u001b[0m \u001b[0midx\u001b[0m\u001b[0;34m)\u001b[0m\u001b[0;34m\u001b[0m\u001b[0m\n\u001b[1;32m    356\u001b[0m         \u001b[0;32mexcept\u001b[0m \u001b[0mStopIteration\u001b[0m \u001b[0;32mas\u001b[0m \u001b[0merr\u001b[0m\u001b[0;34m:\u001b[0m\u001b[0;34m\u001b[0m\u001b[0m\n\u001b[0;32m--> 357\u001b[0;31m             \u001b[0;32mraise\u001b[0m \u001b[0mJSONDecodeError\u001b[0m\u001b[0;34m(\u001b[0m\u001b[0;34m\"Expecting value\"\u001b[0m\u001b[0;34m,\u001b[0m \u001b[0ms\u001b[0m\u001b[0;34m,\u001b[0m \u001b[0merr\u001b[0m\u001b[0;34m.\u001b[0m\u001b[0mvalue\u001b[0m\u001b[0;34m)\u001b[0m \u001b[0;32mfrom\u001b[0m \u001b[0;32mNone\u001b[0m\u001b[0;34m\u001b[0m\u001b[0m\n\u001b[0m\u001b[1;32m    358\u001b[0m         \u001b[0;32mreturn\u001b[0m \u001b[0mobj\u001b[0m\u001b[0;34m,\u001b[0m \u001b[0mend\u001b[0m\u001b[0;34m\u001b[0m\u001b[0m\n",
      "\u001b[0;31mJSONDecodeError\u001b[0m: Expecting value: line 1 column 1 (char 0)"
     ]
    }
   ],
   "source": [
    "# !AUTOEXEC\n",
    "from simplex.taskmanager import TaskManager\n",
    "import json, os\n",
    "\n",
    "# load wrapper\n",
    "config = json.loads('''undefined''')\n",
    "task_manager = TaskManager(config, globals(), locals(), os.getcwd())\n",
    "\n",
    "def set_globals():\n",
    "    for name, value in task_manager.output.items():\n",
    "        globals()[name] = value\n",
    "        # exec('global {}'.format(name), globals())\n",
    "        # exec('{} = value'.format(name))\n",
    "\n",
    "# register callback\n",
    "if (set_globals not in get_ipython().events.callbacks['post_run_cell']):\n",
    "    get_ipython().events.register('post_execute', set_globals)\n",
    "\n",
    "# make and show widget\n",
    "task_view = task_manager.create_task_view(task_manager.tasks[0])\n",
    "task_view.createPanel()\n"
   ]
  },
  {
   "cell_type": "code",
   "execution_count": 1,
   "metadata": {
    "collapsed": false
   },
   "outputs": [],
   "source": [
    "# !AUTOEXEC\n",
    "from simplex.taskmanager import TaskManager\n",
    "import json, os\n",
    "\n",
    "# load wrapper\n",
    "config = json.loads('''{\n",
    "  \"version\": \"\",\n",
    "  \"library_path\": \"/home/cyborg/ccal/\",\n",
    "  \"tasks\": [\n",
    "    {\n",
    "      \"library_name\": \"ccal\",\n",
    "      \"label\": \"CCAL - Define Components\",\n",
    "      \"function_name\": \"define_components\",\n",
    "      \"required_args\": [\n",
    "        {\n",
    "          \"arg_name\": \"matrix\",\n",
    "          \"label\": \"Expression Matrix\",\n",
    "          \"description\": \"This is an argument description for Expression Matrix.\"\n",
    "        },\n",
    "        {\n",
    "          \"arg_name\": \"ks\",\n",
    "          \"label\": \"Numbers of Components\",\n",
    "          \"description\": \"This is an argument description for Number of Components.\"\n",
    "        }\n",
    "      ],\n",
    "      \"optional_args\": [ {\n",
    "        \"arg_name\": \"n_clusterings\",\n",
    "        \"label\": \"Number of Consensus Clusterings\",\n",
    "        \"description\": \"This is an argument description for Number of Consensus Clusterings.\"\n",
    "      }],\n",
    "      \"return_names\": [\n",
    "        {\n",
    "          \"label\": \"NMF Result Dictionary\",\n",
    "          \"description\": \"This is the description for the returned NMF Result Dictionary.\"\n",
    "        },\n",
    "        {\n",
    "          \"label\": \"Cophenetic Correlation Coefficients\",\n",
    "          \"description\": \"This is the description for the returned Cophentic Correlation Coefficients.\"\n",
    "        }\n",
    "      ]\n",
    "    }\n",
    "  ]\n",
    "}\n",
    "''')\n",
    "task_manager = TaskManager(config, globals(), locals(), os.getcwd())\n",
    "\n",
    "def set_globals():\n",
    "    for name, value in task_manager.output.items():\n",
    "        globals()[name] = value\n",
    "        # exec('global {}'.format(name), globals())\n",
    "        # exec('{} = value'.format(name))\n",
    "\n",
    "# register callback\n",
    "if (set_globals not in get_ipython().events.callbacks['post_run_cell']):\n",
    "    get_ipython().events.register('post_execute', set_globals)\n",
    "\n",
    "# make and show widget\n",
    "task_view = task_manager.create_task_view(task_manager.tasks[0])\n",
    "task_view.createPanel()\n"
   ]
  },
  {
   "cell_type": "code",
   "execution_count": null,
   "metadata": {
    "collapsed": true
   },
   "outputs": [],
   "source": [
    "path_to_include = '/Users/ckmah/Documents/simplex/simplex/static/simplex_library/ccal/'\n",
    "# path_to_include = '/home/cyborg/ccal'\n",
    "library_name = 'ccal'\n",
    "function_name = 'define_components'\n",
    "\n",
    "req_args = {'matrix': '/Users/ckmah/Documents/simplex/test_data/nmf_k9_h.gct',\n",
    "            'ks': '3,'}\n",
    "opt_args = {'n_clusterings': 3}\n",
    "return_names = ['nmf_results', 'ccc']"
   ]
  },
  {
   "cell_type": "code",
   "execution_count": null,
   "metadata": {
    "collapsed": false
   },
   "outputs": [],
   "source": [
    "def test():\n",
    "    simplex(path_to_include, library_name, function_name, req_args, opt_args, return_names)\n",
    "#     for n, r in zip(return_names, results):\n",
    "#         print(n, r)\n",
    "#         globals()[n] = r\n",
    "test()"
   ]
  },
  {
   "cell_type": "code",
   "execution_count": null,
   "metadata": {
    "collapsed": true
   },
   "outputs": [],
   "source": [
    "def postCallback():\n",
    "    print('hi')"
   ]
  },
  {
   "cell_type": "code",
   "execution_count": null,
   "metadata": {
    "collapsed": true
   },
   "outputs": [],
   "source": [
    "# REGISTER CALLBACK (python)\n",
    "get_ipython().events.unregister('post_run_cell', postCallback)\n",
    "\n",
    "# OR (javascript)\n",
    "Jupyter.notebook.kernel.execute(code, callback)"
   ]
  },
  {
   "cell_type": "code",
   "execution_count": null,
   "metadata": {
    "collapsed": false
   },
   "outputs": [],
   "source": [
    "# !AUTOEXEC\n",
    "from simplex.chain import Chain\n",
    "import json, os\n",
    "\n",
    "# load wrapper\n",
    "DIR_HOME = os.environ['HOME']\n",
    "DIR_SIMPLEX = os.path.join(DIR_HOME, '.simplex')\n",
    "if not os.path.isdir(DIR_SIMPLEX):\n",
    "    os.mkdir(DIR_SIMPLEX)\n",
    "json_filepath = os.path.join(DIR_SIMPLEX, 'ccal.simplex')\n",
    "with open(json_filepath, 'r') as f:\n",
    "    config = json.load(f)\n",
    "\n",
    "controller = Chain(config, globals(), locals(), os.getcwd())\n",
    "\n",
    "def set_globals():\n",
    "    for name, value in controller.output.items():\n",
    "        globals()[name] = value\n",
    "        # exec('global {}'.format(name), globals())\n",
    "        # exec('{} = value'.format(name))\n",
    "\n",
    "# register callback\n",
    "em = get_ipython().events\n",
    "if (set_globals not in em.callbacks['post_run_cell']):\n",
    "    em.register('post_run_cell', set_globals)\n",
    "\n",
    "# make and show widget\n",
    "beadview = controller.createBeadView(controller.beads[0])\n",
    "beadview.createPanel()\n"
   ]
  },
  {
   "cell_type": "code",
   "execution_count": null,
   "metadata": {
    "collapsed": false
   },
   "outputs": [],
   "source": [
    "ccc"
   ]
  },
  {
   "cell_type": "code",
   "execution_count": null,
   "metadata": {
    "collapsed": false
   },
   "outputs": [],
   "source": [
    "for name, value in controller.output.items():\n",
    "    exec('global {}'.format(name))\n",
    "    exec('{} = value'.format(name))"
   ]
  },
  {
   "cell_type": "markdown",
   "metadata": {},
   "source": [
    "# Automate updating variables from SimpleX's OUTPUT variable"
   ]
  },
  {
   "cell_type": "code",
   "execution_count": null,
   "metadata": {
    "collapsed": false
   },
   "outputs": [],
   "source": [
    "from IPython.core.events import EventManager, shell_initialized, available_events, post_execute"
   ]
  },
  {
   "cell_type": "code",
   "execution_count": null,
   "metadata": {
    "collapsed": true
   },
   "outputs": [],
   "source": []
  },
  {
   "cell_type": "code",
   "execution_count": null,
   "metadata": {
    "collapsed": true
   },
   "outputs": [],
   "source": []
  }
 ],
 "metadata": {
  "anaconda-cloud": {},
  "kernelspec": {
   "display_name": "Python 3",
   "language": "python",
   "name": "python3"
  },
  "language_info": {
   "codemirror_mode": {
    "name": "ipython",
    "version": 3
   },
   "file_extension": ".py",
   "mimetype": "text/x-python",
   "name": "python",
   "nbconvert_exporter": "python",
   "pygments_lexer": "ipython3",
   "version": "3.5.2"
  }
 },
 "nbformat": 4,
 "nbformat_minor": 1
}
