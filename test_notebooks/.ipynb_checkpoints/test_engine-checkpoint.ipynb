{
 "cells": [
  {
   "cell_type": "code",
   "execution_count": null,
   "metadata": {
    "collapsed": false
   },
   "outputs": [],
   "source": [
    "import os\n",
    "import sys\n",
    "sys.path.insert(0, '../simplex')\n",
    "\n",
    "from engine import *\n",
    "\n",
    "%load_ext autoreload\n",
    "%autoreload 2"
   ]
  },
  {
   "cell_type": "code",
   "execution_count": null,
   "metadata": {
    "collapsed": true
   },
   "outputs": [],
   "source": [
    "path_to_include = '/Users/ckmah/Documents/simplex/simplex/static/simplex_library/ccal/'\n",
    "# path_to_include = '/home/cyborg/ccal'\n",
    "library_name = 'ccal'\n",
    "function_name = 'define_components'\n",
    "\n",
    "req_args = {'matrix': '/Users/ckmah/Documents/simplex/test_data/nmf_k9_h.gct',\n",
    "            'ks': '3,'}\n",
    "opt_args = {'n_clusterings': 3}\n",
    "return_names = ['nmf_results', 'ccc']"
   ]
  },
  {
   "cell_type": "code",
   "execution_count": null,
   "metadata": {
    "collapsed": false
   },
   "outputs": [],
   "source": [
    "def test():\n",
    "    simplex(path_to_include, library_name, function_name, req_args, opt_args, return_names)\n",
    "#     for n, r in zip(return_names, results):\n",
    "#         print(n, r)\n",
    "#         globals()[n] = r\n",
    "test()"
   ]
  },
  {
   "cell_type": "code",
   "execution_count": 10,
   "metadata": {
    "collapsed": true
   },
   "outputs": [],
   "source": [
    "def postCallback():\n",
    "    print('hi')"
   ]
  },
  {
   "cell_type": "code",
   "execution_count": 29,
   "metadata": {
    "collapsed": true
   },
   "outputs": [
    {
     "ename": "ValueError",
     "evalue": "list.remove(x): x not in list",
     "output_type": "error",
     "traceback": [
      "\u001b[0;31m---------------------------------------------------------------------------\u001b[0m",
      "\u001b[0;31mValueError\u001b[0m                                Traceback (most recent call last)",
      "\u001b[0;32m<ipython-input-29-368d43b2680e>\u001b[0m in \u001b[0;36m<module>\u001b[0;34m()\u001b[0m\n\u001b[1;32m      1\u001b[0m \u001b[0;31m# GOLD\u001b[0m\u001b[0;34m\u001b[0m\u001b[0;34m\u001b[0m\u001b[0m\n\u001b[0;32m----> 2\u001b[0;31m \u001b[0mget_ipython\u001b[0m\u001b[0;34m(\u001b[0m\u001b[0;34m)\u001b[0m\u001b[0;34m.\u001b[0m\u001b[0mevents\u001b[0m\u001b[0;34m.\u001b[0m\u001b[0munregister\u001b[0m\u001b[0;34m(\u001b[0m\u001b[0;34m'post_run_cell'\u001b[0m\u001b[0;34m,\u001b[0m \u001b[0mpostCallback\u001b[0m\u001b[0;34m)\u001b[0m\u001b[0;34m\u001b[0m\u001b[0m\n\u001b[0m",
      "\u001b[0;32m/Users/ckmah/anaconda3/envs/simplex/lib/python3.5/site-packages/IPython/core/events.py\u001b[0m in \u001b[0;36munregister\u001b[0;34m(self, event, function)\u001b[0m\n\u001b[1;32m     62\u001b[0m     \u001b[0;32mdef\u001b[0m \u001b[0munregister\u001b[0m\u001b[0;34m(\u001b[0m\u001b[0mself\u001b[0m\u001b[0;34m,\u001b[0m \u001b[0mevent\u001b[0m\u001b[0;34m,\u001b[0m \u001b[0mfunction\u001b[0m\u001b[0;34m)\u001b[0m\u001b[0;34m:\u001b[0m\u001b[0;34m\u001b[0m\u001b[0m\n\u001b[1;32m     63\u001b[0m         \u001b[0;34m\"\"\"Remove a callback from the given event.\"\"\"\u001b[0m\u001b[0;34m\u001b[0m\u001b[0m\n\u001b[0;32m---> 64\u001b[0;31m         \u001b[0mself\u001b[0m\u001b[0;34m.\u001b[0m\u001b[0mcallbacks\u001b[0m\u001b[0;34m[\u001b[0m\u001b[0mevent\u001b[0m\u001b[0;34m]\u001b[0m\u001b[0;34m.\u001b[0m\u001b[0mremove\u001b[0m\u001b[0;34m(\u001b[0m\u001b[0mfunction\u001b[0m\u001b[0;34m)\u001b[0m\u001b[0;34m\u001b[0m\u001b[0m\n\u001b[0m\u001b[1;32m     65\u001b[0m \u001b[0;34m\u001b[0m\u001b[0m\n\u001b[1;32m     66\u001b[0m     \u001b[0;32mdef\u001b[0m \u001b[0mtrigger\u001b[0m\u001b[0;34m(\u001b[0m\u001b[0mself\u001b[0m\u001b[0;34m,\u001b[0m \u001b[0mevent\u001b[0m\u001b[0;34m,\u001b[0m \u001b[0;34m*\u001b[0m\u001b[0margs\u001b[0m\u001b[0;34m,\u001b[0m \u001b[0;34m**\u001b[0m\u001b[0mkwargs\u001b[0m\u001b[0;34m)\u001b[0m\u001b[0;34m:\u001b[0m\u001b[0;34m\u001b[0m\u001b[0m\n",
      "\u001b[0;31mValueError\u001b[0m: list.remove(x): x not in list"
     ]
    }
   ],
   "source": [
    "# REGISTER CALLBACK (python)\n",
    "get_ipython().events.unregister('post_run_cell', postCallback)\n",
    "\n",
    "# OR (javascript)\n",
    "Jupyter.notebook.kernel.execute(code, callback)"
   ]
  },
  {
   "cell_type": "code",
   "execution_count": 2,
   "metadata": {
    "collapsed": false
   },
   "outputs": [
    {
     "name": "stdout",
     "output_type": "stream",
     "text": [
      "{'matrix': '/Users/ckmah/Documents/simplex/test_data/nmf_k9_h.gct', 'ks': '3, 4'}\n",
      "{'n_clusterings': '3'}\n",
      "['nmf', 'ccc']\n",
      "define_components\n",
      "ccal\n",
      "/Users/ckmah/.simplex/ccal/\n",
      "From /Users/ckmah/.simplex/ccal/ importing define_components ...\n"
     ]
    },
    {
     "name": "stderr",
     "output_type": "stream",
     "text": [
      "/Users/ckmah/anaconda3/envs/simplex/lib/python3.5/site-packages/sklearn/cross_validation.py:44: DeprecationWarning: This module was deprecated in version 0.18 in favor of the model_selection module into which all the refactored classes and functions are moved. Also note that the interface of the new CV iterators are different from that of this module. This module will be removed in 0.20.\n",
      "  \"This module will be removed in 0.20.\", DeprecationWarning)\n"
     ]
    },
    {
     "name": "stdout",
     "output_type": "stream",
     "text": [
      "================================================================================\n",
      "================= Computational Cancer Analysis Library (CCAL) =================\n",
      "================================================================================\n",
      "Planted a random seed: 20121020.\n",
      "ARGS:  {'n_clusterings': 3, 'matrix': '/Users/ckmah/Documents/simplex/test_data/nmf_k9_h.gct', 'ks': [3, 4]}\n",
      "<144207> Computing cophenetic correlation coefficient of 3 NMF consensus clusterings ...\n",
      "<144207> Parallelizing ...\n",
      "<144207> NMF and scoring k=3 ...\n",
      "<144207> \t(k=3) NMF (0/3) ...\n",
      "<144208> \t\t(k=3) Saved the 1st NMF decomposition.\n",
      "<144208> \t(k=3) Making consensus matrix from 3 NMF ...\n",
      "<144209> NMF and scoring k=4 ...\n",
      "<144209> \t(k=4) NMF (0/3) ...\n",
      "<144209> \t\t(k=4) Saved the 1st NMF decomposition.\n",
      "<144209> \t(k=4) Making consensus matrix from 3 NMF ...\n",
      "<144211> Plotting NMF decompositions and cophenetic correlation coefficients ...\n",
      "<144211> \tPlotting k=3 ...\n",
      "<144217> \tPlotting k=4 ...\n"
     ]
    }
   ],
   "source": [
    "# !AUTOEXEC\n",
    "from simplex.chain import Chain\n",
    "import json, os\n",
    "\n",
    "# load wrapper\n",
    "DIR_HOME = os.environ['HOME']\n",
    "DIR_SIMPLEX = os.path.join(DIR_HOME, '.simplex')\n",
    "if not os.path.isdir(DIR_SIMPLEX):\n",
    "    os.mkdir(DIR_SIMPLEX)\n",
    "json_filepath = os.path.join(DIR_SIMPLEX, 'ccal.simplex')\n",
    "with open(json_filepath, 'r') as f:\n",
    "    config = json.load(f)\n",
    "\n",
    "controller = Chain(config, globals(), locals(), os.getcwd())\n",
    "\n",
    "def set_globals():\n",
    "    for name, value in controller.output.items():\n",
    "        exec('global {} = value').format(name, value)\n",
    "\n",
    "# register callback\n",
    "em = get_ipython().events\n",
    "if (set_globals not in em.callbacks['post_run_cell']):\n",
    "    em.register('post_run_cell', set_globals)\n",
    "\n",
    "# make and show widget\n",
    "beadview = controller.createBeadView(controller.beads[0])\n",
    "beadview.createPanel()\n"
   ]
  },
  {
   "cell_type": "code",
   "execution_count": 10,
   "metadata": {
    "collapsed": false
   },
   "outputs": [
    {
     "name": "stdout",
     "output_type": "stream",
     "text": [
      "ccc {3: 0.97332317092381904, 4: 0.96506422900710898}\n"
     ]
    },
    {
     "ename": "SyntaxError",
     "evalue": "invalid syntax (<string>, line 1)",
     "output_type": "error",
     "traceback": [
      "\u001b[0;36m  File \u001b[0;32m\"<string>\"\u001b[0;36m, line \u001b[0;32m1\u001b[0m\n\u001b[0;31m    global ccc = value\u001b[0m\n\u001b[0m               ^\u001b[0m\n\u001b[0;31mSyntaxError\u001b[0m\u001b[0;31m:\u001b[0m invalid syntax\n"
     ]
    },
    {
     "name": "stdout",
     "output_type": "stream",
     "text": [
      "Error in callback <function set_globals at 0x10654d598> (for post_run_cell):\n"
     ]
    },
    {
     "ename": "SyntaxError",
     "evalue": "invalid syntax (<string>, line 1)",
     "output_type": "error",
     "traceback": [
      "\u001b[0;36m  File \u001b[0;32m\"<string>\"\u001b[0;36m, line \u001b[0;32m1\u001b[0m\n\u001b[0;31m    global {} = value\u001b[0m\n\u001b[0m           ^\u001b[0m\n\u001b[0;31mSyntaxError\u001b[0m\u001b[0;31m:\u001b[0m invalid syntax\n"
     ]
    },
    {
     "name": "stdout",
     "output_type": "stream",
     "text": [
      "Error in callback <function set_globals at 0x106a8dd90> (for post_run_cell):\n"
     ]
    },
    {
     "ename": "SyntaxError",
     "evalue": "invalid syntax (<string>, line 1)",
     "output_type": "error",
     "traceback": [
      "\u001b[0;36m  File \u001b[0;32m\"<string>\"\u001b[0;36m, line \u001b[0;32m1\u001b[0m\n\u001b[0;31m    global {} = value\u001b[0m\n\u001b[0m           ^\u001b[0m\n\u001b[0;31mSyntaxError\u001b[0m\u001b[0;31m:\u001b[0m invalid syntax\n"
     ]
    }
   ],
   "source": [
    "for name, value in controller.output.items():\n",
    "    print(name, value)\n",
    "    exec('global {}'.format(name))\n",
    "    exec('{} = value'.format(name))"
   ]
  },
  {
   "cell_type": "code",
   "execution_count": null,
   "metadata": {
    "collapsed": true
   },
   "outputs": [],
   "source": []
  }
 ],
 "metadata": {
  "anaconda-cloud": {},
  "kernelspec": {
   "display_name": "Python 3",
   "language": "python",
   "name": "python3"
  },
  "language_info": {
   "codemirror_mode": {
    "name": "ipython",
    "version": 3
   },
   "file_extension": ".py",
   "mimetype": "text/x-python",
   "name": "python",
   "nbconvert_exporter": "python",
   "pygments_lexer": "ipython3",
   "version": "3.5.2"
  },
  "widgets": {
   "state": {
    "6b30236e64c14e9896f056e0a32f81d9": {
     "views": [
      {
       "cell_index": 5
      }
     ]
    }
   },
   "version": "1.2.0"
  }
 },
 "nbformat": 4,
 "nbformat_minor": 1
}
