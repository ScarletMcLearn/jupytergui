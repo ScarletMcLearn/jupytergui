{
 "cells": [
  {
   "cell_type": "code",
   "execution_count": 1,
   "metadata": {
    "collapsed": false
   },
   "outputs": [],
   "source": [
    "# !AUTOEXEC\n",
    "# Make and show widget\n",
    "task_view = task_manager.create_task_view(json.loads('''{\"library_name\":\"ccal\",\"label\":\"Define Components\",\"description\":\"Lorem ipsum dolor sit amet, consectetur adipisicing elit. Eos, eligendi? Eaque modi reprehenderit sequi, nulla amet magni inventore id fugit laborum ducimus nam, tempora incidunt quos, sapiente labore ratione adipisci.\",\"function_name\":\"define_components\",\"required_args\":[{\"arg_name\":\"matrix\",\"label\":\"Expression Matrix\",\"description\":\"This is an argument description for Expression Matrix.\"},{\"arg_name\":\"ks\",\"label\":\"Numbers of Components\",\"description\":\"This is an argument description for Number of Components.\"}],\"optional_args\":[{\"arg_name\":\"n_clusterings\",\"label\":\"Number of Consensus Clusterings\",\"description\":\"This is an argument description for Number of Consensus Clusterings.\"}],\"return_names\":[{\"label\":\"NMF Result Dictionary\",\"description\":\"This is the description for the returned NMF Result Dictionary.\"},{\"label\":\"Cophenetic Correlation Coefficients\",\"description\":\"This is the description for the returned Cophentic Correlation Coefficients.\"}],\"library_path\":\"/Users/ckmah/ccal/\"}'''))\n",
    "task_view.create()\n",
    "      "
   ]
  },
  {
   "cell_type": "code",
   "execution_count": 6,
   "metadata": {
    "collapsed": false
   },
   "outputs": [],
   "source": [
    "def a():\n",
    "    a = 1\n",
    "    return a"
   ]
  },
  {
   "cell_type": "code",
   "execution_count": 13,
   "metadata": {
    "collapsed": false
   },
   "outputs": [
    {
     "data": {
      "text/html": [
       "\n",
       "<div style=\"background-color:gainsboro; border:solid black; width:600px; padding:20px;\">\n",
       "Code: <input type=\"text\" id=\"code_input\" size=\"50\" height=\"2\" value=\"sin(pi / 2)\"><br>\n",
       "Result: <input type=\"text\" id=\"result_output\" size=\"50\" value=\"1.0\"><br>\n",
       "<button onclick=\"exec_code()\">Execute</button>\n",
       "</div>\n",
       "\n",
       "<script type=\"text/Javascript\">\n",
       "    function handle_output(out){\n",
       "        console.log(out_type);\n",
       "        console.log(out);\n",
       "        var res = null;\n",
       "         // if output is a print statement\n",
       "        if(out_type == \"stream\"){\n",
       "            res = out.data;\n",
       "        }\n",
       "        // if output is a python object\n",
       "        else if(out_type === \"pyout\"){\n",
       "            res = out.data[\"text/plain\"];\n",
       "        }\n",
       "        // if output is a python error\n",
       "        else if(out_type == \"pyerr\"){\n",
       "            res = out.ename + \": \" + out.evalue;\n",
       "        }\n",
       "        // if output is something we haven't thought of\n",
       "        else{\n",
       "            res = \"[out type not implemented]\";   \n",
       "        }\n",
       "        document.getElementById(\"result_output\").value = res;\n",
       "    }\n",
       "    \n",
       "    function exec_code(){\n",
       "        var code_input = document.getElementById('code_input').value;\n",
       "        var kernel = IPython.notebook.kernel;\n",
       "        var callbacks = { 'iopub' : {'output' : handle_output}};\n",
       "        document.getElementById(\"result_output\").value = \"\";  // clear output box\n",
       "        var msg_id = kernel.execute(code_input, callbacks, {silent:false});\n",
       "        console.log(\"button pressed\");\n",
       "    }\n"
      ],
      "text/plain": [
       "<IPython.core.display.HTML object>"
      ]
     },
     "execution_count": 13,
     "metadata": {},
     "output_type": "execute_result"
    }
   ],
   "source": [
    "from math import pi, sin\n",
    "\n",
    "# Add an input form similar to what we saw above\n",
    "input_form = \"\"\"\n",
    "<div style=\"background-color:gainsboro; border:solid black; width:600px; padding:20px;\">\n",
    "Code: <input type=\"text\" id=\"code_input\" size=\"50\" height=\"2\" value=\"sin(pi / 2)\"><br>\n",
    "Result: <input type=\"text\" id=\"result_output\" size=\"50\" value=\"1.0\"><br>\n",
    "<button onclick=\"exec_code()\">Execute</button>\n",
    "</div>\n",
    "\"\"\"\n",
    "\n",
    "# here the javascript has a function to execute the code\n",
    "# within the input box, and a callback to handle the output.\n",
    "javascript = \"\"\"\n",
    "<script type=\"text/Javascript\">\n",
    "   function handle_output(out){\n",
    "//       console.log(out_type);\n",
    "       console.log(out);\n",
    "       var res = null;\n",
    "        // if output is a print statement\n",
    "       if(out.msg_type == \"stream\"){\n",
    "           res = out.content.data;\n",
    "       }\n",
    "       // if output is a python object\n",
    "       else if(out.msg_type === \"execute_result\"){\n",
    "           res = out.content.data[\"text/plain\"];\n",
    "       }\n",
    "       // if output is a python error\n",
    "       else if(out.msg_type == \"pyerr\"){\n",
    "           res = out.content.ename + \": \" + out.content.evalue;\n",
    "       }\n",
    "       // if output is something we haven't thought of\n",
    "       else{\n",
    "           res = \"[out type not implemented]\";  \n",
    "       }\n",
    "       document.getElementById(\"result_output\").value = res;\n",
    "   }\n",
    "   \n",
    "   function exec_code(){\n",
    "       var code_input = document.getElementById('code_input').value;\n",
    "       var kernel = IPython.notebook.kernel;\n",
    "       var callbacks = { 'iopub' : {'output' : handle_output}};\n",
    "       document.getElementById(\"result_output\").value = \"\";  // clear output box\n",
    "       var msg_id = kernel.execute(code_input, callbacks, {silent:false});\n",
    "       console.log(\"button pressed\");\n",
    "       // IPython.notebook.clear_output();\n",
    "   }\n",
    "</script>\n",
    "\n",
    "\n",
    "HTML(input_form + javascript)"
   ]
  },
  {
   "cell_type": "code",
   "execution_count": 10,
   "metadata": {
    "collapsed": false
   },
   "outputs": [
    {
     "data": {
      "application/javascript": [
       "var kernel = IPython.notebook.kernel;\n",
       "function callback(out_type, out_data){\n",
       "    console.log('out_type');\n",
       "}\n",
       "kernel.execute('a()', {\"output\": callback});"
      ],
      "text/plain": [
       "<IPython.core.display.Javascript object>"
      ]
     },
     "metadata": {},
     "output_type": "display_data"
    }
   ],
   "source": [
    "%%javascript \n",
    "var kernel = IPython.notebook.kernel;\n",
    "function callback(out_type, out_data){\n",
    "    console.log('out_type');\n",
    "}\n",
    "kernel.execute('a()', {\"output\": callback});"
   ]
  }
 ],
 "metadata": {
  "anaconda-cloud": {},
  "kernelspec": {
   "display_name": "Python [default]",
   "language": "python",
   "name": "python3"
  },
  "language_info": {
   "codemirror_mode": {
    "name": "ipython",
    "version": 3
   },
   "file_extension": ".py",
   "mimetype": "text/x-python",
   "name": "python",
   "nbconvert_exporter": "python",
   "pygments_lexer": "ipython3",
   "version": "3.5.2"
  },
  "widgets": {
   "state": {
    "b5e01fdacf7545a48d4de4a5b50c31be": {
     "views": [
      {
       "cell_index": 0
      }
     ]
    }
   },
   "version": "1.2.0"
  }
 },
 "nbformat": 4,
 "nbformat_minor": 1
}
