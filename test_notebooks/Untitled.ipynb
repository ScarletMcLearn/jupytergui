{
 "cells": [
  {
   "cell_type": "code",
   "execution_count": 1,
   "metadata": {
    "collapsed": false
   },
   "outputs": [
    {
     "name": "stderr",
     "output_type": "stream",
     "text": [
      "ERROR:root:An unexpected error occurred while tokenizing input\n",
      "The following traceback may be corrupted or invalid\n",
      "The error message is: ('EOF in multi-line string', (1, 1))\n",
      "\n"
     ]
    },
    {
     "ename": "AttributeError",
     "evalue": "'str' object has no attribute 'read'",
     "output_type": "error",
     "traceback": [
      "\u001b[0;31m---------------------------------------------------------------------------\u001b[0m",
      "\u001b[0;31mAttributeError\u001b[0m                            Traceback (most recent call last)",
      "\u001b[0;32m<ipython-input-1-4f6ceabc68db>\u001b[0m in \u001b[0;36m<module>\u001b[0;34m()\u001b[0m\n\u001b[1;32m     42\u001b[0m     }\n\u001b[1;32m     43\u001b[0m   ]\n\u001b[0;32m---> 44\u001b[0;31m }''')\n\u001b[0m\u001b[1;32m     45\u001b[0m \u001b[0mprint\u001b[0m\u001b[0;34m(\u001b[0m\u001b[0mconfig\u001b[0m\u001b[0;34m)\u001b[0m\u001b[0;34m\u001b[0m\u001b[0m\n\u001b[1;32m     46\u001b[0m \u001b[0mtask_manager\u001b[0m \u001b[0;34m=\u001b[0m \u001b[0mTaskManager\u001b[0m\u001b[0;34m(\u001b[0m\u001b[0mconfig\u001b[0m\u001b[0;34m,\u001b[0m \u001b[0mglobals\u001b[0m\u001b[0;34m(\u001b[0m\u001b[0;34m)\u001b[0m\u001b[0;34m,\u001b[0m \u001b[0mlocals\u001b[0m\u001b[0;34m(\u001b[0m\u001b[0;34m)\u001b[0m\u001b[0;34m,\u001b[0m \u001b[0mos\u001b[0m\u001b[0;34m.\u001b[0m\u001b[0mgetcwd\u001b[0m\u001b[0;34m(\u001b[0m\u001b[0;34m)\u001b[0m\u001b[0;34m)\u001b[0m\u001b[0;34m\u001b[0m\u001b[0m\n",
      "\u001b[0;32m/Users/ckmah/anaconda3/envs/simplex/lib/python3.5/json/__init__.py\u001b[0m in \u001b[0;36mload\u001b[0;34m(fp, cls, object_hook, parse_float, parse_int, parse_constant, object_pairs_hook, **kw)\u001b[0m\n\u001b[1;32m    263\u001b[0m \u001b[0;34m\u001b[0m\u001b[0m\n\u001b[1;32m    264\u001b[0m     \"\"\"\n\u001b[0;32m--> 265\u001b[0;31m     return loads(fp.read(),\n\u001b[0m\u001b[1;32m    266\u001b[0m         \u001b[0mcls\u001b[0m\u001b[0;34m=\u001b[0m\u001b[0mcls\u001b[0m\u001b[0;34m,\u001b[0m \u001b[0mobject_hook\u001b[0m\u001b[0;34m=\u001b[0m\u001b[0mobject_hook\u001b[0m\u001b[0;34m,\u001b[0m\u001b[0;34m\u001b[0m\u001b[0m\n\u001b[1;32m    267\u001b[0m         \u001b[0mparse_float\u001b[0m\u001b[0;34m=\u001b[0m\u001b[0mparse_float\u001b[0m\u001b[0;34m,\u001b[0m \u001b[0mparse_int\u001b[0m\u001b[0;34m=\u001b[0m\u001b[0mparse_int\u001b[0m\u001b[0;34m,\u001b[0m\u001b[0;34m\u001b[0m\u001b[0m\n",
      "\u001b[0;31mAttributeError\u001b[0m: 'str' object has no attribute 'read'"
     ]
    }
   ],
   "source": [
    "# !AUTOEXEC\n",
    "from simplex.taskmanager import TaskManager\n",
    "import json, os\n",
    "\n",
    "# load wrapper\n",
    "config = json.load('''{\n",
    "  \"version\": \"\",\n",
    "  \"library_path\": \"/Users/ckmah/Documents/simplex/simplex/static/simplex_library/ccal/\",\n",
    "  \"tasks\": [\n",
    "    {\n",
    "      \"library_name\": \"ccal\",\n",
    "      \"label\": \"Define Components\",\n",
    "      \"function_name\": \"define_components\",\n",
    "      \"description\": \"This is the description for the define components method from the CCAL package.\",\n",
    "      \"required_args\": [\n",
    "        {\n",
    "          \"arg_name\": \"matrix\",\n",
    "          \"label\": \"Expression Matrix\",\n",
    "          \"description\": \"This is an argument description for Expression Matrix.\"\n",
    "        },\n",
    "        {\n",
    "          \"arg_name\": \"ks\",\n",
    "          \"label\": \"Numbers of Components\",\n",
    "          \"description\": \"This is an argument description for Number of Components.\"\n",
    "        }\n",
    "      ],\n",
    "      \"optional_args\": [ {\n",
    "        \"arg_name\": \"n_clusterings\",\n",
    "        \"label\": \"Number of Consensus Clusterings\",\n",
    "        \"description\": \"This is an argument description for Number of Consensus Clusterings.\"\n",
    "      }],\n",
    "      \"return_names\": [\n",
    "        {\n",
    "          \"label\": \"NMF Result Dictionary\",\n",
    "          \"description\": \"This is the description for the returned NMF Result Dictionary.\"\n",
    "        },\n",
    "        {\n",
    "          \"label\": \"Cophenetic Correlation Coefficients\",\n",
    "          \"description\": \"This is the description for the returned Cophentic Correlation Coefficients.\"\n",
    "        }\n",
    "      ]\n",
    "    }\n",
    "  ]\n",
    "}''')\n",
    "print(config)\n",
    "task_manager = TaskManager(config, globals(), locals(), os.getcwd())\n",
    "\n",
    "def set_globals():\n",
    "    for name, value in task_manager.output.items():\n",
    "        globals()[name] = value\n",
    "        # exec('global {}'.format(name), globals())\n",
    "        # exec('{} = value'.format(name))\n",
    "\n",
    "# register callback\n",
    "if (set_globals not in get_ipython().events.callbacks['post_run_cell']):\n",
    "    get_ipython().events.register('post_execute', set_globals)\n",
    "\n",
    "# make and show widget\n",
    "task_view = task_manager.create_task_view(task_manager.tasks[0])\n",
    "task_view.createPanel()\n"
   ]
  },
  {
   "cell_type": "code",
   "execution_count": 2,
   "metadata": {
    "collapsed": false
   },
   "outputs": [],
   "source": [
    "import json"
   ]
  },
  {
   "cell_type": "code",
   "execution_count": 4,
   "metadata": {
    "collapsed": false
   },
   "outputs": [
    {
     "name": "stderr",
     "output_type": "stream",
     "text": [
      "ERROR:root:An unexpected error occurred while tokenizing input\n",
      "The following traceback may be corrupted or invalid\n",
      "The error message is: ('EOF in multi-line string', (1, 0))\n",
      "\n"
     ]
    },
    {
     "ename": "AttributeError",
     "evalue": "'str' object has no attribute 'read'",
     "output_type": "error",
     "traceback": [
      "\u001b[0;31m---------------------------------------------------------------------------\u001b[0m",
      "\u001b[0;31mAttributeError\u001b[0m                            Traceback (most recent call last)",
      "\u001b[0;32m<ipython-input-4-c02fe1e87acc>\u001b[0m in \u001b[0;36m<module>\u001b[0;34m()\u001b[0m\n\u001b[1;32m      3\u001b[0m \u001b[0;34m\"b\"\u001b[0m\u001b[0;34m:\u001b[0m\u001b[0;36m2\u001b[0m\u001b[0;34m\u001b[0m\u001b[0m\n\u001b[1;32m      4\u001b[0m }\n\u001b[0;32m----> 5\u001b[0;31m ''')\n\u001b[0m",
      "\u001b[0;32m/Users/ckmah/anaconda3/envs/simplex/lib/python3.5/json/__init__.py\u001b[0m in \u001b[0;36mload\u001b[0;34m(fp, cls, object_hook, parse_float, parse_int, parse_constant, object_pairs_hook, **kw)\u001b[0m\n\u001b[1;32m    263\u001b[0m \u001b[0;34m\u001b[0m\u001b[0m\n\u001b[1;32m    264\u001b[0m     \"\"\"\n\u001b[0;32m--> 265\u001b[0;31m     return loads(fp.read(),\n\u001b[0m\u001b[1;32m    266\u001b[0m         \u001b[0mcls\u001b[0m\u001b[0;34m=\u001b[0m\u001b[0mcls\u001b[0m\u001b[0;34m,\u001b[0m \u001b[0mobject_hook\u001b[0m\u001b[0;34m=\u001b[0m\u001b[0mobject_hook\u001b[0m\u001b[0;34m,\u001b[0m\u001b[0;34m\u001b[0m\u001b[0m\n\u001b[1;32m    267\u001b[0m         \u001b[0mparse_float\u001b[0m\u001b[0;34m=\u001b[0m\u001b[0mparse_float\u001b[0m\u001b[0;34m,\u001b[0m \u001b[0mparse_int\u001b[0m\u001b[0;34m=\u001b[0m\u001b[0mparse_int\u001b[0m\u001b[0;34m,\u001b[0m\u001b[0;34m\u001b[0m\u001b[0m\n",
      "\u001b[0;31mAttributeError\u001b[0m: 'str' object has no attribute 'read'"
     ]
    }
   ],
   "source": [
    "json.load('''{\n",
    "\"a\":\"1\",\n",
    "\"b\":\"2\"\n",
    "}\n",
    "''')"
   ]
  }
 ],
 "metadata": {
  "anaconda-cloud": {},
  "kernelspec": {
   "display_name": "Python 3",
   "language": "python",
   "name": "python3"
  },
  "language_info": {
   "codemirror_mode": {
    "name": "ipython",
    "version": 3
   },
   "file_extension": ".py",
   "mimetype": "text/x-python",
   "name": "python",
   "nbconvert_exporter": "python",
   "pygments_lexer": "ipython3",
   "version": "3.5.2"
  }
 },
 "nbformat": 4,
 "nbformat_minor": 1
}
