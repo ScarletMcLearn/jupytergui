{
 "cells": [
  {
   "cell_type": "code",
   "execution_count": 1,
   "metadata": {
    "collapsed": true
   },
   "outputs": [],
   "source": [
    "# !AUTOEXEC\n",
    "from simplex.chain import Chain\n",
    "import json, os\n",
    "\n",
    "# load wrapper\n",
    "DIR_HOME = os.environ['HOME']\n",
    "DIR_SIMPLEX = os.path.join(DIR_HOME, '.simplex')\n",
    "if not os.path.isdir(DIR_SIMPLEX):\n",
    "    os.mkdir(DIR_SIMPLEX)\n",
    "json_filepath = os.path.join(DIR_SIMPLEX, 'ccal.simplex')\n",
    "with open(json_filepath, 'r') as f:\n",
    "    config = json.load(f)\n",
    "\n",
    "controller = Chain(config, globals(), locals(), os.getcwd())\n",
    "beadview = controller.createBeadView(controller.beads[0])\n",
    "beadview.createPanel()\n"
   ]
  },
  {
   "cell_type": "code",
   "execution_count": null,
   "metadata": {
    "collapsed": true
   },
   "outputs": [],
   "source": []
  },
  {
   "cell_type": "code",
   "execution_count": null,
   "metadata": {
    "collapsed": true
   },
   "outputs": [],
   "source": []
  },
  {
   "cell_type": "code",
   "execution_count": null,
   "metadata": {
    "collapsed": true
   },
   "outputs": [],
   "source": []
  },
  {
   "cell_type": "code",
   "execution_count": null,
   "metadata": {
    "collapsed": true
   },
   "outputs": [],
   "source": []
  },
  {
   "cell_type": "code",
   "execution_count": null,
   "metadata": {
    "collapsed": true
   },
   "outputs": [],
   "source": []
  },
  {
   "cell_type": "code",
   "execution_count": null,
   "metadata": {
    "collapsed": true
   },
   "outputs": [],
   "source": []
  }
 ],
 "metadata": {
  "anaconda-cloud": {},
  "kernelspec": {
   "display_name": "Python [default]",
   "language": "python",
   "name": "python3"
  },
  "language_info": {
   "codemirror_mode": {
    "name": "ipython",
    "version": 3
   },
   "file_extension": ".py",
   "mimetype": "text/x-python",
   "name": "python",
   "nbconvert_exporter": "python",
   "pygments_lexer": "ipython3",
   "version": "3.5.2"
  },
  "widgets": {
   "state": {
    "95ca63fd19554bf79ee845de1b7f3aff": {
     "views": [
      {
       "cell_index": 0
      }
     ]
    }
   },
   "version": "1.2.0"
  }
 },
 "nbformat": 4,
 "nbformat_minor": 1
}
