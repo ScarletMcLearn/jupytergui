{
 "cells": [
  {
   "cell_type": "code",
   "execution_count": 3,
   "metadata": {
    "collapsed": true
   },
   "outputs": [],
   "source": [
    "# !AUTOEXEC\n",
    "# Make and show widget\n",
    "task_view = task_manager.create_task_view(json.loads('''{\"required_args\":[{\"arg_name\":\"chromosome\",\"value\":\"\",\"label\":\"Chromosome\",\"description\":\"No description.\"},{\"arg_name\":\"start\",\"value\":\"\",\"label\":\"Starting genomic position\",\"description\":\"No description.\"},{\"arg_name\":\"end\",\"value\":\"\",\"label\":\"Ending genomic position\",\"description\":\"No description.\"}],\"description\":\"\",\"return_names\":[{\"label\":\"Genomic sequence\",\"description\":\"No description.\"}],\"library_path\":\"/Users/ckmah/simplex/simplex_data/genome_explorer/\",\"default_args\":[{\"arg_name\":\"species\",\"value\":\"\",\"label\":\"species\",\"description\":\"No description.\"}],\"function_name\":\"explore_species_genome\",\"optional_args\":[],\"library_name\":\"genome_explorer\",\"label\":\"Explore Human Genome\"}'''))\n",
    "task_view.create()\n",
    "      "
   ]
  },
  {
   "cell_type": "code",
   "execution_count": 1,
   "metadata": {
    "collapsed": true
   },
   "outputs": [],
   "source": [
    "# !AUTOEXEC\n",
    "# Make and show widget\n",
    "task_view = task_manager.create_task_view(json.loads('''{\"default_args\":[{\"arg_name\":\"species\",\"description\":\"No description.\",\"label\":\"species\",\"value\":\"\"}],\"description\":\"\",\"function_name\":\"explore_species_genome\",\"library_name\":\"genome_explorer\",\"library_path\":\"/Users/ckmah/simplex/simplex_data/genome_explorer/\",\"optional_args\":[],\"required_args\":[{\"arg_name\":\"chromosome\",\"description\":\"No description.\",\"label\":\"Chromosome\",\"value\":\"\"},{\"arg_name\":\"start\",\"description\":\"No description.\",\"label\":\"Starting genomic position\",\"value\":\"\"},{\"arg_name\":\"end\",\"description\":\"No description.\",\"label\":\"Ending genomic position\",\"value\":\"\"}],\"return_names\":[{\"description\":\"No description.\",\"label\":\"Genomic sequence\"}],\"label\":\"Explore Human Genome\"}'''))\n",
    "task_view.create()\n",
    "      "
   ]
  },
  {
   "cell_type": "code",
   "execution_count": 2,
   "metadata": {
    "collapsed": false
   },
   "outputs": [],
   "source": [
    "# !AUTOEXEC\n",
    "# Make and show widget\n",
    "task_view = task_manager.create_task_view(json.loads('''{\"default_args\":[{\"arg_name\":\"species\",\"description\":\"No description.\",\"label\":\"species\",\"value\":\"\"}],\"description\":\"\",\"function_name\":\"load_genomic_filepath\",\"library_name\":\"genome_explorer\",\"library_path\":\"/Users/ckmah/simplex/simplex_data/genome_explorer/\",\"optional_args\":[],\"required_args\":[{\"arg_name\":\"filepath\",\"description\":\"No description.\",\"label\":\"File Path to a Genome File (.fasta, .fa, or a their compressed form).\",\"value\":\"\"}],\"return_names\":[],\"label\":\"Load Human Genome\"}'''))\n",
    "task_view.create()\n",
    "      "
   ]
  },
  {
   "cell_type": "code",
   "execution_count": 6,
   "metadata": {
    "collapsed": false
   },
   "outputs": [],
   "source": [
    "def a():\n",
    "    a = 1\n",
    "    return a"
   ]
  },
  {
   "cell_type": "code",
   "execution_count": 15,
   "metadata": {
    "collapsed": false
   },
   "outputs": [
    {
     "data": {
      "text/html": [
       "\n",
       "<div style=\"background-color:gainsboro; border:solid black; width:600px; padding:20px;\">\n",
       "Code: <input type=\"text\" id=\"code_input\" size=\"50\" height=\"2\" value=\"sin(pi / 2)\"><br>\n",
       "Result: <input type=\"text\" id=\"result_output\" size=\"50\" value=\"1.0\"><br>\n",
       "<button onclick=\"exec_code()\">Execute</button>\n",
       "</div>\n",
       "\n",
       "<script type=\"text/Javascript\">\n",
       "   function handle_output(out){\n",
       "//       console.log(out_type);\n",
       "       console.log(out);\n",
       "       var res = null;\n",
       "        // if output is a print statement\n",
       "       if(out.msg_type == \"stream\"){\n",
       "           res = out.content.data;\n",
       "       }\n",
       "       // if output is a python object\n",
       "       else if(out.msg_type === \"execute_result\"){\n",
       "           res = out.content.data[\"text/plain\"];\n",
       "       }\n",
       "       // if output is a python error\n",
       "       else if(out.msg_type == \"pyerr\"){\n",
       "           res = out.content.ename + \": \" + out.content.evalue;\n",
       "       }\n",
       "       // if output is something we haven't thought of\n",
       "       else{\n",
       "           res = \"[out type not implemented]\";  \n",
       "       }\n",
       "       document.getElementById(\"result_output\").value = res;\n",
       "   }\n",
       "   \n",
       "   function exec_code(){\n",
       "       var code_input = document.getElementById('code_input').value;\n",
       "       var kernel = IPython.notebook.kernel;\n",
       "       var callbacks = { 'iopub' : {'output' : handle_output}};\n",
       "       document.getElementById(\"result_output\").value = \"\";  // clear output box\n",
       "       var msg_id = kernel.execute(code_input, callbacks, {silent:false});\n",
       "       console.log(\"button pressed\");\n",
       "       // IPython.notebook.clear_output();\n",
       "   }\n",
       "</script>\n"
      ],
      "text/plain": [
       "<IPython.core.display.HTML object>"
      ]
     },
     "execution_count": 15,
     "metadata": {},
     "output_type": "execute_result"
    }
   ],
   "source": [
    "from math import pi, sin\n",
    "\n",
    "# Add an input form similar to what we saw above\n",
    "input_form = \"\"\"\n",
    "<div style=\"background-color:gainsboro; border:solid black; width:600px; padding:20px;\">\n",
    "Code: <input type=\"text\" id=\"code_input\" size=\"50\" height=\"2\" value=\"sin(pi / 2)\"><br>\n",
    "Result: <input type=\"text\" id=\"result_output\" size=\"50\" value=\"1.0\"><br>\n",
    "<button onclick=\"exec_code()\">Execute</button>\n",
    "</div>\n",
    "\"\"\"\n",
    "\n",
    "# here the javascript has a function to execute the code\n",
    "# within the input box, and a callback to handle the output.\n",
    "javascript = \"\"\"\n",
    "<script type=\"text/Javascript\">\n",
    "   function handle_output(out){\n",
    "//       console.log(out_type);\n",
    "       console.log(out);\n",
    "       var res = null;\n",
    "        // if output is a print statement\n",
    "       if(out.msg_type == \"stream\"){\n",
    "           res = out.content.data;\n",
    "       }\n",
    "       // if output is a python object\n",
    "       else if(out.msg_type === \"execute_result\"){\n",
    "           res = out.content.data[\"text/plain\"];\n",
    "       }\n",
    "       // if output is a python error\n",
    "       else if(out.msg_type == \"pyerr\"){\n",
    "           res = out.content.ename + \": \" + out.content.evalue;\n",
    "       }\n",
    "       // if output is something we haven't thought of\n",
    "       else{\n",
    "           res = \"[out type not implemented]\";  \n",
    "       }\n",
    "       document.getElementById(\"result_output\").value = res;\n",
    "   }\n",
    "   \n",
    "   function exec_code(){\n",
    "       var code_input = document.getElementById('code_input').value;\n",
    "       var kernel = IPython.notebook.kernel;\n",
    "       var callbacks = { 'iopub' : {'output' : handle_output}};\n",
    "       document.getElementById(\"result_output\").value = \"\";  // clear output box\n",
    "       var msg_id = kernel.execute(code_input, callbacks, {silent:false});\n",
    "       console.log(\"button pressed\");\n",
    "       // IPython.notebook.clear_output();\n",
    "   }\n",
    "</script>\n",
    "\"\"\"\n",
    "\n",
    "\n",
    "HTML(input_form + javascript)"
   ]
  },
  {
   "cell_type": "code",
   "execution_count": 10,
   "metadata": {
    "collapsed": false
   },
   "outputs": [
    {
     "data": {
      "application/javascript": [
       "var kernel = IPython.notebook.kernel;\n",
       "function callback(out_type, out_data){\n",
       "    console.log('out_type');\n",
       "}\n",
       "kernel.execute('a()', {\"output\": callback});"
      ],
      "text/plain": [
       "<IPython.core.display.Javascript object>"
      ]
     },
     "metadata": {},
     "output_type": "display_data"
    }
   ],
   "source": [
    "%%javascript \n",
    "var kernel = IPython.notebook.kernel;\n",
    "function callback(out_type, out_data){\n",
    "    console.log('out_type');\n",
    "}\n",
    "kernel.execute('a()', {\"output\": callback});"
   ]
  }
 ],
 "metadata": {
  "anaconda-cloud": {},
  "kernelspec": {
   "display_name": "Python 3",
   "language": "python",
   "name": "python3"
  },
  "language_info": {
   "codemirror_mode": {
    "name": "ipython",
    "version": 3
   },
   "file_extension": ".py",
   "mimetype": "text/x-python",
   "name": "python",
   "nbconvert_exporter": "python",
   "pygments_lexer": "ipython3",
   "version": "3.5.2"
  },
  "widgets": {
   "state": {
    "5f38e7c239ee4109aa43f7dca46b36e5": {
     "views": [
      {
       "cell_index": 2
      }
     ]
    },
    "b7a960fa0645433fa67852fb09ddb987": {
     "views": [
      {
       "cell_index": 0
      }
     ]
    },
    "f3eee3e44b034089a9fb83bf5b35a212": {
     "views": [
      {
       "cell_index": 1
      }
     ]
    }
   },
   "version": "1.2.0"
  }
 },
 "nbformat": 4,
 "nbformat_minor": 1
}
