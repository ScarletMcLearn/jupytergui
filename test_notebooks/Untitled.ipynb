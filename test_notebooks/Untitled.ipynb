{
 "cells": [
  {
   "cell_type": "code",
   "execution_count": 5,
   "metadata": {
    "collapsed": true
   },
   "outputs": [],
   "source": [
    "from IPython import display\n",
    "display."
   ]
  },
  {
   "cell_type": "code",
   "execution_count": 1,
   "metadata": {
    "collapsed": false
   },
   "outputs": [
    {
     "name": "stdout",
     "output_type": "stream",
     "text": [
      "From genome_explorer importing load_genomic_filepath ...\n"
     ]
    },
    {
     "ename": "ImportError",
     "evalue": "No module named 'genome_explorer'",
     "output_type": "error",
     "traceback": [
      "\u001b[0;31m---------------------------------------------------------------------------\u001b[0m",
      "\u001b[0;31mImportError\u001b[0m                               Traceback (most recent call last)",
      "\u001b[0;32m/Users/ckmah/simplex/simplex/taskview.py\u001b[0m in \u001b[0;36mcallback\u001b[0;34m(self, unused_widget_item)\u001b[0m\n\u001b[1;32m     21\u001b[0m     \u001b[0;31m# TODO: test\u001b[0m\u001b[0;34m\u001b[0m\u001b[0;34m\u001b[0m\u001b[0m\n\u001b[1;32m     22\u001b[0m     \u001b[0;32mdef\u001b[0m \u001b[0mcallback\u001b[0m\u001b[0;34m(\u001b[0m\u001b[0mself\u001b[0m\u001b[0;34m,\u001b[0m \u001b[0munused_widget_item\u001b[0m\u001b[0;34m)\u001b[0m\u001b[0;34m:\u001b[0m\u001b[0;34m\u001b[0m\u001b[0m\n\u001b[0;32m---> 23\u001b[0;31m         \u001b[0mself\u001b[0m\u001b[0;34m.\u001b[0m\u001b[0mtask_manager\u001b[0m\u001b[0;34m.\u001b[0m\u001b[0msubmit\u001b[0m\u001b[0;34m(\u001b[0m\u001b[0mself\u001b[0m\u001b[0;34m.\u001b[0m\u001b[0mfields\u001b[0m\u001b[0;34m,\u001b[0m \u001b[0mself\u001b[0m\u001b[0;34m.\u001b[0m\u001b[0mtask\u001b[0m\u001b[0;34m)\u001b[0m\u001b[0;34m\u001b[0m\u001b[0m\n\u001b[0m\u001b[1;32m     24\u001b[0m \u001b[0;34m\u001b[0m\u001b[0m\n\u001b[1;32m     25\u001b[0m     \u001b[0;32mdef\u001b[0m \u001b[0mcreate\u001b[0m\u001b[0;34m(\u001b[0m\u001b[0mself\u001b[0m\u001b[0;34m)\u001b[0m\u001b[0;34m:\u001b[0m\u001b[0;34m\u001b[0m\u001b[0m\n",
      "\u001b[0;32m/Users/ckmah/simplex/simplex/taskmanager.py\u001b[0m in \u001b[0;36msubmit\u001b[0;34m(self, fields, task)\u001b[0m\n\u001b[1;32m     76\u001b[0m         \u001b[0;31m# Call function\u001b[0m\u001b[0;34m\u001b[0m\u001b[0;34m\u001b[0m\u001b[0m\n\u001b[1;32m     77\u001b[0m         results = self.execute_task(task.library_path, task.library_name, task.function_name,\n\u001b[0;32m---> 78\u001b[0;31m                                     input_values, default_values, opt_input_values, return_names)\n\u001b[0m\u001b[1;32m     79\u001b[0m \u001b[0;34m\u001b[0m\u001b[0m\n\u001b[1;32m     80\u001b[0m         \u001b[0;32mif\u001b[0m \u001b[0mlen\u001b[0m\u001b[0;34m(\u001b[0m\u001b[0mreturn_names\u001b[0m\u001b[0;34m)\u001b[0m \u001b[0;34m==\u001b[0m \u001b[0;36m1\u001b[0m\u001b[0;34m:\u001b[0m\u001b[0;34m\u001b[0m\u001b[0m\n",
      "\u001b[0;32m/Users/ckmah/simplex/simplex/taskmanager.py\u001b[0m in \u001b[0;36mexecute_task\u001b[0;34m(self, library_path, library_name, function_name, req_args, default_args, opt_args, return_names)\u001b[0m\n\u001b[1;32m    105\u001b[0m         \u001b[0;31m# Import function\u001b[0m\u001b[0;34m\u001b[0m\u001b[0;34m\u001b[0m\u001b[0m\n\u001b[1;32m    106\u001b[0m         \u001b[0mprint\u001b[0m\u001b[0;34m(\u001b[0m\u001b[0;34m'From {} importing {} ...'\u001b[0m\u001b[0;34m.\u001b[0m\u001b[0mformat\u001b[0m\u001b[0;34m(\u001b[0m\u001b[0mlibrary_name\u001b[0m\u001b[0;34m,\u001b[0m \u001b[0mfunction_name\u001b[0m\u001b[0;34m)\u001b[0m\u001b[0;34m)\u001b[0m\u001b[0;34m\u001b[0m\u001b[0m\n\u001b[0;32m--> 107\u001b[0;31m         \u001b[0mexec\u001b[0m\u001b[0;34m(\u001b[0m\u001b[0;34m'from {} import {} as function'\u001b[0m\u001b[0;34m.\u001b[0m\u001b[0mformat\u001b[0m\u001b[0;34m(\u001b[0m\u001b[0mlibrary_name\u001b[0m\u001b[0;34m,\u001b[0m \u001b[0mfunction_name\u001b[0m\u001b[0;34m)\u001b[0m\u001b[0;34m)\u001b[0m\u001b[0;34m\u001b[0m\u001b[0m\n\u001b[0m\u001b[1;32m    108\u001b[0m \u001b[0;34m\u001b[0m\u001b[0m\n\u001b[1;32m    109\u001b[0m         \u001b[0;31m# Process args\u001b[0m\u001b[0;34m\u001b[0m\u001b[0;34m\u001b[0m\u001b[0m\n",
      "\u001b[0;32m/Users/ckmah/simplex/simplex/taskmanager.py\u001b[0m in \u001b[0;36m<module>\u001b[0;34m()\u001b[0m\n",
      "\u001b[0;31mImportError\u001b[0m: No module named 'genome_explorer'"
     ]
    },
    {
     "name": "stdout",
     "output_type": "stream",
     "text": [
      "From genome_explorer importing load_genomic_filepath ...\n"
     ]
    },
    {
     "ename": "ImportError",
     "evalue": "No module named 'genome_explorer'",
     "output_type": "error",
     "traceback": [
      "\u001b[0;31m---------------------------------------------------------------------------\u001b[0m",
      "\u001b[0;31mImportError\u001b[0m                               Traceback (most recent call last)",
      "\u001b[0;32m/Users/ckmah/simplex/simplex/taskview.py\u001b[0m in \u001b[0;36mcallback\u001b[0;34m(self, unused_widget_item)\u001b[0m\n\u001b[1;32m     21\u001b[0m     \u001b[0;31m# TODO: test\u001b[0m\u001b[0;34m\u001b[0m\u001b[0;34m\u001b[0m\u001b[0m\n\u001b[1;32m     22\u001b[0m     \u001b[0;32mdef\u001b[0m \u001b[0mcallback\u001b[0m\u001b[0;34m(\u001b[0m\u001b[0mself\u001b[0m\u001b[0;34m,\u001b[0m \u001b[0munused_widget_item\u001b[0m\u001b[0;34m)\u001b[0m\u001b[0;34m:\u001b[0m\u001b[0;34m\u001b[0m\u001b[0m\n\u001b[0;32m---> 23\u001b[0;31m         \u001b[0mself\u001b[0m\u001b[0;34m.\u001b[0m\u001b[0mtask_manager\u001b[0m\u001b[0;34m.\u001b[0m\u001b[0msubmit\u001b[0m\u001b[0;34m(\u001b[0m\u001b[0mself\u001b[0m\u001b[0;34m.\u001b[0m\u001b[0mfields\u001b[0m\u001b[0;34m,\u001b[0m \u001b[0mself\u001b[0m\u001b[0;34m.\u001b[0m\u001b[0mtask\u001b[0m\u001b[0;34m)\u001b[0m\u001b[0;34m\u001b[0m\u001b[0m\n\u001b[0m\u001b[1;32m     24\u001b[0m \u001b[0;34m\u001b[0m\u001b[0m\n\u001b[1;32m     25\u001b[0m     \u001b[0;32mdef\u001b[0m \u001b[0mcreate\u001b[0m\u001b[0;34m(\u001b[0m\u001b[0mself\u001b[0m\u001b[0;34m)\u001b[0m\u001b[0;34m:\u001b[0m\u001b[0;34m\u001b[0m\u001b[0m\n",
      "\u001b[0;32m/Users/ckmah/simplex/simplex/taskmanager.py\u001b[0m in \u001b[0;36msubmit\u001b[0;34m(self, fields, task)\u001b[0m\n\u001b[1;32m     76\u001b[0m         \u001b[0;31m# Call function\u001b[0m\u001b[0;34m\u001b[0m\u001b[0;34m\u001b[0m\u001b[0m\n\u001b[1;32m     77\u001b[0m         results = self.execute_task(task.library_path, task.library_name, task.function_name,\n\u001b[0;32m---> 78\u001b[0;31m                                     input_values, default_values, opt_input_values, return_names)\n\u001b[0m\u001b[1;32m     79\u001b[0m \u001b[0;34m\u001b[0m\u001b[0m\n\u001b[1;32m     80\u001b[0m         \u001b[0;32mif\u001b[0m \u001b[0mlen\u001b[0m\u001b[0;34m(\u001b[0m\u001b[0mreturn_names\u001b[0m\u001b[0;34m)\u001b[0m \u001b[0;34m==\u001b[0m \u001b[0;36m1\u001b[0m\u001b[0;34m:\u001b[0m\u001b[0;34m\u001b[0m\u001b[0m\n",
      "\u001b[0;32m/Users/ckmah/simplex/simplex/taskmanager.py\u001b[0m in \u001b[0;36mexecute_task\u001b[0;34m(self, library_path, library_name, function_name, req_args, default_args, opt_args, return_names)\u001b[0m\n\u001b[1;32m    105\u001b[0m         \u001b[0;31m# Import function\u001b[0m\u001b[0;34m\u001b[0m\u001b[0;34m\u001b[0m\u001b[0m\n\u001b[1;32m    106\u001b[0m         \u001b[0mprint\u001b[0m\u001b[0;34m(\u001b[0m\u001b[0;34m'From {} importing {} ...'\u001b[0m\u001b[0;34m.\u001b[0m\u001b[0mformat\u001b[0m\u001b[0;34m(\u001b[0m\u001b[0mlibrary_name\u001b[0m\u001b[0;34m,\u001b[0m \u001b[0mfunction_name\u001b[0m\u001b[0;34m)\u001b[0m\u001b[0;34m)\u001b[0m\u001b[0;34m\u001b[0m\u001b[0m\n\u001b[0;32m--> 107\u001b[0;31m         \u001b[0mexec\u001b[0m\u001b[0;34m(\u001b[0m\u001b[0;34m'from {} import {} as function'\u001b[0m\u001b[0;34m.\u001b[0m\u001b[0mformat\u001b[0m\u001b[0;34m(\u001b[0m\u001b[0mlibrary_name\u001b[0m\u001b[0;34m,\u001b[0m \u001b[0mfunction_name\u001b[0m\u001b[0;34m)\u001b[0m\u001b[0;34m)\u001b[0m\u001b[0;34m\u001b[0m\u001b[0m\n\u001b[0m\u001b[1;32m    108\u001b[0m \u001b[0;34m\u001b[0m\u001b[0m\n\u001b[1;32m    109\u001b[0m         \u001b[0;31m# Process args\u001b[0m\u001b[0;34m\u001b[0m\u001b[0;34m\u001b[0m\u001b[0m\n",
      "\u001b[0;32m/Users/ckmah/simplex/simplex/taskmanager.py\u001b[0m in \u001b[0;36m<module>\u001b[0;34m()\u001b[0m\n",
      "\u001b[0;31mImportError\u001b[0m: No module named 'genome_explorer'"
     ]
    }
   ],
   "source": [
    "# !AUTOEXEC\n",
    "# Make and show widget\n",
    "task_view = task_manager.create_task_view(json.loads('''{\"default_args\":[{\"arg_name\":\"species\",\"description\":\"No description.\",\"label\":\"species\",\"value\":\"\"}],\"description\":\"\",\"function_name\":\"load_genomic_filepath\",\"library_name\":\"genome_explorer\",\"library_path\":\"/Users/ckmah/simplex/simplex_data/genome_explorer/\",\"optional_args\":[],\"required_args\":[{\"arg_name\":\"filepath\",\"description\":\"No description.\",\"label\":\"File Path to a Genome File (.fasta, .fa, or a their compressed form).\",\"value\":\"\"}],\"return_names\":[],\"label\":\"Load Human Genome\"}'''))\n",
    "task_view.create()\n",
    "      "
   ]
  },
  {
   "cell_type": "code",
   "execution_count": 6,
   "metadata": {
    "collapsed": false
   },
   "outputs": [],
   "source": [
    "def a():\n",
    "    a = 1\n",
    "    return a"
   ]
  },
  {
   "cell_type": "code",
   "execution_count": 15,
   "metadata": {
    "collapsed": false
   },
   "outputs": [
    {
     "data": {
      "text/html": [
       "\n",
       "<div style=\"background-color:gainsboro; border:solid black; width:600px; padding:20px;\">\n",
       "Code: <input type=\"text\" id=\"code_input\" size=\"50\" height=\"2\" value=\"sin(pi / 2)\"><br>\n",
       "Result: <input type=\"text\" id=\"result_output\" size=\"50\" value=\"1.0\"><br>\n",
       "<button onclick=\"exec_code()\">Execute</button>\n",
       "</div>\n",
       "\n",
       "<script type=\"text/Javascript\">\n",
       "   function handle_output(out){\n",
       "//       console.log(out_type);\n",
       "       console.log(out);\n",
       "       var res = null;\n",
       "        // if output is a print statement\n",
       "       if(out.msg_type == \"stream\"){\n",
       "           res = out.content.data;\n",
       "       }\n",
       "       // if output is a python object\n",
       "       else if(out.msg_type === \"execute_result\"){\n",
       "           res = out.content.data[\"text/plain\"];\n",
       "       }\n",
       "       // if output is a python error\n",
       "       else if(out.msg_type == \"pyerr\"){\n",
       "           res = out.content.ename + \": \" + out.content.evalue;\n",
       "       }\n",
       "       // if output is something we haven't thought of\n",
       "       else{\n",
       "           res = \"[out type not implemented]\";  \n",
       "       }\n",
       "       document.getElementById(\"result_output\").value = res;\n",
       "   }\n",
       "   \n",
       "   function exec_code(){\n",
       "       var code_input = document.getElementById('code_input').value;\n",
       "       var kernel = IPython.notebook.kernel;\n",
       "       var callbacks = { 'iopub' : {'output' : handle_output}};\n",
       "       document.getElementById(\"result_output\").value = \"\";  // clear output box\n",
       "       var msg_id = kernel.execute(code_input, callbacks, {silent:false});\n",
       "       console.log(\"button pressed\");\n",
       "       // IPython.notebook.clear_output();\n",
       "   }\n",
       "</script>\n"
      ],
      "text/plain": [
       "<IPython.core.display.HTML object>"
      ]
     },
     "execution_count": 15,
     "metadata": {},
     "output_type": "execute_result"
    }
   ],
   "source": [
    "from math import pi, sin\n",
    "\n",
    "# Add an input form similar to what we saw above\n",
    "input_form = \"\"\"\n",
    "<div style=\"background-color:gainsboro; border:solid black; width:600px; padding:20px;\">\n",
    "Code: <input type=\"text\" id=\"code_input\" size=\"50\" height=\"2\" value=\"sin(pi / 2)\"><br>\n",
    "Result: <input type=\"text\" id=\"result_output\" size=\"50\" value=\"1.0\"><br>\n",
    "<button onclick=\"exec_code()\">Execute</button>\n",
    "</div>\n",
    "\"\"\"\n",
    "\n",
    "# here the javascript has a function to execute the code\n",
    "# within the input box, and a callback to handle the output.\n",
    "javascript = \"\"\"\n",
    "<script type=\"text/Javascript\">\n",
    "   function handle_output(out){\n",
    "//       console.log(out_type);\n",
    "       console.log(out);\n",
    "       var res = null;\n",
    "        // if output is a print statement\n",
    "       if(out.msg_type == \"stream\"){\n",
    "           res = out.content.data;\n",
    "       }\n",
    "       // if output is a python object\n",
    "       else if(out.msg_type === \"execute_result\"){\n",
    "           res = out.content.data[\"text/plain\"];\n",
    "       }\n",
    "       // if output is a python error\n",
    "       else if(out.msg_type == \"pyerr\"){\n",
    "           res = out.content.ename + \": \" + out.content.evalue;\n",
    "       }\n",
    "       // if output is something we haven't thought of\n",
    "       else{\n",
    "           res = \"[out type not implemented]\";  \n",
    "       }\n",
    "       document.getElementById(\"result_output\").value = res;\n",
    "   }\n",
    "   \n",
    "   function exec_code(){\n",
    "       var code_input = document.getElementById('code_input').value;\n",
    "       var kernel = IPython.notebook.kernel;\n",
    "       var callbacks = { 'iopub' : {'output' : handle_output}};\n",
    "       document.getElementById(\"result_output\").value = \"\";  // clear output box\n",
    "       var msg_id = kernel.execute(code_input, callbacks, {silent:false});\n",
    "       console.log(\"button pressed\");\n",
    "       // IPython.notebook.clear_output();\n",
    "   }\n",
    "</script>\n",
    "\"\"\"\n",
    "\n",
    "\n",
    "HTML(input_form + javascript)"
   ]
  },
  {
   "cell_type": "code",
   "execution_count": 10,
   "metadata": {
    "collapsed": false
   },
   "outputs": [
    {
     "data": {
      "application/javascript": [
       "var kernel = IPython.notebook.kernel;\n",
       "function callback(out_type, out_data){\n",
       "    console.log('out_type');\n",
       "}\n",
       "kernel.execute('a()', {\"output\": callback});"
      ],
      "text/plain": [
       "<IPython.core.display.Javascript object>"
      ]
     },
     "metadata": {},
     "output_type": "display_data"
    }
   ],
   "source": [
    "%%javascript \n",
    "var kernel = IPython.notebook.kernel;\n",
    "function callback(out_type, out_data){\n",
    "    console.log('out_type');\n",
    "}\n",
    "kernel.execute('a()', {\"output\": callback});"
   ]
  }
 ],
 "metadata": {
  "anaconda-cloud": {},
  "kernelspec": {
   "display_name": "Python 3",
   "language": "python",
   "name": "python3"
  },
  "language_info": {
   "codemirror_mode": {
    "name": "ipython",
    "version": 3
   },
   "file_extension": ".py",
   "mimetype": "text/x-python",
   "name": "python",
   "nbconvert_exporter": "python",
   "pygments_lexer": "ipython3",
   "version": "3.5.2"
  },
  "widgets": {
   "state": {
    "671c2db726084b2eb88de9edfc2129f1": {
     "views": [
      {
       "cell_index": 0
      }
     ]
    }
   },
   "version": "1.2.0"
  }
 },
 "nbformat": 4,
 "nbformat_minor": 1
}
