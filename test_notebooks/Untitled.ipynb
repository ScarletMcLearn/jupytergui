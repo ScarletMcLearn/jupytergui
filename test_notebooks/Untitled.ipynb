{
 "cells": [
  {
   "cell_type": "code",
   "execution_count": 1,
   "metadata": {
    "collapsed": false
   },
   "outputs": [
    {
     "ename": "NameError",
     "evalue": "name 'task_manager' is not defined",
     "output_type": "error",
     "traceback": [
      "\u001b[0;31m---------------------------------------------------------------------------\u001b[0m",
      "\u001b[0;31mNameError\u001b[0m                                 Traceback (most recent call last)",
      "\u001b[0;32m<ipython-input-1-68dc9755a8fb>\u001b[0m in \u001b[0;36m<module>\u001b[0;34m()\u001b[0m\n\u001b[1;32m      1\u001b[0m \u001b[0;31m# !AUTOEXEC\u001b[0m\u001b[0;34m\u001b[0m\u001b[0;34m\u001b[0m\u001b[0m\n\u001b[1;32m      2\u001b[0m \u001b[0;31m# Make and show widget\u001b[0m\u001b[0;34m\u001b[0m\u001b[0;34m\u001b[0m\u001b[0m\n\u001b[0;32m----> 3\u001b[0;31m \u001b[0mtask_view\u001b[0m \u001b[0;34m=\u001b[0m \u001b[0mtask_manager\u001b[0m\u001b[0;34m.\u001b[0m\u001b[0mcreate_task_view\u001b[0m\u001b[0;34m(\u001b[0m\u001b[0mjson\u001b[0m\u001b[0;34m.\u001b[0m\u001b[0mloads\u001b[0m\u001b[0;34m(\u001b[0m\u001b[0;34m'''{\"default_args\":[],\"description\":\"Lorem ipsum dolor sit amet, consectetur adipisicing elit. Eos, eligendi? Eaque modi reprehenderit sequi, nulla amet magni inventore id fugit laborum ducimus nam, tempora incidunt quos, sapiente labore ratione adipisci.\",\"function_name\":\"define_components\",\"library_name\":\"ccal\",\"library_path\":\"/Users/ckmah/ccal/\",\"optional_args\":[{\"arg_name\":\"n_clusterings\",\"description\":\"This is an argument description for Number of Consensus Clusterings.\",\"label\":\"Number of Consensus Clusterings\",\"value\":\"\"}],\"required_args\":[{\"arg_name\":\"matrix\",\"description\":\"This is an argument description for Expression Matrix.\",\"label\":\"Expression Matrix\",\"value\":\"\"},{\"arg_name\":\"ks\",\"description\":\"This is an argument description for Number of Components.\",\"label\":\"Numbers of Components\",\"value\":\"\"}],\"return_names\":[{\"description\":\"This is the description for the returned NMF Result Dictionary.\",\"label\":\"NMF Result Dictionary\"},{\"description\":\"This is the description for the returned Cophentic Correlation Coefficients.\",\"label\":\"Cophenetic Correlation Coefficients\"}],\"label\":\"Define Components\"}'''\u001b[0m\u001b[0;34m)\u001b[0m\u001b[0;34m)\u001b[0m\u001b[0;34m\u001b[0m\u001b[0m\n\u001b[0m\u001b[1;32m      4\u001b[0m \u001b[0mtask_view\u001b[0m\u001b[0;34m.\u001b[0m\u001b[0mcreate\u001b[0m\u001b[0;34m(\u001b[0m\u001b[0;34m)\u001b[0m\u001b[0;34m\u001b[0m\u001b[0m\n\u001b[1;32m      5\u001b[0m \u001b[0;34m\u001b[0m\u001b[0m\n",
      "\u001b[0;31mNameError\u001b[0m: name 'task_manager' is not defined"
     ]
    },
    {
     "name": "stdout",
     "output_type": "stream",
     "text": [
      "Error in callback <function sync_namespaces at 0x106a8df28> (for post_execute):\n"
     ]
    },
    {
     "ename": "NameError",
     "evalue": "name 'task_manager' is not defined",
     "output_type": "error",
     "traceback": [
      "\u001b[0;31m---------------------------------------------------------------------------\u001b[0m",
      "\u001b[0;31mNameError\u001b[0m                                 Traceback (most recent call last)",
      "\u001b[0;32m<ipython-input-1-affc29a0f074>\u001b[0m in \u001b[0;36msync_namespaces\u001b[0;34m()\u001b[0m\n\u001b[1;32m     32\u001b[0m     \u001b[0;31m# Notebook namespace ==> TaskManager namespace\u001b[0m\u001b[0;34m\u001b[0m\u001b[0;34m\u001b[0m\u001b[0m\n\u001b[1;32m     33\u001b[0m     \u001b[0;32mglobal\u001b[0m \u001b[0mtask_manager\u001b[0m\u001b[0;34m\u001b[0m\u001b[0m\n\u001b[0;32m---> 34\u001b[0;31m     \u001b[0mtask_manager\u001b[0m\u001b[0;34m.\u001b[0m\u001b[0mupdate_simplex_namespace\u001b[0m\u001b[0;34m(\u001b[0m\u001b[0mglobals\u001b[0m\u001b[0;34m(\u001b[0m\u001b[0;34m)\u001b[0m\u001b[0;34m)\u001b[0m\u001b[0;34m\u001b[0m\u001b[0m\n\u001b[0m\u001b[1;32m     35\u001b[0m \u001b[0;34m\u001b[0m\u001b[0m\n\u001b[1;32m     36\u001b[0m     \u001b[0;31m# TaskManager namespace ==> Notebook namespace\u001b[0m\u001b[0;34m\u001b[0m\u001b[0;34m\u001b[0m\u001b[0m\n",
      "\u001b[0;31mNameError\u001b[0m: name 'task_manager' is not defined"
     ]
    }
   ],
   "source": [
    "# !AUTOEXEC\n",
    "# Make and show widget\n",
    "task_view = task_manager.create_task_view(json.loads('''{\"default_args\":[],\"description\":\"Lorem ipsum dolor sit amet, consectetur adipisicing elit. Eos, eligendi? Eaque modi reprehenderit sequi, nulla amet magni inventore id fugit laborum ducimus nam, tempora incidunt quos, sapiente labore ratione adipisci.\",\"function_name\":\"define_components\",\"library_name\":\"ccal\",\"library_path\":\"/Users/ckmah/ccal/\",\"optional_args\":[{\"arg_name\":\"n_clusterings\",\"description\":\"This is an argument description for Number of Consensus Clusterings.\",\"label\":\"Number of Consensus Clusterings\",\"value\":\"\"}],\"required_args\":[{\"arg_name\":\"matrix\",\"description\":\"This is an argument description for Expression Matrix.\",\"label\":\"Expression Matrix\",\"value\":\"\"},{\"arg_name\":\"ks\",\"description\":\"This is an argument description for Number of Components.\",\"label\":\"Numbers of Components\",\"value\":\"\"}],\"return_names\":[{\"description\":\"This is the description for the returned NMF Result Dictionary.\",\"label\":\"NMF Result Dictionary\"},{\"description\":\"This is the description for the returned Cophentic Correlation Coefficients.\",\"label\":\"Cophenetic Correlation Coefficients\"}],\"label\":\"Define Components\"}'''))\n",
    "task_view.create()\n",
    "      "
   ]
  },
  {
   "cell_type": "code",
   "execution_count": 6,
   "metadata": {
    "collapsed": false
   },
   "outputs": [],
   "source": [
    "def a():\n",
    "    a = 1\n",
    "    return a"
   ]
  },
  {
   "cell_type": "code",
   "execution_count": 15,
   "metadata": {
    "collapsed": false
   },
   "outputs": [
    {
     "data": {
      "text/html": [
       "\n",
       "<div style=\"background-color:gainsboro; border:solid black; width:600px; padding:20px;\">\n",
       "Code: <input type=\"text\" id=\"code_input\" size=\"50\" height=\"2\" value=\"sin(pi / 2)\"><br>\n",
       "Result: <input type=\"text\" id=\"result_output\" size=\"50\" value=\"1.0\"><br>\n",
       "<button onclick=\"exec_code()\">Execute</button>\n",
       "</div>\n",
       "\n",
       "<script type=\"text/Javascript\">\n",
       "   function handle_output(out){\n",
       "//       console.log(out_type);\n",
       "       console.log(out);\n",
       "       var res = null;\n",
       "        // if output is a print statement\n",
       "       if(out.msg_type == \"stream\"){\n",
       "           res = out.content.data;\n",
       "       }\n",
       "       // if output is a python object\n",
       "       else if(out.msg_type === \"execute_result\"){\n",
       "           res = out.content.data[\"text/plain\"];\n",
       "       }\n",
       "       // if output is a python error\n",
       "       else if(out.msg_type == \"pyerr\"){\n",
       "           res = out.content.ename + \": \" + out.content.evalue;\n",
       "       }\n",
       "       // if output is something we haven't thought of\n",
       "       else{\n",
       "           res = \"[out type not implemented]\";  \n",
       "       }\n",
       "       document.getElementById(\"result_output\").value = res;\n",
       "   }\n",
       "   \n",
       "   function exec_code(){\n",
       "       var code_input = document.getElementById('code_input').value;\n",
       "       var kernel = IPython.notebook.kernel;\n",
       "       var callbacks = { 'iopub' : {'output' : handle_output}};\n",
       "       document.getElementById(\"result_output\").value = \"\";  // clear output box\n",
       "       var msg_id = kernel.execute(code_input, callbacks, {silent:false});\n",
       "       console.log(\"button pressed\");\n",
       "       // IPython.notebook.clear_output();\n",
       "   }\n",
       "</script>\n"
      ],
      "text/plain": [
       "<IPython.core.display.HTML object>"
      ]
     },
     "execution_count": 15,
     "metadata": {},
     "output_type": "execute_result"
    }
   ],
   "source": [
    "from math import pi, sin\n",
    "\n",
    "# Add an input form similar to what we saw above\n",
    "input_form = \"\"\"\n",
    "<div style=\"background-color:gainsboro; border:solid black; width:600px; padding:20px;\">\n",
    "Code: <input type=\"text\" id=\"code_input\" size=\"50\" height=\"2\" value=\"sin(pi / 2)\"><br>\n",
    "Result: <input type=\"text\" id=\"result_output\" size=\"50\" value=\"1.0\"><br>\n",
    "<button onclick=\"exec_code()\">Execute</button>\n",
    "</div>\n",
    "\"\"\"\n",
    "\n",
    "# here the javascript has a function to execute the code\n",
    "# within the input box, and a callback to handle the output.\n",
    "javascript = \"\"\"\n",
    "<script type=\"text/Javascript\">\n",
    "   function handle_output(out){\n",
    "//       console.log(out_type);\n",
    "       console.log(out);\n",
    "       var res = null;\n",
    "        // if output is a print statement\n",
    "       if(out.msg_type == \"stream\"){\n",
    "           res = out.content.data;\n",
    "       }\n",
    "       // if output is a python object\n",
    "       else if(out.msg_type === \"execute_result\"){\n",
    "           res = out.content.data[\"text/plain\"];\n",
    "       }\n",
    "       // if output is a python error\n",
    "       else if(out.msg_type == \"pyerr\"){\n",
    "           res = out.content.ename + \": \" + out.content.evalue;\n",
    "       }\n",
    "       // if output is something we haven't thought of\n",
    "       else{\n",
    "           res = \"[out type not implemented]\";  \n",
    "       }\n",
    "       document.getElementById(\"result_output\").value = res;\n",
    "   }\n",
    "   \n",
    "   function exec_code(){\n",
    "       var code_input = document.getElementById('code_input').value;\n",
    "       var kernel = IPython.notebook.kernel;\n",
    "       var callbacks = { 'iopub' : {'output' : handle_output}};\n",
    "       document.getElementById(\"result_output\").value = \"\";  // clear output box\n",
    "       var msg_id = kernel.execute(code_input, callbacks, {silent:false});\n",
    "       console.log(\"button pressed\");\n",
    "       // IPython.notebook.clear_output();\n",
    "   }\n",
    "</script>\n",
    "\"\"\"\n",
    "\n",
    "\n",
    "HTML(input_form + javascript)"
   ]
  },
  {
   "cell_type": "code",
   "execution_count": 10,
   "metadata": {
    "collapsed": false
   },
   "outputs": [
    {
     "data": {
      "application/javascript": [
       "var kernel = IPython.notebook.kernel;\n",
       "function callback(out_type, out_data){\n",
       "    console.log('out_type');\n",
       "}\n",
       "kernel.execute('a()', {\"output\": callback});"
      ],
      "text/plain": [
       "<IPython.core.display.Javascript object>"
      ]
     },
     "metadata": {},
     "output_type": "display_data"
    }
   ],
   "source": [
    "%%javascript \n",
    "var kernel = IPython.notebook.kernel;\n",
    "function callback(out_type, out_data){\n",
    "    console.log('out_type');\n",
    "}\n",
    "kernel.execute('a()', {\"output\": callback});"
   ]
  }
 ],
 "metadata": {
  "anaconda-cloud": {},
  "kernelspec": {
   "display_name": "Python 3",
   "language": "python",
   "name": "python3"
  },
  "language_info": {
   "codemirror_mode": {
    "name": "ipython",
    "version": 3
   },
   "file_extension": ".py",
   "mimetype": "text/x-python",
   "name": "python",
   "nbconvert_exporter": "python",
   "pygments_lexer": "ipython3",
   "version": "3.5.2"
  }
 },
 "nbformat": 4,
 "nbformat_minor": 1
}
