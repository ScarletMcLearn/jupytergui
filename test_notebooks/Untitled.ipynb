{
 "cells": [
  {
   "cell_type": "code",
   "execution_count": 1,
   "metadata": {
    "collapsed": false
   },
   "outputs": [],
   "source": [
    "# !AUTOEXEC\n",
    "# Make and show widget\n",
    "task_view = task_manager.create_task_view(json.loads('''{\"library_name\":\"ccal\",\"label\":\"Define Components\",\"description\":\"Lorem ipsum dolor sit amet, consectetur adipisicing elit. Eos, eligendi? Eaque modi reprehenderit sequi, nulla amet magni inventore id fugit laborum ducimus nam, tempora incidunt quos, sapiente labore ratione adipisci.\",\"function_name\":\"define_components\",\"required_args\":[{\"arg_name\":\"matrix\",\"label\":\"Expression Matrix\",\"description\":\"This is an argument description for Expression Matrix.\"},{\"arg_name\":\"ks\",\"label\":\"Numbers of Components\",\"description\":\"This is an argument description for Number of Components.\"}],\"optional_args\":[{\"arg_name\":\"n_clusterings\",\"label\":\"Number of Consensus Clusterings\",\"description\":\"This is an argument description for Number of Consensus Clusterings.\"}],\"return_names\":[{\"label\":\"NMF Result Dictionary\",\"description\":\"This is the description for the returned NMF Result Dictionary.\"},{\"label\":\"Cophenetic Correlation Coefficients\",\"description\":\"This is the description for the returned Cophentic Correlation Coefficients.\"}],\"library_path\":\"/Users/ckmah/ccal/\"}'''))\n",
    "task_view.create()\n",
    "      "
   ]
  },
  {
   "cell_type": "code",
   "execution_count": null,
   "metadata": {
    "collapsed": true
   },
   "outputs": [],
   "source": []
  }
 ],
 "metadata": {
  "kernelspec": {
   "display_name": "Python 3",
   "language": "python",
   "name": "python3"
  },
  "language_info": {
   "codemirror_mode": {
    "name": "ipython",
    "version": 3
   },
   "file_extension": ".py",
   "mimetype": "text/x-python",
   "name": "python",
   "nbconvert_exporter": "python",
   "pygments_lexer": "ipython3",
   "version": "3.5.2"
  },
  "widgets": {
   "state": {
    "1a7be8591c2f4e15b665fe9fa5e2088f": {
     "views": [
      {
       "cell_index": 0
      }
     ]
    }
   },
   "version": "1.2.0"
  }
 },
 "nbformat": 4,
 "nbformat_minor": 1
}
