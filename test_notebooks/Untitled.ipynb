{
 "cells": [
  {
   "cell_type": "code",
   "execution_count": 5,
   "metadata": {
    "collapsed": false
   },
   "outputs": [],
   "source": [
    "# !AUTOEXEC\n",
    "from simplex.taskmanager import TaskManager\n",
    "import json, os\n",
    "\n",
    "# load wrapper\n",
    "config = json.loads(\"{\\n  \\\"version\\\": \\\"\\\",\\n  \\\"library_path\\\": \\\"/Users/ckmah/.simplex/ccal/\\\",\\n  \\\"tasks\\\": [\\n    {\\n      \\\"library_name\\\": \\\"ccal\\\",\\n      \\\"label\\\": \\\"CCAL - Define Components1\\\",\\n      \\\"function_name\\\": \\\"define_components\\\",\\n      \\\"description\\\": \\\"This is the description for the define components method from the CCAL package.\\\",\\n      \\\"required_args\\\": [\\n        {\\n          \\\"arg_name\\\": \\\"matrix\\\",\\n          \\\"label\\\": \\\"Expression Matrix\\\",\\n          \\\"description\\\": \\\"This is an argument description for Expression Matrix.\\\"\\n        },\\n        {\\n          \\\"arg_name\\\": \\\"ks\\\",\\n          \\\"label\\\": \\\"Numbers of Components\\\",\\n          \\\"description\\\": \\\"This is an argument description for Number of Components.\\\"\\n        }\\n      ],\\n      \\\"optional_args\\\": [ {\\n        \\\"arg_name\\\": \\\"n_clusterings\\\",\\n        \\\"label\\\": \\\"Number of Consensus Clusterings\\\",\\n        \\\"description\\\": \\\"This is an argument description for Number of Consensus Clusterings.\\\"\\n      }],\\n      \\\"return_names\\\": [\\n        {\\n          \\\"label\\\": \\\"NMF Result Dictionary\\\",\\n          \\\"description\\\": \\\"This is the description for the returned NMF Result Dictionary.\\\"\\n        },\\n        {\\n          \\\"label\\\": \\\"Cophenetic Correlation Coefficients\\\",\\n          \\\"description\\\": \\\"This is the description for the returned Cophentic Correlation Coefficients.\\\"\\n        }\\n      ]\\n    }\\n  ]\\n}\")\n",
    "task_manager = TaskManager(config, globals(), locals(), os.getcwd())\n",
    "\n",
    "def set_globals():\n",
    "    for name, value in task_manager.output.items():\n",
    "        globals()[name] = value\n",
    "        # exec('global {}'.format(name), globals())\n",
    "        # exec('{} = value'.format(name))\n",
    "\n",
    "# register callback\n",
    "if (set_globals not in get_ipython().events.callbacks['post_run_cell']):\n",
    "    get_ipython().events.register('post_execute', set_globals)\n",
    "\n",
    "# make and show widget\n",
    "task_view = task_manager.create_task_view(task_manager.tasks[0])\n",
    "task_view.createPanel()\n"
   ]
  },
  {
   "cell_type": "code",
   "execution_count": null,
   "metadata": {
    "collapsed": true
   },
   "outputs": [],
   "source": []
  }
 ],
 "metadata": {
  "anaconda-cloud": {},
  "kernelspec": {
   "display_name": "Python 3",
   "language": "python",
   "name": "python3"
  },
  "language_info": {
   "codemirror_mode": {
    "name": "ipython",
    "version": 3
   },
   "file_extension": ".py",
   "mimetype": "text/x-python",
   "name": "python",
   "nbconvert_exporter": "python",
   "pygments_lexer": "ipython3",
   "version": "3.5.2"
  },
  "widgets": {
   "state": {
    "4d7a54dc65864f639dfe3eb336420530": {
     "views": [
      {
       "cell_index": 0
      }
     ]
    }
   },
   "version": "1.2.0"
  }
 },
 "nbformat": 4,
 "nbformat_minor": 1
}
