{
 "cells": [
  {
   "cell_type": "code",
   "execution_count": 1,
   "metadata": {
    "collapsed": true,
    "deletable": true,
    "editable": true
   },
   "outputs": [],
   "source": [
    "from pprint import pprint\n",
    "\n",
    "import parser\n",
    "import ast\n",
    "import inspect\n",
    "\n",
    "import numpy as np\n",
    "import pandas as pd"
   ]
  },
  {
   "cell_type": "code",
   "execution_count": 2,
   "metadata": {
    "collapsed": true,
    "deletable": true,
    "editable": true
   },
   "outputs": [],
   "source": [
    "def add(x, y=0):\n",
    "    return"
   ]
  },
  {
   "cell_type": "code",
   "execution_count": 3,
   "metadata": {
    "collapsed": false,
    "deletable": true,
    "editable": true
   },
   "outputs": [],
   "source": [
    "# Label\n",
    "blha = add(\n",
    "    1,\n",
    "    y=2+3,\n",
    ")"
   ]
  },
  {
   "cell_type": "code",
   "execution_count": 4,
   "metadata": {
    "collapsed": false
   },
   "outputs": [
    {
     "name": "stdout",
     "output_type": "stream",
     "text": [
      "# Label\n",
      "blha = add(\n",
      "    1,\n",
      "    y=2+3,\n",
      ")\n"
     ]
    }
   ],
   "source": [
    "text = In[3]\n",
    "print(text)"
   ]
  },
  {
   "cell_type": "code",
   "execution_count": 5,
   "metadata": {
    "collapsed": false
   },
   "outputs": [
    {
     "name": "stdout",
     "output_type": "stream",
     "text": [
      "['# Label', 'blha = add(', '    1,', '    y=2+3,', ')']\n",
      "['# Label']\n",
      "Label\n"
     ]
    }
   ],
   "source": [
    "lines = text.split('\\n')\n",
    "print(lines)\n",
    "\n",
    "comment_lines = [l.strip() for l in lines if l.startswith('#')]\n",
    "print(comment_lines)\n",
    "\n",
    "label = ''.join(comment_lines[0].split('#')[1:]).strip()\n",
    "print(label)"
   ]
  },
  {
   "cell_type": "code",
   "execution_count": 12,
   "metadata": {
    "collapsed": false
   },
   "outputs": [
    {
     "data": {
      "text/plain": [
       "'add'"
      ]
     },
     "execution_count": 12,
     "metadata": {},
     "output_type": "execute_result"
    }
   ],
   "source": []
  },
  {
   "cell_type": "code",
   "execution_count": 6,
   "metadata": {
    "collapsed": false
   },
   "outputs": [
    {
     "name": "stdout",
     "output_type": "stream",
     "text": [
      "[{'description': 'TODO: get from docstring',\n",
      "  'label': 'TODO: get from docstring',\n",
      "  'value': 'blha'}]\n"
     ]
    }
   ],
   "source": [
    "returns = []\n",
    "m = ast.parse(text)\n",
    "b = m.body[0]\n",
    "if isinstance(b, ast.Assign):\n",
    "    for t in b.targets:\n",
    "        returns.append({\n",
    "            'label': 'TODO: get from docstring',\n",
    "            'description': 'TODO: get from docstring',\n",
    "            'value': t.id,\n",
    "        })\n",
    "pprint(returns)"
   ]
  },
  {
   "cell_type": "code",
   "execution_count": 7,
   "metadata": {
    "collapsed": false
   },
   "outputs": [
    {
     "name": "stdout",
     "output_type": "stream",
     "text": [
      "['blha = add(', '1,', 'y=2+3,', ')']\n"
     ]
    }
   ],
   "source": [
    "code_lines = [l.strip() for l in lines if not l.startswith('#')]\n",
    "print(code_lines)"
   ]
  },
  {
   "cell_type": "code",
   "execution_count": 13,
   "metadata": {
    "collapsed": false
   },
   "outputs": [
    {
     "name": "stdout",
     "output_type": "stream",
     "text": [
      "add\n"
     ]
    }
   ],
   "source": [
    "function_name = b.value.func.id\n",
    "print(function_name)"
   ]
  },
  {
   "cell_type": "code",
   "execution_count": 14,
   "metadata": {
    "collapsed": false
   },
   "outputs": [
    {
     "name": "stdout",
     "output_type": "stream",
     "text": [
      "['1']\n",
      "{'y': '2+3'}\n"
     ]
    }
   ],
   "source": [
    "args = []\n",
    "kwargs = {}\n",
    "\n",
    "for a in [l for l in code_lines if not (l.endswith('(') or l.startswith(')'))]:\n",
    "    \n",
    "    if '=' in a:  # kwarg\n",
    "        k, v = a.split('=')\n",
    "        if v.endswith(','):\n",
    "            v = v[:-1]\n",
    "        kwargs[k] = v\n",
    "        \n",
    "    else:  # arg\n",
    "        if a.endswith(','):\n",
    "            a = a[:-1]\n",
    "        args.append(a)\n",
    "        \n",
    "print(args)\n",
    "print(kwargs)"
   ]
  },
  {
   "cell_type": "code",
   "execution_count": 15,
   "metadata": {
    "collapsed": false
   },
   "outputs": [
    {
     "name": "stdout",
     "output_type": "stream",
     "text": [
      "x x\n",
      "y y=0\n"
     ]
    }
   ],
   "source": [
    "s = inspect.signature(add)\n",
    "\n",
    "for k, v in s.parameters.items():\n",
    "    print(k, v)"
   ]
  },
  {
   "cell_type": "code",
   "execution_count": 16,
   "metadata": {
    "collapsed": false
   },
   "outputs": [
    {
     "name": "stdout",
     "output_type": "stream",
     "text": [
      "[{'description': 'Description.', 'label': 'x', 'name': 'x', 'value': '1'}]\n",
      "[{'description': 'Description.', 'label': 'y', 'name': 'y', 'value': '2+3'}]\n"
     ]
    }
   ],
   "source": [
    "from pprint import pprint\n",
    "\n",
    "# Get required args\n",
    "required_args = [{\n",
    "    'label': n,\n",
    "    'description': 'Description.',\n",
    "    'name': n,\n",
    "    'value': v,\n",
    "} for n, v in zip([v.name for v in s.parameters.values() if v.default == inspect._empty], args)]\n",
    "pprint(required_args)\n",
    "\n",
    "# Get optional args\n",
    "optional_args = [{\n",
    "    'label': n,\n",
    "    'description': 'Description.',\n",
    "    'name': n,\n",
    "    'value': v,\n",
    "} for n, v in kwargs.items()]\n",
    "pprint(optional_args)"
   ]
  },
  {
   "cell_type": "code",
   "execution_count": 18,
   "metadata": {
    "collapsed": false
   },
   "outputs": [
    {
     "name": "stdout",
     "output_type": "stream",
     "text": [
      "__main__\n",
      "\n"
     ]
    }
   ],
   "source": [
    "# Get module name\n",
    "library_name = eval('{}.__module__'.format(function_name))\n",
    "print(library_name)\n",
    "\n",
    "# Get module path\n",
    "if library_name == '__main__':  # Function is defined within this Notebook\n",
    "    library_path = ''\n",
    "else:  # Function is imported from a module)\n",
    "    library_path = eval(\n",
    "        '{}.__globals__.get(\\'__file__\\')'.format(function_name)\n",
    "    ).split(library_name.replace('.', '/'))[0]\n",
    "print(library_path)\n",
    "\n",
    "# Make a task\n",
    "task = {\n",
    "    label: {\n",
    "        'description': 'Description.',\n",
    "        'library_path': library_path,\n",
    "        'library_name': library_name,\n",
    "        'function_name': function_name,\n",
    "        'required_args': required_args,\n",
    "        'default_args': {},\n",
    "        'optional_args': optional_args,\n",
    "        'returns': returns\n",
    "    }\n",
    "}\n",
    "\n",
    "# Register this task\n",
    "self._update_tasks(task)\n",
    "\n",
    "return task"
   ]
  },
  {
   "cell_type": "code",
   "execution_count": null,
   "metadata": {
    "collapsed": true
   },
   "outputs": [],
   "source": []
  }
 ],
 "metadata": {
  "kernelspec": {
   "display_name": "Python 3",
   "language": "python",
   "name": "python3"
  },
  "language_info": {
   "codemirror_mode": {
    "name": "ipython",
    "version": 3
   },
   "file_extension": ".py",
   "mimetype": "text/x-python",
   "name": "python",
   "nbconvert_exporter": "python",
   "pygments_lexer": "ipython3",
   "version": "3.6.0"
  }
 },
 "nbformat": 4,
 "nbformat_minor": 2
}
