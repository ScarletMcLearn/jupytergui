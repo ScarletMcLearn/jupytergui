{
 "cells": [
  {
   "cell_type": "code",
   "execution_count": 1,
   "metadata": {
    "collapsed": false
   },
   "outputs": [],
   "source": [
    "import sys\n",
    "sys.path.insert(0, './simpli/')\n",
    "from simpli.manager import Manager\n",
    "\n",
    "%load_ext autoreload\n",
    "%autoreload 2"
   ]
  },
  {
   "cell_type": "code",
   "execution_count": 2,
   "metadata": {
    "collapsed": false,
    "scrolled": false
   },
   "outputs": [],
   "source": [
    "m = Manager(verbose=True)"
   ]
  },
  {
   "cell_type": "code",
   "execution_count": 3,
   "metadata": {
    "collapsed": false
   },
   "outputs": [
    {
     "data": {
      "text/plain": [
       "{}"
      ]
     },
     "execution_count": 3,
     "metadata": {},
     "output_type": "execute_result"
    }
   ],
   "source": [
    "m.tasks"
   ]
  },
  {
   "cell_type": "code",
   "execution_count": 12,
   "metadata": {
    "collapsed": false,
    "scrolled": false
   },
   "outputs": [
    {
     "name": "stdout",
     "output_type": "stream",
     "text": [
      "Loading task-specifying JSON /home/k/.simpli/json/default_tasks.json ...\n",
      "library_path doesn't exist.\n",
      "Task label 'Assign' is duplicated; making a new task label ...\n",
      "Processing args ...\n",
      "Processing args ...\n",
      "Processing args ...\n",
      "Processing returns ...\n",
      "\t\tLoaded task Assign (v2): {'library_path': '', 'library_name': 'simpli.default_tasks', 'function_name': 'just_return', 'description': 'No description.', 'required_args': [{'name': 'value', 'value': '', 'label': 'Value to Assign', 'description': 'No description.'}], 'default_args': [], 'optional_args': [], 'returns': [{'label': 'Variable Name to Assign to', 'description': 'No description.'}]}.\n",
      "Task label 'Slice DataFrame by Row' is duplicated; making a new task label ...\n",
      "Processing args ...\n",
      "Processing args ...\n",
      "Processing args ...\n",
      "Processing returns ...\n",
      "\t\tLoaded task Slice DataFrame by Row (v2): {'library_path': '', 'library_name': 'simpli.default_tasks', 'function_name': 'slice_dataframe', 'description': 'Return a subset of rows of a given DataFrame object.', 'required_args': [{'name': 'dataframe', 'value': '', 'label': 'DataFrame', 'description': 'Target dataframe object.'}, {'name': 'indices', 'value': '', 'label': 'Row Index(ices)', 'description': 'No description.'}], 'default_args': [{'name': 'ax', 'value': '0', 'label': 'ax Label', 'description': 'No description.'}], 'optional_args': [], 'returns': [{'label': 'Sliced DataFrame', 'description': 'A slice of the DataFrame including the specified rows.'}]}.\n",
      "Task label 'Slice DataFrame by Column' is duplicated; making a new task label ...\n",
      "Processing args ...\n",
      "Processing args ...\n",
      "Processing args ...\n",
      "Processing returns ...\n",
      "\t\tLoaded task Slice DataFrame by Column (v2): {'library_path': '', 'library_name': 'simpli.default_tasks', 'function_name': 'slice_dataframe', 'description': 'No description.', 'required_args': [{'name': 'dataframe', 'value': '', 'label': 'DataFrame', 'description': 'No description.'}, {'name': 'indices', 'value': '', 'label': 'Column Index(ices)', 'description': 'No description.'}], 'default_args': [{'name': 'ax', 'value': '1', 'label': 'ax Label', 'description': 'No description.'}], 'optional_args': [], 'returns': [{'label': 'Sliced DataFrame', 'description': 'No description.'}]}.\n",
      "Task label 'Link JSON' is duplicated; making a new task label ...\n",
      "Processing args ...\n",
      "Processing args ...\n",
      "Processing args ...\n",
      "Processing returns ...\n",
      "\t\tLoaded task Link JSON (v2): {'library_path': '', 'library_name': 'simpli.default_tasks', 'function_name': 'link_json', 'description': 'No description.', 'required_args': [{'name': 'filepath', 'value': '', 'label': 'Simpli JSON to be Linked', 'description': 'No description.'}], 'default_args': [], 'optional_args': [], 'returns': []}.\n",
      "Task label 'Reset JSONs' is duplicated; making a new task label ...\n",
      "Processing args ...\n",
      "Processing args ...\n",
      "Processing args ...\n",
      "Processing returns ...\n",
      "\t\tLoaded task Reset JSONs (v2): {'library_path': '', 'library_name': 'simpli.default_tasks', 'function_name': 'reset_jsons', 'description': 'No description.', 'required_args': [], 'default_args': [], 'optional_args': [], 'returns': []}.\n",
      "Task label 'Set Theme' is duplicated; making a new task label ...\n",
      "Processing args ...\n",
      "Processing args ...\n",
      "Processing args ...\n",
      "Processing returns ...\n",
      "\t\tLoaded task Set Theme (v2): {'library_path': '', 'library_name': 'simpli.default_tasks', 'function_name': 'set_notebook_theme', 'description': 'No description.', 'required_args': [{'name': 'filepath', 'value': '', 'label': 'CSS File', 'description': 'No description.'}], 'default_args': [], 'optional_args': [], 'returns': []}.\n",
      "Updating tasks {'Assign': {'library_path': '', 'library_name': 'simpli.default_tasks', 'function_name': 'just_return', 'description': 'No description.', 'required_args': [{'name': 'value', 'value': '', 'label': 'Value to Assign', 'description': 'No description.'}], 'default_args': [], 'optional_args': [], 'returns': [{'label': 'Variable Name to Assign to', 'description': 'No description.'}]}, 'Slice DataFrame by Row': {'library_path': '', 'library_name': 'simpli.default_tasks', 'function_name': 'slice_dataframe', 'description': 'Return a subset of rows of a given DataFrame object.', 'required_args': [{'name': 'dataframe', 'value': '', 'label': 'DataFrame', 'description': 'Target dataframe object.'}, {'name': 'indices', 'value': '', 'label': 'Row Index(ices)', 'description': 'No description.'}], 'default_args': [{'name': 'ax', 'value': '0', 'label': 'ax Label', 'description': 'No description.'}], 'optional_args': [], 'returns': [{'label': 'Sliced DataFrame', 'description': 'A slice of the DataFrame including the specified rows.'}]}, 'Slice DataFrame by Column': {'library_path': '', 'library_name': 'simpli.default_tasks', 'function_name': 'slice_dataframe', 'description': 'No description.', 'required_args': [{'name': 'dataframe', 'value': '', 'label': 'DataFrame', 'description': 'No description.'}, {'name': 'indices', 'value': '', 'label': 'Column Index(ices)', 'description': 'No description.'}], 'default_args': [{'name': 'ax', 'value': '1', 'label': 'ax Label', 'description': 'No description.'}], 'optional_args': [], 'returns': [{'label': 'Sliced DataFrame', 'description': 'No description.'}]}, 'Link JSON': {'library_path': '', 'library_name': 'simpli.default_tasks', 'function_name': 'link_json', 'description': 'No description.', 'required_args': [{'name': 'filepath', 'value': '', 'label': 'Simpli JSON to be Linked', 'description': 'No description.'}], 'default_args': [], 'optional_args': [], 'returns': []}, 'Reset JSONs': {'library_path': '', 'library_name': 'simpli.default_tasks', 'function_name': 'reset_jsons', 'description': 'No description.', 'required_args': [], 'default_args': [], 'optional_args': [], 'returns': []}, 'Set Theme': {'library_path': '', 'library_name': 'simpli.default_tasks', 'function_name': 'set_notebook_theme', 'description': 'No description.', 'required_args': [{'name': 'filepath', 'value': '', 'label': 'CSS File', 'description': 'No description.'}], 'default_args': [], 'optional_args': [], 'returns': []}} with {'Assign (v2)': {'library_path': '', 'library_name': 'simpli.default_tasks', 'function_name': 'just_return', 'description': 'No description.', 'required_args': [{'name': 'value', 'value': '', 'label': 'Value to Assign', 'description': 'No description.'}], 'default_args': [], 'optional_args': [], 'returns': [{'label': 'Variable Name to Assign to', 'description': 'No description.'}]}, 'Slice DataFrame by Row (v2)': {'library_path': '', 'library_name': 'simpli.default_tasks', 'function_name': 'slice_dataframe', 'description': 'Return a subset of rows of a given DataFrame object.', 'required_args': [{'name': 'dataframe', 'value': '', 'label': 'DataFrame', 'description': 'Target dataframe object.'}, {'name': 'indices', 'value': '', 'label': 'Row Index(ices)', 'description': 'No description.'}], 'default_args': [{'name': 'ax', 'value': '0', 'label': 'ax Label', 'description': 'No description.'}], 'optional_args': [], 'returns': [{'label': 'Sliced DataFrame', 'description': 'A slice of the DataFrame including the specified rows.'}]}, 'Slice DataFrame by Column (v2)': {'library_path': '', 'library_name': 'simpli.default_tasks', 'function_name': 'slice_dataframe', 'description': 'No description.', 'required_args': [{'name': 'dataframe', 'value': '', 'label': 'DataFrame', 'description': 'No description.'}, {'name': 'indices', 'value': '', 'label': 'Column Index(ices)', 'description': 'No description.'}], 'default_args': [{'name': 'ax', 'value': '1', 'label': 'ax Label', 'description': 'No description.'}], 'optional_args': [], 'returns': [{'label': 'Sliced DataFrame', 'description': 'No description.'}]}, 'Link JSON (v2)': {'library_path': '', 'library_name': 'simpli.default_tasks', 'function_name': 'link_json', 'description': 'No description.', 'required_args': [{'name': 'filepath', 'value': '', 'label': 'Simpli JSON to be Linked', 'description': 'No description.'}], 'default_args': [], 'optional_args': [], 'returns': []}, 'Reset JSONs (v2)': {'library_path': '', 'library_name': 'simpli.default_tasks', 'function_name': 'reset_jsons', 'description': 'No description.', 'required_args': [], 'default_args': [], 'optional_args': [], 'returns': []}, 'Set Theme (v2)': {'library_path': '', 'library_name': 'simpli.default_tasks', 'function_name': 'set_notebook_theme', 'description': 'No description.', 'required_args': [{'name': 'filepath', 'value': '', 'label': 'CSS File', 'description': 'No description.'}], 'default_args': [], 'optional_args': [], 'returns': []}} ...\n"
     ]
    },
    {
     "data": {
      "text/plain": [
       "{'Assign (v2)': {'default_args': [],\n",
       "  'description': 'No description.',\n",
       "  'function_name': 'just_return',\n",
       "  'library_name': 'simpli.default_tasks',\n",
       "  'library_path': '',\n",
       "  'optional_args': [],\n",
       "  'required_args': [{'description': 'No description.',\n",
       "    'label': 'Value to Assign',\n",
       "    'name': 'value',\n",
       "    'value': ''}],\n",
       "  'returns': [{'description': 'No description.',\n",
       "    'label': 'Variable Name to Assign to'}]},\n",
       " 'Link JSON (v2)': {'default_args': [],\n",
       "  'description': 'No description.',\n",
       "  'function_name': 'link_json',\n",
       "  'library_name': 'simpli.default_tasks',\n",
       "  'library_path': '',\n",
       "  'optional_args': [],\n",
       "  'required_args': [{'description': 'No description.',\n",
       "    'label': 'Simpli JSON to be Linked',\n",
       "    'name': 'filepath',\n",
       "    'value': ''}],\n",
       "  'returns': []},\n",
       " 'Reset JSONs (v2)': {'default_args': [],\n",
       "  'description': 'No description.',\n",
       "  'function_name': 'reset_jsons',\n",
       "  'library_name': 'simpli.default_tasks',\n",
       "  'library_path': '',\n",
       "  'optional_args': [],\n",
       "  'required_args': [],\n",
       "  'returns': []},\n",
       " 'Set Theme (v2)': {'default_args': [],\n",
       "  'description': 'No description.',\n",
       "  'function_name': 'set_notebook_theme',\n",
       "  'library_name': 'simpli.default_tasks',\n",
       "  'library_path': '',\n",
       "  'optional_args': [],\n",
       "  'required_args': [{'description': 'No description.',\n",
       "    'label': 'CSS File',\n",
       "    'name': 'filepath',\n",
       "    'value': ''}],\n",
       "  'returns': []},\n",
       " 'Slice DataFrame by Column (v2)': {'default_args': [{'description': 'No description.',\n",
       "    'label': 'ax Label',\n",
       "    'name': 'ax',\n",
       "    'value': '1'}],\n",
       "  'description': 'No description.',\n",
       "  'function_name': 'slice_dataframe',\n",
       "  'library_name': 'simpli.default_tasks',\n",
       "  'library_path': '',\n",
       "  'optional_args': [],\n",
       "  'required_args': [{'description': 'No description.',\n",
       "    'label': 'DataFrame',\n",
       "    'name': 'dataframe',\n",
       "    'value': ''},\n",
       "   {'description': 'No description.',\n",
       "    'label': 'Column Index(ices)',\n",
       "    'name': 'indices',\n",
       "    'value': ''}],\n",
       "  'returns': [{'description': 'No description.',\n",
       "    'label': 'Sliced DataFrame'}]},\n",
       " 'Slice DataFrame by Row (v2)': {'default_args': [{'description': 'No description.',\n",
       "    'label': 'ax Label',\n",
       "    'name': 'ax',\n",
       "    'value': '0'}],\n",
       "  'description': 'Return a subset of rows of a given DataFrame object.',\n",
       "  'function_name': 'slice_dataframe',\n",
       "  'library_name': 'simpli.default_tasks',\n",
       "  'library_path': '',\n",
       "  'optional_args': [],\n",
       "  'required_args': [{'description': 'Target dataframe object.',\n",
       "    'label': 'DataFrame',\n",
       "    'name': 'dataframe',\n",
       "    'value': ''},\n",
       "   {'description': 'No description.',\n",
       "    'label': 'Row Index(ices)',\n",
       "    'name': 'indices',\n",
       "    'value': ''}],\n",
       "  'returns': [{'description': 'A slice of the DataFrame including the specified rows.',\n",
       "    'label': 'Sliced DataFrame'}]}}"
      ]
     },
     "execution_count": 12,
     "metadata": {},
     "output_type": "execute_result"
    }
   ],
   "source": [
    "m._update_tasks_from_jsons()"
   ]
  },
  {
   "cell_type": "code",
   "execution_count": null,
   "metadata": {
    "collapsed": true
   },
   "outputs": [],
   "source": []
  }
 ],
 "metadata": {
  "kernelspec": {
   "display_name": "Python 3",
   "language": "python",
   "name": "python3"
  },
  "language_info": {
   "codemirror_mode": {
    "name": "ipython",
    "version": 3
   },
   "file_extension": ".py",
   "mimetype": "text/x-python",
   "name": "python",
   "nbconvert_exporter": "python",
   "pygments_lexer": "ipython3",
   "version": "3.6.0"
  }
 },
 "nbformat": 4,
 "nbformat_minor": 2
}
