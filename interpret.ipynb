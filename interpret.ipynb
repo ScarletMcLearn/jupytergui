{
 "cells": [
  {
   "cell_type": "code",
   "execution_count": 1,
   "metadata": {
    "collapsed": true,
    "deletable": true,
    "editable": true
   },
   "outputs": [],
   "source": [
    "from pprint import pprint\n",
    "\n",
    "import parser\n",
    "import ast\n",
    "import inspect\n",
    "\n",
    "import numpy as np\n",
    "import pandas as pd"
   ]
  },
  {
   "cell_type": "code",
   "execution_count": 2,
   "metadata": {
    "collapsed": true,
    "deletable": true,
    "editable": true
   },
   "outputs": [],
   "source": [
    "def add(x, y=0):\n",
    "    return x, y"
   ]
  },
  {
   "cell_type": "code",
   "execution_count": 19,
   "metadata": {
    "collapsed": false,
    "deletable": true,
    "editable": true
   },
   "outputs": [
    {
     "data": {
      "text/plain": [
       "(1, 5)"
      ]
     },
     "execution_count": 19,
     "metadata": {},
     "output_type": "execute_result"
    }
   ],
   "source": [
    "# Label\n",
    "add(\n",
    "    1,\n",
    "    y=2+3,\n",
    ")"
   ]
  },
  {
   "cell_type": "code",
   "execution_count": 20,
   "metadata": {
    "collapsed": false,
    "deletable": true,
    "editable": true
   },
   "outputs": [
    {
     "name": "stdout",
     "output_type": "stream",
     "text": [
      "# Label\n",
      "add(\n",
      "    1,\n",
      "    y=2+3,\n",
      ")\n"
     ]
    }
   ],
   "source": [
    "text = In[19]\n",
    "print(text)"
   ]
  },
  {
   "cell_type": "code",
   "execution_count": 22,
   "metadata": {
    "collapsed": false,
    "deletable": true,
    "editable": true
   },
   "outputs": [
    {
     "name": "stdout",
     "output_type": "stream",
     "text": [
      "lines: ['# Label', 'add(', '    1,', '    y=2+3,', ')']\n",
      "\n",
      "comment_lines: ['# Label']\n",
      "\n",
      "label: Label\n",
      "\n",
      "comment_lines: ['# Label']\n",
      "\n",
      "returns:\n",
      "[]\n",
      "\n",
      "function_name: add\n",
      "\n",
      "args: ['1']\n",
      "\n",
      "kwargs: {'y': '2+3'}\n",
      "\n",
      "inspected parameters:\n",
      "\tx: x\n",
      "\ty: y=0\n",
      "required_args:\n",
      "[{'description': 'Description.', 'label': 'x Label', 'name': 'x', 'value': '1'}]\n",
      "\n",
      "optional_args:\n",
      "[{'description': 'Description.',\n",
      "  'label': 'y Label',\n",
      "  'name': 'y',\n",
      "  'value': '2+3'}]\n",
      "\n",
      "module_name: __main__\n",
      "\n",
      "module_path: \n",
      "\n",
      "task:\n",
      "{'Label': {'default_args': [],\n",
      "           'description': 'Description.',\n",
      "           'function_name': 'add',\n",
      "           'library_name': '__main__',\n",
      "           'library_path': '',\n",
      "           'optional_args': [{'description': 'Description.',\n",
      "                              'label': 'y Label',\n",
      "                              'name': 'y',\n",
      "                              'value': '2+3'}],\n",
      "           'required_args': [{'description': 'Description.',\n",
      "                              'label': 'x Label',\n",
      "                              'name': 'x',\n",
      "                              'value': '1'}],\n",
      "           'returns': []}}\n",
      "\n"
     ]
    }
   ],
   "source": [
    "## Split text into lines\n",
    "lines = text.split('\\n')\n",
    "print('lines: {}\\n'.format(lines))\n",
    "\n",
    "# Get comment lines\n",
    "comment_lines = [l.strip() for l in lines if l.startswith('#')]\n",
    "print('comment_lines: {}\\n'.format(comment_lines))\n",
    "\n",
    "# Get label from the 1st comment line\n",
    "label = ''.join(comment_lines[0].split('#')[1:]).strip()\n",
    "print('label: {}\\n'.format(label))\n",
    "\n",
    "# Get code lines\n",
    "code_lines = [l.strip() for l in lines if not l.startswith('#')]\n",
    "print('comment_lines: {}\\n'.format(comment_lines))\n",
    "\n",
    "# Make AST\n",
    "m = ast.parse(text)\n",
    "b = m.body[0]\n",
    "\n",
    "# Get returns\n",
    "returns = []\n",
    "if isinstance(b, ast.Assign):\n",
    "    peek = b.targets[0]\n",
    "    if isinstance(peek, ast.Tuple):\n",
    "        targets = peek.elts\n",
    "    elif isinstance(peek, ast.Name):\n",
    "        targets = b.targets\n",
    "    for t in targets:\n",
    "        returns.append({\n",
    "            'label': '{} Label'.format(t.id),\n",
    "            'description': 'Description.',\n",
    "            'value': t.id,\n",
    "        })\n",
    "print('returns:')\n",
    "pprint(returns)\n",
    "print()\n",
    "\n",
    "# Get function name\n",
    "function_name = b.value.func.id\n",
    "print('function_name: {}\\n'.format(function_name))\n",
    "\n",
    "# Get args and kwargs\n",
    "args = []\n",
    "kwargs = {}\n",
    "for a in [l for l in code_lines if not (l.endswith('(') or l.startswith(')'))]:\n",
    "    if '=' in a:  # kwarg\n",
    "        k, v = a.split('=')\n",
    "        if v.endswith(','):\n",
    "            v = v[:-1]\n",
    "        kwargs[k] = v\n",
    "    else:  # arg\n",
    "        if a.endswith(','):\n",
    "            a = a[:-1]\n",
    "        args.append(a)\n",
    "print('args: {}\\n'.format(args))\n",
    "print('kwargs: {}\\n'.format(kwargs))\n",
    "\n",
    "# Get function's signature\n",
    "s = inspect.signature(add)\n",
    "print('inspected parameters:')\n",
    "for k, v in s.parameters.items():\n",
    "    print('\\t{}: {}'.format(k, v))\n",
    "\n",
    "# Get required args\n",
    "required_args = [{\n",
    "    'label': '{} Label'.format(n),\n",
    "    'description': 'Description.',\n",
    "    'name': n,\n",
    "    'value': v,\n",
    "} for n, v in zip([v.name for v in s.parameters.values() if v.default == inspect._empty], args)]\n",
    "print('required_args:')\n",
    "pprint(required_args)\n",
    "print()\n",
    "\n",
    "# Get optional args\n",
    "optional_args = [{\n",
    "    'label': '{} Label'.format(n),\n",
    "    'description': 'Description.',\n",
    "    'name': n,\n",
    "    'value': v,\n",
    "} for n, v in kwargs.items()]\n",
    "print('optional_args:')\n",
    "pprint(optional_args)\n",
    "print()\n",
    "\n",
    "# Get module name\n",
    "module_name = eval('{}.__module__'.format(function_name))\n",
    "print('module_name: {}\\n'.format(module_name))\n",
    "\n",
    "# Get module path\n",
    "if module_name == '__main__':  # Function is defined within this Notebook\n",
    "    module_path = ''\n",
    "else:  # Function is imported from a module\n",
    "    module_path = eval(\n",
    "        '{}.__globals__.get(\\'__file__\\')'.format(function_name)\n",
    "    ).split(module_name.replace('.', '/'))[0]\n",
    "print('module_path: {}\\n'.format(module_path))\n",
    "\n",
    "# Make a task\n",
    "task = {\n",
    "    label: {\n",
    "        'description': 'Description.',\n",
    "        'library_path': module_path,\n",
    "        'library_name': module_name,\n",
    "        'function_name': function_name,\n",
    "        'required_args': required_args,\n",
    "        'default_args': [],\n",
    "        'optional_args': optional_args,\n",
    "        'returns': returns\n",
    "    }\n",
    "}\n",
    "print('task:')\n",
    "pprint(task)\n",
    "print()\n",
    "\n",
    "# # Register this task\n",
    "# self._update_tasks(task)\n",
    "\n",
    "# return task"
   ]
  }
 ],
 "metadata": {
  "kernelspec": {
   "display_name": "Python 3",
   "language": "python",
   "name": "python3"
  },
  "language_info": {
   "codemirror_mode": {
    "name": "ipython",
    "version": 3
   },
   "file_extension": ".py",
   "mimetype": "text/x-python",
   "name": "python",
   "nbconvert_exporter": "python",
   "pygments_lexer": "ipython3",
   "version": "3.6.0"
  }
 },
 "nbformat": 4,
 "nbformat_minor": 2
}
