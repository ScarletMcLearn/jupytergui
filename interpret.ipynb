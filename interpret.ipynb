{
 "cells": [
  {
   "cell_type": "code",
   "execution_count": 1,
   "metadata": {
    "collapsed": false
   },
   "outputs": [],
   "source": [
    "import sys\n",
    "sys.path.insert(0, './simpli/')\n",
    "from simpli.manager import Manager\n",
    "\n",
    "%load_ext autoreload\n",
    "%autoreload 2"
   ]
  },
  {
   "cell_type": "code",
   "execution_count": 2,
   "metadata": {
    "collapsed": false,
    "scrolled": false
   },
   "outputs": [
    {
     "name": "stdout",
     "output_type": "stream",
     "text": [
      "Loading task-specifying JSON /home/k/.simpli/json/default_tasks.json ...\n",
      "\tLoaded Assign: {'library_path': '', 'library_name': 'simpli.default_tasks', 'function_name': 'just_return', 'description': 'No description.', 'required_args': [{'name': 'value', 'value': '', 'label': 'Value to Assign', 'description': 'No description.'}], 'default_args': [], 'optional_args': [], 'returns': [{'label': 'Variable Name to Assign to', 'description': 'No description.'}]}.\n",
      "\tLoaded Slice DataFrame by Row: {'library_path': '', 'library_name': 'simpli.default_tasks', 'function_name': 'slice_dataframe', 'description': 'Return a subset of rows of a given DataFrame object.', 'required_args': [{'name': 'dataframe', 'value': '', 'label': 'DataFrame', 'description': 'Target dataframe object.'}, {'name': 'indices', 'value': '', 'label': 'Row Index(ices)', 'description': 'No description.'}], 'default_args': [{'name': 'ax', 'value': '0', 'label': 'ax Label', 'description': 'No description.'}], 'optional_args': [], 'returns': [{'label': 'Sliced DataFrame', 'description': 'A slice of the DataFrame including the specified rows.'}]}.\n",
      "\tLoaded Slice DataFrame by Column: {'library_path': '', 'library_name': 'simpli.default_tasks', 'function_name': 'slice_dataframe', 'description': 'No description.', 'required_args': [{'name': 'dataframe', 'value': '', 'label': 'DataFrame', 'description': 'No description.'}, {'name': 'indices', 'value': '', 'label': 'Column Index(ices)', 'description': 'No description.'}], 'default_args': [{'name': 'ax', 'value': '1', 'label': 'ax Label', 'description': 'No description.'}], 'optional_args': [], 'returns': [{'label': 'Sliced DataFrame', 'description': 'No description.'}]}.\n",
      "\tLoaded Link JSON: {'library_path': '', 'library_name': 'simpli.default_tasks', 'function_name': 'link_json', 'description': 'No description.', 'required_args': [{'name': 'filepath', 'value': '', 'label': 'Simpli JSON to be Linked', 'description': 'No description.'}], 'default_args': [], 'optional_args': [], 'returns': []}.\n",
      "\tLoaded Reset JSONs: {'library_path': '', 'library_name': 'simpli.default_tasks', 'function_name': 'reset_jsons', 'description': 'No description.', 'required_args': [], 'default_args': [], 'optional_args': [], 'returns': []}.\n",
      "\tLoaded Set Theme: {'library_path': '', 'library_name': 'simpli.default_tasks', 'function_name': 'set_notebook_theme', 'description': 'No description.', 'required_args': [{'name': 'filepath', 'value': '', 'label': 'CSS File', 'description': 'No description.'}], 'default_args': [], 'optional_args': [], 'returns': []}.\n",
      "Updating tasks {} with {'Assign': {'library_path': '', 'library_name': 'simpli.default_tasks', 'function_name': 'just_return', 'description': 'No description.', 'required_args': [{'name': 'value', 'value': '', 'label': 'Value to Assign', 'description': 'No description.'}], 'default_args': [], 'optional_args': [], 'returns': [{'label': 'Variable Name to Assign to', 'description': 'No description.'}]}, 'Slice DataFrame by Row': {'library_path': '', 'library_name': 'simpli.default_tasks', 'function_name': 'slice_dataframe', 'description': 'Return a subset of rows of a given DataFrame object.', 'required_args': [{'name': 'dataframe', 'value': '', 'label': 'DataFrame', 'description': 'Target dataframe object.'}, {'name': 'indices', 'value': '', 'label': 'Row Index(ices)', 'description': 'No description.'}], 'default_args': [{'name': 'ax', 'value': '0', 'label': 'ax Label', 'description': 'No description.'}], 'optional_args': [], 'returns': [{'label': 'Sliced DataFrame', 'description': 'A slice of the DataFrame including the specified rows.'}]}, 'Slice DataFrame by Column': {'library_path': '', 'library_name': 'simpli.default_tasks', 'function_name': 'slice_dataframe', 'description': 'No description.', 'required_args': [{'name': 'dataframe', 'value': '', 'label': 'DataFrame', 'description': 'No description.'}, {'name': 'indices', 'value': '', 'label': 'Column Index(ices)', 'description': 'No description.'}], 'default_args': [{'name': 'ax', 'value': '1', 'label': 'ax Label', 'description': 'No description.'}], 'optional_args': [], 'returns': [{'label': 'Sliced DataFrame', 'description': 'No description.'}]}, 'Link JSON': {'library_path': '', 'library_name': 'simpli.default_tasks', 'function_name': 'link_json', 'description': 'No description.', 'required_args': [{'name': 'filepath', 'value': '', 'label': 'Simpli JSON to be Linked', 'description': 'No description.'}], 'default_args': [], 'optional_args': [], 'returns': []}, 'Reset JSONs': {'library_path': '', 'library_name': 'simpli.default_tasks', 'function_name': 'reset_jsons', 'description': 'No description.', 'required_args': [], 'default_args': [], 'optional_args': [], 'returns': []}, 'Set Theme': {'library_path': '', 'library_name': 'simpli.default_tasks', 'function_name': 'set_notebook_theme', 'description': 'No description.', 'required_args': [{'name': 'filepath', 'value': '', 'label': 'CSS File', 'description': 'No description.'}], 'default_args': [], 'optional_args': [], 'returns': []}} ...\n"
     ]
    }
   ],
   "source": [
    "m = Manager(verbose=True)"
   ]
  },
  {
   "cell_type": "code",
   "execution_count": 4,
   "metadata": {
    "collapsed": false,
    "scrolled": false
   },
   "outputs": [
    {
     "name": "stdout",
     "output_type": "stream",
     "text": [
      "Getting task Assign ...\n",
      "{\"Assign\": {\"library_path\": \"\", \"library_name\": \"simpli.default_tasks\", \"function_name\": \"just_return\", \"description\": \"No description.\", \"required_args\": [{\"name\": \"value\", \"value\": \"\", \"label\": \"Value to Assign\", \"description\": \"No description.\"}], \"default_args\": [], \"optional_args\": [], \"returns\": [{\"label\": \"Variable Name to Assign to\", \"description\": \"No description.\"}]}}\n",
      "Representing task {'Assign': {'library_path': '', 'library_name': 'simpli.default_tasks', 'function_name': 'just_return', 'description': 'No description.', 'required_args': [{'name': 'value', 'value': '', 'label': 'Value to Assign', 'description': 'No description.'}], 'default_args': [], 'optional_args': [], 'returns': [{'label': 'Variable Name to Assign to', 'description': 'No description.'}]}} as code ...\n",
      "\n",
      "library_path: \n",
      "library_name: simpli.default_tasks\n",
      "function_name: just_return\n",
      "required_args: [{'name': 'value', 'value': '', 'label': 'Value to Assign', 'description': 'No description.'}]\n",
      "default_args: []\n",
      "optional_args: []\n",
      "returns: [{'label': 'Variable Name to Assign to', 'description': 'No description.'}]\n",
      "\n",
      "# Assign\n",
      "import simpli\n",
      "simpli.default_tasks.just_return()\n"
     ]
    },
    {
     "data": {
      "text/plain": [
       "'# Assign\\nimport simpli\\nsimpli.default_tasks.just_return()'"
      ]
     },
     "execution_count": 4,
     "metadata": {},
     "output_type": "execute_result"
    }
   ],
   "source": [
    "m.code_task(m.get_task('Assign'))"
   ]
  },
  {
   "cell_type": "code",
   "execution_count": null,
   "metadata": {
    "collapsed": true
   },
   "outputs": [],
   "source": []
  }
 ],
 "metadata": {
  "kernelspec": {
   "display_name": "Python 3",
   "language": "python",
   "name": "python3"
  },
  "language_info": {
   "codemirror_mode": {
    "name": "ipython",
    "version": 3
   },
   "file_extension": ".py",
   "mimetype": "text/x-python",
   "name": "python",
   "nbconvert_exporter": "python",
   "pygments_lexer": "ipython3",
   "version": "3.6.0"
  }
 },
 "nbformat": 4,
 "nbformat_minor": 2
}
