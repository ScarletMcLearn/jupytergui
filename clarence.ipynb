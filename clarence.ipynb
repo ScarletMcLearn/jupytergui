{
 "cells": [
  {
   "cell_type": "code",
   "execution_count": 1,
   "metadata": {
    "ExecuteTime": {
     "end_time": "2016-11-07T16:01:52.993808",
     "start_time": "2016-11-07T16:01:52.983969"
    },
    "collapsed": false
   },
   "outputs": [],
   "source": [
    "from jupyter_x.resources import engine"
   ]
  },
  {
   "cell_type": "code",
   "execution_count": 2,
   "metadata": {
    "ExecuteTime": {
     "end_time": "2016-11-07T16:01:53.607332",
     "start_time": "2016-11-07T16:01:52.996220"
    },
    "collapsed": false,
    "init_cell": true
   },
   "outputs": [],
   "source": [
    "# TODO convert to extension\n",
    "# http://ipython.readthedocs.io/en/stable/config/extensions/index.html#writing-extensions\n",
    "import os\n",
    "import sys\n",
    "import json\n",
    "import pandas as pd\n",
    "import ipywidgets as widgets\n",
    "from IPython.display import display"
   ]
  },
  {
   "cell_type": "markdown",
   "metadata": {},
   "source": [
    "## Write .json Wrapper"
   ]
  },
  {
   "cell_type": "code",
   "execution_count": 3,
   "metadata": {
    "ExecuteTime": {
     "end_time": "2016-11-07T16:01:53.622370",
     "start_time": "2016-11-07T16:01:53.609042"
    },
    "collapsed": true
   },
   "outputs": [],
   "source": [
    "json_filepath = '/Users/ckmah/Desktop/test.json'\n",
    "_dict = {}\n",
    "\n",
    "_dict['alias'] = 'Define Components'\n",
    "\n",
    "# TODO: set up importing syntax\n",
    "_dict['library_path'] = '/Users/ckmah/Documents/ccal/'\n",
    "_dict['library_name'] = 'ccal'\n",
    "_dict['function_name'] = 'define_components'\n",
    "\n",
    "# TODO: make data_type universally understandable\n",
    "_dict['required_args'] = [{\n",
    "    'label': 'Expression Matrix',\n",
    "    'arg_name': 'matrix',\n",
    "    'data_type': ['file', 'variable'],\n",
    "    'description':\n",
    "    'This is an argument description for Expression Matrix.'\n",
    "}, {\n",
    "    'label': 'Numbers of Components',\n",
    "    'arg_name': 'ks',\n",
    "    'data_type': ['list'],\n",
    "    'description': 'This is an argument description for Number of Components.'\n",
    "}]\n",
    "\n",
    "_dict['optional_args'] = []\n",
    "_dict['return'] = [{\n",
    "    'label': 'NMF Result Dictionary',\n",
    "    'data_type': 'dict',\n",
    "    'description:':\n",
    "    'This is the description for the returned NMF Result Dictionary.'\n",
    "}, {\n",
    "    'label': 'Cophenetic Correlation Coefficients',\n",
    "    'data_type': 'dict',\n",
    "    'description':\n",
    "    'This is the description for the returned Cophentic Correlation Coefficients.'\n",
    "}]\n",
    "\n",
    "with open(json_filepath, 'w') as f:\n",
    "    json.dump(_dict, f, indent=4, sort_keys=True)"
   ]
  },
  {
   "cell_type": "code",
   "execution_count": 4,
   "metadata": {
    "ExecuteTime": {
     "end_time": "2016-11-07T16:01:53.632640",
     "start_time": "2016-11-07T16:01:53.623913"
    },
    "collapsed": false,
    "hide_input": false
   },
   "outputs": [],
   "source": [
    "# load wrapper\n",
    "with open(json_filepath, 'r') as f:\n",
    "    config = json.load(f)"
   ]
  },
  {
   "cell_type": "markdown",
   "metadata": {},
   "source": [
    "### Test Parser"
   ]
  },
  {
   "cell_type": "markdown",
   "metadata": {},
   "source": [
    "## CCAL Test Case "
   ]
  },
  {
   "cell_type": "code",
   "execution_count": 5,
   "metadata": {
    "ExecuteTime": {
     "end_time": "2016-11-07T16:01:53.655102",
     "start_time": "2016-11-07T16:01:53.641982"
    },
    "collapsed": true
   },
   "outputs": [],
   "source": [
    "library_path = config['library_path']\n",
    "library_name = config['library_name']\n",
    "function_name = config['function_name']"
   ]
  },
  {
   "cell_type": "code",
   "execution_count": 6,
   "metadata": {
    "ExecuteTime": {
     "end_time": "2016-11-07T16:01:54.995581",
     "start_time": "2016-11-07T16:01:53.658533"
    },
    "collapsed": false,
    "scrolled": false
   },
   "outputs": [
    {
     "name": "stderr",
     "output_type": "stream",
     "text": [
      "/Users/ckmah/anaconda3/envs/jupyter_x/lib/python3.5/site-packages/sklearn/cross_validation.py:44: DeprecationWarning: This module was deprecated in version 0.18 in favor of the model_selection module into which all the refactored classes and functions are moved. Also note that the interface of the new CV iterators are different from that of this module. This module will be removed in 0.20.\n",
      "  \"This module will be removed in 0.20.\", DeprecationWarning)\n"
     ]
    },
    {
     "name": "stdout",
     "output_type": "stream",
     "text": [
      "================================================================================\n",
      "================= Computational Cancer Analysis Library (CCAL) =================\n",
      "================================================================================\n",
      "Planted a random seed: 20121020.\n"
     ]
    }
   ],
   "source": [
    "sys.path.insert(0,library_path)\n",
    "exec('from {} import {} as function'.format(library_name, function_name))"
   ]
  },
  {
   "cell_type": "markdown",
   "metadata": {},
   "source": [
    "## JupyterX"
   ]
  },
  {
   "cell_type": "code",
   "execution_count": 8,
   "metadata": {
    "ExecuteTime": {
     "end_time": "2016-11-07T16:02:11.887446",
     "start_time": "2016-11-07T16:02:11.812174"
    },
    "collapsed": false
   },
   "outputs": [
    {
     "name": "stderr",
     "output_type": "stream",
     "text": [
      "The installed widget Javascript is the wrong version.\n"
     ]
    }
   ],
   "source": [
    "# create form\n",
    "eng = engine.Engine(globals(),locals(), os.getcwd())\n",
    "input = eng.createTaskWidget(config['required_args'], library_path, library_name, function_name)\n",
    "display(input.entryForm())"
   ]
  }
 ],
 "metadata": {
  "anaconda-cloud": {},
  "kernelspec": {
   "display_name": "Python [default]",
   "language": "python",
   "name": "python3"
  },
  "language_info": {
   "codemirror_mode": {
    "name": "ipython",
    "version": 3
   },
   "file_extension": ".py",
   "mimetype": "text/x-python",
   "name": "python",
   "nbconvert_exporter": "python",
   "pygments_lexer": "ipython3",
   "version": "3.5.2"
  },
  "widgets": {
   "state": {
    "530933f9e8e54d298defe24dcfe5040e": {
     "views": [
      {
       "cell_index": 10
      }
     ]
    }
   },
   "version": "1.2.0"
  }
 },
 "nbformat": 4,
 "nbformat_minor": 1
}
