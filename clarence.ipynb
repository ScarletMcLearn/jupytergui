{
 "cells": [
  {
   "cell_type": "code",
   "execution_count": 1,
   "metadata": {
    "ExecuteTime": {
     "end_time": "2016-11-04T14:49:52.036482",
     "start_time": "2016-11-04T14:49:52.032942"
    },
    "collapsed": false,
    "init_cell": true
   },
   "outputs": [],
   "source": [
    "from ipywidgets import *\n",
    "import json"
   ]
  },
  {
   "cell_type": "code",
   "execution_count": 2,
   "metadata": {
    "ExecuteTime": {
     "end_time": "2016-11-04T14:49:52.041711",
     "start_time": "2016-11-04T14:49:52.038640"
    },
    "collapsed": false,
    "init_cell": true
   },
   "outputs": [
    {
     "name": "stdout",
     "output_type": "stream",
     "text": [
      "test\n"
     ]
    }
   ],
   "source": [
    "print('test')"
   ]
  },
  {
   "cell_type": "code",
   "execution_count": 5,
   "metadata": {
    "ExecuteTime": {
     "end_time": "2016-11-04T15:02:59.347880",
     "start_time": "2016-11-04T15:02:59.344573"
    },
    "collapsed": false,
    "hide_input": false
   },
   "outputs": [],
   "source": [
    "json_filepath = '/Users/ckmah/Desktop/test.json'\n",
    "with open(json_filepath, 'r') as f:\n",
    "    config = json.load(f)"
   ]
  },
  {
   "cell_type": "code",
   "execution_count": 18,
   "metadata": {
    "ExecuteTime": {
     "end_time": "2016-11-04T15:14:48.048508",
     "start_time": "2016-11-04T15:14:48.043215"
    },
    "collapsed": false
   },
   "outputs": [],
   "source": [
    "def entryPanel(args):\n",
    "    '''\n",
    "    Parameters\n",
    "    -----\n",
    "    args : list of dictionaries\n",
    "        List of elements with name = label, and elements data type and description.\n",
    "    Returns\n",
    "    -----\n",
    "    widgets.VBox\n",
    "        Contains list of generated widgets.\n",
    "    '''\n",
    "    entries = []\n",
    "\n",
    "    for arg in args:\n",
    "        entries.append([\n",
    "            widgets.Text(\n",
    "                description=arg['label'], placeholder= ', '.join(arg['data_type'])),\n",
    "            widgets.Button(arg['description'])\n",
    "        ])\n",
    "\n",
    "\n",
    "    return widgets.VBox([widgets.HBox(entries)])"
   ]
  },
  {
   "cell_type": "code",
   "execution_count": null,
   "metadata": {
    "collapsed": true
   },
   "outputs": [],
   "source": [
    "config['required_args'][0]"
   ]
  },
  {
   "cell_type": "code",
   "execution_count": 19,
   "metadata": {
    "ExecuteTime": {
     "end_time": "2016-11-04T15:14:53.720123",
     "start_time": "2016-11-04T15:14:53.704370"
    },
    "collapsed": false
   },
   "outputs": [
    {
     "ename": "TypeError",
     "evalue": "__init__() takes 1 positional argument but 2 were given",
     "output_type": "error",
     "traceback": [
      "\u001b[0;31m----------------------------------------------------------------\u001b[0m",
      "\u001b[0;31mTypeError\u001b[0m                      Traceback (most recent call last)",
      "\u001b[0;32m<ipython-input-19-48eb45514fca>\u001b[0m in \u001b[0;36m<module>\u001b[0;34m()\u001b[0m\n\u001b[0;32m----> 1\u001b[0;31m \u001b[0mentryPanel\u001b[0m\u001b[0;34m(\u001b[0m\u001b[0mconfig\u001b[0m\u001b[0;34m[\u001b[0m\u001b[0;34m'required_args'\u001b[0m\u001b[0;34m]\u001b[0m\u001b[0;34m)\u001b[0m\u001b[0;34m\u001b[0m\u001b[0m\n\u001b[0m",
      "\u001b[0;32m<ipython-input-18-299b5dab5bcb>\u001b[0m in \u001b[0;36mentryPanel\u001b[0;34m(args)\u001b[0m\n\u001b[1;32m     16\u001b[0m             widgets.Text(\n\u001b[1;32m     17\u001b[0m                 description=arg['label'], placeholder= ', '.join(arg['data_type'])),\n\u001b[0;32m---> 18\u001b[0;31m             \u001b[0mwidgets\u001b[0m\u001b[0;34m.\u001b[0m\u001b[0mButton\u001b[0m\u001b[0;34m(\u001b[0m\u001b[0marg\u001b[0m\u001b[0;34m[\u001b[0m\u001b[0;34m'description'\u001b[0m\u001b[0;34m]\u001b[0m\u001b[0;34m)\u001b[0m\u001b[0;34m\u001b[0m\u001b[0m\n\u001b[0m\u001b[1;32m     19\u001b[0m         ])\n\u001b[1;32m     20\u001b[0m \u001b[0;34m\u001b[0m\u001b[0m\n",
      "\u001b[0;31mTypeError\u001b[0m: __init__() takes 1 positional argument but 2 were given"
     ]
    }
   ],
   "source": [
    "entryPanel(config['required_args'])"
   ]
  },
  {
   "cell_type": "code",
   "execution_count": 22,
   "metadata": {
    "ExecuteTime": {
     "end_time": "2016-11-04T16:16:19.979907",
     "start_time": "2016-11-04T16:16:19.971865"
    },
    "collapsed": false
   },
   "outputs": [
    {
     "name": "stderr",
     "output_type": "stream",
     "text": [
      "The installed widget Javascript is the wrong version.\n"
     ]
    }
   ],
   "source": [
    "widgets.Button()"
   ]
  },
  {
   "cell_type": "code",
   "execution_count": null,
   "metadata": {
    "collapsed": true
   },
   "outputs": [],
   "source": []
  },
  {
   "cell_type": "code",
   "execution_count": null,
   "metadata": {
    "collapsed": true
   },
   "outputs": [],
   "source": []
  }
 ],
 "metadata": {
  "anaconda-cloud": {},
  "celltoolbar": "Edit Metadata",
  "kernelspec": {
   "display_name": "Python [default]",
   "language": "python",
   "name": "python3"
  },
  "language_info": {
   "codemirror_mode": {
    "name": "ipython",
    "version": 3
   },
   "file_extension": ".py",
   "mimetype": "text/x-python",
   "name": "python",
   "nbconvert_exporter": "python",
   "pygments_lexer": "ipython3",
   "version": "3.5.2"
  },
  "widgets": {
   "state": {
    "b5b4908a6206444393a38e82bfdcf9ba": {
     "views": [
      {
       "cell_index": 6
      }
     ]
    }
   },
   "version": "1.2.0"
  }
 },
 "nbformat": 4,
 "nbformat_minor": 1
}
