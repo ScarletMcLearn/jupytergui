{
 "cells": [
  {
   "cell_type": "code",
   "execution_count": 1,
   "metadata": {
    "ExecuteTime": {
     "end_time": "2016-11-09T12:31:39.173043",
     "start_time": "2016-11-09T12:31:39.135776"
    },
    "collapsed": false,
    "init_cell": true
   },
   "outputs": [],
   "source": [
    "# TODO convert to extension\n",
    "# http://ipython.readthedocs.io/en/stable/config/extensions/index.html#writing-extensions\n",
    "%load_ext autoreload\n",
    "from jupyter_x.chain import Chain\n",
    "import os\n",
    "import sys\n",
    "import json\n",
    "import ipywidgets as widgets\n",
    "from IPython.display import display"
   ]
  },
  {
   "cell_type": "code",
   "execution_count": 2,
   "metadata": {
    "ExecuteTime": {
     "end_time": "2016-11-09T12:31:39.177736",
     "start_time": "2016-11-09T12:31:39.174569"
    },
    "collapsed": false,
    "hide_input": false
   },
   "outputs": [],
   "source": [
    "# load wrapper\n",
    "json_filepath = '/Users/ckmah/Documents/jupyter_x/ccal.json'\n",
    "with open(json_filepath, 'r') as f:\n",
    "    config = json.load(f)"
   ]
  },
  {
   "cell_type": "code",
   "execution_count": 3,
   "metadata": {
    "ExecuteTime": {
     "end_time": "2016-11-09T12:31:39.194955",
     "start_time": "2016-11-09T12:31:39.179949"
    },
    "collapsed": false
   },
   "outputs": [
    {
     "data": {
      "text/plain": [
       "dict_keys(['optional_args', 'library_name', 'library_path', 'required_args', 'function_name', 'title', 'returns'])"
      ]
     },
     "execution_count": 3,
     "metadata": {},
     "output_type": "execute_result"
    }
   ],
   "source": [
    "config['tasks'][0].keys()"
   ]
  },
  {
   "cell_type": "markdown",
   "metadata": {},
   "source": [
    "## CCAL Test Case "
   ]
  },
  {
   "cell_type": "code",
   "execution_count": 4,
   "metadata": {
    "ExecuteTime": {
     "end_time": "2016-11-09T12:31:39.200210",
     "start_time": "2016-11-09T12:31:39.196668"
    },
    "collapsed": false
   },
   "outputs": [],
   "source": [
    "controller = Chain(config, globals(), locals(), os.getcwd())"
   ]
  },
  {
   "cell_type": "code",
   "execution_count": 5,
   "metadata": {
    "ExecuteTime": {
     "end_time": "2016-11-09T12:31:39.288591",
     "start_time": "2016-11-09T12:31:39.202293"
    },
    "collapsed": false
   },
   "outputs": [],
   "source": [
    "beadview = controller.createBeadView(controller.beads[0])\n",
    "beadview.createFormView()"
   ]
  }
 ],
 "metadata": {
  "anaconda-cloud": {},
  "kernelspec": {
   "display_name": "Python [default]",
   "language": "python",
   "name": "python3"
  },
  "language_info": {
   "codemirror_mode": {
    "name": "ipython",
    "version": 3
   },
   "file_extension": ".py",
   "mimetype": "text/x-python",
   "name": "python",
   "nbconvert_exporter": "python",
   "pygments_lexer": "ipython3",
   "version": "3.5.2"
  },
  "widgets": {
   "state": {
    "98b00ba5498c481eb6e67d54d88b002b": {
     "views": [
      {
       "cell_index": 5
      }
     ]
    }
   },
   "version": "1.2.0"
  }
 },
 "nbformat": 4,
 "nbformat_minor": 1
}
